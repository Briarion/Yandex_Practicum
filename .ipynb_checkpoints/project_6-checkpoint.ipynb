{
 "cells": [
  {
   "cell_type": "markdown",
   "metadata": {
    "toc": true
   },
   "source": [
    "<h1>Содержание<span class=\"tocSkip\"></span></h1>\n",
    "<div class=\"toc\"><ul class=\"toc-item\"><li><span><a href=\"#Подготовка-данных\" data-toc-modified-id=\"Подготовка-данных-1\"><span class=\"toc-item-num\">1&nbsp;&nbsp;</span>Подготовка данных</a></span></li><li><span><a href=\"#Анализ-данных\" data-toc-modified-id=\"Анализ-данных-2\"><span class=\"toc-item-num\">2&nbsp;&nbsp;</span>Анализ данных</a></span><ul class=\"toc-item\"><li><span><a href=\"#Проверим,-как-меняется-концентрация-металлов-(Au,-Ag,-Pb)-на-различных-сталиях-цикла\" data-toc-modified-id=\"Проверим,-как-меняется-концентрация-металлов-(Au,-Ag,-Pb)-на-различных-сталиях-цикла-2.1\"><span class=\"toc-item-num\">2.1&nbsp;&nbsp;</span>Проверим, как меняется концентрация металлов (Au, Ag, Pb) на различных сталиях цикла</a></span></li><li><span><a href=\"#Сравним-распределения-размеров-гранул-сырья-на-обучающей-и-тестовой-выборках.\" data-toc-modified-id=\"Сравним-распределения-размеров-гранул-сырья-на-обучающей-и-тестовой-выборках.-2.2\"><span class=\"toc-item-num\">2.2&nbsp;&nbsp;</span>Сравним распределения размеров гранул сырья на обучающей и тестовой выборках.</a></span></li><li><span><a href=\"#Исследуем-суммарную-концентрацию-всех-веществ-на-разных-стадиях\" data-toc-modified-id=\"Исследуем-суммарную-концентрацию-всех-веществ-на-разных-стадиях-2.3\"><span class=\"toc-item-num\">2.3&nbsp;&nbsp;</span>Исследуем суммарную концентрацию всех веществ на разных стадиях</a></span></li></ul></li><li><span><a href=\"#Модель\" data-toc-modified-id=\"Модель-3\"><span class=\"toc-item-num\">3&nbsp;&nbsp;</span>Модель</a></span><ul class=\"toc-item\"><li><span><a href=\"#Напишем-функцию-для-подсчета-sMAPE\" data-toc-modified-id=\"Напишем-функцию-для-подсчета-sMAPE-3.1\"><span class=\"toc-item-num\">3.1&nbsp;&nbsp;</span>Напишем функцию для подсчета sMAPE</a></span></li><li><span><a href=\"#Обучение-модели\" data-toc-modified-id=\"Обучение-модели-3.2\"><span class=\"toc-item-num\">3.2&nbsp;&nbsp;</span>Обучение модели</a></span><ul class=\"toc-item\"><li><span><a href=\"#DecisionTreeRegressor\" data-toc-modified-id=\"DecisionTreeRegressor-3.2.1\"><span class=\"toc-item-num\">3.2.1&nbsp;&nbsp;</span>DecisionTreeRegressor</a></span></li><li><span><a href=\"#RandomForestRegressor\" data-toc-modified-id=\"RandomForestRegressor-3.2.2\"><span class=\"toc-item-num\">3.2.2&nbsp;&nbsp;</span>RandomForestRegressor</a></span></li><li><span><a href=\"#LinearRegression\" data-toc-modified-id=\"LinearRegression-3.2.3\"><span class=\"toc-item-num\">3.2.3&nbsp;&nbsp;</span>LinearRegression</a></span></li><li><span><a href=\"#CatBoostRegressor\" data-toc-modified-id=\"CatBoostRegressor-3.2.4\"><span class=\"toc-item-num\">3.2.4&nbsp;&nbsp;</span>CatBoostRegressor</a></span></li><li><span><a href=\"#Подбор-гиперпараметров-для-лучшей-модели-по-умолчанию\" data-toc-modified-id=\"Подбор-гиперпараметров-для-лучшей-модели-по-умолчанию-3.2.5\"><span class=\"toc-item-num\">3.2.5&nbsp;&nbsp;</span>Подбор гиперпараметров для лучшей модели по умолчанию</a></span></li></ul></li><li><span><a href=\"#Вывод\" data-toc-modified-id=\"Вывод-3.3\"><span class=\"toc-item-num\">3.3&nbsp;&nbsp;</span>Вывод</a></span></li></ul></li><li><span><a href=\"#Чек-лист-готовности-проекта\" data-toc-modified-id=\"Чек-лист-готовности-проекта-4\"><span class=\"toc-item-num\">4&nbsp;&nbsp;</span>Чек-лист готовности проекта</a></span></li></ul></div>"
   ]
  },
  {
   "cell_type": "markdown",
   "metadata": {},
   "source": [
    "# Восстановление золота из руды"
   ]
  },
  {
   "cell_type": "markdown",
   "metadata": {},
   "source": [
    "Подготовьте прототип модели машинного обучения для «Цифры». Компания разрабатывает решения для эффективной работы промышленных предприятий.\n",
    "\n",
    "Модель должна предсказать коэффициент восстановления золота из золотосодержащей руды. Используйте данные с параметрами добычи и очистки. \n",
    "\n",
    "Модель поможет оптимизировать производство, чтобы не запускать предприятие с убыточными характеристиками.\n",
    "\n",
    "Вам нужно:\n",
    "\n",
    "1. Подготовить данные;\n",
    "2. Провести исследовательский анализ данных;\n",
    "3. Построить и обучить модель.\n",
    "\n",
    "Чтобы выполнить проект, обращайтесь к библиотекам *pandas*, *matplotlib* и *sklearn.* Вам поможет их документация."
   ]
  },
  {
   "cell_type": "markdown",
   "metadata": {},
   "source": [
    "Перед нами стоит задача по оптимизации обогащения золотосодержащей руды. Для исследования предоставлен набор данных о технологическом процессе обогащения, состоящий из 3х этапов(флотация и 2 этапа очистки). Результатом исследования будет рекомендация о коэффициенте восстановления золота из золотосодержащей руды, который похволит оптимизировать производство, не запуская линию с сырьем имеющим убыточные характеристики. \n",
    "\n",
    "Перед проведением обучения модели стоит проверить данные на пропуски, дубликаты и выбросы. Провести проверку мультиколлинеальности признаков и маштабирование цифровых значений. Провести анализ исследуемых данных. Провести сравнение данных в обучающей и тестовой выборке.\n",
    "\n",
    "Для обучения будем использовать 4 модели обучейния: DecisionTreeRegressor, RandomForestRegressor, LinearRegression и CatBoostRegressor. Для сравнени результативности моделей будем использовать метрику симметричное среднее абсолютное процентное отклонение - sMAPE. Итоговой результат складывается из двух влеичин sMAPE по двум целевым признакам(эффективность обогащения чернового концентрата и эффективность обогащения финального концентрата) в соотношении 1 к 3.\n",
    "\n",
    "Итогом работы будет модель с наименьшим результатом по метрике sMAPE."
   ]
  },
  {
   "cell_type": "markdown",
   "metadata": {},
   "source": [
    "## Подготовка данных"
   ]
  },
  {
   "cell_type": "markdown",
   "metadata": {},
   "source": [
    "Подключим библиотеки, необходимые для исследования."
   ]
  },
  {
   "cell_type": "code",
   "execution_count": 40,
   "metadata": {},
   "outputs": [],
   "source": [
    "import pandas as pd\n",
    "import numpy as np\n",
    "import seaborn as sb\n",
    "import matplotlib.pyplot as mp\n",
    "\n",
    "from sklearn.tree import DecisionTreeRegressor\n",
    "from sklearn.ensemble import RandomForestRegressor\n",
    "from sklearn.linear_model import LinearRegression\n",
    "from sklearn.dummy import DummyRegressor\n",
    "from catboost import CatBoostRegressor\n",
    "\n",
    "from sklearn.metrics import mean_absolute_error, make_scorer\n",
    "from sklearn.model_selection import train_test_split, cross_validate, GridSearchCV\n",
    "from sklearn.preprocessing import StandardScaler\n"
   ]
  },
  {
   "cell_type": "markdown",
   "metadata": {},
   "source": [
    "Откроем файлы с данными, предоставленными для исследования."
   ]
  },
  {
   "cell_type": "code",
   "execution_count": 2,
   "metadata": {
    "scrolled": true
   },
   "outputs": [
    {
     "name": "stdout",
     "output_type": "stream",
     "text": [
      "Файл из директории /datasets/gold_recovery_train_new.csv загружен\n",
      "Файл из директории /datasets/gold_recovery_test_new.csv загружен\n",
      "Файл из директории /datasets/gold_recovery_full_new.csv загружен\n"
     ]
    }
   ],
   "source": [
    "def read_file(a):\n",
    "    try:\n",
    "        data = pd.read_csv(a)\n",
    "        print('Файл из директории', a, 'загружен')\n",
    "        return data\n",
    "    except:\n",
    "        print('При загрузке файла', a, 'произошел сбой')\n",
    "        return []\n",
    "\n",
    "gold_recovery_train = read_file('/datasets/gold_recovery_train_new.csv')\n",
    "gold_recovery_test = read_file('/datasets/gold_recovery_test_new.csv')\n",
    "gold_recovery_full = read_file('/datasets/gold_recovery_full_new.csv')"
   ]
  },
  {
   "cell_type": "markdown",
   "metadata": {},
   "source": [
    "Выведем первые и последние 5 строк каждого датафрейма."
   ]
  },
  {
   "cell_type": "code",
   "execution_count": 3,
   "metadata": {},
   "outputs": [
    {
     "data": {
      "text/html": [
       "<div>\n",
       "<style scoped>\n",
       "    .dataframe tbody tr th:only-of-type {\n",
       "        vertical-align: middle;\n",
       "    }\n",
       "\n",
       "    .dataframe tbody tr th {\n",
       "        vertical-align: top;\n",
       "    }\n",
       "\n",
       "    .dataframe thead th {\n",
       "        text-align: right;\n",
       "    }\n",
       "</style>\n",
       "<table border=\"1\" class=\"dataframe\">\n",
       "  <thead>\n",
       "    <tr style=\"text-align: right;\">\n",
       "      <th></th>\n",
       "      <th>date</th>\n",
       "      <th>final.output.concentrate_ag</th>\n",
       "      <th>final.output.concentrate_pb</th>\n",
       "      <th>final.output.concentrate_sol</th>\n",
       "      <th>final.output.concentrate_au</th>\n",
       "      <th>final.output.recovery</th>\n",
       "      <th>final.output.tail_ag</th>\n",
       "      <th>final.output.tail_pb</th>\n",
       "      <th>final.output.tail_sol</th>\n",
       "      <th>final.output.tail_au</th>\n",
       "      <th>...</th>\n",
       "      <th>secondary_cleaner.state.floatbank4_a_air</th>\n",
       "      <th>secondary_cleaner.state.floatbank4_a_level</th>\n",
       "      <th>secondary_cleaner.state.floatbank4_b_air</th>\n",
       "      <th>secondary_cleaner.state.floatbank4_b_level</th>\n",
       "      <th>secondary_cleaner.state.floatbank5_a_air</th>\n",
       "      <th>secondary_cleaner.state.floatbank5_a_level</th>\n",
       "      <th>secondary_cleaner.state.floatbank5_b_air</th>\n",
       "      <th>secondary_cleaner.state.floatbank5_b_level</th>\n",
       "      <th>secondary_cleaner.state.floatbank6_a_air</th>\n",
       "      <th>secondary_cleaner.state.floatbank6_a_level</th>\n",
       "    </tr>\n",
       "  </thead>\n",
       "  <tbody>\n",
       "    <tr>\n",
       "      <th>0</th>\n",
       "      <td>2016-01-15 00:00:00</td>\n",
       "      <td>6.055403</td>\n",
       "      <td>9.889648</td>\n",
       "      <td>5.507324</td>\n",
       "      <td>42.192020</td>\n",
       "      <td>70.541216</td>\n",
       "      <td>10.411962</td>\n",
       "      <td>0.895447</td>\n",
       "      <td>16.904297</td>\n",
       "      <td>2.143149</td>\n",
       "      <td>...</td>\n",
       "      <td>14.016835</td>\n",
       "      <td>-502.488007</td>\n",
       "      <td>12.099931</td>\n",
       "      <td>-504.715942</td>\n",
       "      <td>9.925633</td>\n",
       "      <td>-498.310211</td>\n",
       "      <td>8.079666</td>\n",
       "      <td>-500.470978</td>\n",
       "      <td>14.151341</td>\n",
       "      <td>-605.841980</td>\n",
       "    </tr>\n",
       "    <tr>\n",
       "      <th>1</th>\n",
       "      <td>2016-01-15 01:00:00</td>\n",
       "      <td>6.029369</td>\n",
       "      <td>9.968944</td>\n",
       "      <td>5.257781</td>\n",
       "      <td>42.701629</td>\n",
       "      <td>69.266198</td>\n",
       "      <td>10.462676</td>\n",
       "      <td>0.927452</td>\n",
       "      <td>16.634514</td>\n",
       "      <td>2.224930</td>\n",
       "      <td>...</td>\n",
       "      <td>13.992281</td>\n",
       "      <td>-505.503262</td>\n",
       "      <td>11.950531</td>\n",
       "      <td>-501.331529</td>\n",
       "      <td>10.039245</td>\n",
       "      <td>-500.169983</td>\n",
       "      <td>7.984757</td>\n",
       "      <td>-500.582168</td>\n",
       "      <td>13.998353</td>\n",
       "      <td>-599.787184</td>\n",
       "    </tr>\n",
       "    <tr>\n",
       "      <th>2</th>\n",
       "      <td>2016-01-15 02:00:00</td>\n",
       "      <td>6.055926</td>\n",
       "      <td>10.213995</td>\n",
       "      <td>5.383759</td>\n",
       "      <td>42.657501</td>\n",
       "      <td>68.116445</td>\n",
       "      <td>10.507046</td>\n",
       "      <td>0.953716</td>\n",
       "      <td>16.208849</td>\n",
       "      <td>2.257889</td>\n",
       "      <td>...</td>\n",
       "      <td>14.015015</td>\n",
       "      <td>-502.520901</td>\n",
       "      <td>11.912783</td>\n",
       "      <td>-501.133383</td>\n",
       "      <td>10.070913</td>\n",
       "      <td>-500.129135</td>\n",
       "      <td>8.013877</td>\n",
       "      <td>-500.517572</td>\n",
       "      <td>14.028663</td>\n",
       "      <td>-601.427363</td>\n",
       "    </tr>\n",
       "    <tr>\n",
       "      <th>3</th>\n",
       "      <td>2016-01-15 03:00:00</td>\n",
       "      <td>6.047977</td>\n",
       "      <td>9.977019</td>\n",
       "      <td>4.858634</td>\n",
       "      <td>42.689819</td>\n",
       "      <td>68.347543</td>\n",
       "      <td>10.422762</td>\n",
       "      <td>0.883763</td>\n",
       "      <td>16.532835</td>\n",
       "      <td>2.146849</td>\n",
       "      <td>...</td>\n",
       "      <td>14.036510</td>\n",
       "      <td>-500.857308</td>\n",
       "      <td>11.999550</td>\n",
       "      <td>-501.193686</td>\n",
       "      <td>9.970366</td>\n",
       "      <td>-499.201640</td>\n",
       "      <td>7.977324</td>\n",
       "      <td>-500.255908</td>\n",
       "      <td>14.005551</td>\n",
       "      <td>-599.996129</td>\n",
       "    </tr>\n",
       "    <tr>\n",
       "      <th>4</th>\n",
       "      <td>2016-01-15 04:00:00</td>\n",
       "      <td>6.148599</td>\n",
       "      <td>10.142511</td>\n",
       "      <td>4.939416</td>\n",
       "      <td>42.774141</td>\n",
       "      <td>66.927016</td>\n",
       "      <td>10.360302</td>\n",
       "      <td>0.792826</td>\n",
       "      <td>16.525686</td>\n",
       "      <td>2.055292</td>\n",
       "      <td>...</td>\n",
       "      <td>14.027298</td>\n",
       "      <td>-499.838632</td>\n",
       "      <td>11.953070</td>\n",
       "      <td>-501.053894</td>\n",
       "      <td>9.925709</td>\n",
       "      <td>-501.686727</td>\n",
       "      <td>7.894242</td>\n",
       "      <td>-500.356035</td>\n",
       "      <td>13.996647</td>\n",
       "      <td>-601.496691</td>\n",
       "    </tr>\n",
       "  </tbody>\n",
       "</table>\n",
       "<p>5 rows × 87 columns</p>\n",
       "</div>"
      ],
      "text/plain": [
       "                  date  final.output.concentrate_ag  \\\n",
       "0  2016-01-15 00:00:00                     6.055403   \n",
       "1  2016-01-15 01:00:00                     6.029369   \n",
       "2  2016-01-15 02:00:00                     6.055926   \n",
       "3  2016-01-15 03:00:00                     6.047977   \n",
       "4  2016-01-15 04:00:00                     6.148599   \n",
       "\n",
       "   final.output.concentrate_pb  final.output.concentrate_sol  \\\n",
       "0                     9.889648                      5.507324   \n",
       "1                     9.968944                      5.257781   \n",
       "2                    10.213995                      5.383759   \n",
       "3                     9.977019                      4.858634   \n",
       "4                    10.142511                      4.939416   \n",
       "\n",
       "   final.output.concentrate_au  final.output.recovery  final.output.tail_ag  \\\n",
       "0                    42.192020              70.541216             10.411962   \n",
       "1                    42.701629              69.266198             10.462676   \n",
       "2                    42.657501              68.116445             10.507046   \n",
       "3                    42.689819              68.347543             10.422762   \n",
       "4                    42.774141              66.927016             10.360302   \n",
       "\n",
       "   final.output.tail_pb  final.output.tail_sol  final.output.tail_au  ...  \\\n",
       "0              0.895447              16.904297              2.143149  ...   \n",
       "1              0.927452              16.634514              2.224930  ...   \n",
       "2              0.953716              16.208849              2.257889  ...   \n",
       "3              0.883763              16.532835              2.146849  ...   \n",
       "4              0.792826              16.525686              2.055292  ...   \n",
       "\n",
       "   secondary_cleaner.state.floatbank4_a_air  \\\n",
       "0                                 14.016835   \n",
       "1                                 13.992281   \n",
       "2                                 14.015015   \n",
       "3                                 14.036510   \n",
       "4                                 14.027298   \n",
       "\n",
       "   secondary_cleaner.state.floatbank4_a_level  \\\n",
       "0                                 -502.488007   \n",
       "1                                 -505.503262   \n",
       "2                                 -502.520901   \n",
       "3                                 -500.857308   \n",
       "4                                 -499.838632   \n",
       "\n",
       "   secondary_cleaner.state.floatbank4_b_air  \\\n",
       "0                                 12.099931   \n",
       "1                                 11.950531   \n",
       "2                                 11.912783   \n",
       "3                                 11.999550   \n",
       "4                                 11.953070   \n",
       "\n",
       "   secondary_cleaner.state.floatbank4_b_level  \\\n",
       "0                                 -504.715942   \n",
       "1                                 -501.331529   \n",
       "2                                 -501.133383   \n",
       "3                                 -501.193686   \n",
       "4                                 -501.053894   \n",
       "\n",
       "   secondary_cleaner.state.floatbank5_a_air  \\\n",
       "0                                  9.925633   \n",
       "1                                 10.039245   \n",
       "2                                 10.070913   \n",
       "3                                  9.970366   \n",
       "4                                  9.925709   \n",
       "\n",
       "   secondary_cleaner.state.floatbank5_a_level  \\\n",
       "0                                 -498.310211   \n",
       "1                                 -500.169983   \n",
       "2                                 -500.129135   \n",
       "3                                 -499.201640   \n",
       "4                                 -501.686727   \n",
       "\n",
       "   secondary_cleaner.state.floatbank5_b_air  \\\n",
       "0                                  8.079666   \n",
       "1                                  7.984757   \n",
       "2                                  8.013877   \n",
       "3                                  7.977324   \n",
       "4                                  7.894242   \n",
       "\n",
       "   secondary_cleaner.state.floatbank5_b_level  \\\n",
       "0                                 -500.470978   \n",
       "1                                 -500.582168   \n",
       "2                                 -500.517572   \n",
       "3                                 -500.255908   \n",
       "4                                 -500.356035   \n",
       "\n",
       "   secondary_cleaner.state.floatbank6_a_air  \\\n",
       "0                                 14.151341   \n",
       "1                                 13.998353   \n",
       "2                                 14.028663   \n",
       "3                                 14.005551   \n",
       "4                                 13.996647   \n",
       "\n",
       "   secondary_cleaner.state.floatbank6_a_level  \n",
       "0                                 -605.841980  \n",
       "1                                 -599.787184  \n",
       "2                                 -601.427363  \n",
       "3                                 -599.996129  \n",
       "4                                 -601.496691  \n",
       "\n",
       "[5 rows x 87 columns]"
      ]
     },
     "metadata": {},
     "output_type": "display_data"
    },
    {
     "data": {
      "text/html": [
       "<div>\n",
       "<style scoped>\n",
       "    .dataframe tbody tr th:only-of-type {\n",
       "        vertical-align: middle;\n",
       "    }\n",
       "\n",
       "    .dataframe tbody tr th {\n",
       "        vertical-align: top;\n",
       "    }\n",
       "\n",
       "    .dataframe thead th {\n",
       "        text-align: right;\n",
       "    }\n",
       "</style>\n",
       "<table border=\"1\" class=\"dataframe\">\n",
       "  <thead>\n",
       "    <tr style=\"text-align: right;\">\n",
       "      <th></th>\n",
       "      <th>date</th>\n",
       "      <th>final.output.concentrate_ag</th>\n",
       "      <th>final.output.concentrate_pb</th>\n",
       "      <th>final.output.concentrate_sol</th>\n",
       "      <th>final.output.concentrate_au</th>\n",
       "      <th>final.output.recovery</th>\n",
       "      <th>final.output.tail_ag</th>\n",
       "      <th>final.output.tail_pb</th>\n",
       "      <th>final.output.tail_sol</th>\n",
       "      <th>final.output.tail_au</th>\n",
       "      <th>...</th>\n",
       "      <th>secondary_cleaner.state.floatbank4_a_air</th>\n",
       "      <th>secondary_cleaner.state.floatbank4_a_level</th>\n",
       "      <th>secondary_cleaner.state.floatbank4_b_air</th>\n",
       "      <th>secondary_cleaner.state.floatbank4_b_level</th>\n",
       "      <th>secondary_cleaner.state.floatbank5_a_air</th>\n",
       "      <th>secondary_cleaner.state.floatbank5_a_level</th>\n",
       "      <th>secondary_cleaner.state.floatbank5_b_air</th>\n",
       "      <th>secondary_cleaner.state.floatbank5_b_level</th>\n",
       "      <th>secondary_cleaner.state.floatbank6_a_air</th>\n",
       "      <th>secondary_cleaner.state.floatbank6_a_level</th>\n",
       "    </tr>\n",
       "  </thead>\n",
       "  <tbody>\n",
       "    <tr>\n",
       "      <th>14144</th>\n",
       "      <td>2018-08-18 06:59:59</td>\n",
       "      <td>3.224920</td>\n",
       "      <td>11.356233</td>\n",
       "      <td>6.803482</td>\n",
       "      <td>46.713954</td>\n",
       "      <td>73.755150</td>\n",
       "      <td>8.769645</td>\n",
       "      <td>3.141541</td>\n",
       "      <td>10.403181</td>\n",
       "      <td>1.529220</td>\n",
       "      <td>...</td>\n",
       "      <td>23.031497</td>\n",
       "      <td>-501.167942</td>\n",
       "      <td>20.007571</td>\n",
       "      <td>-499.740028</td>\n",
       "      <td>18.006038</td>\n",
       "      <td>-499.834374</td>\n",
       "      <td>13.001114</td>\n",
       "      <td>-500.155694</td>\n",
       "      <td>20.007840</td>\n",
       "      <td>-501.296428</td>\n",
       "    </tr>\n",
       "    <tr>\n",
       "      <th>14145</th>\n",
       "      <td>2018-08-18 07:59:59</td>\n",
       "      <td>3.195978</td>\n",
       "      <td>11.349355</td>\n",
       "      <td>6.862249</td>\n",
       "      <td>46.866780</td>\n",
       "      <td>69.049291</td>\n",
       "      <td>8.897321</td>\n",
       "      <td>3.130493</td>\n",
       "      <td>10.549470</td>\n",
       "      <td>1.612542</td>\n",
       "      <td>...</td>\n",
       "      <td>22.960095</td>\n",
       "      <td>-501.612783</td>\n",
       "      <td>20.035660</td>\n",
       "      <td>-500.251357</td>\n",
       "      <td>17.998535</td>\n",
       "      <td>-500.395178</td>\n",
       "      <td>12.954048</td>\n",
       "      <td>-499.895163</td>\n",
       "      <td>19.968498</td>\n",
       "      <td>-501.041608</td>\n",
       "    </tr>\n",
       "    <tr>\n",
       "      <th>14146</th>\n",
       "      <td>2018-08-18 08:59:59</td>\n",
       "      <td>3.109998</td>\n",
       "      <td>11.434366</td>\n",
       "      <td>6.886013</td>\n",
       "      <td>46.795691</td>\n",
       "      <td>67.002189</td>\n",
       "      <td>8.529606</td>\n",
       "      <td>2.911418</td>\n",
       "      <td>11.115147</td>\n",
       "      <td>1.596616</td>\n",
       "      <td>...</td>\n",
       "      <td>23.015718</td>\n",
       "      <td>-501.711599</td>\n",
       "      <td>19.951231</td>\n",
       "      <td>-499.857027</td>\n",
       "      <td>18.019543</td>\n",
       "      <td>-500.451156</td>\n",
       "      <td>13.023431</td>\n",
       "      <td>-499.914391</td>\n",
       "      <td>19.990885</td>\n",
       "      <td>-501.518452</td>\n",
       "    </tr>\n",
       "    <tr>\n",
       "      <th>14147</th>\n",
       "      <td>2018-08-18 09:59:59</td>\n",
       "      <td>3.367241</td>\n",
       "      <td>11.625587</td>\n",
       "      <td>6.799433</td>\n",
       "      <td>46.408188</td>\n",
       "      <td>65.523246</td>\n",
       "      <td>8.777171</td>\n",
       "      <td>2.819214</td>\n",
       "      <td>10.463847</td>\n",
       "      <td>1.602879</td>\n",
       "      <td>...</td>\n",
       "      <td>23.024963</td>\n",
       "      <td>-501.153409</td>\n",
       "      <td>20.054122</td>\n",
       "      <td>-500.314711</td>\n",
       "      <td>17.979515</td>\n",
       "      <td>-499.272871</td>\n",
       "      <td>12.992404</td>\n",
       "      <td>-499.976268</td>\n",
       "      <td>20.013986</td>\n",
       "      <td>-500.625471</td>\n",
       "    </tr>\n",
       "    <tr>\n",
       "      <th>14148</th>\n",
       "      <td>2018-08-18 10:59:59</td>\n",
       "      <td>3.598375</td>\n",
       "      <td>11.737832</td>\n",
       "      <td>6.717509</td>\n",
       "      <td>46.299438</td>\n",
       "      <td>70.281454</td>\n",
       "      <td>8.406690</td>\n",
       "      <td>2.517518</td>\n",
       "      <td>10.652193</td>\n",
       "      <td>1.389434</td>\n",
       "      <td>...</td>\n",
       "      <td>23.018622</td>\n",
       "      <td>-500.492702</td>\n",
       "      <td>20.020205</td>\n",
       "      <td>-500.220296</td>\n",
       "      <td>17.963512</td>\n",
       "      <td>-499.939490</td>\n",
       "      <td>12.990306</td>\n",
       "      <td>-500.080993</td>\n",
       "      <td>19.990336</td>\n",
       "      <td>-499.191575</td>\n",
       "    </tr>\n",
       "  </tbody>\n",
       "</table>\n",
       "<p>5 rows × 87 columns</p>\n",
       "</div>"
      ],
      "text/plain": [
       "                      date  final.output.concentrate_ag  \\\n",
       "14144  2018-08-18 06:59:59                     3.224920   \n",
       "14145  2018-08-18 07:59:59                     3.195978   \n",
       "14146  2018-08-18 08:59:59                     3.109998   \n",
       "14147  2018-08-18 09:59:59                     3.367241   \n",
       "14148  2018-08-18 10:59:59                     3.598375   \n",
       "\n",
       "       final.output.concentrate_pb  final.output.concentrate_sol  \\\n",
       "14144                    11.356233                      6.803482   \n",
       "14145                    11.349355                      6.862249   \n",
       "14146                    11.434366                      6.886013   \n",
       "14147                    11.625587                      6.799433   \n",
       "14148                    11.737832                      6.717509   \n",
       "\n",
       "       final.output.concentrate_au  final.output.recovery  \\\n",
       "14144                    46.713954              73.755150   \n",
       "14145                    46.866780              69.049291   \n",
       "14146                    46.795691              67.002189   \n",
       "14147                    46.408188              65.523246   \n",
       "14148                    46.299438              70.281454   \n",
       "\n",
       "       final.output.tail_ag  final.output.tail_pb  final.output.tail_sol  \\\n",
       "14144              8.769645              3.141541              10.403181   \n",
       "14145              8.897321              3.130493              10.549470   \n",
       "14146              8.529606              2.911418              11.115147   \n",
       "14147              8.777171              2.819214              10.463847   \n",
       "14148              8.406690              2.517518              10.652193   \n",
       "\n",
       "       final.output.tail_au  ...  secondary_cleaner.state.floatbank4_a_air  \\\n",
       "14144              1.529220  ...                                 23.031497   \n",
       "14145              1.612542  ...                                 22.960095   \n",
       "14146              1.596616  ...                                 23.015718   \n",
       "14147              1.602879  ...                                 23.024963   \n",
       "14148              1.389434  ...                                 23.018622   \n",
       "\n",
       "       secondary_cleaner.state.floatbank4_a_level  \\\n",
       "14144                                 -501.167942   \n",
       "14145                                 -501.612783   \n",
       "14146                                 -501.711599   \n",
       "14147                                 -501.153409   \n",
       "14148                                 -500.492702   \n",
       "\n",
       "       secondary_cleaner.state.floatbank4_b_air  \\\n",
       "14144                                 20.007571   \n",
       "14145                                 20.035660   \n",
       "14146                                 19.951231   \n",
       "14147                                 20.054122   \n",
       "14148                                 20.020205   \n",
       "\n",
       "       secondary_cleaner.state.floatbank4_b_level  \\\n",
       "14144                                 -499.740028   \n",
       "14145                                 -500.251357   \n",
       "14146                                 -499.857027   \n",
       "14147                                 -500.314711   \n",
       "14148                                 -500.220296   \n",
       "\n",
       "       secondary_cleaner.state.floatbank5_a_air  \\\n",
       "14144                                 18.006038   \n",
       "14145                                 17.998535   \n",
       "14146                                 18.019543   \n",
       "14147                                 17.979515   \n",
       "14148                                 17.963512   \n",
       "\n",
       "       secondary_cleaner.state.floatbank5_a_level  \\\n",
       "14144                                 -499.834374   \n",
       "14145                                 -500.395178   \n",
       "14146                                 -500.451156   \n",
       "14147                                 -499.272871   \n",
       "14148                                 -499.939490   \n",
       "\n",
       "       secondary_cleaner.state.floatbank5_b_air  \\\n",
       "14144                                 13.001114   \n",
       "14145                                 12.954048   \n",
       "14146                                 13.023431   \n",
       "14147                                 12.992404   \n",
       "14148                                 12.990306   \n",
       "\n",
       "       secondary_cleaner.state.floatbank5_b_level  \\\n",
       "14144                                 -500.155694   \n",
       "14145                                 -499.895163   \n",
       "14146                                 -499.914391   \n",
       "14147                                 -499.976268   \n",
       "14148                                 -500.080993   \n",
       "\n",
       "       secondary_cleaner.state.floatbank6_a_air  \\\n",
       "14144                                 20.007840   \n",
       "14145                                 19.968498   \n",
       "14146                                 19.990885   \n",
       "14147                                 20.013986   \n",
       "14148                                 19.990336   \n",
       "\n",
       "       secondary_cleaner.state.floatbank6_a_level  \n",
       "14144                                 -501.296428  \n",
       "14145                                 -501.041608  \n",
       "14146                                 -501.518452  \n",
       "14147                                 -500.625471  \n",
       "14148                                 -499.191575  \n",
       "\n",
       "[5 rows x 87 columns]"
      ]
     },
     "metadata": {},
     "output_type": "display_data"
    },
    {
     "data": {
      "text/html": [
       "<div>\n",
       "<style scoped>\n",
       "    .dataframe tbody tr th:only-of-type {\n",
       "        vertical-align: middle;\n",
       "    }\n",
       "\n",
       "    .dataframe tbody tr th {\n",
       "        vertical-align: top;\n",
       "    }\n",
       "\n",
       "    .dataframe thead th {\n",
       "        text-align: right;\n",
       "    }\n",
       "</style>\n",
       "<table border=\"1\" class=\"dataframe\">\n",
       "  <thead>\n",
       "    <tr style=\"text-align: right;\">\n",
       "      <th></th>\n",
       "      <th>date</th>\n",
       "      <th>primary_cleaner.input.sulfate</th>\n",
       "      <th>primary_cleaner.input.depressant</th>\n",
       "      <th>primary_cleaner.input.feed_size</th>\n",
       "      <th>primary_cleaner.input.xanthate</th>\n",
       "      <th>primary_cleaner.state.floatbank8_a_air</th>\n",
       "      <th>primary_cleaner.state.floatbank8_a_level</th>\n",
       "      <th>primary_cleaner.state.floatbank8_b_air</th>\n",
       "      <th>primary_cleaner.state.floatbank8_b_level</th>\n",
       "      <th>primary_cleaner.state.floatbank8_c_air</th>\n",
       "      <th>...</th>\n",
       "      <th>secondary_cleaner.state.floatbank4_a_air</th>\n",
       "      <th>secondary_cleaner.state.floatbank4_a_level</th>\n",
       "      <th>secondary_cleaner.state.floatbank4_b_air</th>\n",
       "      <th>secondary_cleaner.state.floatbank4_b_level</th>\n",
       "      <th>secondary_cleaner.state.floatbank5_a_air</th>\n",
       "      <th>secondary_cleaner.state.floatbank5_a_level</th>\n",
       "      <th>secondary_cleaner.state.floatbank5_b_air</th>\n",
       "      <th>secondary_cleaner.state.floatbank5_b_level</th>\n",
       "      <th>secondary_cleaner.state.floatbank6_a_air</th>\n",
       "      <th>secondary_cleaner.state.floatbank6_a_level</th>\n",
       "    </tr>\n",
       "  </thead>\n",
       "  <tbody>\n",
       "    <tr>\n",
       "      <th>0</th>\n",
       "      <td>2016-09-01 00:59:59</td>\n",
       "      <td>210.800909</td>\n",
       "      <td>14.993118</td>\n",
       "      <td>8.080000</td>\n",
       "      <td>1.005021</td>\n",
       "      <td>1398.981301</td>\n",
       "      <td>-500.225577</td>\n",
       "      <td>1399.144926</td>\n",
       "      <td>-499.919735</td>\n",
       "      <td>1400.102998</td>\n",
       "      <td>...</td>\n",
       "      <td>12.023554</td>\n",
       "      <td>-497.795834</td>\n",
       "      <td>8.016656</td>\n",
       "      <td>-501.289139</td>\n",
       "      <td>7.946562</td>\n",
       "      <td>-432.317850</td>\n",
       "      <td>4.872511</td>\n",
       "      <td>-500.037437</td>\n",
       "      <td>26.705889</td>\n",
       "      <td>-499.709414</td>\n",
       "    </tr>\n",
       "    <tr>\n",
       "      <th>1</th>\n",
       "      <td>2016-09-01 01:59:59</td>\n",
       "      <td>215.392455</td>\n",
       "      <td>14.987471</td>\n",
       "      <td>8.080000</td>\n",
       "      <td>0.990469</td>\n",
       "      <td>1398.777912</td>\n",
       "      <td>-500.057435</td>\n",
       "      <td>1398.055362</td>\n",
       "      <td>-499.778182</td>\n",
       "      <td>1396.151033</td>\n",
       "      <td>...</td>\n",
       "      <td>12.058140</td>\n",
       "      <td>-498.695773</td>\n",
       "      <td>8.130979</td>\n",
       "      <td>-499.634209</td>\n",
       "      <td>7.958270</td>\n",
       "      <td>-525.839648</td>\n",
       "      <td>4.878850</td>\n",
       "      <td>-500.162375</td>\n",
       "      <td>25.019940</td>\n",
       "      <td>-499.819438</td>\n",
       "    </tr>\n",
       "    <tr>\n",
       "      <th>2</th>\n",
       "      <td>2016-09-01 02:59:59</td>\n",
       "      <td>215.259946</td>\n",
       "      <td>12.884934</td>\n",
       "      <td>7.786667</td>\n",
       "      <td>0.996043</td>\n",
       "      <td>1398.493666</td>\n",
       "      <td>-500.868360</td>\n",
       "      <td>1398.860436</td>\n",
       "      <td>-499.764529</td>\n",
       "      <td>1398.075709</td>\n",
       "      <td>...</td>\n",
       "      <td>11.962366</td>\n",
       "      <td>-498.767484</td>\n",
       "      <td>8.096893</td>\n",
       "      <td>-500.827423</td>\n",
       "      <td>8.071056</td>\n",
       "      <td>-500.801673</td>\n",
       "      <td>4.905125</td>\n",
       "      <td>-499.828510</td>\n",
       "      <td>24.994862</td>\n",
       "      <td>-500.622559</td>\n",
       "    </tr>\n",
       "    <tr>\n",
       "      <th>3</th>\n",
       "      <td>2016-09-01 03:59:59</td>\n",
       "      <td>215.336236</td>\n",
       "      <td>12.006805</td>\n",
       "      <td>7.640000</td>\n",
       "      <td>0.863514</td>\n",
       "      <td>1399.618111</td>\n",
       "      <td>-498.863574</td>\n",
       "      <td>1397.440120</td>\n",
       "      <td>-499.211024</td>\n",
       "      <td>1400.129303</td>\n",
       "      <td>...</td>\n",
       "      <td>12.033091</td>\n",
       "      <td>-498.350935</td>\n",
       "      <td>8.074946</td>\n",
       "      <td>-499.474407</td>\n",
       "      <td>7.897085</td>\n",
       "      <td>-500.868509</td>\n",
       "      <td>4.931400</td>\n",
       "      <td>-499.963623</td>\n",
       "      <td>24.948919</td>\n",
       "      <td>-498.709987</td>\n",
       "    </tr>\n",
       "    <tr>\n",
       "      <th>4</th>\n",
       "      <td>2016-09-01 04:59:59</td>\n",
       "      <td>199.099327</td>\n",
       "      <td>10.682530</td>\n",
       "      <td>7.530000</td>\n",
       "      <td>0.805575</td>\n",
       "      <td>1401.268123</td>\n",
       "      <td>-500.808305</td>\n",
       "      <td>1398.128818</td>\n",
       "      <td>-499.504543</td>\n",
       "      <td>1402.172226</td>\n",
       "      <td>...</td>\n",
       "      <td>12.025367</td>\n",
       "      <td>-500.786497</td>\n",
       "      <td>8.054678</td>\n",
       "      <td>-500.397500</td>\n",
       "      <td>8.107890</td>\n",
       "      <td>-509.526725</td>\n",
       "      <td>4.957674</td>\n",
       "      <td>-500.360026</td>\n",
       "      <td>25.003331</td>\n",
       "      <td>-500.856333</td>\n",
       "    </tr>\n",
       "  </tbody>\n",
       "</table>\n",
       "<p>5 rows × 53 columns</p>\n",
       "</div>"
      ],
      "text/plain": [
       "                  date  primary_cleaner.input.sulfate  \\\n",
       "0  2016-09-01 00:59:59                     210.800909   \n",
       "1  2016-09-01 01:59:59                     215.392455   \n",
       "2  2016-09-01 02:59:59                     215.259946   \n",
       "3  2016-09-01 03:59:59                     215.336236   \n",
       "4  2016-09-01 04:59:59                     199.099327   \n",
       "\n",
       "   primary_cleaner.input.depressant  primary_cleaner.input.feed_size  \\\n",
       "0                         14.993118                         8.080000   \n",
       "1                         14.987471                         8.080000   \n",
       "2                         12.884934                         7.786667   \n",
       "3                         12.006805                         7.640000   \n",
       "4                         10.682530                         7.530000   \n",
       "\n",
       "   primary_cleaner.input.xanthate  primary_cleaner.state.floatbank8_a_air  \\\n",
       "0                        1.005021                             1398.981301   \n",
       "1                        0.990469                             1398.777912   \n",
       "2                        0.996043                             1398.493666   \n",
       "3                        0.863514                             1399.618111   \n",
       "4                        0.805575                             1401.268123   \n",
       "\n",
       "   primary_cleaner.state.floatbank8_a_level  \\\n",
       "0                               -500.225577   \n",
       "1                               -500.057435   \n",
       "2                               -500.868360   \n",
       "3                               -498.863574   \n",
       "4                               -500.808305   \n",
       "\n",
       "   primary_cleaner.state.floatbank8_b_air  \\\n",
       "0                             1399.144926   \n",
       "1                             1398.055362   \n",
       "2                             1398.860436   \n",
       "3                             1397.440120   \n",
       "4                             1398.128818   \n",
       "\n",
       "   primary_cleaner.state.floatbank8_b_level  \\\n",
       "0                               -499.919735   \n",
       "1                               -499.778182   \n",
       "2                               -499.764529   \n",
       "3                               -499.211024   \n",
       "4                               -499.504543   \n",
       "\n",
       "   primary_cleaner.state.floatbank8_c_air  ...  \\\n",
       "0                             1400.102998  ...   \n",
       "1                             1396.151033  ...   \n",
       "2                             1398.075709  ...   \n",
       "3                             1400.129303  ...   \n",
       "4                             1402.172226  ...   \n",
       "\n",
       "   secondary_cleaner.state.floatbank4_a_air  \\\n",
       "0                                 12.023554   \n",
       "1                                 12.058140   \n",
       "2                                 11.962366   \n",
       "3                                 12.033091   \n",
       "4                                 12.025367   \n",
       "\n",
       "   secondary_cleaner.state.floatbank4_a_level  \\\n",
       "0                                 -497.795834   \n",
       "1                                 -498.695773   \n",
       "2                                 -498.767484   \n",
       "3                                 -498.350935   \n",
       "4                                 -500.786497   \n",
       "\n",
       "   secondary_cleaner.state.floatbank4_b_air  \\\n",
       "0                                  8.016656   \n",
       "1                                  8.130979   \n",
       "2                                  8.096893   \n",
       "3                                  8.074946   \n",
       "4                                  8.054678   \n",
       "\n",
       "   secondary_cleaner.state.floatbank4_b_level  \\\n",
       "0                                 -501.289139   \n",
       "1                                 -499.634209   \n",
       "2                                 -500.827423   \n",
       "3                                 -499.474407   \n",
       "4                                 -500.397500   \n",
       "\n",
       "   secondary_cleaner.state.floatbank5_a_air  \\\n",
       "0                                  7.946562   \n",
       "1                                  7.958270   \n",
       "2                                  8.071056   \n",
       "3                                  7.897085   \n",
       "4                                  8.107890   \n",
       "\n",
       "   secondary_cleaner.state.floatbank5_a_level  \\\n",
       "0                                 -432.317850   \n",
       "1                                 -525.839648   \n",
       "2                                 -500.801673   \n",
       "3                                 -500.868509   \n",
       "4                                 -509.526725   \n",
       "\n",
       "   secondary_cleaner.state.floatbank5_b_air  \\\n",
       "0                                  4.872511   \n",
       "1                                  4.878850   \n",
       "2                                  4.905125   \n",
       "3                                  4.931400   \n",
       "4                                  4.957674   \n",
       "\n",
       "   secondary_cleaner.state.floatbank5_b_level  \\\n",
       "0                                 -500.037437   \n",
       "1                                 -500.162375   \n",
       "2                                 -499.828510   \n",
       "3                                 -499.963623   \n",
       "4                                 -500.360026   \n",
       "\n",
       "   secondary_cleaner.state.floatbank6_a_air  \\\n",
       "0                                 26.705889   \n",
       "1                                 25.019940   \n",
       "2                                 24.994862   \n",
       "3                                 24.948919   \n",
       "4                                 25.003331   \n",
       "\n",
       "   secondary_cleaner.state.floatbank6_a_level  \n",
       "0                                 -499.709414  \n",
       "1                                 -499.819438  \n",
       "2                                 -500.622559  \n",
       "3                                 -498.709987  \n",
       "4                                 -500.856333  \n",
       "\n",
       "[5 rows x 53 columns]"
      ]
     },
     "metadata": {},
     "output_type": "display_data"
    },
    {
     "data": {
      "text/html": [
       "<div>\n",
       "<style scoped>\n",
       "    .dataframe tbody tr th:only-of-type {\n",
       "        vertical-align: middle;\n",
       "    }\n",
       "\n",
       "    .dataframe tbody tr th {\n",
       "        vertical-align: top;\n",
       "    }\n",
       "\n",
       "    .dataframe thead th {\n",
       "        text-align: right;\n",
       "    }\n",
       "</style>\n",
       "<table border=\"1\" class=\"dataframe\">\n",
       "  <thead>\n",
       "    <tr style=\"text-align: right;\">\n",
       "      <th></th>\n",
       "      <th>date</th>\n",
       "      <th>primary_cleaner.input.sulfate</th>\n",
       "      <th>primary_cleaner.input.depressant</th>\n",
       "      <th>primary_cleaner.input.feed_size</th>\n",
       "      <th>primary_cleaner.input.xanthate</th>\n",
       "      <th>primary_cleaner.state.floatbank8_a_air</th>\n",
       "      <th>primary_cleaner.state.floatbank8_a_level</th>\n",
       "      <th>primary_cleaner.state.floatbank8_b_air</th>\n",
       "      <th>primary_cleaner.state.floatbank8_b_level</th>\n",
       "      <th>primary_cleaner.state.floatbank8_c_air</th>\n",
       "      <th>...</th>\n",
       "      <th>secondary_cleaner.state.floatbank4_a_air</th>\n",
       "      <th>secondary_cleaner.state.floatbank4_a_level</th>\n",
       "      <th>secondary_cleaner.state.floatbank4_b_air</th>\n",
       "      <th>secondary_cleaner.state.floatbank4_b_level</th>\n",
       "      <th>secondary_cleaner.state.floatbank5_a_air</th>\n",
       "      <th>secondary_cleaner.state.floatbank5_a_level</th>\n",
       "      <th>secondary_cleaner.state.floatbank5_b_air</th>\n",
       "      <th>secondary_cleaner.state.floatbank5_b_level</th>\n",
       "      <th>secondary_cleaner.state.floatbank6_a_air</th>\n",
       "      <th>secondary_cleaner.state.floatbank6_a_level</th>\n",
       "    </tr>\n",
       "  </thead>\n",
       "  <tbody>\n",
       "    <tr>\n",
       "      <th>5285</th>\n",
       "      <td>2017-12-31 19:59:59</td>\n",
       "      <td>173.957757</td>\n",
       "      <td>15.963399</td>\n",
       "      <td>8.07</td>\n",
       "      <td>0.896701</td>\n",
       "      <td>1401.930554</td>\n",
       "      <td>-499.728848</td>\n",
       "      <td>1401.441445</td>\n",
       "      <td>-499.193423</td>\n",
       "      <td>1399.810313</td>\n",
       "      <td>...</td>\n",
       "      <td>13.995957</td>\n",
       "      <td>-500.157454</td>\n",
       "      <td>12.069155</td>\n",
       "      <td>-499.673279</td>\n",
       "      <td>7.977259</td>\n",
       "      <td>-499.516126</td>\n",
       "      <td>5.933319</td>\n",
       "      <td>-499.965973</td>\n",
       "      <td>8.987171</td>\n",
       "      <td>-499.755909</td>\n",
       "    </tr>\n",
       "    <tr>\n",
       "      <th>5286</th>\n",
       "      <td>2017-12-31 20:59:59</td>\n",
       "      <td>172.910270</td>\n",
       "      <td>16.002605</td>\n",
       "      <td>8.07</td>\n",
       "      <td>0.896519</td>\n",
       "      <td>1447.075722</td>\n",
       "      <td>-494.716823</td>\n",
       "      <td>1448.851892</td>\n",
       "      <td>-465.963026</td>\n",
       "      <td>1443.890424</td>\n",
       "      <td>...</td>\n",
       "      <td>16.749781</td>\n",
       "      <td>-496.031539</td>\n",
       "      <td>13.365371</td>\n",
       "      <td>-499.122723</td>\n",
       "      <td>9.288553</td>\n",
       "      <td>-496.892967</td>\n",
       "      <td>7.372897</td>\n",
       "      <td>-499.942956</td>\n",
       "      <td>8.986832</td>\n",
       "      <td>-499.903761</td>\n",
       "    </tr>\n",
       "    <tr>\n",
       "      <th>5287</th>\n",
       "      <td>2017-12-31 21:59:59</td>\n",
       "      <td>171.135718</td>\n",
       "      <td>15.993669</td>\n",
       "      <td>8.07</td>\n",
       "      <td>1.165996</td>\n",
       "      <td>1498.836182</td>\n",
       "      <td>-501.770403</td>\n",
       "      <td>1499.572353</td>\n",
       "      <td>-495.516347</td>\n",
       "      <td>1502.749213</td>\n",
       "      <td>...</td>\n",
       "      <td>19.994130</td>\n",
       "      <td>-499.791312</td>\n",
       "      <td>15.101425</td>\n",
       "      <td>-499.936252</td>\n",
       "      <td>10.989181</td>\n",
       "      <td>-498.347898</td>\n",
       "      <td>9.020944</td>\n",
       "      <td>-500.040448</td>\n",
       "      <td>8.982038</td>\n",
       "      <td>-497.789882</td>\n",
       "    </tr>\n",
       "    <tr>\n",
       "      <th>5288</th>\n",
       "      <td>2017-12-31 22:59:59</td>\n",
       "      <td>179.697158</td>\n",
       "      <td>15.438979</td>\n",
       "      <td>8.07</td>\n",
       "      <td>1.501068</td>\n",
       "      <td>1498.466243</td>\n",
       "      <td>-500.483984</td>\n",
       "      <td>1497.986986</td>\n",
       "      <td>-519.200340</td>\n",
       "      <td>1496.569047</td>\n",
       "      <td>...</td>\n",
       "      <td>19.958760</td>\n",
       "      <td>-499.958750</td>\n",
       "      <td>15.026853</td>\n",
       "      <td>-499.723143</td>\n",
       "      <td>11.011607</td>\n",
       "      <td>-499.985046</td>\n",
       "      <td>9.009783</td>\n",
       "      <td>-499.937902</td>\n",
       "      <td>9.012660</td>\n",
       "      <td>-500.154284</td>\n",
       "    </tr>\n",
       "    <tr>\n",
       "      <th>5289</th>\n",
       "      <td>2017-12-31 23:59:59</td>\n",
       "      <td>181.556856</td>\n",
       "      <td>14.995850</td>\n",
       "      <td>8.07</td>\n",
       "      <td>1.623454</td>\n",
       "      <td>1498.096303</td>\n",
       "      <td>-499.796922</td>\n",
       "      <td>1501.743791</td>\n",
       "      <td>-505.146931</td>\n",
       "      <td>1499.535978</td>\n",
       "      <td>...</td>\n",
       "      <td>20.034715</td>\n",
       "      <td>-500.728588</td>\n",
       "      <td>14.914199</td>\n",
       "      <td>-499.948518</td>\n",
       "      <td>10.986607</td>\n",
       "      <td>-500.658027</td>\n",
       "      <td>8.989497</td>\n",
       "      <td>-500.337588</td>\n",
       "      <td>8.988632</td>\n",
       "      <td>-500.764937</td>\n",
       "    </tr>\n",
       "  </tbody>\n",
       "</table>\n",
       "<p>5 rows × 53 columns</p>\n",
       "</div>"
      ],
      "text/plain": [
       "                     date  primary_cleaner.input.sulfate  \\\n",
       "5285  2017-12-31 19:59:59                     173.957757   \n",
       "5286  2017-12-31 20:59:59                     172.910270   \n",
       "5287  2017-12-31 21:59:59                     171.135718   \n",
       "5288  2017-12-31 22:59:59                     179.697158   \n",
       "5289  2017-12-31 23:59:59                     181.556856   \n",
       "\n",
       "      primary_cleaner.input.depressant  primary_cleaner.input.feed_size  \\\n",
       "5285                         15.963399                             8.07   \n",
       "5286                         16.002605                             8.07   \n",
       "5287                         15.993669                             8.07   \n",
       "5288                         15.438979                             8.07   \n",
       "5289                         14.995850                             8.07   \n",
       "\n",
       "      primary_cleaner.input.xanthate  primary_cleaner.state.floatbank8_a_air  \\\n",
       "5285                        0.896701                             1401.930554   \n",
       "5286                        0.896519                             1447.075722   \n",
       "5287                        1.165996                             1498.836182   \n",
       "5288                        1.501068                             1498.466243   \n",
       "5289                        1.623454                             1498.096303   \n",
       "\n",
       "      primary_cleaner.state.floatbank8_a_level  \\\n",
       "5285                               -499.728848   \n",
       "5286                               -494.716823   \n",
       "5287                               -501.770403   \n",
       "5288                               -500.483984   \n",
       "5289                               -499.796922   \n",
       "\n",
       "      primary_cleaner.state.floatbank8_b_air  \\\n",
       "5285                             1401.441445   \n",
       "5286                             1448.851892   \n",
       "5287                             1499.572353   \n",
       "5288                             1497.986986   \n",
       "5289                             1501.743791   \n",
       "\n",
       "      primary_cleaner.state.floatbank8_b_level  \\\n",
       "5285                               -499.193423   \n",
       "5286                               -465.963026   \n",
       "5287                               -495.516347   \n",
       "5288                               -519.200340   \n",
       "5289                               -505.146931   \n",
       "\n",
       "      primary_cleaner.state.floatbank8_c_air  ...  \\\n",
       "5285                             1399.810313  ...   \n",
       "5286                             1443.890424  ...   \n",
       "5287                             1502.749213  ...   \n",
       "5288                             1496.569047  ...   \n",
       "5289                             1499.535978  ...   \n",
       "\n",
       "      secondary_cleaner.state.floatbank4_a_air  \\\n",
       "5285                                 13.995957   \n",
       "5286                                 16.749781   \n",
       "5287                                 19.994130   \n",
       "5288                                 19.958760   \n",
       "5289                                 20.034715   \n",
       "\n",
       "      secondary_cleaner.state.floatbank4_a_level  \\\n",
       "5285                                 -500.157454   \n",
       "5286                                 -496.031539   \n",
       "5287                                 -499.791312   \n",
       "5288                                 -499.958750   \n",
       "5289                                 -500.728588   \n",
       "\n",
       "      secondary_cleaner.state.floatbank4_b_air  \\\n",
       "5285                                 12.069155   \n",
       "5286                                 13.365371   \n",
       "5287                                 15.101425   \n",
       "5288                                 15.026853   \n",
       "5289                                 14.914199   \n",
       "\n",
       "      secondary_cleaner.state.floatbank4_b_level  \\\n",
       "5285                                 -499.673279   \n",
       "5286                                 -499.122723   \n",
       "5287                                 -499.936252   \n",
       "5288                                 -499.723143   \n",
       "5289                                 -499.948518   \n",
       "\n",
       "      secondary_cleaner.state.floatbank5_a_air  \\\n",
       "5285                                  7.977259   \n",
       "5286                                  9.288553   \n",
       "5287                                 10.989181   \n",
       "5288                                 11.011607   \n",
       "5289                                 10.986607   \n",
       "\n",
       "      secondary_cleaner.state.floatbank5_a_level  \\\n",
       "5285                                 -499.516126   \n",
       "5286                                 -496.892967   \n",
       "5287                                 -498.347898   \n",
       "5288                                 -499.985046   \n",
       "5289                                 -500.658027   \n",
       "\n",
       "      secondary_cleaner.state.floatbank5_b_air  \\\n",
       "5285                                  5.933319   \n",
       "5286                                  7.372897   \n",
       "5287                                  9.020944   \n",
       "5288                                  9.009783   \n",
       "5289                                  8.989497   \n",
       "\n",
       "      secondary_cleaner.state.floatbank5_b_level  \\\n",
       "5285                                 -499.965973   \n",
       "5286                                 -499.942956   \n",
       "5287                                 -500.040448   \n",
       "5288                                 -499.937902   \n",
       "5289                                 -500.337588   \n",
       "\n",
       "      secondary_cleaner.state.floatbank6_a_air  \\\n",
       "5285                                  8.987171   \n",
       "5286                                  8.986832   \n",
       "5287                                  8.982038   \n",
       "5288                                  9.012660   \n",
       "5289                                  8.988632   \n",
       "\n",
       "      secondary_cleaner.state.floatbank6_a_level  \n",
       "5285                                 -499.755909  \n",
       "5286                                 -499.903761  \n",
       "5287                                 -497.789882  \n",
       "5288                                 -500.154284  \n",
       "5289                                 -500.764937  \n",
       "\n",
       "[5 rows x 53 columns]"
      ]
     },
     "metadata": {},
     "output_type": "display_data"
    },
    {
     "data": {
      "text/html": [
       "<div>\n",
       "<style scoped>\n",
       "    .dataframe tbody tr th:only-of-type {\n",
       "        vertical-align: middle;\n",
       "    }\n",
       "\n",
       "    .dataframe tbody tr th {\n",
       "        vertical-align: top;\n",
       "    }\n",
       "\n",
       "    .dataframe thead th {\n",
       "        text-align: right;\n",
       "    }\n",
       "</style>\n",
       "<table border=\"1\" class=\"dataframe\">\n",
       "  <thead>\n",
       "    <tr style=\"text-align: right;\">\n",
       "      <th></th>\n",
       "      <th>date</th>\n",
       "      <th>final.output.concentrate_ag</th>\n",
       "      <th>final.output.concentrate_pb</th>\n",
       "      <th>final.output.concentrate_sol</th>\n",
       "      <th>final.output.concentrate_au</th>\n",
       "      <th>final.output.recovery</th>\n",
       "      <th>final.output.tail_ag</th>\n",
       "      <th>final.output.tail_pb</th>\n",
       "      <th>final.output.tail_sol</th>\n",
       "      <th>final.output.tail_au</th>\n",
       "      <th>...</th>\n",
       "      <th>secondary_cleaner.state.floatbank4_a_air</th>\n",
       "      <th>secondary_cleaner.state.floatbank4_a_level</th>\n",
       "      <th>secondary_cleaner.state.floatbank4_b_air</th>\n",
       "      <th>secondary_cleaner.state.floatbank4_b_level</th>\n",
       "      <th>secondary_cleaner.state.floatbank5_a_air</th>\n",
       "      <th>secondary_cleaner.state.floatbank5_a_level</th>\n",
       "      <th>secondary_cleaner.state.floatbank5_b_air</th>\n",
       "      <th>secondary_cleaner.state.floatbank5_b_level</th>\n",
       "      <th>secondary_cleaner.state.floatbank6_a_air</th>\n",
       "      <th>secondary_cleaner.state.floatbank6_a_level</th>\n",
       "    </tr>\n",
       "  </thead>\n",
       "  <tbody>\n",
       "    <tr>\n",
       "      <th>0</th>\n",
       "      <td>2016-01-15 00:00:00</td>\n",
       "      <td>6.055403</td>\n",
       "      <td>9.889648</td>\n",
       "      <td>5.507324</td>\n",
       "      <td>42.192020</td>\n",
       "      <td>70.541216</td>\n",
       "      <td>10.411962</td>\n",
       "      <td>0.895447</td>\n",
       "      <td>16.904297</td>\n",
       "      <td>2.143149</td>\n",
       "      <td>...</td>\n",
       "      <td>14.016835</td>\n",
       "      <td>-502.488007</td>\n",
       "      <td>12.099931</td>\n",
       "      <td>-504.715942</td>\n",
       "      <td>9.925633</td>\n",
       "      <td>-498.310211</td>\n",
       "      <td>8.079666</td>\n",
       "      <td>-500.470978</td>\n",
       "      <td>14.151341</td>\n",
       "      <td>-605.841980</td>\n",
       "    </tr>\n",
       "    <tr>\n",
       "      <th>1</th>\n",
       "      <td>2016-01-15 01:00:00</td>\n",
       "      <td>6.029369</td>\n",
       "      <td>9.968944</td>\n",
       "      <td>5.257781</td>\n",
       "      <td>42.701629</td>\n",
       "      <td>69.266198</td>\n",
       "      <td>10.462676</td>\n",
       "      <td>0.927452</td>\n",
       "      <td>16.634514</td>\n",
       "      <td>2.224930</td>\n",
       "      <td>...</td>\n",
       "      <td>13.992281</td>\n",
       "      <td>-505.503262</td>\n",
       "      <td>11.950531</td>\n",
       "      <td>-501.331529</td>\n",
       "      <td>10.039245</td>\n",
       "      <td>-500.169983</td>\n",
       "      <td>7.984757</td>\n",
       "      <td>-500.582168</td>\n",
       "      <td>13.998353</td>\n",
       "      <td>-599.787184</td>\n",
       "    </tr>\n",
       "    <tr>\n",
       "      <th>2</th>\n",
       "      <td>2016-01-15 02:00:00</td>\n",
       "      <td>6.055926</td>\n",
       "      <td>10.213995</td>\n",
       "      <td>5.383759</td>\n",
       "      <td>42.657501</td>\n",
       "      <td>68.116445</td>\n",
       "      <td>10.507046</td>\n",
       "      <td>0.953716</td>\n",
       "      <td>16.208849</td>\n",
       "      <td>2.257889</td>\n",
       "      <td>...</td>\n",
       "      <td>14.015015</td>\n",
       "      <td>-502.520901</td>\n",
       "      <td>11.912783</td>\n",
       "      <td>-501.133383</td>\n",
       "      <td>10.070913</td>\n",
       "      <td>-500.129135</td>\n",
       "      <td>8.013877</td>\n",
       "      <td>-500.517572</td>\n",
       "      <td>14.028663</td>\n",
       "      <td>-601.427363</td>\n",
       "    </tr>\n",
       "    <tr>\n",
       "      <th>3</th>\n",
       "      <td>2016-01-15 03:00:00</td>\n",
       "      <td>6.047977</td>\n",
       "      <td>9.977019</td>\n",
       "      <td>4.858634</td>\n",
       "      <td>42.689819</td>\n",
       "      <td>68.347543</td>\n",
       "      <td>10.422762</td>\n",
       "      <td>0.883763</td>\n",
       "      <td>16.532835</td>\n",
       "      <td>2.146849</td>\n",
       "      <td>...</td>\n",
       "      <td>14.036510</td>\n",
       "      <td>-500.857308</td>\n",
       "      <td>11.999550</td>\n",
       "      <td>-501.193686</td>\n",
       "      <td>9.970366</td>\n",
       "      <td>-499.201640</td>\n",
       "      <td>7.977324</td>\n",
       "      <td>-500.255908</td>\n",
       "      <td>14.005551</td>\n",
       "      <td>-599.996129</td>\n",
       "    </tr>\n",
       "    <tr>\n",
       "      <th>4</th>\n",
       "      <td>2016-01-15 04:00:00</td>\n",
       "      <td>6.148599</td>\n",
       "      <td>10.142511</td>\n",
       "      <td>4.939416</td>\n",
       "      <td>42.774141</td>\n",
       "      <td>66.927016</td>\n",
       "      <td>10.360302</td>\n",
       "      <td>0.792826</td>\n",
       "      <td>16.525686</td>\n",
       "      <td>2.055292</td>\n",
       "      <td>...</td>\n",
       "      <td>14.027298</td>\n",
       "      <td>-499.838632</td>\n",
       "      <td>11.953070</td>\n",
       "      <td>-501.053894</td>\n",
       "      <td>9.925709</td>\n",
       "      <td>-501.686727</td>\n",
       "      <td>7.894242</td>\n",
       "      <td>-500.356035</td>\n",
       "      <td>13.996647</td>\n",
       "      <td>-601.496691</td>\n",
       "    </tr>\n",
       "  </tbody>\n",
       "</table>\n",
       "<p>5 rows × 87 columns</p>\n",
       "</div>"
      ],
      "text/plain": [
       "                  date  final.output.concentrate_ag  \\\n",
       "0  2016-01-15 00:00:00                     6.055403   \n",
       "1  2016-01-15 01:00:00                     6.029369   \n",
       "2  2016-01-15 02:00:00                     6.055926   \n",
       "3  2016-01-15 03:00:00                     6.047977   \n",
       "4  2016-01-15 04:00:00                     6.148599   \n",
       "\n",
       "   final.output.concentrate_pb  final.output.concentrate_sol  \\\n",
       "0                     9.889648                      5.507324   \n",
       "1                     9.968944                      5.257781   \n",
       "2                    10.213995                      5.383759   \n",
       "3                     9.977019                      4.858634   \n",
       "4                    10.142511                      4.939416   \n",
       "\n",
       "   final.output.concentrate_au  final.output.recovery  final.output.tail_ag  \\\n",
       "0                    42.192020              70.541216             10.411962   \n",
       "1                    42.701629              69.266198             10.462676   \n",
       "2                    42.657501              68.116445             10.507046   \n",
       "3                    42.689819              68.347543             10.422762   \n",
       "4                    42.774141              66.927016             10.360302   \n",
       "\n",
       "   final.output.tail_pb  final.output.tail_sol  final.output.tail_au  ...  \\\n",
       "0              0.895447              16.904297              2.143149  ...   \n",
       "1              0.927452              16.634514              2.224930  ...   \n",
       "2              0.953716              16.208849              2.257889  ...   \n",
       "3              0.883763              16.532835              2.146849  ...   \n",
       "4              0.792826              16.525686              2.055292  ...   \n",
       "\n",
       "   secondary_cleaner.state.floatbank4_a_air  \\\n",
       "0                                 14.016835   \n",
       "1                                 13.992281   \n",
       "2                                 14.015015   \n",
       "3                                 14.036510   \n",
       "4                                 14.027298   \n",
       "\n",
       "   secondary_cleaner.state.floatbank4_a_level  \\\n",
       "0                                 -502.488007   \n",
       "1                                 -505.503262   \n",
       "2                                 -502.520901   \n",
       "3                                 -500.857308   \n",
       "4                                 -499.838632   \n",
       "\n",
       "   secondary_cleaner.state.floatbank4_b_air  \\\n",
       "0                                 12.099931   \n",
       "1                                 11.950531   \n",
       "2                                 11.912783   \n",
       "3                                 11.999550   \n",
       "4                                 11.953070   \n",
       "\n",
       "   secondary_cleaner.state.floatbank4_b_level  \\\n",
       "0                                 -504.715942   \n",
       "1                                 -501.331529   \n",
       "2                                 -501.133383   \n",
       "3                                 -501.193686   \n",
       "4                                 -501.053894   \n",
       "\n",
       "   secondary_cleaner.state.floatbank5_a_air  \\\n",
       "0                                  9.925633   \n",
       "1                                 10.039245   \n",
       "2                                 10.070913   \n",
       "3                                  9.970366   \n",
       "4                                  9.925709   \n",
       "\n",
       "   secondary_cleaner.state.floatbank5_a_level  \\\n",
       "0                                 -498.310211   \n",
       "1                                 -500.169983   \n",
       "2                                 -500.129135   \n",
       "3                                 -499.201640   \n",
       "4                                 -501.686727   \n",
       "\n",
       "   secondary_cleaner.state.floatbank5_b_air  \\\n",
       "0                                  8.079666   \n",
       "1                                  7.984757   \n",
       "2                                  8.013877   \n",
       "3                                  7.977324   \n",
       "4                                  7.894242   \n",
       "\n",
       "   secondary_cleaner.state.floatbank5_b_level  \\\n",
       "0                                 -500.470978   \n",
       "1                                 -500.582168   \n",
       "2                                 -500.517572   \n",
       "3                                 -500.255908   \n",
       "4                                 -500.356035   \n",
       "\n",
       "   secondary_cleaner.state.floatbank6_a_air  \\\n",
       "0                                 14.151341   \n",
       "1                                 13.998353   \n",
       "2                                 14.028663   \n",
       "3                                 14.005551   \n",
       "4                                 13.996647   \n",
       "\n",
       "   secondary_cleaner.state.floatbank6_a_level  \n",
       "0                                 -605.841980  \n",
       "1                                 -599.787184  \n",
       "2                                 -601.427363  \n",
       "3                                 -599.996129  \n",
       "4                                 -601.496691  \n",
       "\n",
       "[5 rows x 87 columns]"
      ]
     },
     "metadata": {},
     "output_type": "display_data"
    },
    {
     "data": {
      "text/html": [
       "<div>\n",
       "<style scoped>\n",
       "    .dataframe tbody tr th:only-of-type {\n",
       "        vertical-align: middle;\n",
       "    }\n",
       "\n",
       "    .dataframe tbody tr th {\n",
       "        vertical-align: top;\n",
       "    }\n",
       "\n",
       "    .dataframe thead th {\n",
       "        text-align: right;\n",
       "    }\n",
       "</style>\n",
       "<table border=\"1\" class=\"dataframe\">\n",
       "  <thead>\n",
       "    <tr style=\"text-align: right;\">\n",
       "      <th></th>\n",
       "      <th>date</th>\n",
       "      <th>final.output.concentrate_ag</th>\n",
       "      <th>final.output.concentrate_pb</th>\n",
       "      <th>final.output.concentrate_sol</th>\n",
       "      <th>final.output.concentrate_au</th>\n",
       "      <th>final.output.recovery</th>\n",
       "      <th>final.output.tail_ag</th>\n",
       "      <th>final.output.tail_pb</th>\n",
       "      <th>final.output.tail_sol</th>\n",
       "      <th>final.output.tail_au</th>\n",
       "      <th>...</th>\n",
       "      <th>secondary_cleaner.state.floatbank4_a_air</th>\n",
       "      <th>secondary_cleaner.state.floatbank4_a_level</th>\n",
       "      <th>secondary_cleaner.state.floatbank4_b_air</th>\n",
       "      <th>secondary_cleaner.state.floatbank4_b_level</th>\n",
       "      <th>secondary_cleaner.state.floatbank5_a_air</th>\n",
       "      <th>secondary_cleaner.state.floatbank5_a_level</th>\n",
       "      <th>secondary_cleaner.state.floatbank5_b_air</th>\n",
       "      <th>secondary_cleaner.state.floatbank5_b_level</th>\n",
       "      <th>secondary_cleaner.state.floatbank6_a_air</th>\n",
       "      <th>secondary_cleaner.state.floatbank6_a_level</th>\n",
       "    </tr>\n",
       "  </thead>\n",
       "  <tbody>\n",
       "    <tr>\n",
       "      <th>19434</th>\n",
       "      <td>2018-08-18 06:59:59</td>\n",
       "      <td>3.224920</td>\n",
       "      <td>11.356233</td>\n",
       "      <td>6.803482</td>\n",
       "      <td>46.713954</td>\n",
       "      <td>73.755150</td>\n",
       "      <td>8.769645</td>\n",
       "      <td>3.141541</td>\n",
       "      <td>10.403181</td>\n",
       "      <td>1.529220</td>\n",
       "      <td>...</td>\n",
       "      <td>23.031497</td>\n",
       "      <td>-501.167942</td>\n",
       "      <td>20.007571</td>\n",
       "      <td>-499.740028</td>\n",
       "      <td>18.006038</td>\n",
       "      <td>-499.834374</td>\n",
       "      <td>13.001114</td>\n",
       "      <td>-500.155694</td>\n",
       "      <td>20.007840</td>\n",
       "      <td>-501.296428</td>\n",
       "    </tr>\n",
       "    <tr>\n",
       "      <th>19435</th>\n",
       "      <td>2018-08-18 07:59:59</td>\n",
       "      <td>3.195978</td>\n",
       "      <td>11.349355</td>\n",
       "      <td>6.862249</td>\n",
       "      <td>46.866780</td>\n",
       "      <td>69.049291</td>\n",
       "      <td>8.897321</td>\n",
       "      <td>3.130493</td>\n",
       "      <td>10.549470</td>\n",
       "      <td>1.612542</td>\n",
       "      <td>...</td>\n",
       "      <td>22.960095</td>\n",
       "      <td>-501.612783</td>\n",
       "      <td>20.035660</td>\n",
       "      <td>-500.251357</td>\n",
       "      <td>17.998535</td>\n",
       "      <td>-500.395178</td>\n",
       "      <td>12.954048</td>\n",
       "      <td>-499.895163</td>\n",
       "      <td>19.968498</td>\n",
       "      <td>-501.041608</td>\n",
       "    </tr>\n",
       "    <tr>\n",
       "      <th>19436</th>\n",
       "      <td>2018-08-18 08:59:59</td>\n",
       "      <td>3.109998</td>\n",
       "      <td>11.434366</td>\n",
       "      <td>6.886013</td>\n",
       "      <td>46.795691</td>\n",
       "      <td>67.002189</td>\n",
       "      <td>8.529606</td>\n",
       "      <td>2.911418</td>\n",
       "      <td>11.115147</td>\n",
       "      <td>1.596616</td>\n",
       "      <td>...</td>\n",
       "      <td>23.015718</td>\n",
       "      <td>-501.711599</td>\n",
       "      <td>19.951231</td>\n",
       "      <td>-499.857027</td>\n",
       "      <td>18.019543</td>\n",
       "      <td>-500.451156</td>\n",
       "      <td>13.023431</td>\n",
       "      <td>-499.914391</td>\n",
       "      <td>19.990885</td>\n",
       "      <td>-501.518452</td>\n",
       "    </tr>\n",
       "    <tr>\n",
       "      <th>19437</th>\n",
       "      <td>2018-08-18 09:59:59</td>\n",
       "      <td>3.367241</td>\n",
       "      <td>11.625587</td>\n",
       "      <td>6.799433</td>\n",
       "      <td>46.408188</td>\n",
       "      <td>65.523246</td>\n",
       "      <td>8.777171</td>\n",
       "      <td>2.819214</td>\n",
       "      <td>10.463847</td>\n",
       "      <td>1.602879</td>\n",
       "      <td>...</td>\n",
       "      <td>23.024963</td>\n",
       "      <td>-501.153409</td>\n",
       "      <td>20.054122</td>\n",
       "      <td>-500.314711</td>\n",
       "      <td>17.979515</td>\n",
       "      <td>-499.272871</td>\n",
       "      <td>12.992404</td>\n",
       "      <td>-499.976268</td>\n",
       "      <td>20.013986</td>\n",
       "      <td>-500.625471</td>\n",
       "    </tr>\n",
       "    <tr>\n",
       "      <th>19438</th>\n",
       "      <td>2018-08-18 10:59:59</td>\n",
       "      <td>3.598375</td>\n",
       "      <td>11.737832</td>\n",
       "      <td>6.717509</td>\n",
       "      <td>46.299438</td>\n",
       "      <td>70.281454</td>\n",
       "      <td>8.406690</td>\n",
       "      <td>2.517518</td>\n",
       "      <td>10.652193</td>\n",
       "      <td>1.389434</td>\n",
       "      <td>...</td>\n",
       "      <td>23.018622</td>\n",
       "      <td>-500.492702</td>\n",
       "      <td>20.020205</td>\n",
       "      <td>-500.220296</td>\n",
       "      <td>17.963512</td>\n",
       "      <td>-499.939490</td>\n",
       "      <td>12.990306</td>\n",
       "      <td>-500.080993</td>\n",
       "      <td>19.990336</td>\n",
       "      <td>-499.191575</td>\n",
       "    </tr>\n",
       "  </tbody>\n",
       "</table>\n",
       "<p>5 rows × 87 columns</p>\n",
       "</div>"
      ],
      "text/plain": [
       "                      date  final.output.concentrate_ag  \\\n",
       "19434  2018-08-18 06:59:59                     3.224920   \n",
       "19435  2018-08-18 07:59:59                     3.195978   \n",
       "19436  2018-08-18 08:59:59                     3.109998   \n",
       "19437  2018-08-18 09:59:59                     3.367241   \n",
       "19438  2018-08-18 10:59:59                     3.598375   \n",
       "\n",
       "       final.output.concentrate_pb  final.output.concentrate_sol  \\\n",
       "19434                    11.356233                      6.803482   \n",
       "19435                    11.349355                      6.862249   \n",
       "19436                    11.434366                      6.886013   \n",
       "19437                    11.625587                      6.799433   \n",
       "19438                    11.737832                      6.717509   \n",
       "\n",
       "       final.output.concentrate_au  final.output.recovery  \\\n",
       "19434                    46.713954              73.755150   \n",
       "19435                    46.866780              69.049291   \n",
       "19436                    46.795691              67.002189   \n",
       "19437                    46.408188              65.523246   \n",
       "19438                    46.299438              70.281454   \n",
       "\n",
       "       final.output.tail_ag  final.output.tail_pb  final.output.tail_sol  \\\n",
       "19434              8.769645              3.141541              10.403181   \n",
       "19435              8.897321              3.130493              10.549470   \n",
       "19436              8.529606              2.911418              11.115147   \n",
       "19437              8.777171              2.819214              10.463847   \n",
       "19438              8.406690              2.517518              10.652193   \n",
       "\n",
       "       final.output.tail_au  ...  secondary_cleaner.state.floatbank4_a_air  \\\n",
       "19434              1.529220  ...                                 23.031497   \n",
       "19435              1.612542  ...                                 22.960095   \n",
       "19436              1.596616  ...                                 23.015718   \n",
       "19437              1.602879  ...                                 23.024963   \n",
       "19438              1.389434  ...                                 23.018622   \n",
       "\n",
       "       secondary_cleaner.state.floatbank4_a_level  \\\n",
       "19434                                 -501.167942   \n",
       "19435                                 -501.612783   \n",
       "19436                                 -501.711599   \n",
       "19437                                 -501.153409   \n",
       "19438                                 -500.492702   \n",
       "\n",
       "       secondary_cleaner.state.floatbank4_b_air  \\\n",
       "19434                                 20.007571   \n",
       "19435                                 20.035660   \n",
       "19436                                 19.951231   \n",
       "19437                                 20.054122   \n",
       "19438                                 20.020205   \n",
       "\n",
       "       secondary_cleaner.state.floatbank4_b_level  \\\n",
       "19434                                 -499.740028   \n",
       "19435                                 -500.251357   \n",
       "19436                                 -499.857027   \n",
       "19437                                 -500.314711   \n",
       "19438                                 -500.220296   \n",
       "\n",
       "       secondary_cleaner.state.floatbank5_a_air  \\\n",
       "19434                                 18.006038   \n",
       "19435                                 17.998535   \n",
       "19436                                 18.019543   \n",
       "19437                                 17.979515   \n",
       "19438                                 17.963512   \n",
       "\n",
       "       secondary_cleaner.state.floatbank5_a_level  \\\n",
       "19434                                 -499.834374   \n",
       "19435                                 -500.395178   \n",
       "19436                                 -500.451156   \n",
       "19437                                 -499.272871   \n",
       "19438                                 -499.939490   \n",
       "\n",
       "       secondary_cleaner.state.floatbank5_b_air  \\\n",
       "19434                                 13.001114   \n",
       "19435                                 12.954048   \n",
       "19436                                 13.023431   \n",
       "19437                                 12.992404   \n",
       "19438                                 12.990306   \n",
       "\n",
       "       secondary_cleaner.state.floatbank5_b_level  \\\n",
       "19434                                 -500.155694   \n",
       "19435                                 -499.895163   \n",
       "19436                                 -499.914391   \n",
       "19437                                 -499.976268   \n",
       "19438                                 -500.080993   \n",
       "\n",
       "       secondary_cleaner.state.floatbank6_a_air  \\\n",
       "19434                                 20.007840   \n",
       "19435                                 19.968498   \n",
       "19436                                 19.990885   \n",
       "19437                                 20.013986   \n",
       "19438                                 19.990336   \n",
       "\n",
       "       secondary_cleaner.state.floatbank6_a_level  \n",
       "19434                                 -501.296428  \n",
       "19435                                 -501.041608  \n",
       "19436                                 -501.518452  \n",
       "19437                                 -500.625471  \n",
       "19438                                 -499.191575  \n",
       "\n",
       "[5 rows x 87 columns]"
      ]
     },
     "metadata": {},
     "output_type": "display_data"
    }
   ],
   "source": [
    "display(gold_recovery_train.head())\n",
    "display(gold_recovery_train.tail())\n",
    "display(gold_recovery_test.head())\n",
    "display(gold_recovery_test.tail())\n",
    "display(gold_recovery_full.head())\n",
    "display(gold_recovery_full.tail())"
   ]
  },
  {
   "cell_type": "markdown",
   "metadata": {},
   "source": [
    "Полный объем данных занимет промежуток времени с 15 января 2016, по 18 августа 2018. Каждая запись описывает процесс обогащения на раздичных этапах, включающая в себя данные о исходном сырье. Данные снимаются каждый час в течении круглых суток на полном цикле процесса, который работает без остановок.\n",
    "\n",
    "Тестовая выбока расположена на временном промежутке с 1 сентября 2016 по 31 декабря 2017. Обучающая выборка на промежутке 9 месяцев до тестовой и 9 месяцев после."
   ]
  },
  {
   "cell_type": "markdown",
   "metadata": {},
   "source": [
    "Выведем суммарную информацию по всем трем датафреймам."
   ]
  },
  {
   "cell_type": "code",
   "execution_count": 4,
   "metadata": {},
   "outputs": [
    {
     "name": "stdout",
     "output_type": "stream",
     "text": [
      "<class 'pandas.core.frame.DataFrame'>\n",
      "RangeIndex: 14149 entries, 0 to 14148\n",
      "Data columns (total 87 columns):\n",
      " #   Column                                              Non-Null Count  Dtype  \n",
      "---  ------                                              --------------  -----  \n",
      " 0   date                                                14149 non-null  object \n",
      " 1   final.output.concentrate_ag                         14148 non-null  float64\n",
      " 2   final.output.concentrate_pb                         14148 non-null  float64\n",
      " 3   final.output.concentrate_sol                        13938 non-null  float64\n",
      " 4   final.output.concentrate_au                         14149 non-null  float64\n",
      " 5   final.output.recovery                               14149 non-null  float64\n",
      " 6   final.output.tail_ag                                14149 non-null  float64\n",
      " 7   final.output.tail_pb                                14049 non-null  float64\n",
      " 8   final.output.tail_sol                               14144 non-null  float64\n",
      " 9   final.output.tail_au                                14149 non-null  float64\n",
      " 10  primary_cleaner.input.sulfate                       14129 non-null  float64\n",
      " 11  primary_cleaner.input.depressant                    14117 non-null  float64\n",
      " 12  primary_cleaner.input.feed_size                     14149 non-null  float64\n",
      " 13  primary_cleaner.input.xanthate                      14049 non-null  float64\n",
      " 14  primary_cleaner.output.concentrate_ag               14149 non-null  float64\n",
      " 15  primary_cleaner.output.concentrate_pb               14063 non-null  float64\n",
      " 16  primary_cleaner.output.concentrate_sol              13863 non-null  float64\n",
      " 17  primary_cleaner.output.concentrate_au               14149 non-null  float64\n",
      " 18  primary_cleaner.output.tail_ag                      14148 non-null  float64\n",
      " 19  primary_cleaner.output.tail_pb                      14134 non-null  float64\n",
      " 20  primary_cleaner.output.tail_sol                     14103 non-null  float64\n",
      " 21  primary_cleaner.output.tail_au                      14149 non-null  float64\n",
      " 22  primary_cleaner.state.floatbank8_a_air              14145 non-null  float64\n",
      " 23  primary_cleaner.state.floatbank8_a_level            14148 non-null  float64\n",
      " 24  primary_cleaner.state.floatbank8_b_air              14145 non-null  float64\n",
      " 25  primary_cleaner.state.floatbank8_b_level            14148 non-null  float64\n",
      " 26  primary_cleaner.state.floatbank8_c_air              14147 non-null  float64\n",
      " 27  primary_cleaner.state.floatbank8_c_level            14148 non-null  float64\n",
      " 28  primary_cleaner.state.floatbank8_d_air              14146 non-null  float64\n",
      " 29  primary_cleaner.state.floatbank8_d_level            14148 non-null  float64\n",
      " 30  rougher.calculation.sulfate_to_au_concentrate       14148 non-null  float64\n",
      " 31  rougher.calculation.floatbank10_sulfate_to_au_feed  14148 non-null  float64\n",
      " 32  rougher.calculation.floatbank11_sulfate_to_au_feed  14148 non-null  float64\n",
      " 33  rougher.calculation.au_pb_ratio                     14149 non-null  float64\n",
      " 34  rougher.input.feed_ag                               14149 non-null  float64\n",
      " 35  rougher.input.feed_pb                               14049 non-null  float64\n",
      " 36  rougher.input.feed_rate                             14141 non-null  float64\n",
      " 37  rougher.input.feed_size                             14005 non-null  float64\n",
      " 38  rougher.input.feed_sol                              14071 non-null  float64\n",
      " 39  rougher.input.feed_au                               14149 non-null  float64\n",
      " 40  rougher.input.floatbank10_sulfate                   14120 non-null  float64\n",
      " 41  rougher.input.floatbank10_xanthate                  14141 non-null  float64\n",
      " 42  rougher.input.floatbank11_sulfate                   14113 non-null  float64\n",
      " 43  rougher.input.floatbank11_xanthate                  13721 non-null  float64\n",
      " 44  rougher.output.concentrate_ag                       14149 non-null  float64\n",
      " 45  rougher.output.concentrate_pb                       14149 non-null  float64\n",
      " 46  rougher.output.concentrate_sol                      14127 non-null  float64\n",
      " 47  rougher.output.concentrate_au                       14149 non-null  float64\n",
      " 48  rougher.output.recovery                             14149 non-null  float64\n",
      " 49  rougher.output.tail_ag                              14148 non-null  float64\n",
      " 50  rougher.output.tail_pb                              14149 non-null  float64\n",
      " 51  rougher.output.tail_sol                             14149 non-null  float64\n",
      " 52  rougher.output.tail_au                              14149 non-null  float64\n",
      " 53  rougher.state.floatbank10_a_air                     14148 non-null  float64\n",
      " 54  rougher.state.floatbank10_a_level                   14148 non-null  float64\n",
      " 55  rougher.state.floatbank10_b_air                     14148 non-null  float64\n",
      " 56  rougher.state.floatbank10_b_level                   14148 non-null  float64\n",
      " 57  rougher.state.floatbank10_c_air                     14148 non-null  float64\n",
      " 58  rougher.state.floatbank10_c_level                   14148 non-null  float64\n",
      " 59  rougher.state.floatbank10_d_air                     14149 non-null  float64\n",
      " 60  rougher.state.floatbank10_d_level                   14149 non-null  float64\n",
      " 61  rougher.state.floatbank10_e_air                     13713 non-null  float64\n",
      " 62  rougher.state.floatbank10_e_level                   14149 non-null  float64\n",
      " 63  rougher.state.floatbank10_f_air                     14149 non-null  float64\n",
      " 64  rougher.state.floatbank10_f_level                   14149 non-null  float64\n",
      " 65  secondary_cleaner.output.tail_ag                    14147 non-null  float64\n",
      " 66  secondary_cleaner.output.tail_pb                    14139 non-null  float64\n",
      " 67  secondary_cleaner.output.tail_sol                   12544 non-null  float64\n",
      " 68  secondary_cleaner.output.tail_au                    14149 non-null  float64\n",
      " 69  secondary_cleaner.state.floatbank2_a_air            13932 non-null  float64\n",
      " 70  secondary_cleaner.state.floatbank2_a_level          14148 non-null  float64\n",
      " 71  secondary_cleaner.state.floatbank2_b_air            14128 non-null  float64\n",
      " 72  secondary_cleaner.state.floatbank2_b_level          14148 non-null  float64\n",
      " 73  secondary_cleaner.state.floatbank3_a_air            14145 non-null  float64\n",
      " 74  secondary_cleaner.state.floatbank3_a_level          14148 non-null  float64\n",
      " 75  secondary_cleaner.state.floatbank3_b_air            14148 non-null  float64\n",
      " 76  secondary_cleaner.state.floatbank3_b_level          14148 non-null  float64\n",
      " 77  secondary_cleaner.state.floatbank4_a_air            14143 non-null  float64\n",
      " 78  secondary_cleaner.state.floatbank4_a_level          14148 non-null  float64\n",
      " 79  secondary_cleaner.state.floatbank4_b_air            14148 non-null  float64\n",
      " 80  secondary_cleaner.state.floatbank4_b_level          14148 non-null  float64\n",
      " 81  secondary_cleaner.state.floatbank5_a_air            14148 non-null  float64\n",
      " 82  secondary_cleaner.state.floatbank5_a_level          14148 non-null  float64\n",
      " 83  secondary_cleaner.state.floatbank5_b_air            14148 non-null  float64\n",
      " 84  secondary_cleaner.state.floatbank5_b_level          14148 non-null  float64\n",
      " 85  secondary_cleaner.state.floatbank6_a_air            14147 non-null  float64\n",
      " 86  secondary_cleaner.state.floatbank6_a_level          14148 non-null  float64\n",
      "dtypes: float64(86), object(1)\n",
      "memory usage: 9.4+ MB\n",
      "<class 'pandas.core.frame.DataFrame'>\n",
      "RangeIndex: 5290 entries, 0 to 5289\n",
      "Data columns (total 53 columns):\n",
      " #   Column                                      Non-Null Count  Dtype  \n",
      "---  ------                                      --------------  -----  \n",
      " 0   date                                        5290 non-null   object \n",
      " 1   primary_cleaner.input.sulfate               5286 non-null   float64\n",
      " 2   primary_cleaner.input.depressant            5285 non-null   float64\n",
      " 3   primary_cleaner.input.feed_size             5290 non-null   float64\n",
      " 4   primary_cleaner.input.xanthate              5286 non-null   float64\n",
      " 5   primary_cleaner.state.floatbank8_a_air      5290 non-null   float64\n",
      " 6   primary_cleaner.state.floatbank8_a_level    5290 non-null   float64\n",
      " 7   primary_cleaner.state.floatbank8_b_air      5290 non-null   float64\n",
      " 8   primary_cleaner.state.floatbank8_b_level    5290 non-null   float64\n",
      " 9   primary_cleaner.state.floatbank8_c_air      5290 non-null   float64\n",
      " 10  primary_cleaner.state.floatbank8_c_level    5290 non-null   float64\n",
      " 11  primary_cleaner.state.floatbank8_d_air      5290 non-null   float64\n",
      " 12  primary_cleaner.state.floatbank8_d_level    5290 non-null   float64\n",
      " 13  rougher.input.feed_ag                       5290 non-null   float64\n",
      " 14  rougher.input.feed_pb                       5290 non-null   float64\n",
      " 15  rougher.input.feed_rate                     5287 non-null   float64\n",
      " 16  rougher.input.feed_size                     5289 non-null   float64\n",
      " 17  rougher.input.feed_sol                      5269 non-null   float64\n",
      " 18  rougher.input.feed_au                       5290 non-null   float64\n",
      " 19  rougher.input.floatbank10_sulfate           5285 non-null   float64\n",
      " 20  rougher.input.floatbank10_xanthate          5290 non-null   float64\n",
      " 21  rougher.input.floatbank11_sulfate           5282 non-null   float64\n",
      " 22  rougher.input.floatbank11_xanthate          5265 non-null   float64\n",
      " 23  rougher.state.floatbank10_a_air             5290 non-null   float64\n",
      " 24  rougher.state.floatbank10_a_level           5290 non-null   float64\n",
      " 25  rougher.state.floatbank10_b_air             5290 non-null   float64\n",
      " 26  rougher.state.floatbank10_b_level           5290 non-null   float64\n",
      " 27  rougher.state.floatbank10_c_air             5290 non-null   float64\n",
      " 28  rougher.state.floatbank10_c_level           5290 non-null   float64\n",
      " 29  rougher.state.floatbank10_d_air             5290 non-null   float64\n",
      " 30  rougher.state.floatbank10_d_level           5290 non-null   float64\n",
      " 31  rougher.state.floatbank10_e_air             5290 non-null   float64\n",
      " 32  rougher.state.floatbank10_e_level           5290 non-null   float64\n",
      " 33  rougher.state.floatbank10_f_air             5290 non-null   float64\n",
      " 34  rougher.state.floatbank10_f_level           5290 non-null   float64\n",
      " 35  secondary_cleaner.state.floatbank2_a_air    5287 non-null   float64\n",
      " 36  secondary_cleaner.state.floatbank2_a_level  5290 non-null   float64\n",
      " 37  secondary_cleaner.state.floatbank2_b_air    5288 non-null   float64\n",
      " 38  secondary_cleaner.state.floatbank2_b_level  5290 non-null   float64\n",
      " 39  secondary_cleaner.state.floatbank3_a_air    5281 non-null   float64\n",
      " 40  secondary_cleaner.state.floatbank3_a_level  5290 non-null   float64\n",
      " 41  secondary_cleaner.state.floatbank3_b_air    5290 non-null   float64\n",
      " 42  secondary_cleaner.state.floatbank3_b_level  5290 non-null   float64\n",
      " 43  secondary_cleaner.state.floatbank4_a_air    5290 non-null   float64\n",
      " 44  secondary_cleaner.state.floatbank4_a_level  5290 non-null   float64\n",
      " 45  secondary_cleaner.state.floatbank4_b_air    5290 non-null   float64\n",
      " 46  secondary_cleaner.state.floatbank4_b_level  5290 non-null   float64\n",
      " 47  secondary_cleaner.state.floatbank5_a_air    5290 non-null   float64\n",
      " 48  secondary_cleaner.state.floatbank5_a_level  5290 non-null   float64\n",
      " 49  secondary_cleaner.state.floatbank5_b_air    5290 non-null   float64\n",
      " 50  secondary_cleaner.state.floatbank5_b_level  5290 non-null   float64\n",
      " 51  secondary_cleaner.state.floatbank6_a_air    5290 non-null   float64\n",
      " 52  secondary_cleaner.state.floatbank6_a_level  5290 non-null   float64\n",
      "dtypes: float64(52), object(1)\n",
      "memory usage: 2.1+ MB\n",
      "<class 'pandas.core.frame.DataFrame'>\n",
      "RangeIndex: 19439 entries, 0 to 19438\n",
      "Data columns (total 87 columns):\n",
      " #   Column                                              Non-Null Count  Dtype  \n",
      "---  ------                                              --------------  -----  \n",
      " 0   date                                                19439 non-null  object \n",
      " 1   final.output.concentrate_ag                         19438 non-null  float64\n",
      " 2   final.output.concentrate_pb                         19438 non-null  float64\n",
      " 3   final.output.concentrate_sol                        19228 non-null  float64\n",
      " 4   final.output.concentrate_au                         19439 non-null  float64\n",
      " 5   final.output.recovery                               19439 non-null  float64\n",
      " 6   final.output.tail_ag                                19438 non-null  float64\n",
      " 7   final.output.tail_pb                                19338 non-null  float64\n",
      " 8   final.output.tail_sol                               19433 non-null  float64\n",
      " 9   final.output.tail_au                                19439 non-null  float64\n",
      " 10  primary_cleaner.input.sulfate                       19415 non-null  float64\n",
      " 11  primary_cleaner.input.depressant                    19402 non-null  float64\n",
      " 12  primary_cleaner.input.feed_size                     19439 non-null  float64\n",
      " 13  primary_cleaner.input.xanthate                      19335 non-null  float64\n",
      " 14  primary_cleaner.output.concentrate_ag               19439 non-null  float64\n",
      " 15  primary_cleaner.output.concentrate_pb               19323 non-null  float64\n",
      " 16  primary_cleaner.output.concentrate_sol              19069 non-null  float64\n",
      " 17  primary_cleaner.output.concentrate_au               19439 non-null  float64\n",
      " 18  primary_cleaner.output.tail_ag                      19435 non-null  float64\n",
      " 19  primary_cleaner.output.tail_pb                      19418 non-null  float64\n",
      " 20  primary_cleaner.output.tail_sol                     19377 non-null  float64\n",
      " 21  primary_cleaner.output.tail_au                      19439 non-null  float64\n",
      " 22  primary_cleaner.state.floatbank8_a_air              19435 non-null  float64\n",
      " 23  primary_cleaner.state.floatbank8_a_level            19438 non-null  float64\n",
      " 24  primary_cleaner.state.floatbank8_b_air              19435 non-null  float64\n",
      " 25  primary_cleaner.state.floatbank8_b_level            19438 non-null  float64\n",
      " 26  primary_cleaner.state.floatbank8_c_air              19437 non-null  float64\n",
      " 27  primary_cleaner.state.floatbank8_c_level            19438 non-null  float64\n",
      " 28  primary_cleaner.state.floatbank8_d_air              19436 non-null  float64\n",
      " 29  primary_cleaner.state.floatbank8_d_level            19438 non-null  float64\n",
      " 30  rougher.calculation.sulfate_to_au_concentrate       19437 non-null  float64\n",
      " 31  rougher.calculation.floatbank10_sulfate_to_au_feed  19437 non-null  float64\n",
      " 32  rougher.calculation.floatbank11_sulfate_to_au_feed  19437 non-null  float64\n",
      " 33  rougher.calculation.au_pb_ratio                     19439 non-null  float64\n",
      " 34  rougher.input.feed_ag                               19439 non-null  float64\n",
      " 35  rougher.input.feed_pb                               19339 non-null  float64\n",
      " 36  rougher.input.feed_rate                             19428 non-null  float64\n",
      " 37  rougher.input.feed_size                             19294 non-null  float64\n",
      " 38  rougher.input.feed_sol                              19340 non-null  float64\n",
      " 39  rougher.input.feed_au                               19439 non-null  float64\n",
      " 40  rougher.input.floatbank10_sulfate                   19405 non-null  float64\n",
      " 41  rougher.input.floatbank10_xanthate                  19431 non-null  float64\n",
      " 42  rougher.input.floatbank11_sulfate                   19395 non-null  float64\n",
      " 43  rougher.input.floatbank11_xanthate                  18986 non-null  float64\n",
      " 44  rougher.output.concentrate_ag                       19439 non-null  float64\n",
      " 45  rougher.output.concentrate_pb                       19439 non-null  float64\n",
      " 46  rougher.output.concentrate_sol                      19416 non-null  float64\n",
      " 47  rougher.output.concentrate_au                       19439 non-null  float64\n",
      " 48  rougher.output.recovery                             19439 non-null  float64\n",
      " 49  rougher.output.tail_ag                              19438 non-null  float64\n",
      " 50  rougher.output.tail_pb                              19439 non-null  float64\n",
      " 51  rougher.output.tail_sol                             19439 non-null  float64\n",
      " 52  rougher.output.tail_au                              19439 non-null  float64\n",
      " 53  rougher.state.floatbank10_a_air                     19438 non-null  float64\n",
      " 54  rougher.state.floatbank10_a_level                   19438 non-null  float64\n",
      " 55  rougher.state.floatbank10_b_air                     19438 non-null  float64\n",
      " 56  rougher.state.floatbank10_b_level                   19438 non-null  float64\n",
      " 57  rougher.state.floatbank10_c_air                     19438 non-null  float64\n",
      " 58  rougher.state.floatbank10_c_level                   19438 non-null  float64\n",
      " 59  rougher.state.floatbank10_d_air                     19439 non-null  float64\n",
      " 60  rougher.state.floatbank10_d_level                   19439 non-null  float64\n",
      " 61  rougher.state.floatbank10_e_air                     19003 non-null  float64\n",
      " 62  rougher.state.floatbank10_e_level                   19439 non-null  float64\n",
      " 63  rougher.state.floatbank10_f_air                     19439 non-null  float64\n",
      " 64  rougher.state.floatbank10_f_level                   19439 non-null  float64\n",
      " 65  secondary_cleaner.output.tail_ag                    19437 non-null  float64\n",
      " 66  secondary_cleaner.output.tail_pb                    19427 non-null  float64\n",
      " 67  secondary_cleaner.output.tail_sol                   17691 non-null  float64\n",
      " 68  secondary_cleaner.output.tail_au                    19439 non-null  float64\n",
      " 69  secondary_cleaner.state.floatbank2_a_air            19219 non-null  float64\n",
      " 70  secondary_cleaner.state.floatbank2_a_level          19438 non-null  float64\n",
      " 71  secondary_cleaner.state.floatbank2_b_air            19416 non-null  float64\n",
      " 72  secondary_cleaner.state.floatbank2_b_level          19438 non-null  float64\n",
      " 73  secondary_cleaner.state.floatbank3_a_air            19426 non-null  float64\n",
      " 74  secondary_cleaner.state.floatbank3_a_level          19438 non-null  float64\n",
      " 75  secondary_cleaner.state.floatbank3_b_air            19438 non-null  float64\n",
      " 76  secondary_cleaner.state.floatbank3_b_level          19438 non-null  float64\n",
      " 77  secondary_cleaner.state.floatbank4_a_air            19433 non-null  float64\n",
      " 78  secondary_cleaner.state.floatbank4_a_level          19438 non-null  float64\n",
      " 79  secondary_cleaner.state.floatbank4_b_air            19438 non-null  float64\n",
      " 80  secondary_cleaner.state.floatbank4_b_level          19438 non-null  float64\n",
      " 81  secondary_cleaner.state.floatbank5_a_air            19438 non-null  float64\n",
      " 82  secondary_cleaner.state.floatbank5_a_level          19438 non-null  float64\n",
      " 83  secondary_cleaner.state.floatbank5_b_air            19438 non-null  float64\n",
      " 84  secondary_cleaner.state.floatbank5_b_level          19438 non-null  float64\n",
      " 85  secondary_cleaner.state.floatbank6_a_air            19437 non-null  float64\n",
      " 86  secondary_cleaner.state.floatbank6_a_level          19438 non-null  float64\n",
      "dtypes: float64(86), object(1)\n",
      "memory usage: 12.9+ MB\n"
     ]
    }
   ],
   "source": [
    "gold_recovery_train.info()\n",
    "gold_recovery_test.info()\n",
    "gold_recovery_full.info()"
   ]
  },
  {
   "cell_type": "markdown",
   "metadata": {},
   "source": [
    "Во всех трех датафреймах наблюдаем небольшое колличество пропусков почти в каждом столбце. Так как цикл производства безостановочный, то пропуски в данных можно заполнить интерполяцией из значений из соседних строк, т.к. характеристики сырья меняются не значительно и плавно с течением времени."
   ]
  },
  {
   "cell_type": "markdown",
   "metadata": {},
   "source": [
    "Проверим эффективность обогащения золотола в целевых признаках, рассчитав их через формулу обогащения, описанную в техпроцессе, и сравним полученный результат с данными записанными в целевых признаках. Высчитаем MAE между велечинами по всему датафрейму."
   ]
  },
  {
   "cell_type": "code",
   "execution_count": 5,
   "metadata": {},
   "outputs": [
    {
     "name": "stdout",
     "output_type": "stream",
     "text": [
      "Эффективность очистки золота на этапе флотации в первом элементе датафрейма            86.84326050586624 \n",
      "Эффективность очистки золота на этапе флотации в первом элементе рассчитанная по формуле 86.84326050586625\n",
      "Средняя абсолютная ошибка на всем датафрейме на этапе флотации 9.73512347450521e-15\n",
      "Эффективность очистки золота на финальном этапе в первом элементе датафрейма            69.26619763433304 \n",
      "Эффективность очистки золота на финальном этапе в первом элементе рассчитанная по формуле 69.26619763433305\n",
      "Средняя абсолютная ошибка на всем датафрейме на финальном этапе 8.538049763979541e-15\n"
     ]
    }
   ],
   "source": [
    "def recovery(concentrate, feed, tail):\n",
    "    return (concentrate*(feed-tail))/(feed*(concentrate-tail))*100\n",
    "\n",
    "print('Эффективность очистки золота на этапе флотации в первом элементе датафрейма           ', gold_recovery_train['rougher.output.recovery'][1], \n",
    "      '\\nЭффективность очистки золота на этапе флотации в первом элементе рассчитанная по формуле',  recovery(\n",
    "    gold_recovery_train['rougher.output.concentrate_au'][1], \n",
    "    gold_recovery_train['rougher.input.feed_au'][1], \n",
    "    gold_recovery_train['rougher.output.tail_au'][1]))\n",
    "\n",
    "print('Средняя абсолютная ошибка на всем датафрейме на этапе флотации', mean_absolute_error(gold_recovery_train['rougher.output.recovery'], recovery(\n",
    "    gold_recovery_train['rougher.output.concentrate_au'], \n",
    "    gold_recovery_train['rougher.input.feed_au'], \n",
    "    gold_recovery_train['rougher.output.tail_au'])))\n",
    "\n",
    "print('Эффективность очистки золота на финальном этапе в первом элементе датафрейма           ', gold_recovery_train['final.output.recovery'][1], \n",
    "      '\\nЭффективность очистки золота на финальном этапе в первом элементе рассчитанная по формуле',  recovery(\n",
    "    gold_recovery_train['final.output.concentrate_au'][1], \n",
    "    gold_recovery_train['rougher.input.feed_au'][1], \n",
    "    gold_recovery_train['final.output.tail_au'][1]))\n",
    "\n",
    "print('Средняя абсолютная ошибка на всем датафрейме на финальном этапе', mean_absolute_error(gold_recovery_train['final.output.recovery'], recovery(\n",
    "    gold_recovery_train['final.output.concentrate_au'], \n",
    "    gold_recovery_train['rougher.input.feed_au'], \n",
    "    gold_recovery_train['final.output.tail_au'])))"
   ]
  },
  {
   "cell_type": "markdown",
   "metadata": {},
   "source": [
    "В тестовом датафрейме колличество столбцов отличается от датафрейма с полными данными. Выведем эти столбцы."
   ]
  },
  {
   "cell_type": "code",
   "execution_count": 6,
   "metadata": {},
   "outputs": [
    {
     "name": "stdout",
     "output_type": "stream",
     "text": [
      "0                           final.output.concentrate_ag\n",
      "1                           final.output.concentrate_pb\n",
      "2                          final.output.concentrate_sol\n",
      "3                           final.output.concentrate_au\n",
      "4                                 final.output.recovery\n",
      "5                                  final.output.tail_ag\n",
      "6                                  final.output.tail_pb\n",
      "7                                 final.output.tail_sol\n",
      "8                                  final.output.tail_au\n",
      "9                 primary_cleaner.output.concentrate_ag\n",
      "10                primary_cleaner.output.concentrate_pb\n",
      "11               primary_cleaner.output.concentrate_sol\n",
      "12                primary_cleaner.output.concentrate_au\n",
      "13                       primary_cleaner.output.tail_ag\n",
      "14                       primary_cleaner.output.tail_pb\n",
      "15                      primary_cleaner.output.tail_sol\n",
      "16                       primary_cleaner.output.tail_au\n",
      "17        rougher.calculation.sulfate_to_au_concentrate\n",
      "18    rougher.calculation.floatbank10_sulfate_to_au_...\n",
      "19    rougher.calculation.floatbank11_sulfate_to_au_...\n",
      "20                      rougher.calculation.au_pb_ratio\n",
      "21                        rougher.output.concentrate_ag\n",
      "22                        rougher.output.concentrate_pb\n",
      "23                       rougher.output.concentrate_sol\n",
      "24                        rougher.output.concentrate_au\n",
      "25                              rougher.output.recovery\n",
      "26                               rougher.output.tail_ag\n",
      "27                               rougher.output.tail_pb\n",
      "28                              rougher.output.tail_sol\n",
      "29                               rougher.output.tail_au\n",
      "30                     secondary_cleaner.output.tail_ag\n",
      "31                     secondary_cleaner.output.tail_pb\n",
      "32                    secondary_cleaner.output.tail_sol\n",
      "33                     secondary_cleaner.output.tail_au\n",
      "dtype: object\n"
     ]
    }
   ],
   "source": [
    "columns = []\n",
    "for i in gold_recovery_full.columns:\n",
    "    if i not in gold_recovery_test.columns:\n",
    "        columns.append(i)\n",
    "print(pd.Series(columns))"
   ]
  },
  {
   "cell_type": "markdown",
   "metadata": {},
   "source": [
    "Эти солбцы содержат в себе финальные результаты о концентрации элементов, общей результативности процесса и характеристики промежуточных процессов(те столбцы в которых содержится маркер output). В столбцах с маркером calculation, содержится информация о расчетных характеристиках процесса на разных стадиях. Данные столбцы имеют информацию о итоговом результате обогащения руды и включение этих признаков в обучающуюся модель, будут пагубно влиять на её результат."
   ]
  },
  {
   "cell_type": "markdown",
   "metadata": {},
   "source": [
    "Проведем проверку мультиколлинеальности между столбцами, которые выбранны признаками для обучения модели."
   ]
  },
  {
   "cell_type": "code",
   "execution_count": 7,
   "metadata": {},
   "outputs": [
    {
     "name": "stdout",
     "output_type": "stream",
     "text": [
      "Корреляция между столбцами final.output.tail_ag и rougher.input.feed_ag составляет 0.75\n",
      "Корреляция между столбцами final.output.tail_pb и final.output.tail_au составляет 0.61\n",
      "Корреляция между столбцами final.output.tail_pb и rougher.input.feed_pb составляет 0.79\n",
      "Корреляция между столбцами final.output.tail_au и primary_cleaner.output.tail_au составляет 0.64\n",
      "Корреляция между столбцами final.output.tail_au и rougher.input.feed_au составляет 0.62\n",
      "Корреляция между столбцами final.output.tail_au и rougher.output.tail_au составляет 0.63\n",
      "Корреляция между столбцами primary_cleaner.input.sulfate и rougher.input.feed_au составляет 0.61\n",
      "Корреляция между столбцами primary_cleaner.output.concentrate_ag и primary_cleaner.output.concentrate_sol составляет 0.69\n",
      "Корреляция между столбцами primary_cleaner.output.tail_ag и primary_cleaner.output.tail_pb составляет 0.94\n",
      "Корреляция между столбцами primary_cleaner.state.floatbank8_a_air и primary_cleaner.state.floatbank8_b_air составляет 0.95\n",
      "Корреляция между столбцами primary_cleaner.state.floatbank8_a_air и primary_cleaner.state.floatbank8_c_air составляет 0.93\n",
      "Корреляция между столбцами primary_cleaner.state.floatbank8_a_level и primary_cleaner.state.floatbank8_b_level составляет 0.96\n",
      "Корреляция между столбцами primary_cleaner.state.floatbank8_a_level и primary_cleaner.state.floatbank8_c_level составляет 0.96\n",
      "Корреляция между столбцами primary_cleaner.state.floatbank8_a_level и primary_cleaner.state.floatbank8_d_level составляет 0.69\n",
      "Корреляция между столбцами primary_cleaner.state.floatbank8_b_air и primary_cleaner.state.floatbank8_c_air составляет 0.94\n",
      "Корреляция между столбцами primary_cleaner.state.floatbank8_b_level и primary_cleaner.state.floatbank8_c_level составляет 0.94\n",
      "Корреляция между столбцами primary_cleaner.state.floatbank8_b_level и primary_cleaner.state.floatbank8_d_level составляет 0.7\n",
      "Корреляция между столбцами primary_cleaner.state.floatbank8_c_level и primary_cleaner.state.floatbank8_d_level составляет 0.68\n",
      "Корреляция между столбцами rougher.calculation.floatbank10_sulfate_to_au_feed и rougher.calculation.floatbank11_sulfate_to_au_feed составляет 0.97\n",
      "Корреляция между столбцами rougher.input.feed_ag и rougher.input.feed_au составляет 0.85\n",
      "Корреляция между столбцами rougher.input.feed_pb и rougher.input.feed_au составляет 0.69\n",
      "Корреляция между столбцами rougher.input.floatbank10_sulfate и rougher.input.floatbank11_sulfate составляет 0.8\n",
      "Корреляция между столбцами rougher.input.floatbank10_xanthate и rougher.input.floatbank11_xanthate составляет 0.94\n",
      "Корреляция между столбцами rougher.output.concentrate_ag и rougher.output.concentrate_sol составляет 0.68\n",
      "Корреляция между столбцами rougher.output.concentrate_ag и rougher.output.concentrate_au составляет 0.62\n",
      "Корреляция между столбцами rougher.output.concentrate_ag и rougher.output.recovery составляет 0.66\n",
      "Корреляция между столбцами rougher.output.concentrate_sol и rougher.output.concentrate_au составляет 0.89\n",
      "Корреляция между столбцами rougher.output.tail_ag и rougher.output.tail_au составляет 0.81\n",
      "Корреляция между столбцами rougher.output.tail_pb и rougher.output.tail_au составляет 0.76\n",
      "Корреляция между столбцами rougher.state.floatbank10_a_level и secondary_cleaner.output.tail_sol составляет -0.6\n",
      "Корреляция между столбцами rougher.state.floatbank10_a_level и secondary_cleaner.state.floatbank4_a_air составляет 0.61\n",
      "Корреляция между столбцами rougher.state.floatbank10_b_air и rougher.state.floatbank10_c_air составляет 0.94\n",
      "Корреляция между столбцами rougher.state.floatbank10_b_air и rougher.state.floatbank10_d_air составляет 0.93\n",
      "Корреляция между столбцами rougher.state.floatbank10_b_air и rougher.state.floatbank10_e_air составляет 0.83\n",
      "Корреляция между столбцами rougher.state.floatbank10_b_air и rougher.state.floatbank10_f_air составляет 0.82\n",
      "Корреляция между столбцами rougher.state.floatbank10_b_level и rougher.state.floatbank10_c_level составляет 0.99\n",
      "Корреляция между столбцами rougher.state.floatbank10_b_level и rougher.state.floatbank10_d_level составляет 0.98\n",
      "Корреляция между столбцами rougher.state.floatbank10_b_level и rougher.state.floatbank10_e_level составляет 0.97\n",
      "Корреляция между столбцами rougher.state.floatbank10_b_level и rougher.state.floatbank10_f_level составляет 0.97\n",
      "Корреляция между столбцами rougher.state.floatbank10_c_air и rougher.state.floatbank10_d_air составляет 0.91\n",
      "Корреляция между столбцами rougher.state.floatbank10_c_air и rougher.state.floatbank10_e_air составляет 0.78\n",
      "Корреляция между столбцами rougher.state.floatbank10_c_air и rougher.state.floatbank10_f_air составляет 0.76\n",
      "Корреляция между столбцами rougher.state.floatbank10_c_level и rougher.state.floatbank10_d_level составляет 0.99\n",
      "Корреляция между столбцами rougher.state.floatbank10_c_level и rougher.state.floatbank10_e_level составляет 0.98\n",
      "Корреляция между столбцами rougher.state.floatbank10_c_level и rougher.state.floatbank10_f_level составляет 0.98\n",
      "Корреляция между столбцами rougher.state.floatbank10_d_air и rougher.state.floatbank10_e_air составляет 0.88\n",
      "Корреляция между столбцами rougher.state.floatbank10_d_air и rougher.state.floatbank10_f_air составляет 0.86\n",
      "Корреляция между столбцами rougher.state.floatbank10_d_level и rougher.state.floatbank10_e_level составляет 0.98\n",
      "Корреляция между столбцами rougher.state.floatbank10_d_level и rougher.state.floatbank10_f_level составляет 0.98\n",
      "Корреляция между столбцами rougher.state.floatbank10_e_air и rougher.state.floatbank10_f_air составляет 0.94\n",
      "Корреляция между столбцами rougher.state.floatbank10_e_level и rougher.state.floatbank10_f_level составляет 0.99\n",
      "Корреляция между столбцами secondary_cleaner.output.tail_ag и secondary_cleaner.output.tail_pb составляет 0.68\n",
      "Корреляция между столбцами secondary_cleaner.state.floatbank2_a_air и secondary_cleaner.state.floatbank2_b_air составляет 0.88\n",
      "Корреляция между столбцами secondary_cleaner.state.floatbank2_a_level и secondary_cleaner.state.floatbank2_b_level составляет 0.9\n",
      "Корреляция между столбцами secondary_cleaner.state.floatbank3_a_air и secondary_cleaner.state.floatbank3_b_air составляет 0.69\n",
      "Корреляция между столбцами secondary_cleaner.state.floatbank3_a_air и secondary_cleaner.state.floatbank4_a_air составляет 0.68\n",
      "Корреляция между столбцами secondary_cleaner.state.floatbank3_a_air и secondary_cleaner.state.floatbank4_b_air составляет 0.78\n",
      "Корреляция между столбцами secondary_cleaner.state.floatbank3_a_air и secondary_cleaner.state.floatbank5_a_air составляет 0.71\n",
      "Корреляция между столбцами secondary_cleaner.state.floatbank3_a_air и secondary_cleaner.state.floatbank5_b_air составляет 0.75\n",
      "Корреляция между столбцами secondary_cleaner.state.floatbank3_a_level и secondary_cleaner.state.floatbank3_b_level составляет 0.65\n",
      "Корреляция между столбцами secondary_cleaner.state.floatbank3_a_level и secondary_cleaner.state.floatbank4_a_level составляет 0.72\n",
      "Корреляция между столбцами secondary_cleaner.state.floatbank3_a_level и secondary_cleaner.state.floatbank5_a_level составляет 0.69\n",
      "Корреляция между столбцами secondary_cleaner.state.floatbank3_a_level и secondary_cleaner.state.floatbank5_b_level составляет 0.64\n",
      "Корреляция между столбцами secondary_cleaner.state.floatbank3_b_air и secondary_cleaner.state.floatbank4_b_air составляет 0.62\n",
      "Корреляция между столбцами secondary_cleaner.state.floatbank3_b_air и secondary_cleaner.state.floatbank5_b_air составляет 0.63\n",
      "Корреляция между столбцами secondary_cleaner.state.floatbank4_a_air и secondary_cleaner.state.floatbank4_b_air составляет 0.84\n",
      "Корреляция между столбцами secondary_cleaner.state.floatbank4_a_air и secondary_cleaner.state.floatbank5_a_air составляет 0.77\n",
      "Корреляция между столбцами secondary_cleaner.state.floatbank4_a_air и secondary_cleaner.state.floatbank5_b_air составляет 0.72\n",
      "Корреляция между столбцами secondary_cleaner.state.floatbank4_a_level и secondary_cleaner.state.floatbank4_b_level составляет 0.7\n",
      "Корреляция между столбцами secondary_cleaner.state.floatbank4_a_level и secondary_cleaner.state.floatbank5_a_level составляет 0.79\n",
      "Корреляция между столбцами secondary_cleaner.state.floatbank4_a_level и secondary_cleaner.state.floatbank5_b_level составляет 0.75\n",
      "Корреляция между столбцами secondary_cleaner.state.floatbank4_b_air и secondary_cleaner.state.floatbank5_a_air составляет 0.8\n",
      "Корреляция между столбцами secondary_cleaner.state.floatbank4_b_air и secondary_cleaner.state.floatbank5_b_air составляет 0.88\n",
      "Корреляция между столбцами secondary_cleaner.state.floatbank5_a_air и secondary_cleaner.state.floatbank5_b_air составляет 0.89\n",
      "Корреляция между столбцами secondary_cleaner.state.floatbank5_a_level и secondary_cleaner.state.floatbank5_b_level составляет 0.88\n",
      "Всего высоко коррелирующих столбцов: 75 из 7569 возможных комбинаций\n"
     ]
    }
   ],
   "source": [
    "k = []\n",
    "counter = 0\n",
    "all_corr = 0\n",
    "for i in gold_recovery_train.columns:\n",
    "    k.append(i)\n",
    "    for j in gold_recovery_train.columns:\n",
    "        all_corr+=1\n",
    "        if i != j and i!='date' and j!='date' and j not in k:\n",
    "            if gold_recovery_train[i]. corr(gold_recovery_train[j])>0.6 or gold_recovery_train[i]. corr(gold_recovery_train[j])<-0.6:\n",
    "                print('Корреляция между столбцами', i, 'и', j, 'составляет', round(gold_recovery_train[i]. corr(gold_recovery_train[j]), 2))\n",
    "                counter+=1\n",
    "print('Всего высоко коррелирующих столбцов:', counter, 'из', all_corr, 'возможных комбинаций')\n",
    "            "
   ]
  },
  {
   "cell_type": "markdown",
   "metadata": {},
   "source": [
    "Всего в обучении 53 признака. Между ними 7569 возможных комбинаций корреляции. Из них 10% являются сильно скоррелированными(корреляция выше 0.6 в обе стороны). Так как процесс обогащения основан на физических и химечских законах, то зависимость одних процессов от других будет часто коррелировать. При чем некоторые процессы повторяются при практически одинаковых условиях."
   ]
  },
  {
   "cell_type": "markdown",
   "metadata": {},
   "source": [
    "Добавим в тестовою выборку целевые признаки из датафрейма с полным набором данных."
   ]
  },
  {
   "cell_type": "code",
   "execution_count": 8,
   "metadata": {},
   "outputs": [],
   "source": [
    "gold_recovery_test = pd.merge(gold_recovery_test, gold_recovery_full[['rougher.output.recovery', 'final.output.recovery', 'date']], on=['date'], how='inner')"
   ]
  },
  {
   "cell_type": "markdown",
   "metadata": {},
   "source": [
    "Заполним пропуски в трех датафреймах интерполяцией соседних строк. Т.к. временные промежутки не имеют разрывов, то соседние строки имеют схожие значения, которые плавно меняются со временем."
   ]
  },
  {
   "cell_type": "code",
   "execution_count": 9,
   "metadata": {},
   "outputs": [
    {
     "name": "stdout",
     "output_type": "stream",
     "text": [
      "<class 'pandas.core.frame.DataFrame'>\n",
      "RangeIndex: 14149 entries, 0 to 14148\n",
      "Data columns (total 87 columns):\n",
      " #   Column                                              Non-Null Count  Dtype  \n",
      "---  ------                                              --------------  -----  \n",
      " 0   date                                                14149 non-null  object \n",
      " 1   final.output.concentrate_ag                         14149 non-null  float64\n",
      " 2   final.output.concentrate_pb                         14149 non-null  float64\n",
      " 3   final.output.concentrate_sol                        14149 non-null  float64\n",
      " 4   final.output.concentrate_au                         14149 non-null  float64\n",
      " 5   final.output.recovery                               14149 non-null  float64\n",
      " 6   final.output.tail_ag                                14149 non-null  float64\n",
      " 7   final.output.tail_pb                                14149 non-null  float64\n",
      " 8   final.output.tail_sol                               14149 non-null  float64\n",
      " 9   final.output.tail_au                                14149 non-null  float64\n",
      " 10  primary_cleaner.input.sulfate                       14149 non-null  float64\n",
      " 11  primary_cleaner.input.depressant                    14149 non-null  float64\n",
      " 12  primary_cleaner.input.feed_size                     14149 non-null  float64\n",
      " 13  primary_cleaner.input.xanthate                      14149 non-null  float64\n",
      " 14  primary_cleaner.output.concentrate_ag               14149 non-null  float64\n",
      " 15  primary_cleaner.output.concentrate_pb               14149 non-null  float64\n",
      " 16  primary_cleaner.output.concentrate_sol              14149 non-null  float64\n",
      " 17  primary_cleaner.output.concentrate_au               14149 non-null  float64\n",
      " 18  primary_cleaner.output.tail_ag                      14149 non-null  float64\n",
      " 19  primary_cleaner.output.tail_pb                      14149 non-null  float64\n",
      " 20  primary_cleaner.output.tail_sol                     14149 non-null  float64\n",
      " 21  primary_cleaner.output.tail_au                      14149 non-null  float64\n",
      " 22  primary_cleaner.state.floatbank8_a_air              14149 non-null  float64\n",
      " 23  primary_cleaner.state.floatbank8_a_level            14149 non-null  float64\n",
      " 24  primary_cleaner.state.floatbank8_b_air              14149 non-null  float64\n",
      " 25  primary_cleaner.state.floatbank8_b_level            14149 non-null  float64\n",
      " 26  primary_cleaner.state.floatbank8_c_air              14149 non-null  float64\n",
      " 27  primary_cleaner.state.floatbank8_c_level            14149 non-null  float64\n",
      " 28  primary_cleaner.state.floatbank8_d_air              14149 non-null  float64\n",
      " 29  primary_cleaner.state.floatbank8_d_level            14149 non-null  float64\n",
      " 30  rougher.calculation.sulfate_to_au_concentrate       14149 non-null  float64\n",
      " 31  rougher.calculation.floatbank10_sulfate_to_au_feed  14149 non-null  float64\n",
      " 32  rougher.calculation.floatbank11_sulfate_to_au_feed  14149 non-null  float64\n",
      " 33  rougher.calculation.au_pb_ratio                     14149 non-null  float64\n",
      " 34  rougher.input.feed_ag                               14149 non-null  float64\n",
      " 35  rougher.input.feed_pb                               14149 non-null  float64\n",
      " 36  rougher.input.feed_rate                             14149 non-null  float64\n",
      " 37  rougher.input.feed_size                             14149 non-null  float64\n",
      " 38  rougher.input.feed_sol                              14149 non-null  float64\n",
      " 39  rougher.input.feed_au                               14149 non-null  float64\n",
      " 40  rougher.input.floatbank10_sulfate                   14149 non-null  float64\n",
      " 41  rougher.input.floatbank10_xanthate                  14149 non-null  float64\n",
      " 42  rougher.input.floatbank11_sulfate                   14149 non-null  float64\n",
      " 43  rougher.input.floatbank11_xanthate                  14149 non-null  float64\n",
      " 44  rougher.output.concentrate_ag                       14149 non-null  float64\n",
      " 45  rougher.output.concentrate_pb                       14149 non-null  float64\n",
      " 46  rougher.output.concentrate_sol                      14149 non-null  float64\n",
      " 47  rougher.output.concentrate_au                       14149 non-null  float64\n",
      " 48  rougher.output.recovery                             14149 non-null  float64\n",
      " 49  rougher.output.tail_ag                              14149 non-null  float64\n",
      " 50  rougher.output.tail_pb                              14149 non-null  float64\n",
      " 51  rougher.output.tail_sol                             14149 non-null  float64\n",
      " 52  rougher.output.tail_au                              14149 non-null  float64\n",
      " 53  rougher.state.floatbank10_a_air                     14149 non-null  float64\n",
      " 54  rougher.state.floatbank10_a_level                   14149 non-null  float64\n",
      " 55  rougher.state.floatbank10_b_air                     14149 non-null  float64\n",
      " 56  rougher.state.floatbank10_b_level                   14149 non-null  float64\n",
      " 57  rougher.state.floatbank10_c_air                     14149 non-null  float64\n",
      " 58  rougher.state.floatbank10_c_level                   14149 non-null  float64\n",
      " 59  rougher.state.floatbank10_d_air                     14149 non-null  float64\n",
      " 60  rougher.state.floatbank10_d_level                   14149 non-null  float64\n",
      " 61  rougher.state.floatbank10_e_air                     14149 non-null  float64\n",
      " 62  rougher.state.floatbank10_e_level                   14149 non-null  float64\n",
      " 63  rougher.state.floatbank10_f_air                     14149 non-null  float64\n",
      " 64  rougher.state.floatbank10_f_level                   14149 non-null  float64\n",
      " 65  secondary_cleaner.output.tail_ag                    14149 non-null  float64\n",
      " 66  secondary_cleaner.output.tail_pb                    14149 non-null  float64\n",
      " 67  secondary_cleaner.output.tail_sol                   14149 non-null  float64\n",
      " 68  secondary_cleaner.output.tail_au                    14149 non-null  float64\n",
      " 69  secondary_cleaner.state.floatbank2_a_air            14149 non-null  float64\n",
      " 70  secondary_cleaner.state.floatbank2_a_level          14149 non-null  float64\n",
      " 71  secondary_cleaner.state.floatbank2_b_air            14149 non-null  float64\n",
      " 72  secondary_cleaner.state.floatbank2_b_level          14149 non-null  float64\n",
      " 73  secondary_cleaner.state.floatbank3_a_air            14149 non-null  float64\n",
      " 74  secondary_cleaner.state.floatbank3_a_level          14149 non-null  float64\n",
      " 75  secondary_cleaner.state.floatbank3_b_air            14149 non-null  float64\n",
      " 76  secondary_cleaner.state.floatbank3_b_level          14149 non-null  float64\n",
      " 77  secondary_cleaner.state.floatbank4_a_air            14149 non-null  float64\n",
      " 78  secondary_cleaner.state.floatbank4_a_level          14149 non-null  float64\n",
      " 79  secondary_cleaner.state.floatbank4_b_air            14149 non-null  float64\n",
      " 80  secondary_cleaner.state.floatbank4_b_level          14149 non-null  float64\n",
      " 81  secondary_cleaner.state.floatbank5_a_air            14149 non-null  float64\n",
      " 82  secondary_cleaner.state.floatbank5_a_level          14149 non-null  float64\n",
      " 83  secondary_cleaner.state.floatbank5_b_air            14149 non-null  float64\n",
      " 84  secondary_cleaner.state.floatbank5_b_level          14149 non-null  float64\n",
      " 85  secondary_cleaner.state.floatbank6_a_air            14149 non-null  float64\n",
      " 86  secondary_cleaner.state.floatbank6_a_level          14149 non-null  float64\n",
      "dtypes: float64(86), object(1)\n",
      "memory usage: 9.4+ MB\n",
      "<class 'pandas.core.frame.DataFrame'>\n",
      "Int64Index: 5290 entries, 0 to 5289\n",
      "Data columns (total 55 columns):\n",
      " #   Column                                      Non-Null Count  Dtype  \n",
      "---  ------                                      --------------  -----  \n",
      " 0   date                                        5290 non-null   object \n",
      " 1   primary_cleaner.input.sulfate               5290 non-null   float64\n",
      " 2   primary_cleaner.input.depressant            5290 non-null   float64\n",
      " 3   primary_cleaner.input.feed_size             5290 non-null   float64\n",
      " 4   primary_cleaner.input.xanthate              5290 non-null   float64\n",
      " 5   primary_cleaner.state.floatbank8_a_air      5290 non-null   float64\n",
      " 6   primary_cleaner.state.floatbank8_a_level    5290 non-null   float64\n",
      " 7   primary_cleaner.state.floatbank8_b_air      5290 non-null   float64\n",
      " 8   primary_cleaner.state.floatbank8_b_level    5290 non-null   float64\n",
      " 9   primary_cleaner.state.floatbank8_c_air      5290 non-null   float64\n",
      " 10  primary_cleaner.state.floatbank8_c_level    5290 non-null   float64\n",
      " 11  primary_cleaner.state.floatbank8_d_air      5290 non-null   float64\n",
      " 12  primary_cleaner.state.floatbank8_d_level    5290 non-null   float64\n",
      " 13  rougher.input.feed_ag                       5290 non-null   float64\n",
      " 14  rougher.input.feed_pb                       5290 non-null   float64\n",
      " 15  rougher.input.feed_rate                     5290 non-null   float64\n",
      " 16  rougher.input.feed_size                     5290 non-null   float64\n",
      " 17  rougher.input.feed_sol                      5290 non-null   float64\n",
      " 18  rougher.input.feed_au                       5290 non-null   float64\n",
      " 19  rougher.input.floatbank10_sulfate           5290 non-null   float64\n",
      " 20  rougher.input.floatbank10_xanthate          5290 non-null   float64\n",
      " 21  rougher.input.floatbank11_sulfate           5290 non-null   float64\n",
      " 22  rougher.input.floatbank11_xanthate          5290 non-null   float64\n",
      " 23  rougher.state.floatbank10_a_air             5290 non-null   float64\n",
      " 24  rougher.state.floatbank10_a_level           5290 non-null   float64\n",
      " 25  rougher.state.floatbank10_b_air             5290 non-null   float64\n",
      " 26  rougher.state.floatbank10_b_level           5290 non-null   float64\n",
      " 27  rougher.state.floatbank10_c_air             5290 non-null   float64\n",
      " 28  rougher.state.floatbank10_c_level           5290 non-null   float64\n",
      " 29  rougher.state.floatbank10_d_air             5290 non-null   float64\n",
      " 30  rougher.state.floatbank10_d_level           5290 non-null   float64\n",
      " 31  rougher.state.floatbank10_e_air             5290 non-null   float64\n",
      " 32  rougher.state.floatbank10_e_level           5290 non-null   float64\n",
      " 33  rougher.state.floatbank10_f_air             5290 non-null   float64\n",
      " 34  rougher.state.floatbank10_f_level           5290 non-null   float64\n",
      " 35  secondary_cleaner.state.floatbank2_a_air    5290 non-null   float64\n",
      " 36  secondary_cleaner.state.floatbank2_a_level  5290 non-null   float64\n",
      " 37  secondary_cleaner.state.floatbank2_b_air    5290 non-null   float64\n",
      " 38  secondary_cleaner.state.floatbank2_b_level  5290 non-null   float64\n",
      " 39  secondary_cleaner.state.floatbank3_a_air    5290 non-null   float64\n",
      " 40  secondary_cleaner.state.floatbank3_a_level  5290 non-null   float64\n",
      " 41  secondary_cleaner.state.floatbank3_b_air    5290 non-null   float64\n",
      " 42  secondary_cleaner.state.floatbank3_b_level  5290 non-null   float64\n",
      " 43  secondary_cleaner.state.floatbank4_a_air    5290 non-null   float64\n",
      " 44  secondary_cleaner.state.floatbank4_a_level  5290 non-null   float64\n",
      " 45  secondary_cleaner.state.floatbank4_b_air    5290 non-null   float64\n",
      " 46  secondary_cleaner.state.floatbank4_b_level  5290 non-null   float64\n",
      " 47  secondary_cleaner.state.floatbank5_a_air    5290 non-null   float64\n",
      " 48  secondary_cleaner.state.floatbank5_a_level  5290 non-null   float64\n",
      " 49  secondary_cleaner.state.floatbank5_b_air    5290 non-null   float64\n",
      " 50  secondary_cleaner.state.floatbank5_b_level  5290 non-null   float64\n",
      " 51  secondary_cleaner.state.floatbank6_a_air    5290 non-null   float64\n",
      " 52  secondary_cleaner.state.floatbank6_a_level  5290 non-null   float64\n",
      " 53  rougher.output.recovery                     5290 non-null   float64\n",
      " 54  final.output.recovery                       5290 non-null   float64\n",
      "dtypes: float64(54), object(1)\n",
      "memory usage: 2.3+ MB\n",
      "<class 'pandas.core.frame.DataFrame'>\n",
      "RangeIndex: 19439 entries, 0 to 19438\n",
      "Data columns (total 87 columns):\n",
      " #   Column                                              Non-Null Count  Dtype  \n",
      "---  ------                                              --------------  -----  \n",
      " 0   date                                                19439 non-null  object \n",
      " 1   final.output.concentrate_ag                         19439 non-null  float64\n",
      " 2   final.output.concentrate_pb                         19439 non-null  float64\n",
      " 3   final.output.concentrate_sol                        19439 non-null  float64\n",
      " 4   final.output.concentrate_au                         19439 non-null  float64\n",
      " 5   final.output.recovery                               19439 non-null  float64\n",
      " 6   final.output.tail_ag                                19439 non-null  float64\n",
      " 7   final.output.tail_pb                                19439 non-null  float64\n",
      " 8   final.output.tail_sol                               19439 non-null  float64\n",
      " 9   final.output.tail_au                                19439 non-null  float64\n",
      " 10  primary_cleaner.input.sulfate                       19439 non-null  float64\n",
      " 11  primary_cleaner.input.depressant                    19439 non-null  float64\n",
      " 12  primary_cleaner.input.feed_size                     19439 non-null  float64\n",
      " 13  primary_cleaner.input.xanthate                      19439 non-null  float64\n",
      " 14  primary_cleaner.output.concentrate_ag               19439 non-null  float64\n",
      " 15  primary_cleaner.output.concentrate_pb               19439 non-null  float64\n",
      " 16  primary_cleaner.output.concentrate_sol              19439 non-null  float64\n",
      " 17  primary_cleaner.output.concentrate_au               19439 non-null  float64\n",
      " 18  primary_cleaner.output.tail_ag                      19439 non-null  float64\n",
      " 19  primary_cleaner.output.tail_pb                      19439 non-null  float64\n",
      " 20  primary_cleaner.output.tail_sol                     19439 non-null  float64\n",
      " 21  primary_cleaner.output.tail_au                      19439 non-null  float64\n",
      " 22  primary_cleaner.state.floatbank8_a_air              19439 non-null  float64\n",
      " 23  primary_cleaner.state.floatbank8_a_level            19439 non-null  float64\n",
      " 24  primary_cleaner.state.floatbank8_b_air              19439 non-null  float64\n",
      " 25  primary_cleaner.state.floatbank8_b_level            19439 non-null  float64\n",
      " 26  primary_cleaner.state.floatbank8_c_air              19439 non-null  float64\n",
      " 27  primary_cleaner.state.floatbank8_c_level            19439 non-null  float64\n",
      " 28  primary_cleaner.state.floatbank8_d_air              19439 non-null  float64\n",
      " 29  primary_cleaner.state.floatbank8_d_level            19439 non-null  float64\n",
      " 30  rougher.calculation.sulfate_to_au_concentrate       19439 non-null  float64\n",
      " 31  rougher.calculation.floatbank10_sulfate_to_au_feed  19439 non-null  float64\n",
      " 32  rougher.calculation.floatbank11_sulfate_to_au_feed  19439 non-null  float64\n",
      " 33  rougher.calculation.au_pb_ratio                     19439 non-null  float64\n",
      " 34  rougher.input.feed_ag                               19439 non-null  float64\n",
      " 35  rougher.input.feed_pb                               19439 non-null  float64\n",
      " 36  rougher.input.feed_rate                             19439 non-null  float64\n",
      " 37  rougher.input.feed_size                             19439 non-null  float64\n",
      " 38  rougher.input.feed_sol                              19439 non-null  float64\n",
      " 39  rougher.input.feed_au                               19439 non-null  float64\n",
      " 40  rougher.input.floatbank10_sulfate                   19439 non-null  float64\n",
      " 41  rougher.input.floatbank10_xanthate                  19439 non-null  float64\n",
      " 42  rougher.input.floatbank11_sulfate                   19439 non-null  float64\n",
      " 43  rougher.input.floatbank11_xanthate                  19439 non-null  float64\n",
      " 44  rougher.output.concentrate_ag                       19439 non-null  float64\n",
      " 45  rougher.output.concentrate_pb                       19439 non-null  float64\n",
      " 46  rougher.output.concentrate_sol                      19439 non-null  float64\n",
      " 47  rougher.output.concentrate_au                       19439 non-null  float64\n",
      " 48  rougher.output.recovery                             19439 non-null  float64\n",
      " 49  rougher.output.tail_ag                              19439 non-null  float64\n",
      " 50  rougher.output.tail_pb                              19439 non-null  float64\n",
      " 51  rougher.output.tail_sol                             19439 non-null  float64\n",
      " 52  rougher.output.tail_au                              19439 non-null  float64\n",
      " 53  rougher.state.floatbank10_a_air                     19439 non-null  float64\n",
      " 54  rougher.state.floatbank10_a_level                   19439 non-null  float64\n",
      " 55  rougher.state.floatbank10_b_air                     19439 non-null  float64\n",
      " 56  rougher.state.floatbank10_b_level                   19439 non-null  float64\n",
      " 57  rougher.state.floatbank10_c_air                     19439 non-null  float64\n",
      " 58  rougher.state.floatbank10_c_level                   19439 non-null  float64\n",
      " 59  rougher.state.floatbank10_d_air                     19439 non-null  float64\n",
      " 60  rougher.state.floatbank10_d_level                   19439 non-null  float64\n",
      " 61  rougher.state.floatbank10_e_air                     19439 non-null  float64\n",
      " 62  rougher.state.floatbank10_e_level                   19439 non-null  float64\n",
      " 63  rougher.state.floatbank10_f_air                     19439 non-null  float64\n",
      " 64  rougher.state.floatbank10_f_level                   19439 non-null  float64\n",
      " 65  secondary_cleaner.output.tail_ag                    19439 non-null  float64\n",
      " 66  secondary_cleaner.output.tail_pb                    19439 non-null  float64\n",
      " 67  secondary_cleaner.output.tail_sol                   19439 non-null  float64\n",
      " 68  secondary_cleaner.output.tail_au                    19439 non-null  float64\n",
      " 69  secondary_cleaner.state.floatbank2_a_air            19439 non-null  float64\n",
      " 70  secondary_cleaner.state.floatbank2_a_level          19439 non-null  float64\n",
      " 71  secondary_cleaner.state.floatbank2_b_air            19439 non-null  float64\n",
      " 72  secondary_cleaner.state.floatbank2_b_level          19439 non-null  float64\n",
      " 73  secondary_cleaner.state.floatbank3_a_air            19439 non-null  float64\n",
      " 74  secondary_cleaner.state.floatbank3_a_level          19439 non-null  float64\n",
      " 75  secondary_cleaner.state.floatbank3_b_air            19439 non-null  float64\n",
      " 76  secondary_cleaner.state.floatbank3_b_level          19439 non-null  float64\n",
      " 77  secondary_cleaner.state.floatbank4_a_air            19439 non-null  float64\n",
      " 78  secondary_cleaner.state.floatbank4_a_level          19439 non-null  float64\n",
      " 79  secondary_cleaner.state.floatbank4_b_air            19439 non-null  float64\n",
      " 80  secondary_cleaner.state.floatbank4_b_level          19439 non-null  float64\n",
      " 81  secondary_cleaner.state.floatbank5_a_air            19439 non-null  float64\n",
      " 82  secondary_cleaner.state.floatbank5_a_level          19439 non-null  float64\n",
      " 83  secondary_cleaner.state.floatbank5_b_air            19439 non-null  float64\n",
      " 84  secondary_cleaner.state.floatbank5_b_level          19439 non-null  float64\n",
      " 85  secondary_cleaner.state.floatbank6_a_air            19439 non-null  float64\n",
      " 86  secondary_cleaner.state.floatbank6_a_level          19439 non-null  float64\n",
      "dtypes: float64(86), object(1)\n",
      "memory usage: 12.9+ MB\n"
     ]
    }
   ],
   "source": [
    "gold_recovery_train = gold_recovery_train.interpolate(method='linear', limit_direction='forward', axis=0)\n",
    "gold_recovery_test = gold_recovery_test.interpolate(method='linear', limit_direction='forward', axis=0)\n",
    "gold_recovery_full = gold_recovery_full.interpolate(method='linear', limit_direction='forward', axis=0)\n",
    "gold_recovery_train.info()\n",
    "gold_recovery_test.info()\n",
    "gold_recovery_full.info()"
   ]
  },
  {
   "cell_type": "markdown",
   "metadata": {},
   "source": [
    "Выведем строки со столбцами с концентрацией металлов на различных стадиях процессоа, где присутствуют нулевые значения в столбце rougher.output.concentrate_au."
   ]
  },
  {
   "cell_type": "code",
   "execution_count": 10,
   "metadata": {},
   "outputs": [
    {
     "data": {
      "text/html": [
       "<div>\n",
       "<style scoped>\n",
       "    .dataframe tbody tr th:only-of-type {\n",
       "        vertical-align: middle;\n",
       "    }\n",
       "\n",
       "    .dataframe tbody tr th {\n",
       "        vertical-align: top;\n",
       "    }\n",
       "\n",
       "    .dataframe thead th {\n",
       "        text-align: right;\n",
       "    }\n",
       "</style>\n",
       "<table border=\"1\" class=\"dataframe\">\n",
       "  <thead>\n",
       "    <tr style=\"text-align: right;\">\n",
       "      <th></th>\n",
       "      <th>final.output.concentrate_ag</th>\n",
       "      <th>final.output.concentrate_pb</th>\n",
       "      <th>final.output.concentrate_sol</th>\n",
       "      <th>final.output.concentrate_au</th>\n",
       "      <th>rougher.output.concentrate_au</th>\n",
       "      <th>primary_cleaner.output.concentrate_au</th>\n",
       "      <th>rougher.output.concentrate_ag</th>\n",
       "      <th>primary_cleaner.output.concentrate_ag</th>\n",
       "      <th>rougher.output.concentrate_pb</th>\n",
       "      <th>primary_cleaner.output.concentrate_pb</th>\n",
       "      <th>rougher.output.concentrate_sol</th>\n",
       "      <th>primary_cleaner.output.concentrate_sol</th>\n",
       "      <th>rougher.input.feed_ag</th>\n",
       "      <th>rougher.input.feed_pb</th>\n",
       "      <th>rougher.input.feed_sol</th>\n",
       "      <th>rougher.input.feed_au</th>\n",
       "    </tr>\n",
       "  </thead>\n",
       "  <tbody>\n",
       "    <tr>\n",
       "      <th>45</th>\n",
       "      <td>4.566664</td>\n",
       "      <td>10.406178</td>\n",
       "      <td>4.588698</td>\n",
       "      <td>46.614456</td>\n",
       "      <td>0.0</td>\n",
       "      <td>37.633572</td>\n",
       "      <td>0.0</td>\n",
       "      <td>8.513177</td>\n",
       "      <td>0.0</td>\n",
       "      <td>9.724797</td>\n",
       "      <td>0.0</td>\n",
       "      <td>19.120964</td>\n",
       "      <td>7.521974</td>\n",
       "      <td>2.811569</td>\n",
       "      <td>41.154430</td>\n",
       "      <td>7.114065</td>\n",
       "    </tr>\n",
       "    <tr>\n",
       "      <th>46</th>\n",
       "      <td>4.577832</td>\n",
       "      <td>10.691605</td>\n",
       "      <td>5.274175</td>\n",
       "      <td>46.250638</td>\n",
       "      <td>0.0</td>\n",
       "      <td>37.718947</td>\n",
       "      <td>0.0</td>\n",
       "      <td>8.466262</td>\n",
       "      <td>0.0</td>\n",
       "      <td>9.780929</td>\n",
       "      <td>0.0</td>\n",
       "      <td>19.220963</td>\n",
       "      <td>7.313187</td>\n",
       "      <td>2.973841</td>\n",
       "      <td>41.983063</td>\n",
       "      <td>7.651522</td>\n",
       "    </tr>\n",
       "    <tr>\n",
       "      <th>47</th>\n",
       "      <td>4.591462</td>\n",
       "      <td>10.628846</td>\n",
       "      <td>5.688961</td>\n",
       "      <td>46.663335</td>\n",
       "      <td>0.0</td>\n",
       "      <td>38.624404</td>\n",
       "      <td>0.0</td>\n",
       "      <td>8.092185</td>\n",
       "      <td>0.0</td>\n",
       "      <td>9.719728</td>\n",
       "      <td>0.0</td>\n",
       "      <td>19.077471</td>\n",
       "      <td>7.934791</td>\n",
       "      <td>1.763437</td>\n",
       "      <td>26.899893</td>\n",
       "      <td>5.587750</td>\n",
       "    </tr>\n",
       "    <tr>\n",
       "      <th>48</th>\n",
       "      <td>5.296830</td>\n",
       "      <td>10.597469</td>\n",
       "      <td>5.125220</td>\n",
       "      <td>44.015642</td>\n",
       "      <td>0.0</td>\n",
       "      <td>40.086360</td>\n",
       "      <td>0.0</td>\n",
       "      <td>7.680496</td>\n",
       "      <td>0.0</td>\n",
       "      <td>9.038210</td>\n",
       "      <td>0.0</td>\n",
       "      <td>18.686350</td>\n",
       "      <td>7.756881</td>\n",
       "      <td>1.025762</td>\n",
       "      <td>11.816724</td>\n",
       "      <td>4.752992</td>\n",
       "    </tr>\n",
       "    <tr>\n",
       "      <th>49</th>\n",
       "      <td>8.162896</td>\n",
       "      <td>8.877528</td>\n",
       "      <td>4.561479</td>\n",
       "      <td>40.715973</td>\n",
       "      <td>0.0</td>\n",
       "      <td>33.895014</td>\n",
       "      <td>0.0</td>\n",
       "      <td>10.545583</td>\n",
       "      <td>0.0</td>\n",
       "      <td>8.209346</td>\n",
       "      <td>0.0</td>\n",
       "      <td>19.187922</td>\n",
       "      <td>5.393466</td>\n",
       "      <td>1.824835</td>\n",
       "      <td>28.380274</td>\n",
       "      <td>5.122801</td>\n",
       "    </tr>\n",
       "    <tr>\n",
       "      <th>50</th>\n",
       "      <td>5.759800</td>\n",
       "      <td>9.537415</td>\n",
       "      <td>3.997737</td>\n",
       "      <td>45.267942</td>\n",
       "      <td>0.0</td>\n",
       "      <td>34.822988</td>\n",
       "      <td>0.0</td>\n",
       "      <td>9.877097</td>\n",
       "      <td>0.0</td>\n",
       "      <td>8.932357</td>\n",
       "      <td>0.0</td>\n",
       "      <td>19.111308</td>\n",
       "      <td>7.835670</td>\n",
       "      <td>2.770323</td>\n",
       "      <td>38.010139</td>\n",
       "      <td>7.039270</td>\n",
       "    </tr>\n",
       "    <tr>\n",
       "      <th>51</th>\n",
       "      <td>5.807253</td>\n",
       "      <td>10.439505</td>\n",
       "      <td>6.512951</td>\n",
       "      <td>43.237493</td>\n",
       "      <td>0.0</td>\n",
       "      <td>32.413685</td>\n",
       "      <td>0.0</td>\n",
       "      <td>10.806964</td>\n",
       "      <td>0.0</td>\n",
       "      <td>9.382084</td>\n",
       "      <td>0.0</td>\n",
       "      <td>19.502217</td>\n",
       "      <td>8.027547</td>\n",
       "      <td>3.073579</td>\n",
       "      <td>39.417952</td>\n",
       "      <td>7.321526</td>\n",
       "    </tr>\n",
       "    <tr>\n",
       "      <th>759</th>\n",
       "      <td>8.478624</td>\n",
       "      <td>11.303437</td>\n",
       "      <td>10.547473</td>\n",
       "      <td>35.776254</td>\n",
       "      <td>0.0</td>\n",
       "      <td>28.536677</td>\n",
       "      <td>0.0</td>\n",
       "      <td>11.679647</td>\n",
       "      <td>0.0</td>\n",
       "      <td>7.378152</td>\n",
       "      <td>0.0</td>\n",
       "      <td>13.421111</td>\n",
       "      <td>13.850236</td>\n",
       "      <td>5.503190</td>\n",
       "      <td>34.949583</td>\n",
       "      <td>11.433690</td>\n",
       "    </tr>\n",
       "    <tr>\n",
       "      <th>1243</th>\n",
       "      <td>0.371783</td>\n",
       "      <td>0.629302</td>\n",
       "      <td>0.253231</td>\n",
       "      <td>3.505267</td>\n",
       "      <td>0.0</td>\n",
       "      <td>0.988034</td>\n",
       "      <td>0.0</td>\n",
       "      <td>0.228718</td>\n",
       "      <td>0.0</td>\n",
       "      <td>0.148024</td>\n",
       "      <td>0.0</td>\n",
       "      <td>0.287696</td>\n",
       "      <td>1.106758</td>\n",
       "      <td>0.358522</td>\n",
       "      <td>5.622568</td>\n",
       "      <td>1.131434</td>\n",
       "    </tr>\n",
       "    <tr>\n",
       "      <th>1682</th>\n",
       "      <td>0.000000</td>\n",
       "      <td>0.000000</td>\n",
       "      <td>0.000000</td>\n",
       "      <td>0.000000</td>\n",
       "      <td>0.0</td>\n",
       "      <td>0.000000</td>\n",
       "      <td>0.0</td>\n",
       "      <td>0.000000</td>\n",
       "      <td>0.0</td>\n",
       "      <td>0.000000</td>\n",
       "      <td>0.0</td>\n",
       "      <td>0.000000</td>\n",
       "      <td>7.160939</td>\n",
       "      <td>2.104467</td>\n",
       "      <td>29.199659</td>\n",
       "      <td>6.417814</td>\n",
       "    </tr>\n",
       "    <tr>\n",
       "      <th>1696</th>\n",
       "      <td>6.215511</td>\n",
       "      <td>12.427287</td>\n",
       "      <td>8.687518</td>\n",
       "      <td>40.865416</td>\n",
       "      <td>0.0</td>\n",
       "      <td>32.999291</td>\n",
       "      <td>0.0</td>\n",
       "      <td>9.731846</td>\n",
       "      <td>0.0</td>\n",
       "      <td>9.680931</td>\n",
       "      <td>0.0</td>\n",
       "      <td>15.828623</td>\n",
       "      <td>7.378200</td>\n",
       "      <td>2.446182</td>\n",
       "      <td>38.898543</td>\n",
       "      <td>6.983517</td>\n",
       "    </tr>\n",
       "    <tr>\n",
       "      <th>1697</th>\n",
       "      <td>5.720409</td>\n",
       "      <td>11.832302</td>\n",
       "      <td>9.125304</td>\n",
       "      <td>42.451135</td>\n",
       "      <td>0.0</td>\n",
       "      <td>34.819387</td>\n",
       "      <td>0.0</td>\n",
       "      <td>9.164873</td>\n",
       "      <td>0.0</td>\n",
       "      <td>9.472407</td>\n",
       "      <td>0.0</td>\n",
       "      <td>15.818172</td>\n",
       "      <td>7.364615</td>\n",
       "      <td>2.428010</td>\n",
       "      <td>38.155323</td>\n",
       "      <td>7.071694</td>\n",
       "    </tr>\n",
       "    <tr>\n",
       "      <th>1698</th>\n",
       "      <td>5.328976</td>\n",
       "      <td>11.304516</td>\n",
       "      <td>9.013888</td>\n",
       "      <td>43.384395</td>\n",
       "      <td>0.0</td>\n",
       "      <td>34.261161</td>\n",
       "      <td>0.0</td>\n",
       "      <td>9.741023</td>\n",
       "      <td>0.0</td>\n",
       "      <td>8.736491</td>\n",
       "      <td>0.0</td>\n",
       "      <td>16.307849</td>\n",
       "      <td>7.182292</td>\n",
       "      <td>2.338249</td>\n",
       "      <td>34.435944</td>\n",
       "      <td>7.078153</td>\n",
       "    </tr>\n",
       "    <tr>\n",
       "      <th>1966</th>\n",
       "      <td>8.323495</td>\n",
       "      <td>10.596419</td>\n",
       "      <td>12.165541</td>\n",
       "      <td>39.519911</td>\n",
       "      <td>0.0</td>\n",
       "      <td>28.995863</td>\n",
       "      <td>0.0</td>\n",
       "      <td>11.845445</td>\n",
       "      <td>0.0</td>\n",
       "      <td>7.613624</td>\n",
       "      <td>0.0</td>\n",
       "      <td>15.107255</td>\n",
       "      <td>12.726497</td>\n",
       "      <td>5.682963</td>\n",
       "      <td>37.010502</td>\n",
       "      <td>11.905783</td>\n",
       "    </tr>\n",
       "    <tr>\n",
       "      <th>2082</th>\n",
       "      <td>7.350942</td>\n",
       "      <td>10.820709</td>\n",
       "      <td>10.179091</td>\n",
       "      <td>41.010316</td>\n",
       "      <td>0.0</td>\n",
       "      <td>33.747262</td>\n",
       "      <td>0.0</td>\n",
       "      <td>9.066094</td>\n",
       "      <td>0.0</td>\n",
       "      <td>4.454766</td>\n",
       "      <td>0.0</td>\n",
       "      <td>6.671767</td>\n",
       "      <td>8.112196</td>\n",
       "      <td>2.993271</td>\n",
       "      <td>36.968992</td>\n",
       "      <td>8.260234</td>\n",
       "    </tr>\n",
       "    <tr>\n",
       "      <th>2083</th>\n",
       "      <td>7.159796</td>\n",
       "      <td>10.518202</td>\n",
       "      <td>9.984535</td>\n",
       "      <td>41.645657</td>\n",
       "      <td>0.0</td>\n",
       "      <td>34.610574</td>\n",
       "      <td>0.0</td>\n",
       "      <td>8.801085</td>\n",
       "      <td>0.0</td>\n",
       "      <td>4.235306</td>\n",
       "      <td>0.0</td>\n",
       "      <td>6.458197</td>\n",
       "      <td>8.110719</td>\n",
       "      <td>2.988675</td>\n",
       "      <td>38.862396</td>\n",
       "      <td>8.181648</td>\n",
       "    </tr>\n",
       "    <tr>\n",
       "      <th>2084</th>\n",
       "      <td>6.416469</td>\n",
       "      <td>10.191683</td>\n",
       "      <td>10.022413</td>\n",
       "      <td>43.541506</td>\n",
       "      <td>0.0</td>\n",
       "      <td>34.963710</td>\n",
       "      <td>0.0</td>\n",
       "      <td>8.605525</td>\n",
       "      <td>0.0</td>\n",
       "      <td>4.418591</td>\n",
       "      <td>0.0</td>\n",
       "      <td>6.482613</td>\n",
       "      <td>7.351904</td>\n",
       "      <td>3.264161</td>\n",
       "      <td>38.744957</td>\n",
       "      <td>7.716467</td>\n",
       "    </tr>\n",
       "    <tr>\n",
       "      <th>2085</th>\n",
       "      <td>6.075132</td>\n",
       "      <td>10.814028</td>\n",
       "      <td>9.734065</td>\n",
       "      <td>43.247850</td>\n",
       "      <td>0.0</td>\n",
       "      <td>33.319168</td>\n",
       "      <td>0.0</td>\n",
       "      <td>8.991265</td>\n",
       "      <td>0.0</td>\n",
       "      <td>4.755782</td>\n",
       "      <td>0.0</td>\n",
       "      <td>5.963834</td>\n",
       "      <td>7.244964</td>\n",
       "      <td>3.131292</td>\n",
       "      <td>38.758593</td>\n",
       "      <td>7.309077</td>\n",
       "    </tr>\n",
       "    <tr>\n",
       "      <th>2829</th>\n",
       "      <td>4.437167</td>\n",
       "      <td>10.843064</td>\n",
       "      <td>7.057669</td>\n",
       "      <td>43.627662</td>\n",
       "      <td>0.0</td>\n",
       "      <td>35.472596</td>\n",
       "      <td>0.0</td>\n",
       "      <td>6.667712</td>\n",
       "      <td>0.0</td>\n",
       "      <td>5.645769</td>\n",
       "      <td>0.0</td>\n",
       "      <td>4.105980</td>\n",
       "      <td>6.831726</td>\n",
       "      <td>3.768418</td>\n",
       "      <td>30.127215</td>\n",
       "      <td>7.488183</td>\n",
       "    </tr>\n",
       "    <tr>\n",
       "      <th>4001</th>\n",
       "      <td>4.045359</td>\n",
       "      <td>11.983903</td>\n",
       "      <td>8.299567</td>\n",
       "      <td>43.538543</td>\n",
       "      <td>0.0</td>\n",
       "      <td>36.228948</td>\n",
       "      <td>0.0</td>\n",
       "      <td>6.515172</td>\n",
       "      <td>0.0</td>\n",
       "      <td>12.941196</td>\n",
       "      <td>0.0</td>\n",
       "      <td>8.914622</td>\n",
       "      <td>6.913088</td>\n",
       "      <td>4.041752</td>\n",
       "      <td>36.444367</td>\n",
       "      <td>7.915999</td>\n",
       "    </tr>\n",
       "  </tbody>\n",
       "</table>\n",
       "</div>"
      ],
      "text/plain": [
       "      final.output.concentrate_ag  final.output.concentrate_pb  \\\n",
       "45                       4.566664                    10.406178   \n",
       "46                       4.577832                    10.691605   \n",
       "47                       4.591462                    10.628846   \n",
       "48                       5.296830                    10.597469   \n",
       "49                       8.162896                     8.877528   \n",
       "50                       5.759800                     9.537415   \n",
       "51                       5.807253                    10.439505   \n",
       "759                      8.478624                    11.303437   \n",
       "1243                     0.371783                     0.629302   \n",
       "1682                     0.000000                     0.000000   \n",
       "1696                     6.215511                    12.427287   \n",
       "1697                     5.720409                    11.832302   \n",
       "1698                     5.328976                    11.304516   \n",
       "1966                     8.323495                    10.596419   \n",
       "2082                     7.350942                    10.820709   \n",
       "2083                     7.159796                    10.518202   \n",
       "2084                     6.416469                    10.191683   \n",
       "2085                     6.075132                    10.814028   \n",
       "2829                     4.437167                    10.843064   \n",
       "4001                     4.045359                    11.983903   \n",
       "\n",
       "      final.output.concentrate_sol  final.output.concentrate_au  \\\n",
       "45                        4.588698                    46.614456   \n",
       "46                        5.274175                    46.250638   \n",
       "47                        5.688961                    46.663335   \n",
       "48                        5.125220                    44.015642   \n",
       "49                        4.561479                    40.715973   \n",
       "50                        3.997737                    45.267942   \n",
       "51                        6.512951                    43.237493   \n",
       "759                      10.547473                    35.776254   \n",
       "1243                      0.253231                     3.505267   \n",
       "1682                      0.000000                     0.000000   \n",
       "1696                      8.687518                    40.865416   \n",
       "1697                      9.125304                    42.451135   \n",
       "1698                      9.013888                    43.384395   \n",
       "1966                     12.165541                    39.519911   \n",
       "2082                     10.179091                    41.010316   \n",
       "2083                      9.984535                    41.645657   \n",
       "2084                     10.022413                    43.541506   \n",
       "2085                      9.734065                    43.247850   \n",
       "2829                      7.057669                    43.627662   \n",
       "4001                      8.299567                    43.538543   \n",
       "\n",
       "      rougher.output.concentrate_au  primary_cleaner.output.concentrate_au  \\\n",
       "45                              0.0                              37.633572   \n",
       "46                              0.0                              37.718947   \n",
       "47                              0.0                              38.624404   \n",
       "48                              0.0                              40.086360   \n",
       "49                              0.0                              33.895014   \n",
       "50                              0.0                              34.822988   \n",
       "51                              0.0                              32.413685   \n",
       "759                             0.0                              28.536677   \n",
       "1243                            0.0                               0.988034   \n",
       "1682                            0.0                               0.000000   \n",
       "1696                            0.0                              32.999291   \n",
       "1697                            0.0                              34.819387   \n",
       "1698                            0.0                              34.261161   \n",
       "1966                            0.0                              28.995863   \n",
       "2082                            0.0                              33.747262   \n",
       "2083                            0.0                              34.610574   \n",
       "2084                            0.0                              34.963710   \n",
       "2085                            0.0                              33.319168   \n",
       "2829                            0.0                              35.472596   \n",
       "4001                            0.0                              36.228948   \n",
       "\n",
       "      rougher.output.concentrate_ag  primary_cleaner.output.concentrate_ag  \\\n",
       "45                              0.0                               8.513177   \n",
       "46                              0.0                               8.466262   \n",
       "47                              0.0                               8.092185   \n",
       "48                              0.0                               7.680496   \n",
       "49                              0.0                              10.545583   \n",
       "50                              0.0                               9.877097   \n",
       "51                              0.0                              10.806964   \n",
       "759                             0.0                              11.679647   \n",
       "1243                            0.0                               0.228718   \n",
       "1682                            0.0                               0.000000   \n",
       "1696                            0.0                               9.731846   \n",
       "1697                            0.0                               9.164873   \n",
       "1698                            0.0                               9.741023   \n",
       "1966                            0.0                              11.845445   \n",
       "2082                            0.0                               9.066094   \n",
       "2083                            0.0                               8.801085   \n",
       "2084                            0.0                               8.605525   \n",
       "2085                            0.0                               8.991265   \n",
       "2829                            0.0                               6.667712   \n",
       "4001                            0.0                               6.515172   \n",
       "\n",
       "      rougher.output.concentrate_pb  primary_cleaner.output.concentrate_pb  \\\n",
       "45                              0.0                               9.724797   \n",
       "46                              0.0                               9.780929   \n",
       "47                              0.0                               9.719728   \n",
       "48                              0.0                               9.038210   \n",
       "49                              0.0                               8.209346   \n",
       "50                              0.0                               8.932357   \n",
       "51                              0.0                               9.382084   \n",
       "759                             0.0                               7.378152   \n",
       "1243                            0.0                               0.148024   \n",
       "1682                            0.0                               0.000000   \n",
       "1696                            0.0                               9.680931   \n",
       "1697                            0.0                               9.472407   \n",
       "1698                            0.0                               8.736491   \n",
       "1966                            0.0                               7.613624   \n",
       "2082                            0.0                               4.454766   \n",
       "2083                            0.0                               4.235306   \n",
       "2084                            0.0                               4.418591   \n",
       "2085                            0.0                               4.755782   \n",
       "2829                            0.0                               5.645769   \n",
       "4001                            0.0                              12.941196   \n",
       "\n",
       "      rougher.output.concentrate_sol  primary_cleaner.output.concentrate_sol  \\\n",
       "45                               0.0                               19.120964   \n",
       "46                               0.0                               19.220963   \n",
       "47                               0.0                               19.077471   \n",
       "48                               0.0                               18.686350   \n",
       "49                               0.0                               19.187922   \n",
       "50                               0.0                               19.111308   \n",
       "51                               0.0                               19.502217   \n",
       "759                              0.0                               13.421111   \n",
       "1243                             0.0                                0.287696   \n",
       "1682                             0.0                                0.000000   \n",
       "1696                             0.0                               15.828623   \n",
       "1697                             0.0                               15.818172   \n",
       "1698                             0.0                               16.307849   \n",
       "1966                             0.0                               15.107255   \n",
       "2082                             0.0                                6.671767   \n",
       "2083                             0.0                                6.458197   \n",
       "2084                             0.0                                6.482613   \n",
       "2085                             0.0                                5.963834   \n",
       "2829                             0.0                                4.105980   \n",
       "4001                             0.0                                8.914622   \n",
       "\n",
       "      rougher.input.feed_ag  rougher.input.feed_pb  rougher.input.feed_sol  \\\n",
       "45                 7.521974               2.811569               41.154430   \n",
       "46                 7.313187               2.973841               41.983063   \n",
       "47                 7.934791               1.763437               26.899893   \n",
       "48                 7.756881               1.025762               11.816724   \n",
       "49                 5.393466               1.824835               28.380274   \n",
       "50                 7.835670               2.770323               38.010139   \n",
       "51                 8.027547               3.073579               39.417952   \n",
       "759               13.850236               5.503190               34.949583   \n",
       "1243               1.106758               0.358522                5.622568   \n",
       "1682               7.160939               2.104467               29.199659   \n",
       "1696               7.378200               2.446182               38.898543   \n",
       "1697               7.364615               2.428010               38.155323   \n",
       "1698               7.182292               2.338249               34.435944   \n",
       "1966              12.726497               5.682963               37.010502   \n",
       "2082               8.112196               2.993271               36.968992   \n",
       "2083               8.110719               2.988675               38.862396   \n",
       "2084               7.351904               3.264161               38.744957   \n",
       "2085               7.244964               3.131292               38.758593   \n",
       "2829               6.831726               3.768418               30.127215   \n",
       "4001               6.913088               4.041752               36.444367   \n",
       "\n",
       "      rougher.input.feed_au  \n",
       "45                 7.114065  \n",
       "46                 7.651522  \n",
       "47                 5.587750  \n",
       "48                 4.752992  \n",
       "49                 5.122801  \n",
       "50                 7.039270  \n",
       "51                 7.321526  \n",
       "759               11.433690  \n",
       "1243               1.131434  \n",
       "1682               6.417814  \n",
       "1696               6.983517  \n",
       "1697               7.071694  \n",
       "1698               7.078153  \n",
       "1966              11.905783  \n",
       "2082               8.260234  \n",
       "2083               8.181648  \n",
       "2084               7.716467  \n",
       "2085               7.309077  \n",
       "2829               7.488183  \n",
       "4001               7.915999  "
      ]
     },
     "execution_count": 10,
     "metadata": {},
     "output_type": "execute_result"
    }
   ],
   "source": [
    "columns = ['final.output.concentrate_ag', 'final.output.concentrate_pb', 'final.output.concentrate_sol', \n",
    "           'final.output.concentrate_au',  'rougher.output.concentrate_au', 'primary_cleaner.output.concentrate_au', \n",
    "          'rougher.output.concentrate_ag', 'primary_cleaner.output.concentrate_ag', 'rougher.output.concentrate_pb', \n",
    "           'primary_cleaner.output.concentrate_pb', 'rougher.output.concentrate_sol', 'primary_cleaner.output.concentrate_sol',\n",
    "          'rougher.input.feed_ag', 'rougher.input.feed_pb', 'rougher.input.feed_sol', 'rougher.input.feed_au']\n",
    "gold_recovery_train[columns][gold_recovery_train['rougher.output.concentrate_au'] == 0].head(20)\n",
    "\n"
   ]
  },
  {
   "cell_type": "markdown",
   "metadata": {},
   "source": [
    "Видно что в столбцах с исходным сырьем и с финальной концентрацией металлов есть значения, значит процесс был запущен, соостветственно нулевые значения в этих столбцах можно считать за пропуски, которые так же можно обработать интерполяцией\n",
    "\n",
    "Выведем соседние строки рядом с 1682 строкой, что бы убедится что процесс так же был запущен и сопоставим значения в других столбцах, что бы убедиться что процесс не был в стадии затухания или приостановки."
   ]
  },
  {
   "cell_type": "code",
   "execution_count": 11,
   "metadata": {},
   "outputs": [
    {
     "data": {
      "text/html": [
       "<div>\n",
       "<style scoped>\n",
       "    .dataframe tbody tr th:only-of-type {\n",
       "        vertical-align: middle;\n",
       "    }\n",
       "\n",
       "    .dataframe tbody tr th {\n",
       "        vertical-align: top;\n",
       "    }\n",
       "\n",
       "    .dataframe thead th {\n",
       "        text-align: right;\n",
       "    }\n",
       "</style>\n",
       "<table border=\"1\" class=\"dataframe\">\n",
       "  <thead>\n",
       "    <tr style=\"text-align: right;\">\n",
       "      <th></th>\n",
       "      <th>final.output.concentrate_ag</th>\n",
       "      <th>final.output.concentrate_pb</th>\n",
       "      <th>final.output.concentrate_sol</th>\n",
       "      <th>final.output.concentrate_au</th>\n",
       "      <th>rougher.output.concentrate_au</th>\n",
       "      <th>primary_cleaner.output.concentrate_au</th>\n",
       "      <th>rougher.output.concentrate_ag</th>\n",
       "      <th>primary_cleaner.output.concentrate_ag</th>\n",
       "      <th>rougher.output.concentrate_pb</th>\n",
       "      <th>primary_cleaner.output.concentrate_pb</th>\n",
       "      <th>rougher.output.concentrate_sol</th>\n",
       "      <th>primary_cleaner.output.concentrate_sol</th>\n",
       "      <th>rougher.input.feed_ag</th>\n",
       "      <th>rougher.input.feed_pb</th>\n",
       "      <th>rougher.input.feed_sol</th>\n",
       "      <th>rougher.input.feed_au</th>\n",
       "    </tr>\n",
       "  </thead>\n",
       "  <tbody>\n",
       "    <tr>\n",
       "      <th>1680</th>\n",
       "      <td>5.291713</td>\n",
       "      <td>10.966731</td>\n",
       "      <td>13.148383</td>\n",
       "      <td>45.560024</td>\n",
       "      <td>17.410421</td>\n",
       "      <td>34.411022</td>\n",
       "      <td>9.180794</td>\n",
       "      <td>9.258549</td>\n",
       "      <td>7.052217</td>\n",
       "      <td>6.687466</td>\n",
       "      <td>17.835808</td>\n",
       "      <td>11.692839</td>\n",
       "      <td>6.682905</td>\n",
       "      <td>2.437545</td>\n",
       "      <td>38.343194</td>\n",
       "      <td>5.967790</td>\n",
       "    </tr>\n",
       "    <tr>\n",
       "      <th>1681</th>\n",
       "      <td>5.247637</td>\n",
       "      <td>11.131428</td>\n",
       "      <td>12.853930</td>\n",
       "      <td>45.442128</td>\n",
       "      <td>16.888280</td>\n",
       "      <td>34.878728</td>\n",
       "      <td>9.546585</td>\n",
       "      <td>8.860774</td>\n",
       "      <td>7.362225</td>\n",
       "      <td>6.467582</td>\n",
       "      <td>16.233369</td>\n",
       "      <td>10.744707</td>\n",
       "      <td>6.946585</td>\n",
       "      <td>2.851524</td>\n",
       "      <td>30.078021</td>\n",
       "      <td>6.621864</td>\n",
       "    </tr>\n",
       "    <tr>\n",
       "      <th>1682</th>\n",
       "      <td>0.000000</td>\n",
       "      <td>0.000000</td>\n",
       "      <td>0.000000</td>\n",
       "      <td>0.000000</td>\n",
       "      <td>0.000000</td>\n",
       "      <td>0.000000</td>\n",
       "      <td>0.000000</td>\n",
       "      <td>0.000000</td>\n",
       "      <td>0.000000</td>\n",
       "      <td>0.000000</td>\n",
       "      <td>0.000000</td>\n",
       "      <td>0.000000</td>\n",
       "      <td>7.160939</td>\n",
       "      <td>2.104467</td>\n",
       "      <td>29.199659</td>\n",
       "      <td>6.417814</td>\n",
       "    </tr>\n",
       "    <tr>\n",
       "      <th>1683</th>\n",
       "      <td>5.109722</td>\n",
       "      <td>7.369031</td>\n",
       "      <td>6.006650</td>\n",
       "      <td>29.724697</td>\n",
       "      <td>12.910712</td>\n",
       "      <td>32.606499</td>\n",
       "      <td>6.630376</td>\n",
       "      <td>10.113362</td>\n",
       "      <td>8.747216</td>\n",
       "      <td>8.567497</td>\n",
       "      <td>13.246651</td>\n",
       "      <td>14.777761</td>\n",
       "      <td>6.876947</td>\n",
       "      <td>2.384036</td>\n",
       "      <td>39.005189</td>\n",
       "      <td>6.991469</td>\n",
       "    </tr>\n",
       "    <tr>\n",
       "      <th>1684</th>\n",
       "      <td>6.536117</td>\n",
       "      <td>11.447707</td>\n",
       "      <td>7.741295</td>\n",
       "      <td>40.377404</td>\n",
       "      <td>19.357826</td>\n",
       "      <td>31.796121</td>\n",
       "      <td>10.778101</td>\n",
       "      <td>10.416798</td>\n",
       "      <td>8.342112</td>\n",
       "      <td>8.813086</td>\n",
       "      <td>26.493303</td>\n",
       "      <td>15.161960</td>\n",
       "      <td>6.920639</td>\n",
       "      <td>2.420686</td>\n",
       "      <td>38.870724</td>\n",
       "      <td>7.097641</td>\n",
       "    </tr>\n",
       "    <tr>\n",
       "      <th>1685</th>\n",
       "      <td>6.852435</td>\n",
       "      <td>11.719619</td>\n",
       "      <td>8.262397</td>\n",
       "      <td>39.824391</td>\n",
       "      <td>18.002760</td>\n",
       "      <td>29.970849</td>\n",
       "      <td>11.599697</td>\n",
       "      <td>11.382353</td>\n",
       "      <td>9.171948</td>\n",
       "      <td>8.875539</td>\n",
       "      <td>25.674841</td>\n",
       "      <td>16.313738</td>\n",
       "      <td>7.083900</td>\n",
       "      <td>2.629444</td>\n",
       "      <td>39.464840</td>\n",
       "      <td>7.325226</td>\n",
       "    </tr>\n",
       "  </tbody>\n",
       "</table>\n",
       "</div>"
      ],
      "text/plain": [
       "      final.output.concentrate_ag  final.output.concentrate_pb  \\\n",
       "1680                     5.291713                    10.966731   \n",
       "1681                     5.247637                    11.131428   \n",
       "1682                     0.000000                     0.000000   \n",
       "1683                     5.109722                     7.369031   \n",
       "1684                     6.536117                    11.447707   \n",
       "1685                     6.852435                    11.719619   \n",
       "\n",
       "      final.output.concentrate_sol  final.output.concentrate_au  \\\n",
       "1680                     13.148383                    45.560024   \n",
       "1681                     12.853930                    45.442128   \n",
       "1682                      0.000000                     0.000000   \n",
       "1683                      6.006650                    29.724697   \n",
       "1684                      7.741295                    40.377404   \n",
       "1685                      8.262397                    39.824391   \n",
       "\n",
       "      rougher.output.concentrate_au  primary_cleaner.output.concentrate_au  \\\n",
       "1680                      17.410421                              34.411022   \n",
       "1681                      16.888280                              34.878728   \n",
       "1682                       0.000000                               0.000000   \n",
       "1683                      12.910712                              32.606499   \n",
       "1684                      19.357826                              31.796121   \n",
       "1685                      18.002760                              29.970849   \n",
       "\n",
       "      rougher.output.concentrate_ag  primary_cleaner.output.concentrate_ag  \\\n",
       "1680                       9.180794                               9.258549   \n",
       "1681                       9.546585                               8.860774   \n",
       "1682                       0.000000                               0.000000   \n",
       "1683                       6.630376                              10.113362   \n",
       "1684                      10.778101                              10.416798   \n",
       "1685                      11.599697                              11.382353   \n",
       "\n",
       "      rougher.output.concentrate_pb  primary_cleaner.output.concentrate_pb  \\\n",
       "1680                       7.052217                               6.687466   \n",
       "1681                       7.362225                               6.467582   \n",
       "1682                       0.000000                               0.000000   \n",
       "1683                       8.747216                               8.567497   \n",
       "1684                       8.342112                               8.813086   \n",
       "1685                       9.171948                               8.875539   \n",
       "\n",
       "      rougher.output.concentrate_sol  primary_cleaner.output.concentrate_sol  \\\n",
       "1680                       17.835808                               11.692839   \n",
       "1681                       16.233369                               10.744707   \n",
       "1682                        0.000000                                0.000000   \n",
       "1683                       13.246651                               14.777761   \n",
       "1684                       26.493303                               15.161960   \n",
       "1685                       25.674841                               16.313738   \n",
       "\n",
       "      rougher.input.feed_ag  rougher.input.feed_pb  rougher.input.feed_sol  \\\n",
       "1680               6.682905               2.437545               38.343194   \n",
       "1681               6.946585               2.851524               30.078021   \n",
       "1682               7.160939               2.104467               29.199659   \n",
       "1683               6.876947               2.384036               39.005189   \n",
       "1684               6.920639               2.420686               38.870724   \n",
       "1685               7.083900               2.629444               39.464840   \n",
       "\n",
       "      rougher.input.feed_au  \n",
       "1680               5.967790  \n",
       "1681               6.621864  \n",
       "1682               6.417814  \n",
       "1683               6.991469  \n",
       "1684               7.097641  \n",
       "1685               7.325226  "
      ]
     },
     "execution_count": 11,
     "metadata": {},
     "output_type": "execute_result"
    }
   ],
   "source": [
    "gold_recovery_train.loc[1680:1685, columns]"
   ]
  },
  {
   "cell_type": "markdown",
   "metadata": {},
   "source": [
    "Значения так же не сильно отличаются, так что и эти значения можно заполнить интерполяцией"
   ]
  },
  {
   "cell_type": "code",
   "execution_count": 12,
   "metadata": {},
   "outputs": [],
   "source": [
    "for column in columns:\n",
    "    gold_recovery_train[column] = gold_recovery_train[column].replace(0, np.nan)\n",
    "    gold_recovery_full[column] = gold_recovery_full[column].replace(0, np.nan)\n",
    "    \n",
    "gold_recovery_train = gold_recovery_train.interpolate(method='linear', limit_direction='forward', axis=0)\n",
    "gold_recovery_full = gold_recovery_full.interpolate(method='linear', limit_direction='forward', axis=0)"
   ]
  },
  {
   "cell_type": "code",
   "execution_count": 13,
   "metadata": {},
   "outputs": [],
   "source": [
    "for column in ['primary_cleaner.output.concentrate_au', 'primary_cleaner.output.concentrate_ag', \n",
    "               'primary_cleaner.output.concentrate_pb', 'primary_cleaner.output.concentrate_sol']:\n",
    "    gold_recovery_train.loc[gold_recovery_train[column] < 0.011, column] = 0\n",
    "    gold_recovery_full.loc[gold_recovery_full[column] < 0.011, column] = 0\n",
    "    gold_recovery_train[column] = gold_recovery_train[column].replace(0, np.nan)\n",
    "    gold_recovery_full[column] = gold_recovery_full[column].replace(0, np.nan)\n",
    "\n",
    "gold_recovery_train = gold_recovery_train.interpolate(method='linear', limit_direction='forward', axis=0)\n",
    "gold_recovery_full = gold_recovery_full.interpolate(method='linear', limit_direction='forward', axis=0)    "
   ]
  },
  {
   "cell_type": "markdown",
   "metadata": {},
   "source": [
    "## Анализ данных"
   ]
  },
  {
   "cell_type": "markdown",
   "metadata": {},
   "source": [
    "### Проверим, как меняется концентрация металлов (Au, Ag, Pb) на различных сталиях цикла"
   ]
  },
  {
   "cell_type": "markdown",
   "metadata": {},
   "source": [
    "Нарисуем гистограмму для концентрации золота на различных этапах цикла"
   ]
  },
  {
   "cell_type": "code",
   "execution_count": 14,
   "metadata": {},
   "outputs": [
    {
     "data": {
      "image/png": "[encoded data removed]",
      "text/plain": [
       "<Figure size 864x576 with 1 Axes>"
      ]
     },
     "metadata": {
      "needs_background": "light"
     },
     "output_type": "display_data"
    }
   ],
   "source": [
    "gold_recovery_train.plot(\n",
    "    y=['rougher.input.feed_au', 'rougher.output.concentrate_au', 'primary_cleaner.output.concentrate_au', 'final.output.concentrate_au'],\n",
    "    figsize=(12,8), alpha=0.5, kind='hist', bins=100, grid=True\n",
    ");"
   ]
  },
  {
   "cell_type": "markdown",
   "metadata": {},
   "source": [
    "Видно, что концентрация золота на каждой стадии обогащения растет на каждом цикле. Сырье имеет концентрацию золота для большенства значений в диапазоне 5-12% и уже на стадии флотации гистограмма с узким дисапазоном большинства значений от 15 до 25%. На стадии первичной очистки график с широким диапазоном от 25% до 43%. И на финальной стадии так же узкий диапазон от 36% до 50%"
   ]
  },
  {
   "cell_type": "markdown",
   "metadata": {},
   "source": [
    "Нарисуем гистограмму для концентрации серебра на различных этапах цикла"
   ]
  },
  {
   "cell_type": "code",
   "execution_count": 15,
   "metadata": {},
   "outputs": [
    {
     "data": {
      "image/png": "[encoded data removed]",
      "text/plain": [
       "<Figure size 864x576 with 1 Axes>"
      ]
     },
     "metadata": {
      "needs_background": "light"
     },
     "output_type": "display_data"
    }
   ],
   "source": [
    "gold_recovery_train.plot(\n",
    "    y=['rougher.input.feed_ag', 'rougher.output.concentrate_ag', 'primary_cleaner.output.concentrate_ag', 'final.output.concentrate_ag'],\n",
    "    figsize=(12,8), alpha=0.5, kind='hist', bins=100, grid=True\n",
    ");"
   ]
  },
  {
   "cell_type": "markdown",
   "metadata": {},
   "source": [
    "Видно что концентрация серебра с кажой стадией очистки уменьгается, а графики сужаются. При чем в сырье концентрация серебра чуть выше чем на финальной стадии, но меньше чем на первом этапе - флотации."
   ]
  },
  {
   "cell_type": "markdown",
   "metadata": {},
   "source": [
    "Нарисуем гистограмму для концентрации свинца на различных этапах цикла"
   ]
  },
  {
   "cell_type": "code",
   "execution_count": 16,
   "metadata": {},
   "outputs": [
    {
     "data": {
      "image/png": "[encoded data removed]",
      "text/plain": [
       "<Figure size 864x576 with 1 Axes>"
      ]
     },
     "metadata": {
      "needs_background": "light"
     },
     "output_type": "display_data"
    }
   ],
   "source": [
    "gold_recovery_train.plot(\n",
    "    y=['rougher.input.feed_pb', 'rougher.output.concentrate_pb', 'primary_cleaner.output.concentrate_pb', 'final.output.concentrate_pb'],\n",
    "    figsize=(12,8), alpha=0.5, kind='hist', bins=100, grid=True\n",
    ");"
   ]
  },
  {
   "cell_type": "markdown",
   "metadata": {},
   "source": [
    "Концентрация свинца в сырье изначально колеблется от 1.5% до 5.5% для большинства значений, и после начала цикла обогащения концентрация свинца почти не изменяется во время очистки, причем к финальной стадии концентрация увеличивается в среднем с 7.5% до 11% и сами графики значений сужаются, что видно на графиках первичной очистки и финальной стадии."
   ]
  },
  {
   "cell_type": "markdown",
   "metadata": {},
   "source": [
    "### Сравним распределения размеров гранул сырья на обучающей и тестовой выборках."
   ]
  },
  {
   "cell_type": "markdown",
   "metadata": {},
   "source": [
    "Если распределения гранул сырья на обучающей и тестовой выборках будут сильно отличаются друг от друга, оценка модели будет неправильной\n",
    "\n",
    "Нарисуем соответствующие графики"
   ]
  },
  {
   "cell_type": "code",
   "execution_count": 17,
   "metadata": {},
   "outputs": [
    {
     "data": {
      "image/png": "[encoded data removed]",
      "text/plain": [
       "<Figure size 1008x432 with 1 Axes>"
      ]
     },
     "metadata": {
      "needs_background": "light"
     },
     "output_type": "display_data"
    }
   ],
   "source": [
    "gold_recovery_train['rougher.input.feed_size'].plot.hist(bins=100, grid=True, density=True, figsize=(14,6), alpha=0.5, range=(0,200));\n",
    "gold_recovery_test['rougher.input.feed_size'].plot.hist(bins=100, grid=True, density=True, figsize=(14,6), alpha=0.5, range=(0,200));"
   ]
  },
  {
   "cell_type": "code",
   "execution_count": 18,
   "metadata": {},
   "outputs": [
    {
     "data": {
      "image/png": "[encoded data removed]",
      "text/plain": [
       "<Figure size 1008x432 with 1 Axes>"
      ]
     },
     "metadata": {
      "needs_background": "light"
     },
     "output_type": "display_data"
    }
   ],
   "source": [
    "gold_recovery_train['primary_cleaner.input.feed_size'].plot.hist(bins=100, grid=True, density=True, figsize=(14,6), alpha=0.5);\n",
    "gold_recovery_test['primary_cleaner.input.feed_size'].plot.hist(bins=100, grid=True, density=True, figsize=(14,6), alpha=0.5);"
   ]
  },
  {
   "cell_type": "markdown",
   "metadata": {},
   "source": [
    "Обучающая и тестовая выборки сопоставимы по своим значениям, с небольшими отличиями в размере сырья. На стадии первичной очистки размер уже идеентичен."
   ]
  },
  {
   "cell_type": "markdown",
   "metadata": {},
   "source": [
    "### Исследуем суммарную концентрацию всех веществ на разных стадиях"
   ]
  },
  {
   "cell_type": "markdown",
   "metadata": {},
   "source": [
    "Нарисуем гистограмму суммарной концентрации веществ в сырье"
   ]
  },
  {
   "cell_type": "code",
   "execution_count": 19,
   "metadata": {},
   "outputs": [
    {
     "data": {
      "image/png": "[encoded data removed]",
      "text/plain": [
       "<Figure size 864x432 with 1 Axes>"
      ]
     },
     "metadata": {
      "needs_background": "light"
     },
     "output_type": "display_data"
    }
   ],
   "source": [
    "(\n",
    "    gold_recovery_train['rougher.input.feed_au']+gold_recovery_train['rougher.input.feed_ag']+\n",
    "    gold_recovery_train['rougher.input.feed_pb']+gold_recovery_train['rougher.input.feed_sol']\n",
    ").hist(bins=100, figsize=(12,6));"
   ]
  },
  {
   "cell_type": "markdown",
   "metadata": {},
   "source": [
    "Видим нормально ераспределение смещенное вправо, с пиком в 56%\n",
    "\n",
    "Нарисуем гистограмму суммарной концентрации после флотации"
   ]
  },
  {
   "cell_type": "code",
   "execution_count": 20,
   "metadata": {},
   "outputs": [
    {
     "data": {
      "image/png": "[encoded data removed]",
      "text/plain": [
       "<Figure size 864x432 with 1 Axes>"
      ]
     },
     "metadata": {
      "needs_background": "light"
     },
     "output_type": "display_data"
    }
   ],
   "source": [
    "(\n",
    "    gold_recovery_train['rougher.output.concentrate_au']+gold_recovery_train['rougher.output.concentrate_ag']+\n",
    "    gold_recovery_train['rougher.output.concentrate_pb']+gold_recovery_train['rougher.output.concentrate_sol']\n",
    ").hist(bins=100, figsize=(12,6));"
   ]
  },
  {
   "cell_type": "markdown",
   "metadata": {},
   "source": [
    "Наблюдаем так же нормальное распределение смещенное вправо с пиком в 75%\n",
    "\n",
    "Нарисуем гистограмму суммарной концентрации веществ после первичной очистки"
   ]
  },
  {
   "cell_type": "code",
   "execution_count": 21,
   "metadata": {},
   "outputs": [
    {
     "data": {
      "image/png": "[encoded data removed]",
      "text/plain": [
       "<Figure size 864x432 with 1 Axes>"
      ]
     },
     "metadata": {
      "needs_background": "light"
     },
     "output_type": "display_data"
    }
   ],
   "source": [
    "(\n",
    "    gold_recovery_train['primary_cleaner.output.concentrate_au']+gold_recovery_train['primary_cleaner.output.concentrate_ag']+\n",
    "    gold_recovery_train['primary_cleaner.output.concentrate_pb']+gold_recovery_train['primary_cleaner.output.concentrate_sol']\n",
    ").hist(bins=100, figsize=(12,6));"
   ]
  },
  {
   "cell_type": "markdown",
   "metadata": {},
   "source": [
    "Наблюдаем сужение гистограммы и смещение пика к 61%\n",
    "\n",
    "Нарисуем гистограмму суммарной концентрации веществ на финальной стадии"
   ]
  },
  {
   "cell_type": "code",
   "execution_count": 22,
   "metadata": {},
   "outputs": [
    {
     "data": {
      "image/png": "[encoded data removed]",
      "text/plain": [
       "<Figure size 864x432 with 1 Axes>"
      ]
     },
     "metadata": {
      "needs_background": "light"
     },
     "output_type": "display_data"
    }
   ],
   "source": [
    "(\n",
    "    gold_recovery_train['final.output.concentrate_au']+gold_recovery_train['final.output.concentrate_ag']+\n",
    "    gold_recovery_train['final.output.concentrate_pb']+gold_recovery_train['final.output.concentrate_sol']\n",
    ").hist(bins=100, figsize=(12,6));"
   ]
  },
  {
   "cell_type": "markdown",
   "metadata": {},
   "source": [
    "Гистограмма распределений сузилась до диапазона 60-75%, с пиком в 69%"
   ]
  },
  {
   "cell_type": "markdown",
   "metadata": {},
   "source": [
    "## Модель"
   ]
  },
  {
   "cell_type": "markdown",
   "metadata": {},
   "source": [
    "### Напишем функцию для подсчета sMAPE"
   ]
  },
  {
   "cell_type": "code",
   "execution_count": 23,
   "metadata": {},
   "outputs": [],
   "source": [
    "def sMAPE(target, predicted):\n",
    "    return (((abs(target - predicted)/((abs(target) + abs(predicted))/2)).sum())/len(target))*100\n"
   ]
  },
  {
   "cell_type": "code",
   "execution_count": 24,
   "metadata": {
    "scrolled": false
   },
   "outputs": [
    {
     "name": "stdout",
     "output_type": "stream",
     "text": [
      "Cимметричное среднее абсолютное процентное отклонение для одинаковых target и predicted = 0.0\n"
     ]
    }
   ],
   "source": [
    "print('Cимметричное среднее абсолютное процентное отклонение для одинаковых target и predicted =', sMAPE(gold_recovery_train['rougher.output.recovery'], gold_recovery_train['rougher.output.recovery']))"
   ]
  },
  {
   "cell_type": "markdown",
   "metadata": {},
   "source": [
    "### Обучение модели"
   ]
  },
  {
   "cell_type": "markdown",
   "metadata": {},
   "source": [
    "Подкотовим выборки с признаками и целевым столбцом для обучающей и тестовой выборок."
   ]
  },
  {
   "cell_type": "code",
   "execution_count": 25,
   "metadata": {},
   "outputs": [],
   "source": [
    "columns = gold_recovery_test.columns\n",
    "columns = columns.drop(labels=['date', 'rougher.output.recovery', 'final.output.recovery'])\n",
    "\n",
    "features_train = gold_recovery_train[columns]\n",
    "target_train_rougher = gold_recovery_train['rougher.output.recovery']\n",
    "target_train_final = gold_recovery_train['final.output.recovery']\n",
    "\n",
    "features_test = gold_recovery_test[columns]\n",
    "target_test_rougher = gold_recovery_test['rougher.output.recovery']\n",
    "target_test_final = gold_recovery_test['final.output.recovery']"
   ]
  },
  {
   "cell_type": "markdown",
   "metadata": {},
   "source": [
    "Проведем маштабирование численных значений для обучающих и тестовых признаков отдельно"
   ]
  },
  {
   "cell_type": "code",
   "execution_count": 26,
   "metadata": {},
   "outputs": [],
   "source": [
    "scaler = StandardScaler()\n",
    "scaler.fit(features_train)\n",
    "features_train = pd.DataFrame(scaler.transform(features_train), columns=columns)\n",
    "\n",
    "scaler = StandardScaler()\n",
    "scaler.fit(features_test)\n",
    "features_test = pd.DataFrame(scaler.transform(features_test), columns=columns)"
   ]
  },
  {
   "cell_type": "code",
   "execution_count": 27,
   "metadata": {
    "scrolled": true
   },
   "outputs": [
    {
     "data": {
      "text/html": [
       "<div>\n",
       "<style scoped>\n",
       "    .dataframe tbody tr th:only-of-type {\n",
       "        vertical-align: middle;\n",
       "    }\n",
       "\n",
       "    .dataframe tbody tr th {\n",
       "        vertical-align: top;\n",
       "    }\n",
       "\n",
       "    .dataframe thead th {\n",
       "        text-align: right;\n",
       "    }\n",
       "</style>\n",
       "<table border=\"1\" class=\"dataframe\">\n",
       "  <thead>\n",
       "    <tr style=\"text-align: right;\">\n",
       "      <th></th>\n",
       "      <th>primary_cleaner.input.sulfate</th>\n",
       "      <th>primary_cleaner.input.depressant</th>\n",
       "      <th>primary_cleaner.input.feed_size</th>\n",
       "      <th>primary_cleaner.input.xanthate</th>\n",
       "      <th>primary_cleaner.state.floatbank8_a_air</th>\n",
       "      <th>primary_cleaner.state.floatbank8_a_level</th>\n",
       "      <th>primary_cleaner.state.floatbank8_b_air</th>\n",
       "      <th>primary_cleaner.state.floatbank8_b_level</th>\n",
       "      <th>primary_cleaner.state.floatbank8_c_air</th>\n",
       "      <th>primary_cleaner.state.floatbank8_c_level</th>\n",
       "      <th>...</th>\n",
       "      <th>secondary_cleaner.state.floatbank4_a_air</th>\n",
       "      <th>secondary_cleaner.state.floatbank4_a_level</th>\n",
       "      <th>secondary_cleaner.state.floatbank4_b_air</th>\n",
       "      <th>secondary_cleaner.state.floatbank4_b_level</th>\n",
       "      <th>secondary_cleaner.state.floatbank5_a_air</th>\n",
       "      <th>secondary_cleaner.state.floatbank5_a_level</th>\n",
       "      <th>secondary_cleaner.state.floatbank5_b_air</th>\n",
       "      <th>secondary_cleaner.state.floatbank5_b_level</th>\n",
       "      <th>secondary_cleaner.state.floatbank6_a_air</th>\n",
       "      <th>secondary_cleaner.state.floatbank6_a_level</th>\n",
       "    </tr>\n",
       "  </thead>\n",
       "  <tbody>\n",
       "    <tr>\n",
       "      <th>0</th>\n",
       "      <td>-0.154369</td>\n",
       "      <td>0.377778</td>\n",
       "      <td>-0.117761</td>\n",
       "      <td>0.285916</td>\n",
       "      <td>-0.453652</td>\n",
       "      <td>-0.283903</td>\n",
       "      <td>-0.436292</td>\n",
       "      <td>-0.810390</td>\n",
       "      <td>-0.439520</td>\n",
       "      <td>-0.254348</td>\n",
       "      <td>...</td>\n",
       "      <td>-1.053633</td>\n",
       "      <td>-0.468806</td>\n",
       "      <td>-0.644462</td>\n",
       "      <td>-0.755870</td>\n",
       "      <td>-1.174435</td>\n",
       "      <td>-0.378807</td>\n",
       "      <td>-0.864571</td>\n",
       "      <td>-0.420944</td>\n",
       "      <td>-0.941197</td>\n",
       "      <td>-2.670563</td>\n",
       "    </tr>\n",
       "    <tr>\n",
       "      <th>1</th>\n",
       "      <td>-0.191310</td>\n",
       "      <td>0.427554</td>\n",
       "      <td>-0.117761</td>\n",
       "      <td>0.322910</td>\n",
       "      <td>-0.248083</td>\n",
       "      <td>-0.339721</td>\n",
       "      <td>-0.249293</td>\n",
       "      <td>-0.318233</td>\n",
       "      <td>-0.244964</td>\n",
       "      <td>-0.272553</td>\n",
       "      <td>...</td>\n",
       "      <td>-1.057970</td>\n",
       "      <td>-0.528236</td>\n",
       "      <td>-0.672890</td>\n",
       "      <td>-0.698356</td>\n",
       "      <td>-1.154953</td>\n",
       "      <td>-0.427890</td>\n",
       "      <td>-0.881033</td>\n",
       "      <td>-0.423780</td>\n",
       "      <td>-0.967737</td>\n",
       "      <td>-2.507294</td>\n",
       "    </tr>\n",
       "    <tr>\n",
       "      <th>2</th>\n",
       "      <td>-0.237004</td>\n",
       "      <td>0.729856</td>\n",
       "      <td>-0.117761</td>\n",
       "      <td>0.292585</td>\n",
       "      <td>-0.050315</td>\n",
       "      <td>-0.314312</td>\n",
       "      <td>-0.062906</td>\n",
       "      <td>-0.340311</td>\n",
       "      <td>-0.051235</td>\n",
       "      <td>-0.316205</td>\n",
       "      <td>...</td>\n",
       "      <td>-1.053954</td>\n",
       "      <td>-0.469455</td>\n",
       "      <td>-0.680073</td>\n",
       "      <td>-0.694989</td>\n",
       "      <td>-1.149523</td>\n",
       "      <td>-0.426812</td>\n",
       "      <td>-0.875982</td>\n",
       "      <td>-0.422132</td>\n",
       "      <td>-0.962479</td>\n",
       "      <td>-2.551522</td>\n",
       "    </tr>\n",
       "    <tr>\n",
       "      <th>3</th>\n",
       "      <td>-0.276138</td>\n",
       "      <td>0.731593</td>\n",
       "      <td>-0.117761</td>\n",
       "      <td>0.307147</td>\n",
       "      <td>-0.062680</td>\n",
       "      <td>-0.341033</td>\n",
       "      <td>-0.060827</td>\n",
       "      <td>-0.312615</td>\n",
       "      <td>-0.063893</td>\n",
       "      <td>-0.312217</td>\n",
       "      <td>...</td>\n",
       "      <td>-1.050157</td>\n",
       "      <td>-0.436666</td>\n",
       "      <td>-0.663562</td>\n",
       "      <td>-0.696014</td>\n",
       "      <td>-1.166764</td>\n",
       "      <td>-0.402333</td>\n",
       "      <td>-0.882322</td>\n",
       "      <td>-0.415458</td>\n",
       "      <td>-0.966489</td>\n",
       "      <td>-2.512928</td>\n",
       "    </tr>\n",
       "    <tr>\n",
       "      <th>4</th>\n",
       "      <td>-0.384275</td>\n",
       "      <td>0.906885</td>\n",
       "      <td>-0.117761</td>\n",
       "      <td>0.342082</td>\n",
       "      <td>-0.052001</td>\n",
       "      <td>-0.285676</td>\n",
       "      <td>-0.054888</td>\n",
       "      <td>-0.331844</td>\n",
       "      <td>-0.069272</td>\n",
       "      <td>-0.316713</td>\n",
       "      <td>...</td>\n",
       "      <td>-1.051784</td>\n",
       "      <td>-0.416588</td>\n",
       "      <td>-0.672407</td>\n",
       "      <td>-0.693638</td>\n",
       "      <td>-1.174422</td>\n",
       "      <td>-0.467920</td>\n",
       "      <td>-0.896732</td>\n",
       "      <td>-0.418012</td>\n",
       "      <td>-0.968033</td>\n",
       "      <td>-2.553391</td>\n",
       "    </tr>\n",
       "  </tbody>\n",
       "</table>\n",
       "<p>5 rows × 52 columns</p>\n",
       "</div>"
      ],
      "text/plain": [
       "   primary_cleaner.input.sulfate  primary_cleaner.input.depressant  \\\n",
       "0                      -0.154369                          0.377778   \n",
       "1                      -0.191310                          0.427554   \n",
       "2                      -0.237004                          0.729856   \n",
       "3                      -0.276138                          0.731593   \n",
       "4                      -0.384275                          0.906885   \n",
       "\n",
       "   primary_cleaner.input.feed_size  primary_cleaner.input.xanthate  \\\n",
       "0                        -0.117761                        0.285916   \n",
       "1                        -0.117761                        0.322910   \n",
       "2                        -0.117761                        0.292585   \n",
       "3                        -0.117761                        0.307147   \n",
       "4                        -0.117761                        0.342082   \n",
       "\n",
       "   primary_cleaner.state.floatbank8_a_air  \\\n",
       "0                               -0.453652   \n",
       "1                               -0.248083   \n",
       "2                               -0.050315   \n",
       "3                               -0.062680   \n",
       "4                               -0.052001   \n",
       "\n",
       "   primary_cleaner.state.floatbank8_a_level  \\\n",
       "0                                 -0.283903   \n",
       "1                                 -0.339721   \n",
       "2                                 -0.314312   \n",
       "3                                 -0.341033   \n",
       "4                                 -0.285676   \n",
       "\n",
       "   primary_cleaner.state.floatbank8_b_air  \\\n",
       "0                               -0.436292   \n",
       "1                               -0.249293   \n",
       "2                               -0.062906   \n",
       "3                               -0.060827   \n",
       "4                               -0.054888   \n",
       "\n",
       "   primary_cleaner.state.floatbank8_b_level  \\\n",
       "0                                 -0.810390   \n",
       "1                                 -0.318233   \n",
       "2                                 -0.340311   \n",
       "3                                 -0.312615   \n",
       "4                                 -0.331844   \n",
       "\n",
       "   primary_cleaner.state.floatbank8_c_air  \\\n",
       "0                               -0.439520   \n",
       "1                               -0.244964   \n",
       "2                               -0.051235   \n",
       "3                               -0.063893   \n",
       "4                               -0.069272   \n",
       "\n",
       "   primary_cleaner.state.floatbank8_c_level  ...  \\\n",
       "0                                 -0.254348  ...   \n",
       "1                                 -0.272553  ...   \n",
       "2                                 -0.316205  ...   \n",
       "3                                 -0.312217  ...   \n",
       "4                                 -0.316713  ...   \n",
       "\n",
       "   secondary_cleaner.state.floatbank4_a_air  \\\n",
       "0                                 -1.053633   \n",
       "1                                 -1.057970   \n",
       "2                                 -1.053954   \n",
       "3                                 -1.050157   \n",
       "4                                 -1.051784   \n",
       "\n",
       "   secondary_cleaner.state.floatbank4_a_level  \\\n",
       "0                                   -0.468806   \n",
       "1                                   -0.528236   \n",
       "2                                   -0.469455   \n",
       "3                                   -0.436666   \n",
       "4                                   -0.416588   \n",
       "\n",
       "   secondary_cleaner.state.floatbank4_b_air  \\\n",
       "0                                 -0.644462   \n",
       "1                                 -0.672890   \n",
       "2                                 -0.680073   \n",
       "3                                 -0.663562   \n",
       "4                                 -0.672407   \n",
       "\n",
       "   secondary_cleaner.state.floatbank4_b_level  \\\n",
       "0                                   -0.755870   \n",
       "1                                   -0.698356   \n",
       "2                                   -0.694989   \n",
       "3                                   -0.696014   \n",
       "4                                   -0.693638   \n",
       "\n",
       "   secondary_cleaner.state.floatbank5_a_air  \\\n",
       "0                                 -1.174435   \n",
       "1                                 -1.154953   \n",
       "2                                 -1.149523   \n",
       "3                                 -1.166764   \n",
       "4                                 -1.174422   \n",
       "\n",
       "   secondary_cleaner.state.floatbank5_a_level  \\\n",
       "0                                   -0.378807   \n",
       "1                                   -0.427890   \n",
       "2                                   -0.426812   \n",
       "3                                   -0.402333   \n",
       "4                                   -0.467920   \n",
       "\n",
       "   secondary_cleaner.state.floatbank5_b_air  \\\n",
       "0                                 -0.864571   \n",
       "1                                 -0.881033   \n",
       "2                                 -0.875982   \n",
       "3                                 -0.882322   \n",
       "4                                 -0.896732   \n",
       "\n",
       "   secondary_cleaner.state.floatbank5_b_level  \\\n",
       "0                                   -0.420944   \n",
       "1                                   -0.423780   \n",
       "2                                   -0.422132   \n",
       "3                                   -0.415458   \n",
       "4                                   -0.418012   \n",
       "\n",
       "   secondary_cleaner.state.floatbank6_a_air  \\\n",
       "0                                 -0.941197   \n",
       "1                                 -0.967737   \n",
       "2                                 -0.962479   \n",
       "3                                 -0.966489   \n",
       "4                                 -0.968033   \n",
       "\n",
       "   secondary_cleaner.state.floatbank6_a_level  \n",
       "0                                   -2.670563  \n",
       "1                                   -2.507294  \n",
       "2                                   -2.551522  \n",
       "3                                   -2.512928  \n",
       "4                                   -2.553391  \n",
       "\n",
       "[5 rows x 52 columns]"
      ]
     },
     "execution_count": 27,
     "metadata": {},
     "output_type": "execute_result"
    }
   ],
   "source": [
    "features_train.head()"
   ]
  },
  {
   "cell_type": "markdown",
   "metadata": {},
   "source": [
    "Подготовим собственную метрику sMAPE для подсчета эффективности обучения"
   ]
  },
  {
   "cell_type": "code",
   "execution_count": 28,
   "metadata": {},
   "outputs": [],
   "source": [
    "sMAPE_score = make_scorer(sMAPE, greater_is_better=False)"
   ]
  },
  {
   "cell_type": "markdown",
   "metadata": {},
   "source": [
    "Обучим 4 различные модели, DecisionTreeRegressor, RandomForestRegressor, LinearRegression и CatBoostRegressor\n",
    "\n",
    "Для упращения напишем функцию которая на фход получает модель обучения, признаки и два целевых признака, а на выходе финальное sMAPE и два результата функции cross_validate с рузультатами оценок модели и уже обученными моделями для каждой итерации кроссвалидации."
   ]
  },
  {
   "cell_type": "code",
   "execution_count": 29,
   "metadata": {},
   "outputs": [],
   "source": [
    "def model_sMAPE(model, features_train, target_train_rougher, target_train_final):\n",
    "    model_rougher = model\n",
    "    model_final = model\n",
    "    cv_results_rougher = cross_validate(model_rougher, features_train, target_train_rougher, cv=5, scoring=sMAPE_score, return_estimator=True) \n",
    "    cv_results_final = cross_validate(model_final, features_train, target_train_final, cv=5, scoring=sMAPE_score,  return_estimator=True) \n",
    "    score_rougher = abs(cv_results_rougher['test_score'].mean())\n",
    "    score_final = abs(cv_results_final['test_score'].mean())\n",
    "    return score_rougher*0.25 + score_final*0.75, cv_results_rougher, cv_results_final\n"
   ]
  },
  {
   "cell_type": "markdown",
   "metadata": {},
   "source": [
    "#### DecisionTreeRegressor"
   ]
  },
  {
   "cell_type": "code",
   "execution_count": 30,
   "metadata": {},
   "outputs": [
    {
     "name": "stdout",
     "output_type": "stream",
     "text": [
      "Финальная оценка: 19.812465322378536\n"
     ]
    }
   ],
   "source": [
    "model = DecisionTreeRegressor(random_state=12345)\n",
    "final_sMAPE_tree, cv_results_tree_rougher, cv_results_tree_final = model_sMAPE(model, features_train, target_train_rougher, target_train_final)\n",
    "print('Финальная оценка:', final_sMAPE_tree)"
   ]
  },
  {
   "cell_type": "markdown",
   "metadata": {},
   "source": [
    "#### RandomForestRegressor"
   ]
  },
  {
   "cell_type": "code",
   "execution_count": 31,
   "metadata": {
    "scrolled": true
   },
   "outputs": [
    {
     "name": "stdout",
     "output_type": "stream",
     "text": [
      "Финальная оценка: 12.3118796625113\n"
     ]
    }
   ],
   "source": [
    "model = RandomForestRegressor(random_state=12345)\n",
    "final_sMAPE_forest, cv_results_forest_rougher, cv_results_forest_final = model_sMAPE(model, features_train, target_train_rougher, target_train_final)\n",
    "print('Финальная оценка:', final_sMAPE_forest)"
   ]
  },
  {
   "cell_type": "markdown",
   "metadata": {},
   "source": [
    "#### LinearRegression"
   ]
  },
  {
   "cell_type": "code",
   "execution_count": 32,
   "metadata": {},
   "outputs": [
    {
     "name": "stdout",
     "output_type": "stream",
     "text": [
      "Финальная оценка: 12.39338195476566\n"
     ]
    }
   ],
   "source": [
    "model = LinearRegression()\n",
    "final_sMAPE_linear, cv_results_linear_rougher, cv_results_linear_final = model_sMAPE(model, features_train, target_train_rougher, target_train_final)\n",
    "print('Финальная оценка:', final_sMAPE_linear)"
   ]
  },
  {
   "cell_type": "markdown",
   "metadata": {},
   "source": [
    "#### CatBoostRegressor"
   ]
  },
  {
   "cell_type": "code",
   "execution_count": 32,
   "metadata": {},
   "outputs": [],
   "source": [
    "model = CatBoostRegressor(random_state=12345, verbose=False)\n",
    "final_sMAPE_cat, cv_results_cat_rougher, cv_results_cat_final = model_sMAPE(model, features_train, target_train_rougher, target_train_final)\n",
    "print('Финальная оценка:', final_sMAPE_cat)"
   ]
  },
  {
   "cell_type": "markdown",
   "metadata": {},
   "source": [
    "#### Подбор гиперпараметров для лучшей модели по умолчанию"
   ]
  },
  {
   "cell_type": "code",
   "execution_count": 33,
   "metadata": {},
   "outputs": [],
   "source": [
    "parametrs = { 'iterations': range (10, 100, 20),\n",
    "              'depth': range (1,10, 2),\n",
    "              'grow_policy': ['SymmetricTree', 'Depthwise', 'Lossguide'],\n",
    "              'score_function': ['Cosine', 'L2', 'NewtonL2', 'NewtonCosine'] }"
   ]
  },
  {
   "cell_type": "code",
   "execution_count": null,
   "metadata": {},
   "outputs": [],
   "source": [
    "grid_rougher = GridSearchCV(model, parametrs,  cv=5, scoring=sMAPE_score, n_jobs=-1)\n",
    "grid_rougher.fit(features_train, target_train_rougher)\n",
    "grid_final = GridSearchCV(model, parametrs, cv=5, scoring=sMAPE_score, n_jobs=-1)\n",
    "grid_final.fit(features_train, target_train_final)"
   ]
  },
  {
   "cell_type": "code",
   "execution_count": 52,
   "metadata": {},
   "outputs": [
    {
     "data": {
      "text/plain": [
       "{'depth': 3,\n",
       " 'grow_policy': 'Depthwise',\n",
       " 'iterations': 10,\n",
       " 'score_function': 'L2'}"
      ]
     },
     "metadata": {},
     "output_type": "display_data"
    },
    {
     "data": {
      "text/plain": [
       "{'depth': 5,\n",
       " 'grow_policy': 'SymmetricTree',\n",
       " 'iterations': 10,\n",
       " 'score_function': 'L2'}"
      ]
     },
     "metadata": {},
     "output_type": "display_data"
    }
   ],
   "source": [
    "display(grid_rougher.best_params_)\n",
    "display(grid_final.best_params_)"
   ]
  },
  {
   "cell_type": "code",
   "execution_count": 53,
   "metadata": {},
   "outputs": [
    {
     "name": "stdout",
     "output_type": "stream",
     "text": [
      "Итоговая sMAPE на тестовой выборке: 10.557787351047978\n"
     ]
    }
   ],
   "source": [
    "model_rougher = CatBoostRegressor(random_state=12345, verbose=False, depth=3, grow_policy='Depthwise',\n",
    "                                 iterations=10, score_function='L2')\n",
    "model_rougher.fit(features_train, target_train_rougher)\n",
    "predictions_rougher = model_rougher.predict(features_test)\n",
    "sMAPE_rougher = sMAPE(target_test_rougher, predictions_rougher)\n",
    "\n",
    "model_final = CatBoostRegressor(random_state=12345, verbose=False, depth=5, grow_policy='SymmetricTree',\n",
    "                                 iterations=10, score_function='L2')\n",
    "model_final.fit(features_train, target_train_final)\n",
    "predictions_final = model_final.predict(features_test)\n",
    "sMAPE_final = sMAPE(target_test_final, predictions_final)\n",
    "\n",
    "final_sMAPE = 0.25*sMAPE_rougher + 0.75*sMAPE_final\n",
    "\n",
    "print('Итоговая sMAPE на тестовой выборке:', final_sMAPE)"
   ]
  },
  {
   "cell_type": "code",
   "execution_count": 41,
   "metadata": {},
   "outputs": [
    {
     "name": "stdout",
     "output_type": "stream",
     "text": [
      "Итоговая sMAPE для констанотной модели на тестовой выборке: 10.289630376021035\n"
     ]
    }
   ],
   "source": [
    "dummy_model_rougher = DummyRegressor()\n",
    "dummy_model_rougher.fit(features_train, target_train_rougher)\n",
    "predictions_rougher = dummy_model_rougher.predict(features_test)\n",
    "\n",
    "dummy_model_final = DummyRegressor()\n",
    "dummy_model_final.fit(features_train, target_train_final)\n",
    "predictions_final = dummy_model_final.predict(features_test)\n",
    "\n",
    "dummy_sMAPE = sMAPE(target_test_rougher, predictions_rougher)*0.25 + sMAPE(target_test_final, predictions_final)*0.75\n",
    "\n",
    "print('Итоговая sMAPE для констанотной модели на тестовой выборке:', dummy_sMAPE)"
   ]
  },
  {
   "cell_type": "markdown",
   "metadata": {},
   "source": [
    "### Вывод"
   ]
  },
  {
   "cell_type": "markdown",
   "metadata": {},
   "source": [
    "В текущей работе были исследованны данные о технологическом процессе обогащения золотосодержащей руды. Результатом исследования является модель с наилучшим показателем cимметричного среднего абсолютного процентного отклонения полученную из двух показателей очистки руды(концентрацией золота на этапе флотации и на финальной стадии). \n",
    "\n",
    "Перед обучением проведен анализ изменения концентрации металлов, распределения размеров сырья и суммарная концентрация элеменов в руде на разных этапах. Это позволило проверить предоставленные данные на правдоподобность и соответсвие требованиям к обучению.\n",
    "\n",
    "Были обучены 4 разных модели обучения, предсказывающие коэффициент восстановления золота из золотосодержащей руды: DecisionTreeRegressor, RandomForestRegressor, LinearRegression и CatBoostRegressor. Худшие показатели дала модель DecisionTreeRegressor, остальные 3 дали отклонение около 0.8% относительно друг друга.\n",
    "\n",
    "Лучшей моделью является CatBoostRegressor, симметричное среднее абсолютное процентное отклонение для которого для модели по умолчанию, составляет 11.6%. Подбором гиперпараметров для моделей, метрика была улучшена до 10.55%.\n"
   ]
  }
 ],
 "metadata": {
  "ExecuteTimeLog": [
   {
    "duration": 2468,
    "start_time": "2023-02-08T19:34:51.736Z"
   },
   {
    "duration": 1883,
    "start_time": "2023-02-08T19:34:54.206Z"
   },
   {
    "duration": 112,
    "start_time": "2023-02-08T19:34:56.091Z"
   },
   {
    "duration": 57,
    "start_time": "2023-02-08T19:34:56.205Z"
   },
   {
    "duration": 13,
    "start_time": "2023-02-08T19:34:56.263Z"
   },
   {
    "duration": 5,
    "start_time": "2023-02-08T19:34:56.277Z"
   },
   {
    "duration": 3185,
    "start_time": "2023-02-08T19:34:56.284Z"
   },
   {
    "duration": 14,
    "start_time": "2023-02-08T19:34:59.471Z"
   },
   {
    "duration": 134,
    "start_time": "2023-02-08T19:34:59.486Z"
   },
   {
    "duration": 30,
    "start_time": "2023-02-08T19:34:59.628Z"
   },
   {
    "duration": 25,
    "start_time": "2023-02-08T19:34:59.660Z"
   },
   {
    "duration": 81,
    "start_time": "2023-02-08T19:34:59.687Z"
   },
   {
    "duration": 745,
    "start_time": "2023-02-08T19:34:59.769Z"
   },
   {
    "duration": 701,
    "start_time": "2023-02-08T19:35:00.515Z"
   },
   {
    "duration": 768,
    "start_time": "2023-02-08T19:35:01.218Z"
   },
   {
    "duration": 357,
    "start_time": "2023-02-08T19:35:01.988Z"
   },
   {
    "duration": 368,
    "start_time": "2023-02-08T19:35:02.347Z"
   },
   {
    "duration": 5,
    "start_time": "2023-02-08T19:35:02.716Z"
   },
   {
    "duration": 81,
    "start_time": "2023-02-08T19:35:02.727Z"
   },
   {
    "duration": 97,
    "start_time": "2023-02-08T19:35:02.809Z"
   },
   {
    "duration": 89,
    "start_time": "2023-02-08T19:35:02.908Z"
   },
   {
    "duration": 87,
    "start_time": "2023-02-08T19:35:02.999Z"
   },
   {
    "duration": 3,
    "start_time": "2023-02-08T19:35:03.088Z"
   },
   {
    "duration": 7,
    "start_time": "2023-02-08T19:35:03.092Z"
   },
   {
    "duration": 8,
    "start_time": "2023-02-08T19:35:03.101Z"
   },
   {
    "duration": 23,
    "start_time": "2023-02-08T19:35:03.110Z"
   },
   {
    "duration": 1688,
    "start_time": "2023-02-08T19:55:35.381Z"
   },
   {
    "duration": 153,
    "start_time": "2023-02-08T19:57:21.539Z"
   },
   {
    "duration": 1332,
    "start_time": "2023-02-08T19:57:33.748Z"
   },
   {
    "duration": 3311,
    "start_time": "2023-02-08T19:57:35.082Z"
   },
   {
    "duration": 309,
    "start_time": "2023-02-08T19:57:38.394Z"
   },
   {
    "duration": 107,
    "start_time": "2023-02-08T19:57:38.706Z"
   },
   {
    "duration": 15,
    "start_time": "2023-02-08T19:57:38.817Z"
   },
   {
    "duration": 86,
    "start_time": "2023-02-08T19:57:38.834Z"
   },
   {
    "duration": 3791,
    "start_time": "2023-02-08T19:57:38.921Z"
   },
   {
    "duration": 18,
    "start_time": "2023-02-08T19:57:42.714Z"
   },
   {
    "duration": 188,
    "start_time": "2023-02-08T19:57:42.734Z"
   },
   {
    "duration": 49,
    "start_time": "2023-02-08T19:57:42.924Z"
   },
   {
    "duration": 27,
    "start_time": "2023-02-08T19:57:42.975Z"
   },
   {
    "duration": 88,
    "start_time": "2023-02-08T19:57:43.004Z"
   },
   {
    "duration": 1097,
    "start_time": "2023-02-08T19:57:43.094Z"
   },
   {
    "duration": 929,
    "start_time": "2023-02-08T19:57:44.195Z"
   },
   {
    "duration": 1071,
    "start_time": "2023-02-08T19:57:45.126Z"
   },
   {
    "duration": 568,
    "start_time": "2023-02-08T19:57:46.199Z"
   },
   {
    "duration": 530,
    "start_time": "2023-02-08T19:57:46.770Z"
   },
   {
    "duration": 6,
    "start_time": "2023-02-08T19:57:47.302Z"
   },
   {
    "duration": 125,
    "start_time": "2023-02-08T19:57:47.309Z"
   },
   {
    "duration": 123,
    "start_time": "2023-02-08T19:57:47.436Z"
   },
   {
    "duration": 134,
    "start_time": "2023-02-08T19:57:47.562Z"
   },
   {
    "duration": 131,
    "start_time": "2023-02-08T19:57:47.698Z"
   },
   {
    "duration": 5,
    "start_time": "2023-02-08T19:57:47.831Z"
   },
   {
    "duration": 11,
    "start_time": "2023-02-08T19:57:47.837Z"
   },
   {
    "duration": 34,
    "start_time": "2023-02-08T19:57:47.850Z"
   },
   {
    "duration": 48,
    "start_time": "2023-02-08T19:57:47.886Z"
   },
   {
    "duration": 31,
    "start_time": "2023-02-08T19:57:47.936Z"
   },
   {
    "duration": 15,
    "start_time": "2023-02-08T19:57:47.969Z"
   },
   {
    "duration": 9,
    "start_time": "2023-02-08T19:57:47.986Z"
   },
   {
    "duration": 12747,
    "start_time": "2023-02-08T19:57:47.998Z"
   },
   {
    "duration": 241946,
    "start_time": "2023-02-08T19:58:00.747Z"
   },
   {
    "duration": 0,
    "start_time": "2023-02-08T20:02:02.696Z"
   },
   {
    "duration": 0,
    "start_time": "2023-02-08T20:02:02.697Z"
   },
   {
    "duration": 0,
    "start_time": "2023-02-08T20:02:02.698Z"
   },
   {
    "duration": 1105,
    "start_time": "2023-02-08T20:02:05.555Z"
   },
   {
    "duration": 1283,
    "start_time": "2023-02-08T20:02:21.228Z"
   },
   {
    "duration": 1171,
    "start_time": "2023-02-08T20:02:50.948Z"
   },
   {
    "duration": 555,
    "start_time": "2023-02-08T20:09:49.198Z"
   },
   {
    "duration": 466,
    "start_time": "2023-02-08T20:10:00.591Z"
   },
   {
    "duration": 336,
    "start_time": "2023-02-08T20:10:07.149Z"
   },
   {
    "duration": 408,
    "start_time": "2023-02-08T20:10:34.939Z"
   },
   {
    "duration": 478,
    "start_time": "2023-02-08T20:11:01.439Z"
   },
   {
    "duration": 537,
    "start_time": "2023-02-08T20:12:33.793Z"
   },
   {
    "duration": 471,
    "start_time": "2023-02-08T20:12:44.362Z"
   },
   {
    "duration": 467,
    "start_time": "2023-02-08T20:12:57.735Z"
   },
   {
    "duration": 373,
    "start_time": "2023-02-08T20:14:37.464Z"
   },
   {
    "duration": 567,
    "start_time": "2023-02-08T20:14:53.920Z"
   },
   {
    "duration": 427,
    "start_time": "2023-02-08T20:15:03.393Z"
   },
   {
    "duration": 363,
    "start_time": "2023-02-08T20:16:03.836Z"
   },
   {
    "duration": 79,
    "start_time": "2023-02-08T20:17:01.074Z"
   },
   {
    "duration": 522,
    "start_time": "2023-02-08T20:17:23.134Z"
   },
   {
    "duration": 355,
    "start_time": "2023-02-08T20:17:55.671Z"
   },
   {
    "duration": 359,
    "start_time": "2023-02-08T20:18:09.464Z"
   },
   {
    "duration": 1098,
    "start_time": "2023-02-08T20:26:55.080Z"
   },
   {
    "duration": 176316,
    "start_time": "2023-02-08T20:28:17.926Z"
   },
   {
    "duration": 200,
    "start_time": "2023-02-08T20:31:20.802Z"
   },
   {
    "duration": 46,
    "start_time": "2023-02-09T06:23:52.646Z"
   },
   {
    "duration": 1868,
    "start_time": "2023-02-09T06:24:06.345Z"
   },
   {
    "duration": 2999,
    "start_time": "2023-02-09T06:24:08.215Z"
   },
   {
    "duration": 138,
    "start_time": "2023-02-09T06:24:11.216Z"
   },
   {
    "duration": 64,
    "start_time": "2023-02-09T06:24:11.356Z"
   },
   {
    "duration": 16,
    "start_time": "2023-02-09T06:24:11.422Z"
   },
   {
    "duration": 36,
    "start_time": "2023-02-09T06:24:11.440Z"
   },
   {
    "duration": 3346,
    "start_time": "2023-02-09T06:24:11.478Z"
   },
   {
    "duration": 14,
    "start_time": "2023-02-09T06:24:14.825Z"
   },
   {
    "duration": 146,
    "start_time": "2023-02-09T06:24:14.840Z"
   },
   {
    "duration": 29,
    "start_time": "2023-02-09T06:24:14.992Z"
   },
   {
    "duration": 24,
    "start_time": "2023-02-09T06:24:15.023Z"
   },
   {
    "duration": 74,
    "start_time": "2023-02-09T06:24:15.049Z"
   },
   {
    "duration": 947,
    "start_time": "2023-02-09T06:24:15.125Z"
   },
   {
    "duration": 784,
    "start_time": "2023-02-09T06:24:16.074Z"
   },
   {
    "duration": 1004,
    "start_time": "2023-02-09T06:24:16.859Z"
   },
   {
    "duration": 463,
    "start_time": "2023-02-09T06:24:17.865Z"
   },
   {
    "duration": 420,
    "start_time": "2023-02-09T06:24:18.329Z"
   },
   {
    "duration": 4,
    "start_time": "2023-02-09T06:24:18.751Z"
   },
   {
    "duration": 152,
    "start_time": "2023-02-09T06:24:18.757Z"
   },
   {
    "duration": 398,
    "start_time": "2023-02-09T06:24:44.704Z"
   },
   {
    "duration": 260,
    "start_time": "2023-02-09T06:25:02.936Z"
   },
   {
    "duration": 268,
    "start_time": "2023-02-09T06:27:25.157Z"
   },
   {
    "duration": 262,
    "start_time": "2023-02-09T06:28:12.325Z"
   },
   {
    "duration": 263,
    "start_time": "2023-02-09T06:28:59.232Z"
   },
   {
    "duration": 44,
    "start_time": "2023-02-09T06:30:52.471Z"
   },
   {
    "duration": 432,
    "start_time": "2023-02-09T06:31:09.486Z"
   },
   {
    "duration": 1555,
    "start_time": "2023-02-09T11:00:31.016Z"
   },
   {
    "duration": 3071,
    "start_time": "2023-02-09T11:00:32.573Z"
   },
   {
    "duration": 119,
    "start_time": "2023-02-09T11:00:35.645Z"
   },
   {
    "duration": 37,
    "start_time": "2023-02-09T11:00:35.766Z"
   },
   {
    "duration": 12,
    "start_time": "2023-02-09T11:00:35.806Z"
   },
   {
    "duration": 30,
    "start_time": "2023-02-09T11:00:35.819Z"
   },
   {
    "duration": 2906,
    "start_time": "2023-02-09T11:00:35.850Z"
   },
   {
    "duration": 14,
    "start_time": "2023-02-09T11:00:38.758Z"
   },
   {
    "duration": 139,
    "start_time": "2023-02-09T11:00:38.773Z"
   },
   {
    "duration": 52,
    "start_time": "2023-02-09T11:00:38.914Z"
   },
   {
    "duration": 28,
    "start_time": "2023-02-09T11:00:38.968Z"
   },
   {
    "duration": 157,
    "start_time": "2023-02-09T11:00:38.998Z"
   },
   {
    "duration": 1528,
    "start_time": "2023-02-09T11:00:39.157Z"
   },
   {
    "duration": 699,
    "start_time": "2023-02-09T11:00:40.687Z"
   },
   {
    "duration": 848,
    "start_time": "2023-02-09T11:00:41.388Z"
   },
   {
    "duration": 358,
    "start_time": "2023-02-09T11:00:42.237Z"
   },
   {
    "duration": 370,
    "start_time": "2023-02-09T11:00:42.597Z"
   },
   {
    "duration": 327,
    "start_time": "2023-02-09T11:00:42.969Z"
   },
   {
    "duration": 226,
    "start_time": "2023-02-09T11:00:43.297Z"
   },
   {
    "duration": 233,
    "start_time": "2023-02-09T11:00:43.525Z"
   },
   {
    "duration": 256,
    "start_time": "2023-02-09T11:00:43.760Z"
   },
   {
    "duration": 6,
    "start_time": "2023-02-09T11:02:58.669Z"
   },
   {
    "duration": 5,
    "start_time": "2023-02-09T11:03:18.458Z"
   },
   {
    "duration": 5,
    "start_time": "2023-02-09T11:03:57.758Z"
   },
   {
    "duration": 5,
    "start_time": "2023-02-09T11:04:09.458Z"
   },
   {
    "duration": 5,
    "start_time": "2023-02-09T11:04:24.258Z"
   },
   {
    "duration": 6,
    "start_time": "2023-02-09T11:04:43.274Z"
   },
   {
    "duration": 5,
    "start_time": "2023-02-09T11:05:03.057Z"
   },
   {
    "duration": 5,
    "start_time": "2023-02-09T11:05:10.599Z"
   },
   {
    "duration": 5,
    "start_time": "2023-02-09T11:05:19.524Z"
   },
   {
    "duration": 45,
    "start_time": "2023-02-09T11:07:48.353Z"
   },
   {
    "duration": 44,
    "start_time": "2023-02-09T11:08:35.244Z"
   },
   {
    "duration": 1321,
    "start_time": "2023-02-09T11:08:52.593Z"
   },
   {
    "duration": 662,
    "start_time": "2023-02-09T11:08:53.917Z"
   },
   {
    "duration": 107,
    "start_time": "2023-02-09T11:08:54.580Z"
   },
   {
    "duration": 35,
    "start_time": "2023-02-09T11:08:54.688Z"
   },
   {
    "duration": 29,
    "start_time": "2023-02-09T11:08:54.725Z"
   },
   {
    "duration": 9,
    "start_time": "2023-02-09T11:08:54.755Z"
   },
   {
    "duration": 2913,
    "start_time": "2023-02-09T11:08:54.766Z"
   },
   {
    "duration": 12,
    "start_time": "2023-02-09T11:08:57.681Z"
   },
   {
    "duration": 127,
    "start_time": "2023-02-09T11:08:57.694Z"
   },
   {
    "duration": 32,
    "start_time": "2023-02-09T11:08:57.822Z"
   },
   {
    "duration": 19,
    "start_time": "2023-02-09T11:08:57.855Z"
   },
   {
    "duration": 72,
    "start_time": "2023-02-09T11:08:57.876Z"
   },
   {
    "duration": 36,
    "start_time": "2023-02-09T11:08:57.949Z"
   },
   {
    "duration": 803,
    "start_time": "2023-02-09T11:09:02.938Z"
   },
   {
    "duration": 706,
    "start_time": "2023-02-09T11:09:12.188Z"
   },
   {
    "duration": 816,
    "start_time": "2023-02-09T11:09:19.860Z"
   },
   {
    "duration": 723,
    "start_time": "2023-02-09T11:09:27.148Z"
   },
   {
    "duration": 476,
    "start_time": "2023-02-09T11:09:32.899Z"
   },
   {
    "duration": 375,
    "start_time": "2023-02-09T11:09:34.293Z"
   },
   {
    "duration": 228,
    "start_time": "2023-02-09T11:09:56.400Z"
   },
   {
    "duration": 204,
    "start_time": "2023-02-09T11:09:59.928Z"
   },
   {
    "duration": 230,
    "start_time": "2023-02-09T11:10:03.099Z"
   },
   {
    "duration": 328,
    "start_time": "2023-02-09T11:10:06.736Z"
   },
   {
    "duration": 1715,
    "start_time": "2023-02-09T12:38:33.117Z"
   },
   {
    "duration": 3108,
    "start_time": "2023-02-09T12:38:34.835Z"
   },
   {
    "duration": 119,
    "start_time": "2023-02-09T12:38:37.945Z"
   },
   {
    "duration": 37,
    "start_time": "2023-02-09T12:38:38.067Z"
   },
   {
    "duration": 11,
    "start_time": "2023-02-09T12:38:38.106Z"
   },
   {
    "duration": 30,
    "start_time": "2023-02-09T12:38:38.118Z"
   },
   {
    "duration": 3094,
    "start_time": "2023-02-09T12:38:38.150Z"
   },
   {
    "duration": 15,
    "start_time": "2023-02-09T12:38:41.245Z"
   },
   {
    "duration": 136,
    "start_time": "2023-02-09T12:38:41.261Z"
   },
   {
    "duration": 25,
    "start_time": "2023-02-09T12:38:41.400Z"
   },
   {
    "duration": 48,
    "start_time": "2023-02-09T12:38:41.427Z"
   },
   {
    "duration": 81,
    "start_time": "2023-02-09T12:38:41.477Z"
   },
   {
    "duration": 41,
    "start_time": "2023-02-09T12:38:41.560Z"
   },
   {
    "duration": 928,
    "start_time": "2023-02-09T12:38:41.603Z"
   },
   {
    "duration": 785,
    "start_time": "2023-02-09T12:38:42.533Z"
   },
   {
    "duration": 909,
    "start_time": "2023-02-09T12:38:43.320Z"
   },
   {
    "duration": 367,
    "start_time": "2023-02-09T12:38:44.231Z"
   },
   {
    "duration": 458,
    "start_time": "2023-02-09T12:38:44.600Z"
   },
   {
    "duration": 378,
    "start_time": "2023-02-09T12:38:45.060Z"
   },
   {
    "duration": 234,
    "start_time": "2023-02-09T12:38:45.443Z"
   },
   {
    "duration": 250,
    "start_time": "2023-02-09T12:38:45.678Z"
   },
   {
    "duration": 244,
    "start_time": "2023-02-09T12:38:45.930Z"
   },
   {
    "duration": 3,
    "start_time": "2023-02-09T12:38:46.175Z"
   },
   {
    "duration": 14,
    "start_time": "2023-02-09T12:38:46.179Z"
   },
   {
    "duration": 10,
    "start_time": "2023-02-09T12:38:46.195Z"
   },
   {
    "duration": 63,
    "start_time": "2023-02-09T12:38:46.206Z"
   },
   {
    "duration": 37,
    "start_time": "2023-02-09T12:38:46.271Z"
   },
   {
    "duration": 4,
    "start_time": "2023-02-09T12:38:46.311Z"
   },
   {
    "duration": 8,
    "start_time": "2023-02-09T12:38:46.316Z"
   },
   {
    "duration": 9334,
    "start_time": "2023-02-09T12:38:46.328Z"
   },
   {
    "duration": 51123,
    "start_time": "2023-02-09T12:38:55.664Z"
   },
   {
    "duration": 0,
    "start_time": "2023-02-09T12:39:46.789Z"
   },
   {
    "duration": 0,
    "start_time": "2023-02-09T12:39:46.790Z"
   },
   {
    "duration": 1433,
    "start_time": "2023-02-09T12:40:07.257Z"
   },
   {
    "duration": 692,
    "start_time": "2023-02-09T12:40:08.691Z"
   },
   {
    "duration": 111,
    "start_time": "2023-02-09T12:40:09.385Z"
   },
   {
    "duration": 51,
    "start_time": "2023-02-09T12:40:09.498Z"
   },
   {
    "duration": 12,
    "start_time": "2023-02-09T12:40:09.550Z"
   },
   {
    "duration": 7,
    "start_time": "2023-02-09T12:40:09.564Z"
   },
   {
    "duration": 4278,
    "start_time": "2023-02-09T12:40:09.572Z"
   },
   {
    "duration": 15,
    "start_time": "2023-02-09T12:40:13.851Z"
   },
   {
    "duration": 132,
    "start_time": "2023-02-09T12:40:13.868Z"
   },
   {
    "duration": 26,
    "start_time": "2023-02-09T12:40:14.003Z"
   },
   {
    "duration": 27,
    "start_time": "2023-02-09T12:40:14.031Z"
   },
   {
    "duration": 70,
    "start_time": "2023-02-09T12:40:14.059Z"
   },
   {
    "duration": 47,
    "start_time": "2023-02-09T12:40:14.131Z"
   },
   {
    "duration": 911,
    "start_time": "2023-02-09T12:40:14.180Z"
   },
   {
    "duration": 735,
    "start_time": "2023-02-09T12:40:15.092Z"
   },
   {
    "duration": 849,
    "start_time": "2023-02-09T12:40:15.828Z"
   },
   {
    "duration": 371,
    "start_time": "2023-02-09T12:40:16.678Z"
   },
   {
    "duration": 378,
    "start_time": "2023-02-09T12:40:17.051Z"
   },
   {
    "duration": 373,
    "start_time": "2023-02-09T12:40:17.430Z"
   },
   {
    "duration": 210,
    "start_time": "2023-02-09T12:40:17.805Z"
   },
   {
    "duration": 242,
    "start_time": "2023-02-09T12:40:18.017Z"
   },
   {
    "duration": 252,
    "start_time": "2023-02-09T12:40:18.260Z"
   },
   {
    "duration": 3,
    "start_time": "2023-02-09T12:40:18.513Z"
   },
   {
    "duration": 20,
    "start_time": "2023-02-09T12:40:18.518Z"
   },
   {
    "duration": 12,
    "start_time": "2023-02-09T12:40:18.539Z"
   },
   {
    "duration": 25,
    "start_time": "2023-02-09T12:40:18.553Z"
   },
   {
    "duration": 20,
    "start_time": "2023-02-09T12:40:18.579Z"
   },
   {
    "duration": 3,
    "start_time": "2023-02-09T12:40:18.601Z"
   },
   {
    "duration": 5,
    "start_time": "2023-02-09T12:40:18.605Z"
   },
   {
    "duration": 9237,
    "start_time": "2023-02-09T12:40:18.612Z"
   },
   {
    "duration": 1383,
    "start_time": "2023-02-09T12:43:58.564Z"
   },
   {
    "duration": 704,
    "start_time": "2023-02-09T12:43:59.949Z"
   },
   {
    "duration": 119,
    "start_time": "2023-02-09T12:44:00.655Z"
   },
   {
    "duration": 36,
    "start_time": "2023-02-09T12:44:00.776Z"
   },
   {
    "duration": 30,
    "start_time": "2023-02-09T12:44:00.814Z"
   },
   {
    "duration": 16,
    "start_time": "2023-02-09T12:44:00.846Z"
   },
   {
    "duration": 3164,
    "start_time": "2023-02-09T12:44:00.864Z"
   },
   {
    "duration": 26,
    "start_time": "2023-02-09T12:44:04.030Z"
   },
   {
    "duration": 127,
    "start_time": "2023-02-09T12:44:04.058Z"
   },
   {
    "duration": 27,
    "start_time": "2023-02-09T12:44:04.188Z"
   },
   {
    "duration": 36,
    "start_time": "2023-02-09T12:44:04.216Z"
   },
   {
    "duration": 70,
    "start_time": "2023-02-09T12:44:04.254Z"
   },
   {
    "duration": 44,
    "start_time": "2023-02-09T12:44:04.326Z"
   },
   {
    "duration": 954,
    "start_time": "2023-02-09T12:44:04.372Z"
   },
   {
    "duration": 749,
    "start_time": "2023-02-09T12:44:05.328Z"
   },
   {
    "duration": 875,
    "start_time": "2023-02-09T12:44:06.078Z"
   },
   {
    "duration": 384,
    "start_time": "2023-02-09T12:44:06.955Z"
   },
   {
    "duration": 383,
    "start_time": "2023-02-09T12:44:07.341Z"
   },
   {
    "duration": 363,
    "start_time": "2023-02-09T12:44:07.726Z"
   },
   {
    "duration": 238,
    "start_time": "2023-02-09T12:44:08.091Z"
   },
   {
    "duration": 244,
    "start_time": "2023-02-09T12:44:08.331Z"
   },
   {
    "duration": 260,
    "start_time": "2023-02-09T12:44:08.576Z"
   },
   {
    "duration": 7,
    "start_time": "2023-02-09T12:44:08.838Z"
   },
   {
    "duration": 11,
    "start_time": "2023-02-09T12:44:08.847Z"
   },
   {
    "duration": 8,
    "start_time": "2023-02-09T12:44:08.860Z"
   },
   {
    "duration": 26,
    "start_time": "2023-02-09T12:44:08.870Z"
   },
   {
    "duration": 20,
    "start_time": "2023-02-09T12:44:08.898Z"
   },
   {
    "duration": 4,
    "start_time": "2023-02-09T12:44:08.943Z"
   },
   {
    "duration": 9,
    "start_time": "2023-02-09T12:44:08.949Z"
   },
   {
    "duration": 9290,
    "start_time": "2023-02-09T12:44:08.960Z"
   },
   {
    "duration": 536238,
    "start_time": "2023-02-09T12:44:18.252Z"
   },
   {
    "duration": 3260,
    "start_time": "2023-02-09T12:53:14.492Z"
   },
   {
    "duration": 151208,
    "start_time": "2023-02-09T12:53:17.844Z"
   },
   {
    "duration": 67,
    "start_time": "2023-02-09T12:57:29.959Z"
   },
   {
    "duration": 3,
    "start_time": "2023-02-09T12:57:35.907Z"
   },
   {
    "duration": 5,
    "start_time": "2023-02-09T12:59:27.046Z"
   },
   {
    "duration": 2111,
    "start_time": "2023-02-10T08:57:51.234Z"
   },
   {
    "duration": 2319,
    "start_time": "2023-02-10T08:57:53.347Z"
   },
   {
    "duration": 118,
    "start_time": "2023-02-10T08:57:55.667Z"
   },
   {
    "duration": 59,
    "start_time": "2023-02-10T08:57:55.787Z"
   },
   {
    "duration": 12,
    "start_time": "2023-02-10T08:57:55.848Z"
   },
   {
    "duration": 5,
    "start_time": "2023-02-10T08:57:55.861Z"
   },
   {
    "duration": 3305,
    "start_time": "2023-02-10T08:57:55.867Z"
   },
   {
    "duration": 13,
    "start_time": "2023-02-10T08:57:59.174Z"
   },
   {
    "duration": 210,
    "start_time": "2023-02-10T08:57:59.188Z"
   },
   {
    "duration": 36,
    "start_time": "2023-02-10T08:57:59.401Z"
   },
   {
    "duration": 23,
    "start_time": "2023-02-10T08:57:59.439Z"
   },
   {
    "duration": 186,
    "start_time": "2023-02-10T08:57:59.464Z"
   },
   {
    "duration": 40,
    "start_time": "2023-02-10T08:57:59.651Z"
   },
   {
    "duration": 1156,
    "start_time": "2023-02-10T08:57:59.693Z"
   },
   {
    "duration": 883,
    "start_time": "2023-02-10T08:58:00.851Z"
   },
   {
    "duration": 961,
    "start_time": "2023-02-10T08:58:01.735Z"
   },
   {
    "duration": 417,
    "start_time": "2023-02-10T08:58:02.697Z"
   },
   {
    "duration": 400,
    "start_time": "2023-02-10T08:58:03.116Z"
   },
   {
    "duration": 269,
    "start_time": "2023-02-10T08:58:03.518Z"
   },
   {
    "duration": 363,
    "start_time": "2023-02-10T08:58:03.789Z"
   },
   {
    "duration": 273,
    "start_time": "2023-02-10T08:58:04.154Z"
   },
   {
    "duration": 293,
    "start_time": "2023-02-10T08:58:04.429Z"
   },
   {
    "duration": 4,
    "start_time": "2023-02-10T08:58:04.723Z"
   },
   {
    "duration": 21,
    "start_time": "2023-02-10T08:58:04.729Z"
   },
   {
    "duration": 9,
    "start_time": "2023-02-10T08:58:04.751Z"
   },
   {
    "duration": 23,
    "start_time": "2023-02-10T08:58:04.761Z"
   },
   {
    "duration": 20,
    "start_time": "2023-02-10T08:58:04.785Z"
   },
   {
    "duration": 19,
    "start_time": "2023-02-10T08:58:04.808Z"
   },
   {
    "duration": 24,
    "start_time": "2023-02-10T08:58:04.831Z"
   },
   {
    "duration": 109,
    "start_time": "2023-02-10T08:58:33.880Z"
   },
   {
    "duration": 117,
    "start_time": "2023-02-10T08:58:51.412Z"
   },
   {
    "duration": 3,
    "start_time": "2023-02-10T08:59:22.946Z"
   },
   {
    "duration": 3,
    "start_time": "2023-02-10T08:59:26.809Z"
   },
   {
    "duration": 4,
    "start_time": "2023-02-10T08:59:27.339Z"
   },
   {
    "duration": 8889,
    "start_time": "2023-02-10T08:59:37.722Z"
   },
   {
    "duration": 0,
    "start_time": "2023-02-10T09:07:18.053Z"
   },
   {
    "duration": 166728,
    "start_time": "2023-02-10T09:07:28.733Z"
   },
   {
    "duration": 10,
    "start_time": "2023-02-10T09:10:31.888Z"
   },
   {
    "duration": 103,
    "start_time": "2023-02-10T09:10:48.469Z"
   },
   {
    "duration": 4,
    "start_time": "2023-02-10T09:10:55.831Z"
   },
   {
    "duration": 10,
    "start_time": "2023-02-10T09:11:00.238Z"
   }
  ],
  "kernelspec": {
   "display_name": "Python 3 (ipykernel)",
   "language": "python",
   "name": "python3"
  },
  "language_info": {
   "codemirror_mode": {
    "name": "ipython",
    "version": 3
   },
   "file_extension": ".py",
   "mimetype": "text/x-python",
   "name": "python",
   "nbconvert_exporter": "python",
   "pygments_lexer": "ipython3",
   "version": "3.9.13"
  },
  "toc": {
   "base_numbering": 1,
   "nav_menu": {},
   "number_sections": true,
   "sideBar": true,
   "skip_h1_title": true,
   "title_cell": "Содержание",
   "title_sidebar": "Contents",
   "toc_cell": true,
   "toc_position": {
    "height": "calc(100% - 180px)",
    "left": "10px",
    "top": "150px",
    "width": "384px"
   },
   "toc_section_display": true,
   "toc_window_display": true
  }
 },
 "nbformat": 4,
 "nbformat_minor": 2
}
