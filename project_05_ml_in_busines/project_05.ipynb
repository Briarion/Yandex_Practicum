{
 "cells": [
  {
   "attachments": {},
   "cell_type": "markdown",
   "metadata": {},
   "source": [
    "# Выбор локации для скважины"
   ]
  },
  {
   "attachments": {},
   "cell_type": "markdown",
   "metadata": {},
   "source": [
    "Допустим, вы работаете в добывающей компании «ГлавРосГосНефть». Нужно решить, где бурить новую скважину.\n",
    "\n",
    "Вам предоставлены пробы нефти в трёх регионах: в каждом 10 000 месторождений, где измерили качество нефти и объём её запасов. Постройте модель машинного обучения, которая поможет определить регион, где добыча принесёт наибольшую прибыль. Проанализируйте возможную прибыль и риски техникой *Bootstrap.*\n",
    "\n",
    "Шаги для выбора локации:\n",
    "\n",
    "- В избранном регионе ищут месторождения, для каждого определяют значения признаков;\n",
    "- Строят модель и оценивают объём запасов;\n",
    "- Выбирают месторождения с самым высокими оценками значений. Количество месторождений зависит от бюджета компании и стоимости разработки одной скважины;\n",
    "- Прибыль равна суммарной прибыли отобранных месторождений."
   ]
  },
  {
   "attachments": {},
   "cell_type": "markdown",
   "metadata": {},
   "source": [
    "Перед нами стоит задача по исследованию рентабельности разработки нефти в трех регионах. Для проведения исследования предоставленны данные о пробах нефти в 100 000 месторождений в каждом регионе. Перед проведением исследования стоит проверить данные на пропуски, дубликаты и выбросы. На основе этих данных необходимо обучить модель, которая будет предсказывать возможный объем сырья в месторождении по трем измеряемым параметрам. После обучения модели необходимо провести анализ рентабельности разработки. Опираясь на предсказания модели выбрать 200 месторождений и подсчитать прибыль, которую можно получить, по известным объемам из предоставленных данных. с помощью техники Bootstrap проведем исследование 1000 выборок по 500 случайных значений симулируя возможную разведку региона, по этим данным высчитаем среднюю прибыль с каждого региона, доверительный интервал в который с точностью 95% попадет возможный результат и риск получить убытки при неудачной разведке региона."
   ]
  },
  {
   "attachments": {},
   "cell_type": "markdown",
   "metadata": {},
   "source": [
    "## Загрузка и подготовка данных"
   ]
  },
  {
   "attachments": {},
   "cell_type": "markdown",
   "metadata": {},
   "source": [
    "Подключим библиотеки, необходимые для исследования."
   ]
  },
  {
   "cell_type": "code",
   "execution_count": 1,
   "metadata": {},
   "outputs": [],
   "source": [
    "import pandas as pd\n",
    "import numpy as np\n",
    "from sklearn.linear_model import LinearRegression\n",
    "from sklearn.metrics import mean_squared_error\n",
    "from sklearn.model_selection import train_test_split\n",
    "from scipy import stats as st"
   ]
  },
  {
   "attachments": {},
   "cell_type": "markdown",
   "metadata": {},
   "source": [
    "Создадим константы, заданные условиями исследования. Бюджет на разработку месторождений. Колличество разрабатываемых месторождений. Цена за 1 тыс. баррелей. Общее колличество исследуемых точек при разработке. Доверительный интервал."
   ]
  },
  {
   "cell_type": "code",
   "execution_count": 2,
   "metadata": {},
   "outputs": [],
   "source": [
    "BUDGET = 10_000_000_000\n",
    "WELLS = 200\n",
    "BARREL_COST = 450_000\n",
    "POINTS = 500\n",
    "CONF_INTERVAL = 0.95"
   ]
  },
  {
   "attachments": {},
   "cell_type": "markdown",
   "metadata": {},
   "source": [
    "Откроем файлы с данными, предоставленными для исследования."
   ]
  },
  {
   "cell_type": "code",
   "execution_count": 3,
   "metadata": {},
   "outputs": [
    {
     "name": "stdout",
     "output_type": "stream",
     "text": [
      "Файл из директории /datasets/geo_data_0.csv загружен\n",
      "Файл из директории /datasets/geo_data_1.csv загружен\n",
      "Файл из директории /datasets/geo_data_2.csv загружен\n"
     ]
    }
   ],
   "source": [
    "def read_file(a):\n",
    "    try:\n",
    "        data = pd.read_csv(a)\n",
    "        print('Файл из директории', a, 'загружен')\n",
    "        return data\n",
    "    except:\n",
    "        print('При загрузке файла', a, 'произошел сбой')\n",
    "        return []\n",
    "\n",
    "geo_data_0 = read_file('/datasets/geo_data_0.csv')\n",
    "geo_data_1 = read_file('/datasets/geo_data_1.csv')\n",
    "geo_data_2 = read_file('/datasets/geo_data_2.csv')"
   ]
  },
  {
   "attachments": {},
   "cell_type": "markdown",
   "metadata": {},
   "source": [
    "Выведем первые 5 строк каждого полученного датафрейма"
   ]
  },
  {
   "cell_type": "code",
   "execution_count": 4,
   "metadata": {},
   "outputs": [
    {
     "data": {
      "text/html": [
       "<div>\n",
       "<style scoped>\n",
       "    .dataframe tbody tr th:only-of-type {\n",
       "        vertical-align: middle;\n",
       "    }\n",
       "\n",
       "    .dataframe tbody tr th {\n",
       "        vertical-align: top;\n",
       "    }\n",
       "\n",
       "    .dataframe thead th {\n",
       "        text-align: right;\n",
       "    }\n",
       "</style>\n",
       "<table border=\"1\" class=\"dataframe\">\n",
       "  <thead>\n",
       "    <tr style=\"text-align: right;\">\n",
       "      <th></th>\n",
       "      <th>id</th>\n",
       "      <th>f0</th>\n",
       "      <th>f1</th>\n",
       "      <th>f2</th>\n",
       "      <th>product</th>\n",
       "    </tr>\n",
       "  </thead>\n",
       "  <tbody>\n",
       "    <tr>\n",
       "      <th>0</th>\n",
       "      <td>txEyH</td>\n",
       "      <td>0.705745</td>\n",
       "      <td>-0.497823</td>\n",
       "      <td>1.221170</td>\n",
       "      <td>105.280062</td>\n",
       "    </tr>\n",
       "    <tr>\n",
       "      <th>1</th>\n",
       "      <td>2acmU</td>\n",
       "      <td>1.334711</td>\n",
       "      <td>-0.340164</td>\n",
       "      <td>4.365080</td>\n",
       "      <td>73.037750</td>\n",
       "    </tr>\n",
       "    <tr>\n",
       "      <th>2</th>\n",
       "      <td>409Wp</td>\n",
       "      <td>1.022732</td>\n",
       "      <td>0.151990</td>\n",
       "      <td>1.419926</td>\n",
       "      <td>85.265647</td>\n",
       "    </tr>\n",
       "    <tr>\n",
       "      <th>3</th>\n",
       "      <td>iJLyR</td>\n",
       "      <td>-0.032172</td>\n",
       "      <td>0.139033</td>\n",
       "      <td>2.978566</td>\n",
       "      <td>168.620776</td>\n",
       "    </tr>\n",
       "    <tr>\n",
       "      <th>4</th>\n",
       "      <td>Xdl7t</td>\n",
       "      <td>1.988431</td>\n",
       "      <td>0.155413</td>\n",
       "      <td>4.751769</td>\n",
       "      <td>154.036647</td>\n",
       "    </tr>\n",
       "  </tbody>\n",
       "</table>\n",
       "</div>"
      ],
      "text/plain": [
       "      id        f0        f1        f2     product\n",
       "0  txEyH  0.705745 -0.497823  1.221170  105.280062\n",
       "1  2acmU  1.334711 -0.340164  4.365080   73.037750\n",
       "2  409Wp  1.022732  0.151990  1.419926   85.265647\n",
       "3  iJLyR -0.032172  0.139033  2.978566  168.620776\n",
       "4  Xdl7t  1.988431  0.155413  4.751769  154.036647"
      ]
     },
     "metadata": {},
     "output_type": "display_data"
    },
    {
     "data": {
      "text/html": [
       "<div>\n",
       "<style scoped>\n",
       "    .dataframe tbody tr th:only-of-type {\n",
       "        vertical-align: middle;\n",
       "    }\n",
       "\n",
       "    .dataframe tbody tr th {\n",
       "        vertical-align: top;\n",
       "    }\n",
       "\n",
       "    .dataframe thead th {\n",
       "        text-align: right;\n",
       "    }\n",
       "</style>\n",
       "<table border=\"1\" class=\"dataframe\">\n",
       "  <thead>\n",
       "    <tr style=\"text-align: right;\">\n",
       "      <th></th>\n",
       "      <th>id</th>\n",
       "      <th>f0</th>\n",
       "      <th>f1</th>\n",
       "      <th>f2</th>\n",
       "      <th>product</th>\n",
       "    </tr>\n",
       "  </thead>\n",
       "  <tbody>\n",
       "    <tr>\n",
       "      <th>0</th>\n",
       "      <td>kBEdx</td>\n",
       "      <td>-15.001348</td>\n",
       "      <td>-8.276000</td>\n",
       "      <td>-0.005876</td>\n",
       "      <td>3.179103</td>\n",
       "    </tr>\n",
       "    <tr>\n",
       "      <th>1</th>\n",
       "      <td>62mP7</td>\n",
       "      <td>14.272088</td>\n",
       "      <td>-3.475083</td>\n",
       "      <td>0.999183</td>\n",
       "      <td>26.953261</td>\n",
       "    </tr>\n",
       "    <tr>\n",
       "      <th>2</th>\n",
       "      <td>vyE1P</td>\n",
       "      <td>6.263187</td>\n",
       "      <td>-5.948386</td>\n",
       "      <td>5.001160</td>\n",
       "      <td>134.766305</td>\n",
       "    </tr>\n",
       "    <tr>\n",
       "      <th>3</th>\n",
       "      <td>KcrkZ</td>\n",
       "      <td>-13.081196</td>\n",
       "      <td>-11.506057</td>\n",
       "      <td>4.999415</td>\n",
       "      <td>137.945408</td>\n",
       "    </tr>\n",
       "    <tr>\n",
       "      <th>4</th>\n",
       "      <td>AHL4O</td>\n",
       "      <td>12.702195</td>\n",
       "      <td>-8.147433</td>\n",
       "      <td>5.004363</td>\n",
       "      <td>134.766305</td>\n",
       "    </tr>\n",
       "  </tbody>\n",
       "</table>\n",
       "</div>"
      ],
      "text/plain": [
       "      id         f0         f1        f2     product\n",
       "0  kBEdx -15.001348  -8.276000 -0.005876    3.179103\n",
       "1  62mP7  14.272088  -3.475083  0.999183   26.953261\n",
       "2  vyE1P   6.263187  -5.948386  5.001160  134.766305\n",
       "3  KcrkZ -13.081196 -11.506057  4.999415  137.945408\n",
       "4  AHL4O  12.702195  -8.147433  5.004363  134.766305"
      ]
     },
     "metadata": {},
     "output_type": "display_data"
    },
    {
     "data": {
      "text/html": [
       "<div>\n",
       "<style scoped>\n",
       "    .dataframe tbody tr th:only-of-type {\n",
       "        vertical-align: middle;\n",
       "    }\n",
       "\n",
       "    .dataframe tbody tr th {\n",
       "        vertical-align: top;\n",
       "    }\n",
       "\n",
       "    .dataframe thead th {\n",
       "        text-align: right;\n",
       "    }\n",
       "</style>\n",
       "<table border=\"1\" class=\"dataframe\">\n",
       "  <thead>\n",
       "    <tr style=\"text-align: right;\">\n",
       "      <th></th>\n",
       "      <th>id</th>\n",
       "      <th>f0</th>\n",
       "      <th>f1</th>\n",
       "      <th>f2</th>\n",
       "      <th>product</th>\n",
       "    </tr>\n",
       "  </thead>\n",
       "  <tbody>\n",
       "    <tr>\n",
       "      <th>0</th>\n",
       "      <td>fwXo0</td>\n",
       "      <td>-1.146987</td>\n",
       "      <td>0.963328</td>\n",
       "      <td>-0.828965</td>\n",
       "      <td>27.758673</td>\n",
       "    </tr>\n",
       "    <tr>\n",
       "      <th>1</th>\n",
       "      <td>WJtFt</td>\n",
       "      <td>0.262778</td>\n",
       "      <td>0.269839</td>\n",
       "      <td>-2.530187</td>\n",
       "      <td>56.069697</td>\n",
       "    </tr>\n",
       "    <tr>\n",
       "      <th>2</th>\n",
       "      <td>ovLUW</td>\n",
       "      <td>0.194587</td>\n",
       "      <td>0.289035</td>\n",
       "      <td>-5.586433</td>\n",
       "      <td>62.871910</td>\n",
       "    </tr>\n",
       "    <tr>\n",
       "      <th>3</th>\n",
       "      <td>q6cA6</td>\n",
       "      <td>2.236060</td>\n",
       "      <td>-0.553760</td>\n",
       "      <td>0.930038</td>\n",
       "      <td>114.572842</td>\n",
       "    </tr>\n",
       "    <tr>\n",
       "      <th>4</th>\n",
       "      <td>WPMUX</td>\n",
       "      <td>-0.515993</td>\n",
       "      <td>1.716266</td>\n",
       "      <td>5.899011</td>\n",
       "      <td>149.600746</td>\n",
       "    </tr>\n",
       "  </tbody>\n",
       "</table>\n",
       "</div>"
      ],
      "text/plain": [
       "      id        f0        f1        f2     product\n",
       "0  fwXo0 -1.146987  0.963328 -0.828965   27.758673\n",
       "1  WJtFt  0.262778  0.269839 -2.530187   56.069697\n",
       "2  ovLUW  0.194587  0.289035 -5.586433   62.871910\n",
       "3  q6cA6  2.236060 -0.553760  0.930038  114.572842\n",
       "4  WPMUX -0.515993  1.716266  5.899011  149.600746"
      ]
     },
     "metadata": {},
     "output_type": "display_data"
    }
   ],
   "source": [
    "display(geo_data_0.head())\n",
    "display(geo_data_1.head())\n",
    "display(geo_data_2.head())"
   ]
  },
  {
   "attachments": {},
   "cell_type": "markdown",
   "metadata": {},
   "source": [
    "Все 3 датафрейма состоят из стобца с уникальным id месторождения, с тремя параметрами месторождения: f0, f1, f2 и с запасами сырья в месторождении product представленными в тысячу баррелей на еденицу измерения. "
   ]
  },
  {
   "attachments": {},
   "cell_type": "markdown",
   "metadata": {},
   "source": [
    "Посмотрим расспределение значений в каждом датафрейме"
   ]
  },
  {
   "cell_type": "code",
   "execution_count": 5,
   "metadata": {},
   "outputs": [
    {
     "data": {
      "image/png": "[encoded data removed]",
      "text/plain": [
       "<Figure size 432x288 with 4 Axes>"
      ]
     },
     "metadata": {
      "needs_background": "light"
     },
     "output_type": "display_data"
    },
    {
     "data": {
      "image/png": "[encoded data removed]",
      "text/plain": [
       "<Figure size 432x288 with 4 Axes>"
      ]
     },
     "metadata": {
      "needs_background": "light"
     },
     "output_type": "display_data"
    },
    {
     "data": {
      "image/png": "[encoded data removed]",
      "text/plain": [
       "<Figure size 432x288 with 4 Axes>"
      ]
     },
     "metadata": {
      "needs_background": "light"
     },
     "output_type": "display_data"
    }
   ],
   "source": [
    "geo_data_0.hist();\n",
    "geo_data_1.hist();\n",
    "geo_data_2.hist();"
   ]
  },
  {
   "attachments": {},
   "cell_type": "markdown",
   "metadata": {},
   "source": [
    "В первом и третьем регионах видим нормальное распределение значений как по параметрам месторождания, так и по объемам. Во втором регионе наблюдаем нормальное распределение по двум признакам и равномерное распределение по третьему, причем итоговые объемы месторождения имеют 3 значения, либо месторождение со скудными запасами, лобо со средними, либо богатое сырьем. Так как предоставленные данные синтетические, нет возможности проверить достоверность предоставленных данных."
   ]
  },
  {
   "attachments": {},
   "cell_type": "markdown",
   "metadata": {},
   "source": [
    "Выведем суммарную информацию по трем датафреймам."
   ]
  },
  {
   "cell_type": "code",
   "execution_count": 6,
   "metadata": {},
   "outputs": [
    {
     "name": "stdout",
     "output_type": "stream",
     "text": [
      "<class 'pandas.core.frame.DataFrame'>\n",
      "RangeIndex: 100000 entries, 0 to 99999\n",
      "Data columns (total 5 columns):\n",
      " #   Column   Non-Null Count   Dtype  \n",
      "---  ------   --------------   -----  \n",
      " 0   id       100000 non-null  object \n",
      " 1   f0       100000 non-null  float64\n",
      " 2   f1       100000 non-null  float64\n",
      " 3   f2       100000 non-null  float64\n",
      " 4   product  100000 non-null  float64\n",
      "dtypes: float64(4), object(1)\n",
      "memory usage: 3.8+ MB\n"
     ]
    },
    {
     "data": {
      "text/plain": [
       "None"
      ]
     },
     "metadata": {},
     "output_type": "display_data"
    },
    {
     "name": "stdout",
     "output_type": "stream",
     "text": [
      "<class 'pandas.core.frame.DataFrame'>\n",
      "RangeIndex: 100000 entries, 0 to 99999\n",
      "Data columns (total 5 columns):\n",
      " #   Column   Non-Null Count   Dtype  \n",
      "---  ------   --------------   -----  \n",
      " 0   id       100000 non-null  object \n",
      " 1   f0       100000 non-null  float64\n",
      " 2   f1       100000 non-null  float64\n",
      " 3   f2       100000 non-null  float64\n",
      " 4   product  100000 non-null  float64\n",
      "dtypes: float64(4), object(1)\n",
      "memory usage: 3.8+ MB\n"
     ]
    },
    {
     "data": {
      "text/plain": [
       "None"
      ]
     },
     "metadata": {},
     "output_type": "display_data"
    },
    {
     "name": "stdout",
     "output_type": "stream",
     "text": [
      "<class 'pandas.core.frame.DataFrame'>\n",
      "RangeIndex: 100000 entries, 0 to 99999\n",
      "Data columns (total 5 columns):\n",
      " #   Column   Non-Null Count   Dtype  \n",
      "---  ------   --------------   -----  \n",
      " 0   id       100000 non-null  object \n",
      " 1   f0       100000 non-null  float64\n",
      " 2   f1       100000 non-null  float64\n",
      " 3   f2       100000 non-null  float64\n",
      " 4   product  100000 non-null  float64\n",
      "dtypes: float64(4), object(1)\n",
      "memory usage: 3.8+ MB\n"
     ]
    },
    {
     "data": {
      "text/plain": [
       "None"
      ]
     },
     "metadata": {},
     "output_type": "display_data"
    }
   ],
   "source": [
    "display(geo_data_0.info())\n",
    "display(geo_data_1.info())\n",
    "display(geo_data_2.info())"
   ]
  },
  {
   "attachments": {},
   "cell_type": "markdown",
   "metadata": {},
   "source": [
    "Пропуски в данных отсутствуют, признаки и целевой столюец представлены числовыми значениями и не требуют изменения формата. Все 3 датафрейма имеют одинаковый размер."
   ]
  },
  {
   "attachments": {},
   "cell_type": "markdown",
   "metadata": {},
   "source": [
    "Проверим датафреймы на полные дубликаты."
   ]
  },
  {
   "cell_type": "code",
   "execution_count": 7,
   "metadata": {},
   "outputs": [
    {
     "name": "stdout",
     "output_type": "stream",
     "text": [
      "Найдено полных дубликатов: 0\n",
      "Найдено полных дубликатов: 0\n",
      "Найдено полных дубликатов: 0\n"
     ]
    }
   ],
   "source": [
    "print('Найдено полных дубликатов:', geo_data_0.duplicated().sum())\n",
    "print('Найдено полных дубликатов:', geo_data_1.duplicated().sum())\n",
    "print('Найдено полных дубликатов:', geo_data_2.duplicated().sum())"
   ]
  },
  {
   "attachments": {},
   "cell_type": "markdown",
   "metadata": {},
   "source": [
    "Проверим на не уникальные значения каждый датафрейм."
   ]
  },
  {
   "cell_type": "code",
   "execution_count": 8,
   "metadata": {},
   "outputs": [
    {
     "data": {
      "text/plain": [
       "id          99990\n",
       "f0         100000\n",
       "f1         100000\n",
       "f2         100000\n",
       "product    100000\n",
       "dtype: int64"
      ]
     },
     "metadata": {},
     "output_type": "display_data"
    },
    {
     "data": {
      "text/plain": [
       "id          99996\n",
       "f0         100000\n",
       "f1         100000\n",
       "f2         100000\n",
       "product        12\n",
       "dtype: int64"
      ]
     },
     "metadata": {},
     "output_type": "display_data"
    },
    {
     "data": {
      "text/plain": [
       "id          99996\n",
       "f0         100000\n",
       "f1         100000\n",
       "f2         100000\n",
       "product    100000\n",
       "dtype: int64"
      ]
     },
     "metadata": {},
     "output_type": "display_data"
    }
   ],
   "source": [
    "display(geo_data_0.nunique())\n",
    "display(geo_data_1.nunique())\n",
    "display(geo_data_2.nunique())"
   ]
  },
  {
   "attachments": {},
   "cell_type": "markdown",
   "metadata": {},
   "source": [
    "В каждом датафрейме имеется до 10 неуникальных id месторождения, это возможно связанно с тем, что некоторые месторождения проверяли повторно, причем показания параметров отличаются в каждой записи. В первом и третьем у каждой записи уникальное значение объема в столбце product, во втором столбца всего 12 уникальных значений на 100000 записей."
   ]
  },
  {
   "attachments": {},
   "cell_type": "markdown",
   "metadata": {},
   "source": [
    "Разделим данные на признаки features и целевой столбец target. Запишем данные в отдельные переменные для каждого региона."
   ]
  },
  {
   "cell_type": "code",
   "execution_count": 9,
   "metadata": {},
   "outputs": [],
   "source": [
    "features_geo0 = geo_data_0.drop(['id', 'product'], axis=1)\n",
    "target_geo0 = geo_data_0['product']\n",
    "features_geo1 = geo_data_1.drop(['id', 'product'], axis=1)\n",
    "target_geo1 = geo_data_1['product']\n",
    "features_geo2 = geo_data_2.drop(['id', 'product'], axis=1)\n",
    "target_geo2 = geo_data_2['product']\n"
   ]
  },
  {
   "attachments": {},
   "cell_type": "markdown",
   "metadata": {},
   "source": [
    "Разделим общую выбоку на обучающую и валидационную в соотношении 75:25. Запишем данные в отдельные переменные для каждого региона."
   ]
  },
  {
   "cell_type": "code",
   "execution_count": 10,
   "metadata": {},
   "outputs": [],
   "source": [
    "features_geo0_train, features_geo0_valid, target_geo0_train, target_geo0_valid = train_test_split(\n",
    "    features_geo0, target_geo0, test_size=0.25, random_state=12345)\n",
    "features_geo1_train, features_geo1_valid, target_geo1_train, target_geo1_valid = train_test_split(\n",
    "    features_geo1, target_geo1, test_size=0.25, random_state=12345)\n",
    "features_geo2_train, features_geo2_valid, target_geo2_train, target_geo2_valid = train_test_split(\n",
    "    features_geo2, target_geo2, test_size=0.25, random_state=12345)"
   ]
  },
  {
   "attachments": {},
   "cell_type": "markdown",
   "metadata": {},
   "source": [
    "После разбиения выборки можно провести маштабирование численных значений методом StandardScaler, но в данном случае метод показал не эффективность и по этому принято решение не использовать его в исследовании."
   ]
  },
  {
   "attachments": {},
   "cell_type": "markdown",
   "metadata": {},
   "source": [
    "## Обучение и проверка модели"
   ]
  },
  {
   "attachments": {},
   "cell_type": "markdown",
   "metadata": {},
   "source": [
    "Обучим модель для каждого региона в отдельности по обучающей выборке."
   ]
  },
  {
   "cell_type": "code",
   "execution_count": 11,
   "metadata": {},
   "outputs": [],
   "source": [
    "def model_train(features, target, features_valid):\n",
    "    model = LinearRegression()\n",
    "    model.fit(features, target)\n",
    "    predicted = model.predict(features_valid)\n",
    "    return model, predicted\n",
    "\n",
    "model_geo0, predicted_geo0_valid = model_train(features_geo0_train, target_geo0_train, features_geo0_valid)\n",
    "\n",
    "model_geo1, predicted_geo1_valid = model_train(features_geo1_train, target_geo1_train, features_geo1_valid)\n",
    "\n",
    "model_geo2, predicted_geo2_valid = model_train(features_geo2_train, target_geo2_train, features_geo2_valid)\n"
   ]
  },
  {
   "attachments": {},
   "cell_type": "markdown",
   "metadata": {},
   "source": [
    "Подсчитаем средние предсказанные запасы и RSME для каждого региона. RMSE - это метрика, которая сообщает нам квадратный корень из средней квадратичной разницы между прогнозируемыми значениями и фактическими значениями в наборе данных. Чем ниже RMSE, тем лучше модель соответствует набору данных."
   ]
  },
  {
   "cell_type": "code",
   "execution_count": 18,
   "metadata": {},
   "outputs": [
    {
     "name": "stdout",
     "output_type": "stream",
     "text": [
      "Средние запасы предсказанного сырья по 1 региону 92.59256778438035\n",
      "RMSE для модели 1 региона 37.5794217150813 \n",
      "\n",
      "Средние запасы предсказанного сырья по 2 региону 68.728546895446\n",
      "RMSE для модели 2 региона 0.893099286775617 \n",
      "\n",
      "Средние запасы предсказанного сырья по 3 региону 94.96504596800489\n",
      "RMSE для модели 3 региона 40.02970873393434 \n",
      "\n"
     ]
    }
   ],
   "source": [
    "def print_mean_rmse(predicted,target_valid, counter):\n",
    "    print('Средние запасы предсказанного сырья по', counter, 'региону', predicted.mean())\n",
    "    print('RMSE для модели', counter, 'региона', (mean_squared_error(target_valid, predicted)) ** 0.5, '\\n')\n",
    "    counter+=1\n",
    "    return counter\n",
    "\n",
    "counter = 1\n",
    "counter = print_mean_rmse(predicted_geo0_valid, target_geo0_valid, counter)\n",
    "\n",
    "counter = print_mean_rmse(predicted_geo1_valid, target_geo1_valid, counter)\n",
    "\n",
    "counter = print_mean_rmse(predicted_geo2_valid, target_geo2_valid, counter)\n"
   ]
  },
  {
   "attachments": {},
   "cell_type": "markdown",
   "metadata": {},
   "source": [
    "Из полученных данных первый и третий регион практически идеетичны по средним предсказанным запасам, разница в 2.4 тыс. баррелей на месторождение. RMSE для третьего региона самый высокий и составляет 40 тыс. баррелей на месторождение, для первого региона RMSE так же отличается на 2.4 тыс. баррелей и составляет приблизительно 37.6 тыс. баррелей на месторождение.\n",
    "\n",
    "Второй регион при этом является самым скудным по средним запасам предсказанного сырья - 68.7, а RMSE для второго региона составляет 0.9 тыс. баррелей на месторождение.\n",
    "\n",
    "Соответственно с учетом RMSE для первого и третьего региона запас сырья на месторождение может колебаться в диапазоне 55-130 тыс. баррелей если будет предсказанно среднее значение запасов для месторождения. А во втором регионе колебание 67.8-69.6 тыс. баррелей на месторождение."
   ]
  },
  {
   "attachments": {},
   "cell_type": "markdown",
   "metadata": {},
   "source": [
    "## Подготовка к расчёту прибыли"
   ]
  },
  {
   "attachments": {},
   "cell_type": "markdown",
   "metadata": {},
   "source": [
    "Подсчитаем минимальное колличество тыс. баррелей в разрабатываемой скважине для безубыточной добычи."
   ]
  },
  {
   "cell_type": "code",
   "execution_count": 19,
   "metadata": {},
   "outputs": [
    {
     "name": "stdout",
     "output_type": "stream",
     "text": [
      "Минимальное колличество тыс. баррелей в разрабатываемой скважине для безубыточной добычи 111.11\n"
     ]
    }
   ],
   "source": [
    "min_barrels = (BUDGET/WELLS)/BARREL_COST\n",
    "print('Минимальное колличество тыс. баррелей в разрабатываемой скважине для безубыточной добычи', round(min_barrels, 2))"
   ]
  },
  {
   "attachments": {},
   "cell_type": "markdown",
   "metadata": {},
   "source": [
    "Подсчитаем средние запасы сырья в каждом регионе."
   ]
  },
  {
   "cell_type": "code",
   "execution_count": 20,
   "metadata": {},
   "outputs": [
    {
     "name": "stdout",
     "output_type": "stream",
     "text": [
      "Средние запасы сырья в 1 регионе: 92.50000000000001\n",
      "Средние запасы сырья в 2 регионе: 68.82500000000002\n",
      "Средние запасы сырья в 3 регионе: 95.00000000000004\n"
     ]
    }
   ],
   "source": [
    "print('Средние запасы сырья в 1 регионе:', target_geo0.mean())\n",
    "print('Средние запасы сырья в 2 регионе:', target_geo1.mean())\n",
    "print('Средние запасы сырья в 3 регионе:', target_geo2.mean())"
   ]
  },
  {
   "attachments": {},
   "cell_type": "markdown",
   "metadata": {},
   "source": [
    "По средним зарасам сырья перспективнее выглядят первый и третий регионы, разница между ними всего в 2.5 тыс баррелей. Второй регион по средним запасам самый скудный. \n",
    "\n",
    "Если сравнить с минимальным колличеством запасов сырья для безубыточной разработки, первый и третий регион, приблизительно на 15% отстают от этого показателя, и если разрабатывать все подряд месторождения, то шанс получить убытки очень высок. Во втором регионе это отношение составляет почти половину от минимального колличества."
   ]
  },
  {
   "attachments": {},
   "cell_type": "markdown",
   "metadata": {},
   "source": [
    "Напишем функцию, которая будет высчитывать возможную реальную прибыль для заданного колличества лучших из предсказанных месторождений, с учетом бюджета на разработку. Функция получает на вход предсказанные объемы, реальные объемы из предоставленных данных,бюджет на разработку, колличество разрабатываемых месторождений, цена за тыс. баррелей. Ны выходе получаем итоговую прибыль."
   ]
  },
  {
   "cell_type": "code",
   "execution_count": 21,
   "metadata": {},
   "outputs": [],
   "source": [
    "def profit(predicted, target, BUDGET, WELLS, BARREL_COST):\n",
    "    probs_sorted = predicted.sort_values(ascending=False)\n",
    "    selected = target[probs_sorted.index][:WELLS]\n",
    "    return int(selected.sum())*BARREL_COST - BUDGET\n",
    "       "
   ]
  },
  {
   "attachments": {},
   "cell_type": "markdown",
   "metadata": {},
   "source": [
    "Проверим работоспособость функции"
   ]
  },
  {
   "cell_type": "code",
   "execution_count": 22,
   "metadata": {
    "scrolled": true
   },
   "outputs": [
    {
     "name": "stdout",
     "output_type": "stream",
     "text": [
      "Пердсказанная прибыль для первого региона 3320450000\n",
      "Пердсказанная прибыль для второго региона 2415050000\n",
      "Пердсказанная прибыль для третьего региона 2710250000\n"
     ]
    }
   ],
   "source": [
    "print('Пердсказанная прибыль для первого региона', profit(pd.Series(predicted_geo0_valid), target_geo0_valid.reset_index(drop=True), BUDGET, WELLS, BARREL_COST))\n",
    "print('Пердсказанная прибыль для второго региона', profit(pd.Series(predicted_geo1_valid), target_geo1_valid.reset_index(drop=True), BUDGET, WELLS, BARREL_COST))\n",
    "print('Пердсказанная прибыль для третьего региона', profit(pd.Series(predicted_geo2_valid), target_geo2_valid.reset_index(drop=True), BUDGET, WELLS, BARREL_COST))\n"
   ]
  },
  {
   "attachments": {},
   "cell_type": "markdown",
   "metadata": {},
   "source": [
    "Полученные цыфры, максимально возможная прибыль, если будут разрабатываться только лучшие месторождения в регионе."
   ]
  },
  {
   "attachments": {},
   "cell_type": "markdown",
   "metadata": {},
   "source": [
    "## Расчёт прибыли и рисков "
   ]
  },
  {
   "attachments": {},
   "cell_type": "markdown",
   "metadata": {},
   "source": [
    "С помощью метода Bootstrap проведем 1000 выборок для определения средней прибыли с региона, доверительного интервала и риск убытков."
   ]
  },
  {
   "cell_type": "code",
   "execution_count": 30,
   "metadata": {},
   "outputs": [],
   "source": [
    "def total_research(predicted, target, BUDGET, WELLS, BARREL_COST, POINTS, CONF_INTERVAL):\n",
    "    state = np.random.RandomState(12345)\n",
    "\n",
    "    target = target.reset_index(drop=True)\n",
    "    predicted = pd.Series(predicted)\n",
    "\n",
    "    values = []\n",
    "    for i in range(1000):\n",
    "        target_subsample = target.sample(n=POINTS, replace=True, random_state=state)\n",
    "        probs_subsample = predicted[target_subsample.index] \n",
    "        values.append(profit(probs_subsample, target_subsample, BUDGET, WELLS, BARREL_COST))\n",
    "\n",
    "    values = pd.Series(values)\n",
    "\n",
    "    print(\"Cредняя прибыль для региона:\", values.mean())\n",
    "    \n",
    "\n",
    "    confidence_interval = st.t.interval(CONF_INTERVAL, len(values)-1, values.mean(), values.sem())\n",
    "\n",
    "    print(\"95%-ый доверительный интервал:\", values.quantile(0.025), '....', values.quantile(0.975))\n",
    "    print()\n",
    "    print('Риск убытков', ((values<0).mean()*100), '%')\n",
    "    return"
   ]
  },
  {
   "attachments": {},
   "cell_type": "markdown",
   "metadata": {},
   "source": [
    "Проведем вычисления для первого региона"
   ]
  },
  {
   "cell_type": "code",
   "execution_count": 31,
   "metadata": {},
   "outputs": [
    {
     "name": "stdout",
     "output_type": "stream",
     "text": [
      "Cредняя прибыль для региона: 425717450.0\n",
      "95%-ый доверительный интервал: -102306250.0 .... 947656250.0\n",
      "\n",
      "Риск убытков 6.0 %\n"
     ]
    }
   ],
   "source": [
    "total_research(predicted_geo0_valid, target_geo0_valid, BUDGET, WELLS, BARREL_COST, POINTS, CONF_INTERVAL)"
   ]
  },
  {
   "attachments": {},
   "cell_type": "markdown",
   "metadata": {},
   "source": [
    "Проведем вычисления для второго региона"
   ]
  },
  {
   "cell_type": "code",
   "execution_count": 32,
   "metadata": {},
   "outputs": [
    {
     "name": "stdout",
     "output_type": "stream",
     "text": [
      "Cредняя прибыль для региона: 514989350.0\n",
      "95%-ый доверительный интервал: 68716250.0 .... 931445000.0\n",
      "\n",
      "Риск убытков 1.0 %\n"
     ]
    }
   ],
   "source": [
    "total_research(predicted_geo1_valid, target_geo1_valid, BUDGET, WELLS, BARREL_COST, POINTS, CONF_INTERVAL)"
   ]
  },
  {
   "attachments": {},
   "cell_type": "markdown",
   "metadata": {},
   "source": [
    "Проведем вычисления для третьего региона"
   ]
  },
  {
   "cell_type": "code",
   "execution_count": 33,
   "metadata": {},
   "outputs": [
    {
     "name": "stdout",
     "output_type": "stream",
     "text": [
      "Cредняя прибыль для региона: 434773250.0\n",
      "95%-ый доверительный интервал: -129317500.0 .... 969672500.0\n",
      "\n",
      "Риск убытков 6.4 %\n"
     ]
    }
   ],
   "source": [
    "total_research(predicted_geo2_valid, target_geo2_valid, BUDGET, WELLS, BARREL_COST, POINTS, CONF_INTERVAL)"
   ]
  },
  {
   "attachments": {},
   "cell_type": "markdown",
   "metadata": {},
   "source": [
    "## Вывод"
   ]
  },
  {
   "attachments": {},
   "cell_type": "markdown",
   "metadata": {},
   "source": [
    "В текущем исследовании были обучены модели для трех регионов, которые предсказывают объем сырья, по параметрам замеров нефти в месторождении. С помощью обученных моделей были исследованы 3 региона, на результатах предсказаний котрых, была проведена симуляция выбора 500 случайных месторождений из которых выбиралось 200 лучших, на основе предскзанных запасов, и для этих месторождений высчитывалась итоговая возможная прибыль, на основе запасов по месторождениям из предоставленных реальных данных, данная процедура прошла 1000 повторений. По результатам симуляции получены следующие данные: средняя прибыль с региона, доверительный интервал и риск убытков. Доверительный интервал показывает, среди каких значений с заданным шансом скорее всего будет итоговая средняя прибыль с региона при реальной разработке региона.\n",
    "\n",
    "По условиям исследования, риск разработки в регионе не должен превышать 2.5%, соответственно нам подходит только второй регион, причем средняя прибыть по результатам работы алгоритма самая высокая среди трех регионов и составляет 514 989 350 рублей. \n",
    "\n",
    "Модель обучения для второго региона показывала самый низкий показатель средней квадратичной разницы между прогнозируемыми значениями и фактическими и соответственно данная модель наиболее точно предсказывала объем сырья в месторождении."
   ]
  }
 ],
 "metadata": {
  "ExecuteTimeLog": [
   {
    "duration": 1707,
    "start_time": "2023-01-30T18:12:45.577Z"
   },
   {
    "duration": 1445,
    "start_time": "2023-01-30T18:12:47.286Z"
   },
   {
    "duration": 28,
    "start_time": "2023-01-30T18:12:48.732Z"
   },
   {
    "duration": 1389,
    "start_time": "2023-01-30T18:12:48.761Z"
   },
   {
    "duration": 149,
    "start_time": "2023-01-30T18:12:50.151Z"
   },
   {
    "duration": 151,
    "start_time": "2023-01-30T18:12:50.302Z"
   },
   {
    "duration": 131,
    "start_time": "2023-01-30T18:12:50.455Z"
   },
   {
    "duration": 9,
    "start_time": "2023-01-30T18:12:50.588Z"
   },
   {
    "duration": 45,
    "start_time": "2023-01-30T18:12:50.599Z"
   },
   {
    "duration": 188,
    "start_time": "2023-01-30T18:12:50.647Z"
   },
   {
    "duration": 11,
    "start_time": "2023-01-30T18:12:50.921Z"
   },
   {
    "duration": 91,
    "start_time": "2023-01-30T18:12:50.933Z"
   },
   {
    "duration": 8,
    "start_time": "2023-01-30T18:12:51.026Z"
   },
   {
    "duration": 11,
    "start_time": "2023-01-30T18:12:51.035Z"
   },
   {
    "duration": 6,
    "start_time": "2023-01-30T18:12:51.048Z"
   },
   {
    "duration": 32,
    "start_time": "2023-01-30T18:12:51.056Z"
   },
   {
    "duration": 4,
    "start_time": "2023-01-30T18:12:51.090Z"
   },
   {
    "duration": 1328,
    "start_time": "2023-01-30T18:12:51.096Z"
   },
   {
    "duration": 1330,
    "start_time": "2023-01-30T18:12:52.426Z"
   },
   {
    "duration": 1373,
    "start_time": "2023-01-30T18:12:53.757Z"
   },
   {
    "duration": 1420,
    "start_time": "2023-01-30T18:55:53.796Z"
   },
   {
    "duration": 3,
    "start_time": "2023-01-30T18:55:55.218Z"
   },
   {
    "duration": 1582,
    "start_time": "2023-01-30T18:55:55.222Z"
   },
   {
    "duration": 51,
    "start_time": "2023-01-30T18:55:56.806Z"
   },
   {
    "duration": 1976,
    "start_time": "2023-01-30T18:55:56.860Z"
   },
   {
    "duration": 181,
    "start_time": "2023-01-30T18:55:58.838Z"
   },
   {
    "duration": 188,
    "start_time": "2023-01-30T18:55:59.022Z"
   },
   {
    "duration": 246,
    "start_time": "2023-01-30T18:55:59.212Z"
   },
   {
    "duration": 16,
    "start_time": "2023-01-30T18:55:59.460Z"
   },
   {
    "duration": 43,
    "start_time": "2023-01-30T18:55:59.479Z"
   },
   {
    "duration": 363,
    "start_time": "2023-01-30T18:55:59.525Z"
   },
   {
    "duration": 86,
    "start_time": "2023-01-30T18:55:59.889Z"
   },
   {
    "duration": 224,
    "start_time": "2023-01-30T18:55:59.976Z"
   },
   {
    "duration": 0,
    "start_time": "2023-01-30T18:56:00.202Z"
   },
   {
    "duration": 0,
    "start_time": "2023-01-30T18:56:00.203Z"
   },
   {
    "duration": 0,
    "start_time": "2023-01-30T18:56:00.204Z"
   },
   {
    "duration": 0,
    "start_time": "2023-01-30T18:56:00.205Z"
   },
   {
    "duration": 0,
    "start_time": "2023-01-30T18:56:00.206Z"
   },
   {
    "duration": 0,
    "start_time": "2023-01-30T18:56:00.207Z"
   },
   {
    "duration": 0,
    "start_time": "2023-01-30T18:56:00.209Z"
   },
   {
    "duration": 12,
    "start_time": "2023-01-30T18:56:43.817Z"
   },
   {
    "duration": 5,
    "start_time": "2023-01-30T18:57:06.460Z"
   },
   {
    "duration": 20,
    "start_time": "2023-01-30T18:57:36.029Z"
   },
   {
    "duration": 17,
    "start_time": "2023-01-30T18:57:39.534Z"
   },
   {
    "duration": 11,
    "start_time": "2023-01-30T18:58:16.181Z"
   },
   {
    "duration": 5,
    "start_time": "2023-01-30T19:03:34.127Z"
   },
   {
    "duration": 6,
    "start_time": "2023-01-30T19:03:38.899Z"
   },
   {
    "duration": 3,
    "start_time": "2023-01-30T19:03:43.207Z"
   },
   {
    "duration": 22,
    "start_time": "2023-01-30T19:03:45.912Z"
   },
   {
    "duration": 17,
    "start_time": "2023-01-30T19:03:53.263Z"
   },
   {
    "duration": 6,
    "start_time": "2023-01-30T19:06:11.993Z"
   },
   {
    "duration": 1673,
    "start_time": "2023-01-30T19:06:21.398Z"
   },
   {
    "duration": 11,
    "start_time": "2023-01-30T19:06:34.964Z"
   },
   {
    "duration": 1798,
    "start_time": "2023-01-30T19:06:38.293Z"
   },
   {
    "duration": 1659,
    "start_time": "2023-01-30T19:06:49.411Z"
   },
   {
    "duration": 1632,
    "start_time": "2023-01-30T19:07:00.588Z"
   },
   {
    "duration": 15,
    "start_time": "2023-01-30T19:07:16.469Z"
   },
   {
    "duration": 1700,
    "start_time": "2023-01-30T19:07:20.263Z"
   },
   {
    "duration": 1683,
    "start_time": "2023-01-30T19:07:26.805Z"
   },
   {
    "duration": 1732,
    "start_time": "2023-01-30T19:07:31.029Z"
   }
  ],
  "kernelspec": {
   "display_name": "Python 3 (ipykernel)",
   "language": "python",
   "name": "python3"
  },
  "language_info": {
   "codemirror_mode": {
    "name": "ipython",
    "version": 3
   },
   "file_extension": ".py",
   "mimetype": "text/x-python",
   "name": "python",
   "nbconvert_exporter": "python",
   "pygments_lexer": "ipython3",
   "version": "3.9.5"
  },
  "toc": {
   "base_numbering": 1,
   "nav_menu": {},
   "number_sections": true,
   "sideBar": true,
   "skip_h1_title": true,
   "title_cell": "Table of Contents",
   "title_sidebar": "Contents",
   "toc_cell": false,
   "toc_position": {},
   "toc_section_display": true,
   "toc_window_display": true
  }
 },
 "nbformat": 4,
 "nbformat_minor": 2
}
