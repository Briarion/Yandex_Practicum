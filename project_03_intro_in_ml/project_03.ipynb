{
 "cells": [
  {
   "cell_type": "markdown",
   "metadata": {},
   "source": [
    "# Рекомендация тарифов"
   ]
  },
  {
   "cell_type": "markdown",
   "metadata": {},
   "source": [
    "В вашем распоряжении данные о поведении клиентов, которые уже перешли на эти тарифы (из проекта курса «Статистический анализ данных»). Нужно построить модель для задачи классификации, которая выберет подходящий тариф. Предобработка данных не понадобится — вы её уже сделали.\n",
    "\n",
    "Постройте модель с максимально большим значением *accuracy*. Чтобы сдать проект успешно, нужно довести долю правильных ответов по крайней мере до 0.75. Проверьте *accuracy* на тестовой выборке самостоятельно."
   ]
  },
  {
   "cell_type": "markdown",
   "metadata": {},
   "source": [
    "## Откройте и изучите файл"
   ]
  },
  {
   "cell_type": "markdown",
   "metadata": {},
   "source": [
    "Подключим библиотеки, необходимые для проведения обучения и тестирования модели."
   ]
  },
  {
   "cell_type": "code",
   "execution_count": 1,
   "metadata": {},
   "outputs": [],
   "source": [
    "import pandas as pd\n",
    "import numpy as np\n",
    "from sklearn.tree import DecisionTreeClassifier\n",
    "from sklearn.ensemble import RandomForestClassifier\n",
    "from sklearn.linear_model import LogisticRegression\n",
    "from sklearn.dummy import DummyClassifier\n",
    "from sklearn.metrics import accuracy_score\n",
    "from sklearn.model_selection import train_test_split"
   ]
  },
  {
   "cell_type": "markdown",
   "metadata": {},
   "source": [
    "Загружаем файл с данными"
   ]
  },
  {
   "cell_type": "code",
   "execution_count": 2,
   "metadata": {},
   "outputs": [
    {
     "name": "stdout",
     "output_type": "stream",
     "text": [
      "Файл загружен\n"
     ]
    }
   ],
   "source": [
    "try:\n",
    "    df = pd.read_csv('/datasets/users_behavior.csv')\n",
    "    print('Файл загружен')\n",
    "except:\n",
    "    print('Файл не найден')"
   ]
  },
  {
   "cell_type": "markdown",
   "metadata": {},
   "source": [
    "Проверим датафрейм на пропуски и ошибки при загрузке данных."
   ]
  },
  {
   "cell_type": "code",
   "execution_count": 3,
   "metadata": {},
   "outputs": [
    {
     "data": {
      "text/html": [
       "<div>\n",
       "<style scoped>\n",
       "    .dataframe tbody tr th:only-of-type {\n",
       "        vertical-align: middle;\n",
       "    }\n",
       "\n",
       "    .dataframe tbody tr th {\n",
       "        vertical-align: top;\n",
       "    }\n",
       "\n",
       "    .dataframe thead th {\n",
       "        text-align: right;\n",
       "    }\n",
       "</style>\n",
       "<table border=\"1\" class=\"dataframe\">\n",
       "  <thead>\n",
       "    <tr style=\"text-align: right;\">\n",
       "      <th></th>\n",
       "      <th>calls</th>\n",
       "      <th>minutes</th>\n",
       "      <th>messages</th>\n",
       "      <th>mb_used</th>\n",
       "      <th>is_ultra</th>\n",
       "    </tr>\n",
       "  </thead>\n",
       "  <tbody>\n",
       "    <tr>\n",
       "      <th>0</th>\n",
       "      <td>40.0</td>\n",
       "      <td>311.90</td>\n",
       "      <td>83.0</td>\n",
       "      <td>19915.42</td>\n",
       "      <td>0</td>\n",
       "    </tr>\n",
       "    <tr>\n",
       "      <th>1</th>\n",
       "      <td>85.0</td>\n",
       "      <td>516.75</td>\n",
       "      <td>56.0</td>\n",
       "      <td>22696.96</td>\n",
       "      <td>0</td>\n",
       "    </tr>\n",
       "    <tr>\n",
       "      <th>2</th>\n",
       "      <td>77.0</td>\n",
       "      <td>467.66</td>\n",
       "      <td>86.0</td>\n",
       "      <td>21060.45</td>\n",
       "      <td>0</td>\n",
       "    </tr>\n",
       "    <tr>\n",
       "      <th>3</th>\n",
       "      <td>106.0</td>\n",
       "      <td>745.53</td>\n",
       "      <td>81.0</td>\n",
       "      <td>8437.39</td>\n",
       "      <td>1</td>\n",
       "    </tr>\n",
       "    <tr>\n",
       "      <th>4</th>\n",
       "      <td>66.0</td>\n",
       "      <td>418.74</td>\n",
       "      <td>1.0</td>\n",
       "      <td>14502.75</td>\n",
       "      <td>0</td>\n",
       "    </tr>\n",
       "    <tr>\n",
       "      <th>5</th>\n",
       "      <td>58.0</td>\n",
       "      <td>344.56</td>\n",
       "      <td>21.0</td>\n",
       "      <td>15823.37</td>\n",
       "      <td>0</td>\n",
       "    </tr>\n",
       "    <tr>\n",
       "      <th>6</th>\n",
       "      <td>57.0</td>\n",
       "      <td>431.64</td>\n",
       "      <td>20.0</td>\n",
       "      <td>3738.90</td>\n",
       "      <td>1</td>\n",
       "    </tr>\n",
       "    <tr>\n",
       "      <th>7</th>\n",
       "      <td>15.0</td>\n",
       "      <td>132.40</td>\n",
       "      <td>6.0</td>\n",
       "      <td>21911.60</td>\n",
       "      <td>0</td>\n",
       "    </tr>\n",
       "    <tr>\n",
       "      <th>8</th>\n",
       "      <td>7.0</td>\n",
       "      <td>43.39</td>\n",
       "      <td>3.0</td>\n",
       "      <td>2538.67</td>\n",
       "      <td>1</td>\n",
       "    </tr>\n",
       "    <tr>\n",
       "      <th>9</th>\n",
       "      <td>90.0</td>\n",
       "      <td>665.41</td>\n",
       "      <td>38.0</td>\n",
       "      <td>17358.61</td>\n",
       "      <td>0</td>\n",
       "    </tr>\n",
       "  </tbody>\n",
       "</table>\n",
       "</div>"
      ],
      "text/plain": [
       "   calls  minutes  messages   mb_used  is_ultra\n",
       "0   40.0   311.90      83.0  19915.42         0\n",
       "1   85.0   516.75      56.0  22696.96         0\n",
       "2   77.0   467.66      86.0  21060.45         0\n",
       "3  106.0   745.53      81.0   8437.39         1\n",
       "4   66.0   418.74       1.0  14502.75         0\n",
       "5   58.0   344.56      21.0  15823.37         0\n",
       "6   57.0   431.64      20.0   3738.90         1\n",
       "7   15.0   132.40       6.0  21911.60         0\n",
       "8    7.0    43.39       3.0   2538.67         1\n",
       "9   90.0   665.41      38.0  17358.61         0"
      ]
     },
     "execution_count": 3,
     "metadata": {},
     "output_type": "execute_result"
    }
   ],
   "source": [
    "df.head(10)"
   ]
  },
  {
   "cell_type": "code",
   "execution_count": 4,
   "metadata": {},
   "outputs": [
    {
     "name": "stdout",
     "output_type": "stream",
     "text": [
      "<class 'pandas.core.frame.DataFrame'>\n",
      "RangeIndex: 3214 entries, 0 to 3213\n",
      "Data columns (total 5 columns):\n",
      " #   Column    Non-Null Count  Dtype  \n",
      "---  ------    --------------  -----  \n",
      " 0   calls     3214 non-null   float64\n",
      " 1   minutes   3214 non-null   float64\n",
      " 2   messages  3214 non-null   float64\n",
      " 3   mb_used   3214 non-null   float64\n",
      " 4   is_ultra  3214 non-null   int64  \n",
      "dtypes: float64(4), int64(1)\n",
      "memory usage: 125.7 KB\n"
     ]
    }
   ],
   "source": [
    "df.info()"
   ]
  },
  {
   "cell_type": "markdown",
   "metadata": {},
   "source": [
    "## Разбейте данные на выборки"
   ]
  },
  {
   "cell_type": "markdown",
   "metadata": {},
   "source": [
    "Разделим датафрейм на два, с признаками(features) и целевым столюцом(target).\n",
    "\n",
    "Общую выборку перед обучением модели требуется разбить на 3 части: обучающую, валидационную и тестовую выборки. Разбиваем на выборки в соотношении 60%/20%20%"
   ]
  },
  {
   "cell_type": "code",
   "execution_count": 5,
   "metadata": {},
   "outputs": [],
   "source": [
    "features = df.drop(['is_ultra'], axis=1)\n",
    "target = df['is_ultra']\n",
    "\n",
    "features_train, features_valid, target_train, target_valid = train_test_split(\n",
    "    features, target, test_size=0.4, random_state=12345)\n",
    "features_valid, features_test, target_valid, target_test = train_test_split(\n",
    "    features_valid, target_valid, test_size=0.5, random_state=12345)"
   ]
  },
  {
   "cell_type": "markdown",
   "metadata": {},
   "source": [
    "Проверим размеры выборок."
   ]
  },
  {
   "cell_type": "code",
   "execution_count": 6,
   "metadata": {},
   "outputs": [
    {
     "name": "stdout",
     "output_type": "stream",
     "text": [
      "Размер обучающей выборки: 1928 Составляет 59.99 % от общей\n",
      "Размер валидационной выборки: 643 Составляет 20.01 % от общей\n",
      "Размер тестовой выборки: 643 Составляет 20.01 % от общей\n"
     ]
    }
   ],
   "source": [
    "print('Размер обучающей выборки:', target_train.shape[0], 'Составляет', round(target_train.shape[0]/df.shape[0]*100, 2), '% от общей')\n",
    "print('Размер валидационной выборки:', target_valid.shape[0], 'Составляет', round(target_valid.shape[0]/df.shape[0]*100, 2), '% от общей')\n",
    "print('Размер тестовой выборки:', target_test.shape[0], 'Составляет', round(target_test.shape[0]/df.shape[0]*100, 2), '% от общей')"
   ]
  },
  {
   "cell_type": "markdown",
   "metadata": {},
   "source": [
    "Выведем первые 5 строк целевого столбца тестовой и валидационной выборки, что бы убедиться что они не пересекаются."
   ]
  },
  {
   "cell_type": "code",
   "execution_count": 7,
   "metadata": {},
   "outputs": [
    {
     "data": {
      "text/plain": [
       "1386    0\n",
       "3124    0\n",
       "1956    0\n",
       "2286    0\n",
       "3077    0\n",
       "Name: is_ultra, dtype: int64"
      ]
     },
     "metadata": {},
     "output_type": "display_data"
    },
    {
     "data": {
      "text/plain": [
       "160     0\n",
       "2498    0\n",
       "1748    0\n",
       "1816    0\n",
       "1077    1\n",
       "Name: is_ultra, dtype: int64"
      ]
     },
     "metadata": {},
     "output_type": "display_data"
    }
   ],
   "source": [
    "display(target_valid.head())\n",
    "display(target_test.head())"
   ]
  },
  {
   "cell_type": "markdown",
   "metadata": {},
   "source": [
    "## Исследуйте модели"
   ]
  },
  {
   "cell_type": "markdown",
   "metadata": {},
   "source": [
    "В текущем исследовании будем рассматрицать следующий модели машинного обучения: Дерево Решений(DecisionTreeClassifier), Случайный Лес(RandomForestClassifier) и Логистическая регрессия(LogisticRegression)."
   ]
  },
  {
   "cell_type": "markdown",
   "metadata": {},
   "source": [
    "### DecisionTreeClassifier"
   ]
  },
  {
   "cell_type": "markdown",
   "metadata": {},
   "source": [
    "Обучим модель DecisionTreeClassifier с гиперпараметрами по умолчанию. Начальное состояние генератора случайных чисел зададим 12345."
   ]
  },
  {
   "cell_type": "code",
   "execution_count": 8,
   "metadata": {},
   "outputs": [
    {
     "name": "stdout",
     "output_type": "stream",
     "text": [
      "Точность обучения: 0.713841368584759\n"
     ]
    }
   ],
   "source": [
    "model = DecisionTreeClassifier(random_state=12345)\n",
    "model.fit(features_train, target_train)\n",
    "predictions = model.predict(features_valid)\n",
    "current_score = accuracy_score(target_valid, predictions)\n",
    "print('Точность обучения:', current_score)"
   ]
  },
  {
   "cell_type": "markdown",
   "metadata": {},
   "source": [
    "Попробуем увеличить точность обучения изменяя гиперпараметры модели. Подберем максимальное количество фичей max_features, которые рассматриваются при выборе лучшего разбиения. \n",
    "\n",
    "Лучший гиперпараметр сохраняем в соответствующей переменной, что бы была возможность использовать его в дальнейшем. \n",
    "\n",
    "Модель обучения с лучшими показателями сохраняем в переменную tree_model."
   ]
  },
  {
   "cell_type": "code",
   "execution_count": 9,
   "metadata": {},
   "outputs": [
    {
     "name": "stdout",
     "output_type": "stream",
     "text": [
      "Максимальное количество фичей: auto\n",
      "Точность обучения: 0.7231726283048211\n"
     ]
    }
   ],
   "source": [
    "max_score = 0\n",
    "for max_features in ['auto', 'sqrt', 'log2']:\n",
    "    model = DecisionTreeClassifier(random_state=12345, max_features=max_features)\n",
    "    model.fit(features_train, target_train)\n",
    "    predictions = model.predict(features_valid)\n",
    "    current_score = accuracy_score(target_valid, predictions)\n",
    "    if max_score < current_score:\n",
    "        best_max_features = max_features\n",
    "        max_score = current_score\n",
    "        tree_model = model\n",
    "print('Максимальное количество фичей:', best_max_features)\n",
    "print('Точность обучения:', max_score)"
   ]
  },
  {
   "cell_type": "markdown",
   "metadata": {},
   "source": [
    "Подберем гиперпараметр глубины дерева."
   ]
  },
  {
   "cell_type": "code",
   "execution_count": 10,
   "metadata": {},
   "outputs": [
    {
     "name": "stdout",
     "output_type": "stream",
     "text": [
      "Максимальная глубина: 5\n",
      "Точность обучения: 0.7884914463452566\n"
     ]
    }
   ],
   "source": [
    "for depth in range(1, 20):\n",
    "    model = DecisionTreeClassifier(random_state=12345, max_depth=depth, max_features=best_max_features)\n",
    "    model.fit(features_train, target_train)\n",
    "    predictions = model.predict(features_valid)\n",
    "    current_score = accuracy_score(target_valid, predictions)\n",
    "    if max_score < current_score:\n",
    "        max_depth = depth\n",
    "        max_score = current_score\n",
    "        tree_model = model\n",
    "print('Максимальная глубина:', max_depth)\n",
    "print('Точность обучения:', max_score)"
   ]
  },
  {
   "cell_type": "markdown",
   "metadata": {},
   "source": [
    "Подберем гиперпараметр миниального количества экземпляров, которое может содержаться в узле для его дальнейшего разбиения."
   ]
  },
  {
   "cell_type": "code",
   "execution_count": 11,
   "metadata": {
    "scrolled": true
   },
   "outputs": [
    {
     "name": "stdout",
     "output_type": "stream",
     "text": [
      "Миниального количества экземпляров в узле : 23\n",
      "Точность обучения: 0.7884914463452566\n"
     ]
    }
   ],
   "source": [
    "for min_samples_split in range(2, 100):\n",
    "    model = DecisionTreeClassifier(random_state=12345, max_depth=max_depth, max_features=best_max_features, min_samples_split=min_samples_split)\n",
    "    model.fit(features_train, target_train)\n",
    "    predictions = model.predict(features_valid)\n",
    "    current_score = accuracy_score(target_valid, predictions)\n",
    "    if max_score <= current_score:\n",
    "        best_min_samples_split = min_samples_split\n",
    "        max_score = current_score\n",
    "        tree_model = model\n",
    "print('Миниального количества экземпляров в узле :', best_min_samples_split)\n",
    "print('Точность обучения:', max_score)"
   ]
  },
  {
   "cell_type": "markdown",
   "metadata": {},
   "source": [
    "Подберем миниальное количество экземпляров, которое может содержаться в листе."
   ]
  },
  {
   "cell_type": "code",
   "execution_count": 12,
   "metadata": {},
   "outputs": [
    {
     "name": "stdout",
     "output_type": "stream",
     "text": [
      "миниальное количество экземпляров в листе: 1\n",
      "Точность обучения: 0.7884914463452566\n"
     ]
    }
   ],
   "source": [
    "for min_samples_leaf in range(1, 100):\n",
    "    model = DecisionTreeClassifier(random_state=12345, max_depth=max_depth, max_features=best_max_features, \n",
    "                                   min_samples_split=best_min_samples_split, min_samples_leaf=min_samples_leaf)\n",
    "    model.fit(features_train, target_train)\n",
    "    predictions = model.predict(features_valid)\n",
    "    current_score = accuracy_score(target_valid, predictions)\n",
    "    if max_score <= current_score:\n",
    "        best_min_samples_leaf = min_samples_leaf\n",
    "        max_score = current_score\n",
    "        tree_model = model\n",
    "print('миниальное количество экземпляров в листе:', best_min_samples_leaf)\n",
    "print('Точность обучения:', max_score)"
   ]
  },
  {
   "cell_type": "markdown",
   "metadata": {},
   "source": [
    "Точность модели удалось поднять за счет гиперпараметров глубины и максимального количества фичей. \n",
    "\n",
    "min_samples_split и min_samples_leaf не повлияли на точность модели."
   ]
  },
  {
   "cell_type": "markdown",
   "metadata": {},
   "source": [
    "### RandomForestClassifier"
   ]
  },
  {
   "cell_type": "markdown",
   "metadata": {},
   "source": [
    "Обучим модель RandomForestClassifier с гиперпараметрами по умолчанию. Начальное состояние генератора случайных чисел зададим 12345."
   ]
  },
  {
   "cell_type": "code",
   "execution_count": 13,
   "metadata": {},
   "outputs": [
    {
     "name": "stdout",
     "output_type": "stream",
     "text": [
      "Точность обучения: 0.7853810264385692\n"
     ]
    }
   ],
   "source": [
    "model = RandomForestClassifier(random_state=12345) \n",
    "model.fit(features_train, target_train) \n",
    "predictions = model.predict(features_valid)\n",
    "current_score = accuracy_score(target_valid, predictions)\n",
    "print('Точность обучения:', current_score)"
   ]
  },
  {
   "cell_type": "markdown",
   "metadata": {},
   "source": [
    "Попробуем увеличить точность обучения изменяя гиперпараметры модели. Подберем колличество деревеьев в модели\n",
    "\n",
    "Лучший гиперпараметр сохраняем в соответствующей переменной, что бы была возможность использовать его в дальнейшем.\n",
    "\n",
    "Модель обучения с лучшими показателями сохраняем в переменную forest_model."
   ]
  },
  {
   "cell_type": "code",
   "execution_count": 14,
   "metadata": {},
   "outputs": [
    {
     "name": "stdout",
     "output_type": "stream",
     "text": [
      "Колличество деревьев: 50\n",
      "Точность обучения: 0.7916018662519441\n"
     ]
    }
   ],
   "source": [
    "max_score = 0\n",
    "for n_estimators in range(10, 200, 10):\n",
    "    model = RandomForestClassifier(random_state=12345, n_estimators=n_estimators) \n",
    "    model.fit(features_train, target_train) \n",
    "    predictions = model.predict(features_valid)\n",
    "    current_score = accuracy_score(target_valid, predictions)\n",
    "    if max_score < current_score:\n",
    "        best_n_estimators = n_estimators \n",
    "        max_score = current_score\n",
    "        forest_model = model\n",
    "print('Колличество деревьев:', best_n_estimators)\n",
    "print('Точность обучения:', max_score)"
   ]
  },
  {
   "cell_type": "markdown",
   "metadata": {},
   "source": [
    "Подберем максимальную глубину дерева."
   ]
  },
  {
   "cell_type": "code",
   "execution_count": 15,
   "metadata": {
    "scrolled": true
   },
   "outputs": [
    {
     "name": "stdout",
     "output_type": "stream",
     "text": [
      "Максимальная глубина: 8\n",
      "Точность обучения: 0.807153965785381\n"
     ]
    }
   ],
   "source": [
    "for max_depth in range(2, 50):\n",
    "    model = RandomForestClassifier(random_state=12345, n_estimators=best_n_estimators, max_depth=max_depth) \n",
    "    model.fit(features_train, target_train) \n",
    "    predictions = model.predict(features_valid)\n",
    "    current_score = accuracy_score(target_valid, predictions)\n",
    "    if max_score < current_score:\n",
    "        best_max_depth = max_depth \n",
    "        max_score = current_score\n",
    "        forest_model = model\n",
    "print('Максимальная глубина:', best_max_depth)\n",
    "print('Точность обучения:', max_score)"
   ]
  },
  {
   "cell_type": "markdown",
   "metadata": {},
   "source": [
    "Подберем гиперпараметр миниального количества экземпляров, которое может содержаться в узле для его дальнейшего разбиения."
   ]
  },
  {
   "cell_type": "code",
   "execution_count": 16,
   "metadata": {},
   "outputs": [
    {
     "name": "stdout",
     "output_type": "stream",
     "text": [
      "миниальное количество экземпляров в узле: 18\n",
      "Точность обучения: 0.8102643856920684\n"
     ]
    }
   ],
   "source": [
    "for min_samples_split in range(2, 50):\n",
    "    model = RandomForestClassifier(random_state=12345, n_estimators=best_n_estimators, max_depth=best_max_depth, min_samples_split=min_samples_split) \n",
    "    model.fit(features_train, target_train) \n",
    "    predictions = model.predict(features_valid)\n",
    "    current_score = accuracy_score(target_valid, predictions) \n",
    "    if max_score < current_score:\n",
    "        best_min_samples_split = min_samples_split \n",
    "        max_score = current_score\n",
    "        forest_model = model\n",
    "print('миниальное количество экземпляров в узле:', best_min_samples_split)\n",
    "print('Точность обучения:', max_score)"
   ]
  },
  {
   "cell_type": "markdown",
   "metadata": {},
   "source": [
    "Подберем миниальное количество экземпляров, которое может содержаться в листе."
   ]
  },
  {
   "cell_type": "code",
   "execution_count": 17,
   "metadata": {},
   "outputs": [
    {
     "name": "stdout",
     "output_type": "stream",
     "text": [
      "Миниальное количество экземпляров в листе: 1\n",
      "Точность обучения: 0.8102643856920684\n"
     ]
    }
   ],
   "source": [
    "for min_samples_leaf in range(1, 50):\n",
    "    model = RandomForestClassifier(\n",
    "        random_state=12345, n_estimators=50, max_depth=8, min_samples_split=best_min_samples_split, min_samples_leaf=min_samples_leaf\n",
    "    ) \n",
    "    model.fit(features_train, target_train) \n",
    "    predictions = model.predict(features_valid)\n",
    "    current_score = accuracy_score(target_valid, predictions) \n",
    "    if max_score < current_score:\n",
    "        best_min_samples_leaf = min_samples_leaf \n",
    "        max_score = current_score\n",
    "        forest_model = model\n",
    "print('Миниальное количество экземпляров в листе:', best_min_samples_leaf)\n",
    "print('Точность обучения:', max_score)"
   ]
  },
  {
   "cell_type": "markdown",
   "metadata": {},
   "source": [
    "Модель случайного леса хорошо обучается, и подбор каждого из выбранных гиперпараметров улучшает качество модели."
   ]
  },
  {
   "cell_type": "markdown",
   "metadata": {},
   "source": [
    "### LogisticRegression"
   ]
  },
  {
   "cell_type": "markdown",
   "metadata": {},
   "source": [
    "Обучим модель LogisticRegression с гиперпараметрами по умолчанию. Начальное состояние генератора случайных чисел зададим 12345."
   ]
  },
  {
   "cell_type": "code",
   "execution_count": 18,
   "metadata": {},
   "outputs": [
    {
     "name": "stdout",
     "output_type": "stream",
     "text": [
      "Точность обучения: 0.7107309486780715\n"
     ]
    }
   ],
   "source": [
    "model = LogisticRegression(random_state=12345)\n",
    "model.fit(features_train, target_train) \n",
    "predictions = model.predict(features_valid)\n",
    "current_score = accuracy_score(target_valid, predictions)\n",
    "print('Точность обучения:', current_score)"
   ]
  },
  {
   "cell_type": "markdown",
   "metadata": {},
   "source": [
    "Попробуем увеличить точность обучения изменяя гиперпараметры модели. Подберем алгоритм для использования в обучении.\n",
    "\n",
    "Лучший гиперпараметр сохраняем в соответствующей переменной, что бы была возможность использовать его в дальнейшем.\n",
    "\n",
    "Модель обучения с лучшими показателями сохраняем в переменную logistic_model."
   ]
  },
  {
   "cell_type": "code",
   "execution_count": 19,
   "metadata": {},
   "outputs": [
    {
     "name": "stdout",
     "output_type": "stream",
     "text": [
      "Алгоритм для использования в обучении: lbfgs\n",
      "Точность обучения: 0.7107309486780715\n"
     ]
    }
   ],
   "source": [
    "max_score = 0\n",
    "for solver in ['lbfgs', 'liblinear', 'sag', 'saga']:\n",
    "    model = LogisticRegression(random_state=12345, solver=solver, max_iter=10000)\n",
    "    model.fit(features_train, target_train) \n",
    "    predictions = model.predict(features_valid)\n",
    "    current_score = accuracy_score(target_valid, predictions)\n",
    "    if max_score < current_score:\n",
    "        best_solver = solver\n",
    "        max_score = current_score\n",
    "        logistic_model = model\n",
    "print('Алгоритм для использования в обучении:', best_solver)\n",
    "print('Точность обучения:', max_score)"
   ]
  },
  {
   "cell_type": "markdown",
   "metadata": {},
   "source": [
    "Подберем максимальное коллчисество итераций."
   ]
  },
  {
   "cell_type": "code",
   "execution_count": 20,
   "metadata": {},
   "outputs": [
    {
     "name": "stdout",
     "output_type": "stream",
     "text": [
      "Размер максимального коллчисество итераций: 9900\n",
      "Точность обучения: 0.7107309486780715\n"
     ]
    }
   ],
   "source": [
    "for max_iter in range(100, 10000, 100):\n",
    "    model = LogisticRegression(random_state=12345, solver=best_solver, max_iter=max_iter)\n",
    "    model.fit(features_train, target_train)\n",
    "    predictions = model.predict(features_valid)\n",
    "    current_score = accuracy_score(target_valid, predictions)\n",
    "    if max_score <= current_score:\n",
    "        best_max_iter = max_iter\n",
    "        max_score = current_score\n",
    "        logistic_model = model\n",
    "print('Размер максимального коллчисество итераций:', best_max_iter)\n",
    "print('Точность обучения:', max_score)"
   ]
  },
  {
   "cell_type": "markdown",
   "metadata": {},
   "source": [
    "Подберем штраф за неверную итерацию"
   ]
  },
  {
   "cell_type": "code",
   "execution_count": 21,
   "metadata": {
    "scrolled": false
   },
   "outputs": [
    {
     "name": "stdout",
     "output_type": "stream",
     "text": [
      "Размер штрафа неверной итерации: 10000.0\n",
      "Точность обучения: 0.7558320373250389\n"
     ]
    }
   ],
   "source": [
    "for C in np.logspace(-4, 4, 10):\n",
    "    model = LogisticRegression(random_state=12345, solver=best_solver, max_iter=best_max_iter, C=C)\n",
    "    model.fit(features_train, target_train)\n",
    "    predictions = model.predict(features_valid)\n",
    "    current_score = accuracy_score(target_valid, predictions)\n",
    "    if max_score <= current_score:\n",
    "        regularization_strength = C\n",
    "        max_score = current_score\n",
    "        logistic_model = model\n",
    "print('Размер штрафа неверной итерации:', regularization_strength)\n",
    "print('Точность обучения:', max_score)"
   ]
  },
  {
   "cell_type": "markdown",
   "metadata": {},
   "source": [
    "Подберем толерантность к критериям остановки."
   ]
  },
  {
   "cell_type": "code",
   "execution_count": 22,
   "metadata": {},
   "outputs": [
    {
     "name": "stdout",
     "output_type": "stream",
     "text": [
      "Толерантность к критериям остановки: 114.9756995397738\n",
      "Точность обучения: 0.7558320373250389\n"
     ]
    }
   ],
   "source": [
    "for tol in np.logspace(-4, 4, 100):\n",
    "    model = LogisticRegression(random_state=12345, solver=best_solver, C=regularization_strength, tol=tol)\n",
    "    model.fit(features_train, target_train) \n",
    "    predictions = model.predict(features_valid)\n",
    "    current_score = accuracy_score(target_valid, predictions)\n",
    "    if max_score <= current_score:\n",
    "        best_tol = tol\n",
    "        max_score = current_score\n",
    "        logistic_model = model\n",
    "print('Толерантность к критериям остановки:', best_tol)\n",
    "print('Точность обучения:', max_score)"
   ]
  },
  {
   "cell_type": "markdown",
   "metadata": {},
   "source": [
    "Из выбранных гиперпараметров увеличение точности дало только изменение штрафа неверной итерации."
   ]
  },
  {
   "cell_type": "markdown",
   "metadata": {},
   "source": [
    "## Проверьте модель на тестовой выборке"
   ]
  },
  {
   "cell_type": "markdown",
   "metadata": {},
   "source": [
    "Проверим лучшие модели обучения на тестовой выборке"
   ]
  },
  {
   "cell_type": "code",
   "execution_count": 23,
   "metadata": {},
   "outputs": [
    {
     "name": "stdout",
     "output_type": "stream",
     "text": [
      "Точность обучения на тестовой выборке: 0.7884914463452566\n",
      "Точность обучения на валидационной выборке: 0.7884914463452566\n"
     ]
    }
   ],
   "source": [
    "tree_model.fit(features_train, target_train)\n",
    "predictions = tree_model.predict(features_test)\n",
    "print('Точность обучения на тестовой выборке:', accuracy_score(target_test, predictions))\n",
    "predictions = tree_model.predict(features_valid)\n",
    "print('Точность обучения на валидационной выборке:', accuracy_score(target_valid, predictions))"
   ]
  },
  {
   "cell_type": "code",
   "execution_count": 24,
   "metadata": {},
   "outputs": [
    {
     "name": "stdout",
     "output_type": "stream",
     "text": [
      "Точность обучения на тестовой выборке: 0.807153965785381\n",
      "Точность обучения на валидационной выборке: 0.8102643856920684\n"
     ]
    }
   ],
   "source": [
    "forest_model.fit(features_train, target_train)\n",
    "predictions = forest_model.predict(features_test)\n",
    "print('Точность обучения на тестовой выборке:', accuracy_score(target_test, predictions))\n",
    "predictions = forest_model.predict(features_valid)\n",
    "print('Точность обучения на валидационной выборке:', accuracy_score(target_valid, predictions))"
   ]
  },
  {
   "cell_type": "code",
   "execution_count": 25,
   "metadata": {
    "scrolled": true
   },
   "outputs": [
    {
     "name": "stdout",
     "output_type": "stream",
     "text": [
      "Точность обучения на тестовой выборке: 0.7387247278382582\n",
      "Точность обучения на валидационной выборке: 0.7558320373250389\n"
     ]
    }
   ],
   "source": [
    "logistic_model.fit(features_train, target_train)\n",
    "predictions = logistic_model.predict(features_test)\n",
    "print('Точность обучения на тестовой выборке:', accuracy_score(target_test, predictions))\n",
    "predictions = logistic_model.predict(features_valid)\n",
    "print('Точность обучения на валидационной выборке:', accuracy_score(target_valid, predictions))"
   ]
  },
  {
   "cell_type": "markdown",
   "metadata": {},
   "source": [
    "Модель Случайного Леса на тестовой выборке так же показывает высокую точность обучения как и на валидационной.\n",
    "\n",
    "Модель Дерева Решений показывает одинаковую точность как на тестовой выборке, так и на валидационной и занимает второе место.\n",
    "\n",
    "Модель Логистической Регрессии показывает самые худшие показатели точности и на тестовой выборке не проходит порог 0.75"
   ]
  },
  {
   "cell_type": "markdown",
   "metadata": {},
   "source": [
    "## (бонус) Проверьте модели на адекватность"
   ]
  },
  {
   "cell_type": "markdown",
   "metadata": {},
   "source": [
    "Проверим модель на адекватность с помощью DummyClassifier. DummyClassifier всегда предсказывает наиболее часто встречающийся класс."
   ]
  },
  {
   "cell_type": "code",
   "execution_count": 26,
   "metadata": {},
   "outputs": [
    {
     "name": "stdout",
     "output_type": "stream",
     "text": [
      "Точность обучения: 0.6842923794712286\n"
     ]
    }
   ],
   "source": [
    "dummy_model = DummyClassifier(random_state=12345)\n",
    "dummy_model.fit(features_train, target_train)\n",
    "predictions = dummy_model.predict(features_test)\n",
    "print('Точность обучения:', accuracy_score(target_test, predictions))"
   ]
  }
 ],
 "metadata": {
  "kernelspec": {
   "display_name": "Python 3 (ipykernel)",
   "language": "python",
   "name": "python3"
  },
  "language_info": {
   "codemirror_mode": {
    "name": "ipython",
    "version": 3
   },
   "file_extension": ".py",
   "mimetype": "text/x-python",
   "name": "python",
   "nbconvert_exporter": "python",
   "pygments_lexer": "ipython3",
   "version": "3.9.13"
  },
  "toc": {
   "base_numbering": 1,
   "nav_menu": {},
   "number_sections": true,
   "sideBar": true,
   "skip_h1_title": true,
   "title_cell": "Table of Contents",
   "title_sidebar": "Contents",
   "toc_cell": false,
   "toc_position": {},
   "toc_section_display": true,
   "toc_window_display": false
  }
 },
 "nbformat": 4,
 "nbformat_minor": 2
}
