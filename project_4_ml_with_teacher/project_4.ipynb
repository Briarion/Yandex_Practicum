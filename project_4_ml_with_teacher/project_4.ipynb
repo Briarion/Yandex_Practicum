{
 "cells": [
  {
   "cell_type": "markdown",
   "metadata": {
    "toc": true
   },
   "source": [
    "<h1>Содержание<span class=\"tocSkip\"></span></h1>\n",
    "<div class=\"toc\"><ul class=\"toc-item\"><li><span><a href=\"#Подготовка-данных\" data-toc-modified-id=\"Подготовка-данных-1\"><span class=\"toc-item-num\">1&nbsp;&nbsp;</span>Подготовка данных</a></span></li><li><span><a href=\"#Исследование-задачи\" data-toc-modified-id=\"Исследование-задачи-2\"><span class=\"toc-item-num\">2&nbsp;&nbsp;</span>Исследование задачи</a></span><ul class=\"toc-item\"><li><span><a href=\"#DecisionTreeClassifier\" data-toc-modified-id=\"DecisionTreeClassifier-2.1\"><span class=\"toc-item-num\">2.1&nbsp;&nbsp;</span>DecisionTreeClassifier</a></span></li><li><span><a href=\"#RandomForestClassifier\" data-toc-modified-id=\"RandomForestClassifier-2.2\"><span class=\"toc-item-num\">2.2&nbsp;&nbsp;</span>RandomForestClassifier</a></span></li><li><span><a href=\"#LogisticRegression\" data-toc-modified-id=\"LogisticRegression-2.3\"><span class=\"toc-item-num\">2.3&nbsp;&nbsp;</span>LogisticRegression</a></span></li></ul></li><li><span><a href=\"#Борьба-с-дисбалансом\" data-toc-modified-id=\"Борьба-с-дисбалансом-3\"><span class=\"toc-item-num\">3&nbsp;&nbsp;</span>Борьба с дисбалансом</a></span><ul class=\"toc-item\"><li><span><a href=\"#upsample\" data-toc-modified-id=\"upsample-3.1\"><span class=\"toc-item-num\">3.1&nbsp;&nbsp;</span>upsample</a></span><ul class=\"toc-item\"><li><span><a href=\"#DecisionTreeClassifier\" data-toc-modified-id=\"DecisionTreeClassifier-3.1.1\"><span class=\"toc-item-num\">3.1.1&nbsp;&nbsp;</span>DecisionTreeClassifier</a></span></li><li><span><a href=\"#RandomForestClassifier\" data-toc-modified-id=\"RandomForestClassifier-3.1.2\"><span class=\"toc-item-num\">3.1.2&nbsp;&nbsp;</span>RandomForestClassifier</a></span></li><li><span><a href=\"#LogisticRegression\" data-toc-modified-id=\"LogisticRegression-3.1.3\"><span class=\"toc-item-num\">3.1.3&nbsp;&nbsp;</span>LogisticRegression</a></span></li></ul></li><li><span><a href=\"#downsample\" data-toc-modified-id=\"downsample-3.2\"><span class=\"toc-item-num\">3.2&nbsp;&nbsp;</span>downsample</a></span><ul class=\"toc-item\"><li><span><a href=\"#DecisionTreeClassifier\" data-toc-modified-id=\"DecisionTreeClassifier-3.2.1\"><span class=\"toc-item-num\">3.2.1&nbsp;&nbsp;</span>DecisionTreeClassifier</a></span></li><li><span><a href=\"#RandomForestClassifier\" data-toc-modified-id=\"RandomForestClassifier-3.2.2\"><span class=\"toc-item-num\">3.2.2&nbsp;&nbsp;</span>RandomForestClassifier</a></span></li><li><span><a href=\"#LogisticRegression\" data-toc-modified-id=\"LogisticRegression-3.2.3\"><span class=\"toc-item-num\">3.2.3&nbsp;&nbsp;</span>LogisticRegression</a></span></li></ul></li></ul></li><li><span><a href=\"#Тестирование-модели\" data-toc-modified-id=\"Тестирование-модели-4\"><span class=\"toc-item-num\">4&nbsp;&nbsp;</span>Тестирование модели</a></span><ul class=\"toc-item\"><li><span><a href=\"#upsampled\" data-toc-modified-id=\"upsampled-4.1\"><span class=\"toc-item-num\">4.1&nbsp;&nbsp;</span>upsampled</a></span></li><li><span><a href=\"#downsampled\" data-toc-modified-id=\"downsampled-4.2\"><span class=\"toc-item-num\">4.2&nbsp;&nbsp;</span>downsampled</a></span></li></ul></li><li><span><a href=\"#Вывод\" data-toc-modified-id=\"Вывод-5\"><span class=\"toc-item-num\">5&nbsp;&nbsp;</span>Вывод</a></span></li></ul></div>"
   ]
  },
  {
   "cell_type": "markdown",
   "metadata": {},
   "source": [
    "# Отток клиентов"
   ]
  },
  {
   "cell_type": "markdown",
   "metadata": {},
   "source": [
    "Из «Бета-Банка» стали уходить клиенты. Каждый месяц. Немного, но заметно. Банковские маркетологи посчитали: сохранять текущих клиентов дешевле, чем привлекать новых.\n",
    "\n",
    "Нужно спрогнозировать, уйдёт клиент из банка в ближайшее время или нет. Вам предоставлены исторические данные о поведении клиентов и расторжении договоров с банком. \n",
    "\n",
    "Постройте модель с предельно большим значением *F1*-меры. Чтобы сдать проект успешно, нужно довести метрику до 0.59. Проверьте *F1*-меру на тестовой выборке самостоятельно.\n",
    "\n",
    "Дополнительно измеряйте *AUC-ROC*, сравнивайте её значение с *F1*-мерой.\n",
    "\n",
    "Источник данных: [https://www.kaggle.com/barelydedicated/bank-customer-churn-modeling](https://www.kaggle.com/barelydedicated/bank-customer-churn-modeling)"
   ]
  },
  {
   "cell_type": "markdown",
   "metadata": {},
   "source": [
    "## Подготовка данных"
   ]
  },
  {
   "cell_type": "markdown",
   "metadata": {},
   "source": [
    "Подключим библиотеки, необходимые для проведения исследования и тестирования обученной модели."
   ]
  },
  {
   "cell_type": "code",
   "execution_count": 1,
   "metadata": {},
   "outputs": [],
   "source": [
    "import pandas as pd\n",
    "import numpy as np\n",
    "from sklearn.tree import DecisionTreeClassifier\n",
    "from sklearn.ensemble import RandomForestClassifier\n",
    "from sklearn.linear_model import LogisticRegression\n",
    "from sklearn.neighbors import KNeighborsClassifier\n",
    "from sklearn.dummy import DummyClassifier\n",
    "from sklearn.metrics import roc_auc_score, f1_score\n",
    "from sklearn.model_selection import train_test_split\n",
    "from sklearn.preprocessing import OneHotEncoder, StandardScaler\n",
    "from sklearn.utils import shuffle"
   ]
  },
  {
   "cell_type": "markdown",
   "metadata": {},
   "source": [
    "Загружаем файл с данными."
   ]
  },
  {
   "cell_type": "code",
   "execution_count": 2,
   "metadata": {},
   "outputs": [
    {
     "name": "stdout",
     "output_type": "stream",
     "text": [
      "Файл загружен\n"
     ]
    }
   ],
   "source": [
    "try:\n",
    "    df = pd.read_csv('/datasets/Churn.csv')\n",
    "    print('Файл загружен')\n",
    "except:\n",
    "    print('Файл не найден')"
   ]
  },
  {
   "cell_type": "markdown",
   "metadata": {},
   "source": [
    "<div class=\"alert alert-block alert-success\">\n",
    "<b>✔️ Успех:</b>\n",
    "\n",
    "Импорт выглядит отлично 👍\n",
    "</div>"
   ]
  },
  {
   "cell_type": "markdown",
   "metadata": {},
   "source": [
    "Выведем первые 10 строк датафрейма и суммарную информацию о нем."
   ]
  },
  {
   "cell_type": "code",
   "execution_count": 3,
   "metadata": {},
   "outputs": [
    {
     "data": {
      "text/html": [
       "<div>\n",
       "<style scoped>\n",
       "    .dataframe tbody tr th:only-of-type {\n",
       "        vertical-align: middle;\n",
       "    }\n",
       "\n",
       "    .dataframe tbody tr th {\n",
       "        vertical-align: top;\n",
       "    }\n",
       "\n",
       "    .dataframe thead th {\n",
       "        text-align: right;\n",
       "    }\n",
       "</style>\n",
       "<table border=\"1\" class=\"dataframe\">\n",
       "  <thead>\n",
       "    <tr style=\"text-align: right;\">\n",
       "      <th></th>\n",
       "      <th>RowNumber</th>\n",
       "      <th>CustomerId</th>\n",
       "      <th>Surname</th>\n",
       "      <th>CreditScore</th>\n",
       "      <th>Geography</th>\n",
       "      <th>Gender</th>\n",
       "      <th>Age</th>\n",
       "      <th>Tenure</th>\n",
       "      <th>Balance</th>\n",
       "      <th>NumOfProducts</th>\n",
       "      <th>HasCrCard</th>\n",
       "      <th>IsActiveMember</th>\n",
       "      <th>EstimatedSalary</th>\n",
       "      <th>Exited</th>\n",
       "    </tr>\n",
       "  </thead>\n",
       "  <tbody>\n",
       "    <tr>\n",
       "      <th>0</th>\n",
       "      <td>1</td>\n",
       "      <td>15634602</td>\n",
       "      <td>Hargrave</td>\n",
       "      <td>619</td>\n",
       "      <td>France</td>\n",
       "      <td>Female</td>\n",
       "      <td>42</td>\n",
       "      <td>2.0</td>\n",
       "      <td>0.00</td>\n",
       "      <td>1</td>\n",
       "      <td>1</td>\n",
       "      <td>1</td>\n",
       "      <td>101348.88</td>\n",
       "      <td>1</td>\n",
       "    </tr>\n",
       "    <tr>\n",
       "      <th>1</th>\n",
       "      <td>2</td>\n",
       "      <td>15647311</td>\n",
       "      <td>Hill</td>\n",
       "      <td>608</td>\n",
       "      <td>Spain</td>\n",
       "      <td>Female</td>\n",
       "      <td>41</td>\n",
       "      <td>1.0</td>\n",
       "      <td>83807.86</td>\n",
       "      <td>1</td>\n",
       "      <td>0</td>\n",
       "      <td>1</td>\n",
       "      <td>112542.58</td>\n",
       "      <td>0</td>\n",
       "    </tr>\n",
       "    <tr>\n",
       "      <th>2</th>\n",
       "      <td>3</td>\n",
       "      <td>15619304</td>\n",
       "      <td>Onio</td>\n",
       "      <td>502</td>\n",
       "      <td>France</td>\n",
       "      <td>Female</td>\n",
       "      <td>42</td>\n",
       "      <td>8.0</td>\n",
       "      <td>159660.80</td>\n",
       "      <td>3</td>\n",
       "      <td>1</td>\n",
       "      <td>0</td>\n",
       "      <td>113931.57</td>\n",
       "      <td>1</td>\n",
       "    </tr>\n",
       "    <tr>\n",
       "      <th>3</th>\n",
       "      <td>4</td>\n",
       "      <td>15701354</td>\n",
       "      <td>Boni</td>\n",
       "      <td>699</td>\n",
       "      <td>France</td>\n",
       "      <td>Female</td>\n",
       "      <td>39</td>\n",
       "      <td>1.0</td>\n",
       "      <td>0.00</td>\n",
       "      <td>2</td>\n",
       "      <td>0</td>\n",
       "      <td>0</td>\n",
       "      <td>93826.63</td>\n",
       "      <td>0</td>\n",
       "    </tr>\n",
       "    <tr>\n",
       "      <th>4</th>\n",
       "      <td>5</td>\n",
       "      <td>15737888</td>\n",
       "      <td>Mitchell</td>\n",
       "      <td>850</td>\n",
       "      <td>Spain</td>\n",
       "      <td>Female</td>\n",
       "      <td>43</td>\n",
       "      <td>2.0</td>\n",
       "      <td>125510.82</td>\n",
       "      <td>1</td>\n",
       "      <td>1</td>\n",
       "      <td>1</td>\n",
       "      <td>79084.10</td>\n",
       "      <td>0</td>\n",
       "    </tr>\n",
       "    <tr>\n",
       "      <th>5</th>\n",
       "      <td>6</td>\n",
       "      <td>15574012</td>\n",
       "      <td>Chu</td>\n",
       "      <td>645</td>\n",
       "      <td>Spain</td>\n",
       "      <td>Male</td>\n",
       "      <td>44</td>\n",
       "      <td>8.0</td>\n",
       "      <td>113755.78</td>\n",
       "      <td>2</td>\n",
       "      <td>1</td>\n",
       "      <td>0</td>\n",
       "      <td>149756.71</td>\n",
       "      <td>1</td>\n",
       "    </tr>\n",
       "    <tr>\n",
       "      <th>6</th>\n",
       "      <td>7</td>\n",
       "      <td>15592531</td>\n",
       "      <td>Bartlett</td>\n",
       "      <td>822</td>\n",
       "      <td>France</td>\n",
       "      <td>Male</td>\n",
       "      <td>50</td>\n",
       "      <td>7.0</td>\n",
       "      <td>0.00</td>\n",
       "      <td>2</td>\n",
       "      <td>1</td>\n",
       "      <td>1</td>\n",
       "      <td>10062.80</td>\n",
       "      <td>0</td>\n",
       "    </tr>\n",
       "    <tr>\n",
       "      <th>7</th>\n",
       "      <td>8</td>\n",
       "      <td>15656148</td>\n",
       "      <td>Obinna</td>\n",
       "      <td>376</td>\n",
       "      <td>Germany</td>\n",
       "      <td>Female</td>\n",
       "      <td>29</td>\n",
       "      <td>4.0</td>\n",
       "      <td>115046.74</td>\n",
       "      <td>4</td>\n",
       "      <td>1</td>\n",
       "      <td>0</td>\n",
       "      <td>119346.88</td>\n",
       "      <td>1</td>\n",
       "    </tr>\n",
       "    <tr>\n",
       "      <th>8</th>\n",
       "      <td>9</td>\n",
       "      <td>15792365</td>\n",
       "      <td>He</td>\n",
       "      <td>501</td>\n",
       "      <td>France</td>\n",
       "      <td>Male</td>\n",
       "      <td>44</td>\n",
       "      <td>4.0</td>\n",
       "      <td>142051.07</td>\n",
       "      <td>2</td>\n",
       "      <td>0</td>\n",
       "      <td>1</td>\n",
       "      <td>74940.50</td>\n",
       "      <td>0</td>\n",
       "    </tr>\n",
       "    <tr>\n",
       "      <th>9</th>\n",
       "      <td>10</td>\n",
       "      <td>15592389</td>\n",
       "      <td>H?</td>\n",
       "      <td>684</td>\n",
       "      <td>France</td>\n",
       "      <td>Male</td>\n",
       "      <td>27</td>\n",
       "      <td>2.0</td>\n",
       "      <td>134603.88</td>\n",
       "      <td>1</td>\n",
       "      <td>1</td>\n",
       "      <td>1</td>\n",
       "      <td>71725.73</td>\n",
       "      <td>0</td>\n",
       "    </tr>\n",
       "  </tbody>\n",
       "</table>\n",
       "</div>"
      ],
      "text/plain": [
       "   RowNumber  CustomerId   Surname  CreditScore Geography  Gender  Age  \\\n",
       "0          1    15634602  Hargrave          619    France  Female   42   \n",
       "1          2    15647311      Hill          608     Spain  Female   41   \n",
       "2          3    15619304      Onio          502    France  Female   42   \n",
       "3          4    15701354      Boni          699    France  Female   39   \n",
       "4          5    15737888  Mitchell          850     Spain  Female   43   \n",
       "5          6    15574012       Chu          645     Spain    Male   44   \n",
       "6          7    15592531  Bartlett          822    France    Male   50   \n",
       "7          8    15656148    Obinna          376   Germany  Female   29   \n",
       "8          9    15792365        He          501    France    Male   44   \n",
       "9         10    15592389        H?          684    France    Male   27   \n",
       "\n",
       "   Tenure    Balance  NumOfProducts  HasCrCard  IsActiveMember  \\\n",
       "0     2.0       0.00              1          1               1   \n",
       "1     1.0   83807.86              1          0               1   \n",
       "2     8.0  159660.80              3          1               0   \n",
       "3     1.0       0.00              2          0               0   \n",
       "4     2.0  125510.82              1          1               1   \n",
       "5     8.0  113755.78              2          1               0   \n",
       "6     7.0       0.00              2          1               1   \n",
       "7     4.0  115046.74              4          1               0   \n",
       "8     4.0  142051.07              2          0               1   \n",
       "9     2.0  134603.88              1          1               1   \n",
       "\n",
       "   EstimatedSalary  Exited  \n",
       "0        101348.88       1  \n",
       "1        112542.58       0  \n",
       "2        113931.57       1  \n",
       "3         93826.63       0  \n",
       "4         79084.10       0  \n",
       "5        149756.71       1  \n",
       "6         10062.80       0  \n",
       "7        119346.88       1  \n",
       "8         74940.50       0  \n",
       "9         71725.73       0  "
      ]
     },
     "execution_count": 3,
     "metadata": {},
     "output_type": "execute_result"
    }
   ],
   "source": [
    "df.head(10)"
   ]
  },
  {
   "cell_type": "code",
   "execution_count": 4,
   "metadata": {},
   "outputs": [
    {
     "name": "stdout",
     "output_type": "stream",
     "text": [
      "<class 'pandas.core.frame.DataFrame'>\n",
      "RangeIndex: 10000 entries, 0 to 9999\n",
      "Data columns (total 14 columns):\n",
      " #   Column           Non-Null Count  Dtype  \n",
      "---  ------           --------------  -----  \n",
      " 0   RowNumber        10000 non-null  int64  \n",
      " 1   CustomerId       10000 non-null  int64  \n",
      " 2   Surname          10000 non-null  object \n",
      " 3   CreditScore      10000 non-null  int64  \n",
      " 4   Geography        10000 non-null  object \n",
      " 5   Gender           10000 non-null  object \n",
      " 6   Age              10000 non-null  int64  \n",
      " 7   Tenure           9091 non-null   float64\n",
      " 8   Balance          10000 non-null  float64\n",
      " 9   NumOfProducts    10000 non-null  int64  \n",
      " 10  HasCrCard        10000 non-null  int64  \n",
      " 11  IsActiveMember   10000 non-null  int64  \n",
      " 12  EstimatedSalary  10000 non-null  float64\n",
      " 13  Exited           10000 non-null  int64  \n",
      "dtypes: float64(3), int64(8), object(3)\n",
      "memory usage: 1.1+ MB\n"
     ]
    }
   ],
   "source": [
    "df.info()"
   ]
  },
  {
   "cell_type": "markdown",
   "metadata": {},
   "source": [
    "В предоставленных данных наблюдаем пропуски в столбце Tenure(информация о том сколько лет человек является клиентом банка), это довольно важный параметр, определяющий лояльность клиента, и достоверно заполнить пропуски в столбце нет возможности, по этому из дальнейшего исследования исключим записи с пропусками.\n",
    "\n",
    "Столбец RowNumber дублирует информацию о номере строки, соответственно не несет полезной информации в себе, а значит его можно убрать из набора признаков. Столбцы CustomerId и Surname так же можно исключить из набора признаков, т.к. несут больше системную фунцкцию по интерпретации клиента и его связи с банком, а нам в исследовании интересны именно банковские данные, без привязки к личности.\n",
    "\n",
    "Столбцы Geography, Gender имеют не подходящий тип данных для машинного обучения, соответственно необходимо перекодировать данные из столбцов в численный вид, в данном случае будем использовать кодировщик One Hot Encoder."
   ]
  },
  {
   "cell_type": "markdown",
   "metadata": {},
   "source": [
    "Приведем названия столбцов в нижний регистр и с разделителем между словами"
   ]
  },
  {
   "cell_type": "code",
   "execution_count": 5,
   "metadata": {},
   "outputs": [],
   "source": [
    "df.columns = ['row_number', 'customer_id', 'surname', 'credit_score', 'geography',\n",
    "       'gender', 'age', 'tenure', 'balance', 'num_of_products', 'has_cr_card',\n",
    "       'is_active_member', 'estimated_salary', 'exited']"
   ]
  },
  {
   "cell_type": "markdown",
   "metadata": {},
   "source": [
    "Проверим датафрейм на дубликаты."
   ]
  },
  {
   "cell_type": "code",
   "execution_count": 6,
   "metadata": {},
   "outputs": [
    {
     "name": "stdout",
     "output_type": "stream",
     "text": [
      "Найдено полных дубликатов: 0\n"
     ]
    }
   ],
   "source": [
    "print('Найдено полных дубликатов:', df.duplicated().sum())"
   ]
  },
  {
   "cell_type": "markdown",
   "metadata": {},
   "source": [
    "Выведем информацию о уникальных значених в каждом столбце датафрейма."
   ]
  },
  {
   "cell_type": "code",
   "execution_count": 7,
   "metadata": {},
   "outputs": [
    {
     "data": {
      "text/plain": [
       "row_number          10000\n",
       "customer_id         10000\n",
       "surname              2932\n",
       "credit_score          460\n",
       "geography               3\n",
       "gender                  2\n",
       "age                    70\n",
       "tenure                 11\n",
       "balance              6382\n",
       "num_of_products         4\n",
       "has_cr_card             2\n",
       "is_active_member        2\n",
       "estimated_salary     9999\n",
       "exited                  2\n",
       "dtype: int64"
      ]
     },
     "execution_count": 7,
     "metadata": {},
     "output_type": "execute_result"
    }
   ],
   "source": [
    "df.nunique()"
   ]
  },
  {
   "cell_type": "markdown",
   "metadata": {},
   "source": [
    "В столбце customer_id пристутсвует 10000 уникальных id, соответственно можно сделать вывод, что в представленном датафрейме нет дублирующихся строк и каждая запись уникальна.\n",
    "\n",
    "Из представленных столбцов следует проверить столбцы credit_score, age, balance, estimated_salary на выбросы."
   ]
  },
  {
   "cell_type": "code",
   "execution_count": 8,
   "metadata": {},
   "outputs": [
    {
     "data": {
      "image/png": "[encoded data removed]",
      "text/plain": [
       "<Figure size 864x864 with 4 Axes>"
      ]
     },
     "metadata": {
      "needs_background": "light"
     },
     "output_type": "display_data"
    }
   ],
   "source": [
    "df.hist(column=['credit_score', 'age', 'balance', 'estimated_salary'], bins=120, figsize=(12, 12));"
   ]
  },
  {
   "cell_type": "markdown",
   "metadata": {},
   "source": [
    "На графиках credit_score, age, balance наблюдаем нормальное распределение значений, соответственно нет дисбаланса данных представленом датафрейме. На графике credit_score, наблюдается высокий шпиль с записями чей кредитный рейтинг вышле 900.\n",
    "\n",
    "График estimated_salary с данными о зарплате клиентов так же выглядит очень сбалансированным, присутствует большой разброс по заработной плате, при этом общее колличество клиентов для каждой группы соразмерно между собой."
   ]
  },
  {
   "cell_type": "code",
   "execution_count": 9,
   "metadata": {},
   "outputs": [
    {
     "data": {
      "image/png": "[encoded data removed]",
      "text/plain": [
       "<Figure size 864x432 with 1 Axes>"
      ]
     },
     "metadata": {
      "needs_background": "light"
     },
     "output_type": "display_data"
    }
   ],
   "source": [
    "df.hist(column=['balance'], bins=120, figsize=(12, 6), range=(1, 255000));"
   ]
  },
  {
   "cell_type": "markdown",
   "metadata": {},
   "source": [
    "График balance если отбросить нулевые балансы, при приблежении так же выглядит без сильных выбросов. Значения свыше 225000 не стоит считать выбросом, т.к. такие значения могут являться достоверными и модель при обучении должна иметь о них представление."
   ]
  },
  {
   "cell_type": "markdown",
   "metadata": {},
   "source": [
    "Так как значений в признаке tenure ограниченное количество, можно сделать его категориальным признаком. Пропуски можно считать как за отдельную категорию (заполнить значением -1). Затем заменим тип данных tenure на object и применить технику OHE."
   ]
  },
  {
   "cell_type": "code",
   "execution_count": 10,
   "metadata": {},
   "outputs": [],
   "source": [
    "df['tenure'] = df['tenure'].fillna(-1)\n",
    "df['tenure'] = df['tenure'].astype(object)"
   ]
  },
  {
   "cell_type": "markdown",
   "metadata": {},
   "source": [
    "Проверим степень корреляции между столбцами. Если обнаружатся сильно-скоррелированные (мультиколлинеарные признаки), стоит удалить по одному из пары, иначе они будут доминировать при обучении."
   ]
  },
  {
   "cell_type": "code",
   "execution_count": 11,
   "metadata": {
    "scrolled": true
   },
   "outputs": [
    {
     "data": {
      "text/html": [
       "<div>\n",
       "<style scoped>\n",
       "    .dataframe tbody tr th:only-of-type {\n",
       "        vertical-align: middle;\n",
       "    }\n",
       "\n",
       "    .dataframe tbody tr th {\n",
       "        vertical-align: top;\n",
       "    }\n",
       "\n",
       "    .dataframe thead th {\n",
       "        text-align: right;\n",
       "    }\n",
       "</style>\n",
       "<table border=\"1\" class=\"dataframe\">\n",
       "  <thead>\n",
       "    <tr style=\"text-align: right;\">\n",
       "      <th></th>\n",
       "      <th>row_number</th>\n",
       "      <th>customer_id</th>\n",
       "      <th>credit_score</th>\n",
       "      <th>age</th>\n",
       "      <th>balance</th>\n",
       "      <th>num_of_products</th>\n",
       "      <th>has_cr_card</th>\n",
       "      <th>is_active_member</th>\n",
       "      <th>estimated_salary</th>\n",
       "      <th>exited</th>\n",
       "    </tr>\n",
       "  </thead>\n",
       "  <tbody>\n",
       "    <tr>\n",
       "      <th>row_number</th>\n",
       "      <td>1.000000</td>\n",
       "      <td>0.004202</td>\n",
       "      <td>0.005840</td>\n",
       "      <td>0.000783</td>\n",
       "      <td>-0.009067</td>\n",
       "      <td>0.007246</td>\n",
       "      <td>0.000599</td>\n",
       "      <td>0.012044</td>\n",
       "      <td>-0.005988</td>\n",
       "      <td>-0.016571</td>\n",
       "    </tr>\n",
       "    <tr>\n",
       "      <th>customer_id</th>\n",
       "      <td>0.004202</td>\n",
       "      <td>1.000000</td>\n",
       "      <td>0.005308</td>\n",
       "      <td>0.009497</td>\n",
       "      <td>-0.012419</td>\n",
       "      <td>0.016972</td>\n",
       "      <td>-0.014025</td>\n",
       "      <td>0.001665</td>\n",
       "      <td>0.015271</td>\n",
       "      <td>-0.006248</td>\n",
       "    </tr>\n",
       "    <tr>\n",
       "      <th>credit_score</th>\n",
       "      <td>0.005840</td>\n",
       "      <td>0.005308</td>\n",
       "      <td>1.000000</td>\n",
       "      <td>-0.003965</td>\n",
       "      <td>0.006268</td>\n",
       "      <td>0.012238</td>\n",
       "      <td>-0.005458</td>\n",
       "      <td>0.025651</td>\n",
       "      <td>-0.001384</td>\n",
       "      <td>-0.027094</td>\n",
       "    </tr>\n",
       "    <tr>\n",
       "      <th>age</th>\n",
       "      <td>0.000783</td>\n",
       "      <td>0.009497</td>\n",
       "      <td>-0.003965</td>\n",
       "      <td>1.000000</td>\n",
       "      <td>0.028308</td>\n",
       "      <td>-0.030680</td>\n",
       "      <td>-0.011721</td>\n",
       "      <td>0.085472</td>\n",
       "      <td>-0.007201</td>\n",
       "      <td>0.285323</td>\n",
       "    </tr>\n",
       "    <tr>\n",
       "      <th>balance</th>\n",
       "      <td>-0.009067</td>\n",
       "      <td>-0.012419</td>\n",
       "      <td>0.006268</td>\n",
       "      <td>0.028308</td>\n",
       "      <td>1.000000</td>\n",
       "      <td>-0.304180</td>\n",
       "      <td>-0.014858</td>\n",
       "      <td>-0.010084</td>\n",
       "      <td>0.012797</td>\n",
       "      <td>0.118533</td>\n",
       "    </tr>\n",
       "    <tr>\n",
       "      <th>num_of_products</th>\n",
       "      <td>0.007246</td>\n",
       "      <td>0.016972</td>\n",
       "      <td>0.012238</td>\n",
       "      <td>-0.030680</td>\n",
       "      <td>-0.304180</td>\n",
       "      <td>1.000000</td>\n",
       "      <td>0.003183</td>\n",
       "      <td>0.009612</td>\n",
       "      <td>0.014204</td>\n",
       "      <td>-0.047820</td>\n",
       "    </tr>\n",
       "    <tr>\n",
       "      <th>has_cr_card</th>\n",
       "      <td>0.000599</td>\n",
       "      <td>-0.014025</td>\n",
       "      <td>-0.005458</td>\n",
       "      <td>-0.011721</td>\n",
       "      <td>-0.014858</td>\n",
       "      <td>0.003183</td>\n",
       "      <td>1.000000</td>\n",
       "      <td>-0.011866</td>\n",
       "      <td>-0.009933</td>\n",
       "      <td>-0.007138</td>\n",
       "    </tr>\n",
       "    <tr>\n",
       "      <th>is_active_member</th>\n",
       "      <td>0.012044</td>\n",
       "      <td>0.001665</td>\n",
       "      <td>0.025651</td>\n",
       "      <td>0.085472</td>\n",
       "      <td>-0.010084</td>\n",
       "      <td>0.009612</td>\n",
       "      <td>-0.011866</td>\n",
       "      <td>1.000000</td>\n",
       "      <td>-0.011421</td>\n",
       "      <td>-0.156128</td>\n",
       "    </tr>\n",
       "    <tr>\n",
       "      <th>estimated_salary</th>\n",
       "      <td>-0.005988</td>\n",
       "      <td>0.015271</td>\n",
       "      <td>-0.001384</td>\n",
       "      <td>-0.007201</td>\n",
       "      <td>0.012797</td>\n",
       "      <td>0.014204</td>\n",
       "      <td>-0.009933</td>\n",
       "      <td>-0.011421</td>\n",
       "      <td>1.000000</td>\n",
       "      <td>0.012097</td>\n",
       "    </tr>\n",
       "    <tr>\n",
       "      <th>exited</th>\n",
       "      <td>-0.016571</td>\n",
       "      <td>-0.006248</td>\n",
       "      <td>-0.027094</td>\n",
       "      <td>0.285323</td>\n",
       "      <td>0.118533</td>\n",
       "      <td>-0.047820</td>\n",
       "      <td>-0.007138</td>\n",
       "      <td>-0.156128</td>\n",
       "      <td>0.012097</td>\n",
       "      <td>1.000000</td>\n",
       "    </tr>\n",
       "  </tbody>\n",
       "</table>\n",
       "</div>"
      ],
      "text/plain": [
       "                  row_number  customer_id  credit_score       age   balance  \\\n",
       "row_number          1.000000     0.004202      0.005840  0.000783 -0.009067   \n",
       "customer_id         0.004202     1.000000      0.005308  0.009497 -0.012419   \n",
       "credit_score        0.005840     0.005308      1.000000 -0.003965  0.006268   \n",
       "age                 0.000783     0.009497     -0.003965  1.000000  0.028308   \n",
       "balance            -0.009067    -0.012419      0.006268  0.028308  1.000000   \n",
       "num_of_products     0.007246     0.016972      0.012238 -0.030680 -0.304180   \n",
       "has_cr_card         0.000599    -0.014025     -0.005458 -0.011721 -0.014858   \n",
       "is_active_member    0.012044     0.001665      0.025651  0.085472 -0.010084   \n",
       "estimated_salary   -0.005988     0.015271     -0.001384 -0.007201  0.012797   \n",
       "exited             -0.016571    -0.006248     -0.027094  0.285323  0.118533   \n",
       "\n",
       "                  num_of_products  has_cr_card  is_active_member  \\\n",
       "row_number               0.007246     0.000599          0.012044   \n",
       "customer_id              0.016972    -0.014025          0.001665   \n",
       "credit_score             0.012238    -0.005458          0.025651   \n",
       "age                     -0.030680    -0.011721          0.085472   \n",
       "balance                 -0.304180    -0.014858         -0.010084   \n",
       "num_of_products          1.000000     0.003183          0.009612   \n",
       "has_cr_card              0.003183     1.000000         -0.011866   \n",
       "is_active_member         0.009612    -0.011866          1.000000   \n",
       "estimated_salary         0.014204    -0.009933         -0.011421   \n",
       "exited                  -0.047820    -0.007138         -0.156128   \n",
       "\n",
       "                  estimated_salary    exited  \n",
       "row_number               -0.005988 -0.016571  \n",
       "customer_id               0.015271 -0.006248  \n",
       "credit_score             -0.001384 -0.027094  \n",
       "age                      -0.007201  0.285323  \n",
       "balance                   0.012797  0.118533  \n",
       "num_of_products           0.014204 -0.047820  \n",
       "has_cr_card              -0.009933 -0.007138  \n",
       "is_active_member         -0.011421 -0.156128  \n",
       "estimated_salary          1.000000  0.012097  \n",
       "exited                    0.012097  1.000000  "
      ]
     },
     "execution_count": 11,
     "metadata": {},
     "output_type": "execute_result"
    }
   ],
   "source": [
    "df.corr()"
   ]
  },
  {
   "cell_type": "markdown",
   "metadata": {},
   "source": [
    "Разобьем датафрейм на признаки и целевой столбец. Целевой столбец - exited, где 0 - лояльный клиент, 1 - ушедший из банка. В признаки записываем все столбцы кроме целевого и не несущих полезной информации row_number, customer_id, surname."
   ]
  },
  {
   "cell_type": "code",
   "execution_count": 12,
   "metadata": {},
   "outputs": [
    {
     "data": {
      "text/html": [
       "<div>\n",
       "<style scoped>\n",
       "    .dataframe tbody tr th:only-of-type {\n",
       "        vertical-align: middle;\n",
       "    }\n",
       "\n",
       "    .dataframe tbody tr th {\n",
       "        vertical-align: top;\n",
       "    }\n",
       "\n",
       "    .dataframe thead th {\n",
       "        text-align: right;\n",
       "    }\n",
       "</style>\n",
       "<table border=\"1\" class=\"dataframe\">\n",
       "  <thead>\n",
       "    <tr style=\"text-align: right;\">\n",
       "      <th></th>\n",
       "      <th>credit_score</th>\n",
       "      <th>geography</th>\n",
       "      <th>gender</th>\n",
       "      <th>age</th>\n",
       "      <th>tenure</th>\n",
       "      <th>balance</th>\n",
       "      <th>num_of_products</th>\n",
       "      <th>has_cr_card</th>\n",
       "      <th>is_active_member</th>\n",
       "      <th>estimated_salary</th>\n",
       "    </tr>\n",
       "  </thead>\n",
       "  <tbody>\n",
       "    <tr>\n",
       "      <th>0</th>\n",
       "      <td>619</td>\n",
       "      <td>France</td>\n",
       "      <td>Female</td>\n",
       "      <td>42</td>\n",
       "      <td>2.0</td>\n",
       "      <td>0.00</td>\n",
       "      <td>1</td>\n",
       "      <td>1</td>\n",
       "      <td>1</td>\n",
       "      <td>101348.88</td>\n",
       "    </tr>\n",
       "    <tr>\n",
       "      <th>1</th>\n",
       "      <td>608</td>\n",
       "      <td>Spain</td>\n",
       "      <td>Female</td>\n",
       "      <td>41</td>\n",
       "      <td>1.0</td>\n",
       "      <td>83807.86</td>\n",
       "      <td>1</td>\n",
       "      <td>0</td>\n",
       "      <td>1</td>\n",
       "      <td>112542.58</td>\n",
       "    </tr>\n",
       "    <tr>\n",
       "      <th>2</th>\n",
       "      <td>502</td>\n",
       "      <td>France</td>\n",
       "      <td>Female</td>\n",
       "      <td>42</td>\n",
       "      <td>8.0</td>\n",
       "      <td>159660.80</td>\n",
       "      <td>3</td>\n",
       "      <td>1</td>\n",
       "      <td>0</td>\n",
       "      <td>113931.57</td>\n",
       "    </tr>\n",
       "    <tr>\n",
       "      <th>3</th>\n",
       "      <td>699</td>\n",
       "      <td>France</td>\n",
       "      <td>Female</td>\n",
       "      <td>39</td>\n",
       "      <td>1.0</td>\n",
       "      <td>0.00</td>\n",
       "      <td>2</td>\n",
       "      <td>0</td>\n",
       "      <td>0</td>\n",
       "      <td>93826.63</td>\n",
       "    </tr>\n",
       "    <tr>\n",
       "      <th>4</th>\n",
       "      <td>850</td>\n",
       "      <td>Spain</td>\n",
       "      <td>Female</td>\n",
       "      <td>43</td>\n",
       "      <td>2.0</td>\n",
       "      <td>125510.82</td>\n",
       "      <td>1</td>\n",
       "      <td>1</td>\n",
       "      <td>1</td>\n",
       "      <td>79084.10</td>\n",
       "    </tr>\n",
       "    <tr>\n",
       "      <th>5</th>\n",
       "      <td>645</td>\n",
       "      <td>Spain</td>\n",
       "      <td>Male</td>\n",
       "      <td>44</td>\n",
       "      <td>8.0</td>\n",
       "      <td>113755.78</td>\n",
       "      <td>2</td>\n",
       "      <td>1</td>\n",
       "      <td>0</td>\n",
       "      <td>149756.71</td>\n",
       "    </tr>\n",
       "    <tr>\n",
       "      <th>6</th>\n",
       "      <td>822</td>\n",
       "      <td>France</td>\n",
       "      <td>Male</td>\n",
       "      <td>50</td>\n",
       "      <td>7.0</td>\n",
       "      <td>0.00</td>\n",
       "      <td>2</td>\n",
       "      <td>1</td>\n",
       "      <td>1</td>\n",
       "      <td>10062.80</td>\n",
       "    </tr>\n",
       "    <tr>\n",
       "      <th>7</th>\n",
       "      <td>376</td>\n",
       "      <td>Germany</td>\n",
       "      <td>Female</td>\n",
       "      <td>29</td>\n",
       "      <td>4.0</td>\n",
       "      <td>115046.74</td>\n",
       "      <td>4</td>\n",
       "      <td>1</td>\n",
       "      <td>0</td>\n",
       "      <td>119346.88</td>\n",
       "    </tr>\n",
       "    <tr>\n",
       "      <th>8</th>\n",
       "      <td>501</td>\n",
       "      <td>France</td>\n",
       "      <td>Male</td>\n",
       "      <td>44</td>\n",
       "      <td>4.0</td>\n",
       "      <td>142051.07</td>\n",
       "      <td>2</td>\n",
       "      <td>0</td>\n",
       "      <td>1</td>\n",
       "      <td>74940.50</td>\n",
       "    </tr>\n",
       "    <tr>\n",
       "      <th>9</th>\n",
       "      <td>684</td>\n",
       "      <td>France</td>\n",
       "      <td>Male</td>\n",
       "      <td>27</td>\n",
       "      <td>2.0</td>\n",
       "      <td>134603.88</td>\n",
       "      <td>1</td>\n",
       "      <td>1</td>\n",
       "      <td>1</td>\n",
       "      <td>71725.73</td>\n",
       "    </tr>\n",
       "  </tbody>\n",
       "</table>\n",
       "</div>"
      ],
      "text/plain": [
       "   credit_score geography  gender  age tenure    balance  num_of_products  \\\n",
       "0           619    France  Female   42    2.0       0.00                1   \n",
       "1           608     Spain  Female   41    1.0   83807.86                1   \n",
       "2           502    France  Female   42    8.0  159660.80                3   \n",
       "3           699    France  Female   39    1.0       0.00                2   \n",
       "4           850     Spain  Female   43    2.0  125510.82                1   \n",
       "5           645     Spain    Male   44    8.0  113755.78                2   \n",
       "6           822    France    Male   50    7.0       0.00                2   \n",
       "7           376   Germany  Female   29    4.0  115046.74                4   \n",
       "8           501    France    Male   44    4.0  142051.07                2   \n",
       "9           684    France    Male   27    2.0  134603.88                1   \n",
       "\n",
       "   has_cr_card  is_active_member  estimated_salary  \n",
       "0            1                 1         101348.88  \n",
       "1            0                 1         112542.58  \n",
       "2            1                 0         113931.57  \n",
       "3            0                 0          93826.63  \n",
       "4            1                 1          79084.10  \n",
       "5            1                 0         149756.71  \n",
       "6            1                 1          10062.80  \n",
       "7            1                 0         119346.88  \n",
       "8            0                 1          74940.50  \n",
       "9            1                 1          71725.73  "
      ]
     },
     "execution_count": 12,
     "metadata": {},
     "output_type": "execute_result"
    }
   ],
   "source": [
    "features = df.drop(['exited', 'row_number', 'customer_id', 'surname'], axis=1)\n",
    "target = df['exited']\n",
    "\n",
    "features.head(10)"
   ]
  },
  {
   "cell_type": "markdown",
   "metadata": {},
   "source": [
    "Общую выборку перед обучением модели требуется разбить на 3 части: обучающую, валидационную и тестовую выборки. Разбиваем на выборки в соотношении 60%/20%20%. Используем параметр stratify для того что бы равномерно заполнить выборки одинаковыми пропорциями классов из целевого признака."
   ]
  },
  {
   "cell_type": "code",
   "execution_count": 13,
   "metadata": {},
   "outputs": [],
   "source": [
    "features_train, features_valid, target_train, target_valid = train_test_split(\n",
    "    features, target, test_size=0.4, random_state=12345, stratify=target)\n",
    "features_valid, features_test, target_valid, target_test = train_test_split(\n",
    "    features_valid, target_valid, test_size=0.5, random_state=12345, stratify=target_valid)"
   ]
  },
  {
   "cell_type": "code",
   "execution_count": 14,
   "metadata": {},
   "outputs": [
    {
     "name": "stdout",
     "output_type": "stream",
     "text": [
      "Размер обучающей выборки: 6000 Составляет 60.0 % от общей\n",
      "Размер валидационной выборки: 2000 Составляет 20.0 % от общей\n",
      "Размер тестовой выборки: 2000 Составляет 20.0 % от общей\n"
     ]
    }
   ],
   "source": [
    "print('Размер обучающей выборки:', target_train.shape[0], 'Составляет', round(target_train.shape[0]/df.shape[0]*100, 2), '% от общей')\n",
    "print('Размер валидационной выборки:', target_valid.shape[0], 'Составляет', round(target_valid.shape[0]/df.shape[0]*100, 2), '% от общей')\n",
    "print('Размер тестовой выборки:', target_test.shape[0], 'Составляет', round(target_test.shape[0]/df.shape[0]*100, 2), '% от общей')"
   ]
  },
  {
   "cell_type": "markdown",
   "metadata": {},
   "source": [
    "Выведем первые 5 строк целевого столбца тестовой и валидационной выборки, что бы убедиться что они не пересекаются. И проверим распределение классов в целевых выборках"
   ]
  },
  {
   "cell_type": "code",
   "execution_count": 15,
   "metadata": {},
   "outputs": [
    {
     "name": "stdout",
     "output_type": "stream",
     "text": [
      "Соотношение классов в обучающей выборке: 3.909983633387889\n",
      "Соотношение классов в валидационной выборке: 3.9019607843137254\n",
      "Соотношение классов в тестовой выборке: 3.914004914004914\n"
     ]
    }
   ],
   "source": [
    "print('Соотношение классов в обучающей выборке:', target_train.value_counts()[0]/target_train.value_counts()[1])\n",
    "print('Соотношение классов в валидационной выборке:', target_valid.value_counts()[0]/target_valid.value_counts()[1])\n",
    "print('Соотношение классов в тестовой выборке:', target_test.value_counts()[0]/target_test.value_counts()[1])"
   ]
  },
  {
   "cell_type": "code",
   "execution_count": 16,
   "metadata": {},
   "outputs": [
    {
     "data": {
      "text/plain": [
       "6612    0\n",
       "519     0\n",
       "1609    0\n",
       "3475    0\n",
       "2707    0\n",
       "Name: exited, dtype: int64"
      ]
     },
     "metadata": {},
     "output_type": "display_data"
    },
    {
     "data": {
      "text/plain": [
       "657     0\n",
       "2083    0\n",
       "3234    1\n",
       "1551    0\n",
       "2344    1\n",
       "Name: exited, dtype: int64"
      ]
     },
     "metadata": {},
     "output_type": "display_data"
    }
   ],
   "source": [
    "display(target_valid.head())\n",
    "display(target_test.head())"
   ]
  },
  {
   "cell_type": "code",
   "execution_count": 17,
   "metadata": {},
   "outputs": [
    {
     "data": {
      "text/html": [
       "<div>\n",
       "<style scoped>\n",
       "    .dataframe tbody tr th:only-of-type {\n",
       "        vertical-align: middle;\n",
       "    }\n",
       "\n",
       "    .dataframe tbody tr th {\n",
       "        vertical-align: top;\n",
       "    }\n",
       "\n",
       "    .dataframe thead th {\n",
       "        text-align: right;\n",
       "    }\n",
       "</style>\n",
       "<table border=\"1\" class=\"dataframe\">\n",
       "  <thead>\n",
       "    <tr style=\"text-align: right;\">\n",
       "      <th></th>\n",
       "      <th>credit_score</th>\n",
       "      <th>geography</th>\n",
       "      <th>gender</th>\n",
       "      <th>age</th>\n",
       "      <th>tenure</th>\n",
       "      <th>balance</th>\n",
       "      <th>num_of_products</th>\n",
       "      <th>has_cr_card</th>\n",
       "      <th>is_active_member</th>\n",
       "      <th>estimated_salary</th>\n",
       "    </tr>\n",
       "  </thead>\n",
       "  <tbody>\n",
       "    <tr>\n",
       "      <th>6612</th>\n",
       "      <td>502</td>\n",
       "      <td>France</td>\n",
       "      <td>Female</td>\n",
       "      <td>64</td>\n",
       "      <td>3.0</td>\n",
       "      <td>139663.37</td>\n",
       "      <td>1</td>\n",
       "      <td>0</td>\n",
       "      <td>1</td>\n",
       "      <td>100995.11</td>\n",
       "    </tr>\n",
       "    <tr>\n",
       "      <th>519</th>\n",
       "      <td>707</td>\n",
       "      <td>France</td>\n",
       "      <td>Male</td>\n",
       "      <td>58</td>\n",
       "      <td>6.0</td>\n",
       "      <td>89685.92</td>\n",
       "      <td>1</td>\n",
       "      <td>0</td>\n",
       "      <td>1</td>\n",
       "      <td>126471.13</td>\n",
       "    </tr>\n",
       "    <tr>\n",
       "      <th>1609</th>\n",
       "      <td>619</td>\n",
       "      <td>France</td>\n",
       "      <td>Female</td>\n",
       "      <td>35</td>\n",
       "      <td>8.0</td>\n",
       "      <td>132292.63</td>\n",
       "      <td>1</td>\n",
       "      <td>1</td>\n",
       "      <td>0</td>\n",
       "      <td>65682.93</td>\n",
       "    </tr>\n",
       "    <tr>\n",
       "      <th>3475</th>\n",
       "      <td>769</td>\n",
       "      <td>France</td>\n",
       "      <td>Male</td>\n",
       "      <td>31</td>\n",
       "      <td>4.0</td>\n",
       "      <td>61297.05</td>\n",
       "      <td>2</td>\n",
       "      <td>1</td>\n",
       "      <td>1</td>\n",
       "      <td>7118.02</td>\n",
       "    </tr>\n",
       "    <tr>\n",
       "      <th>2707</th>\n",
       "      <td>637</td>\n",
       "      <td>France</td>\n",
       "      <td>Female</td>\n",
       "      <td>38</td>\n",
       "      <td>3.0</td>\n",
       "      <td>104339.56</td>\n",
       "      <td>1</td>\n",
       "      <td>0</td>\n",
       "      <td>0</td>\n",
       "      <td>119882.86</td>\n",
       "    </tr>\n",
       "  </tbody>\n",
       "</table>\n",
       "</div>"
      ],
      "text/plain": [
       "      credit_score geography  gender  age tenure    balance  num_of_products  \\\n",
       "6612           502    France  Female   64    3.0  139663.37                1   \n",
       "519            707    France    Male   58    6.0   89685.92                1   \n",
       "1609           619    France  Female   35    8.0  132292.63                1   \n",
       "3475           769    France    Male   31    4.0   61297.05                2   \n",
       "2707           637    France  Female   38    3.0  104339.56                1   \n",
       "\n",
       "      has_cr_card  is_active_member  estimated_salary  \n",
       "6612            0                 1         100995.11  \n",
       "519             0                 1         126471.13  \n",
       "1609            1                 0          65682.93  \n",
       "3475            1                 1           7118.02  \n",
       "2707            0                 0         119882.86  "
      ]
     },
     "metadata": {},
     "output_type": "display_data"
    },
    {
     "data": {
      "text/html": [
       "<div>\n",
       "<style scoped>\n",
       "    .dataframe tbody tr th:only-of-type {\n",
       "        vertical-align: middle;\n",
       "    }\n",
       "\n",
       "    .dataframe tbody tr th {\n",
       "        vertical-align: top;\n",
       "    }\n",
       "\n",
       "    .dataframe thead th {\n",
       "        text-align: right;\n",
       "    }\n",
       "</style>\n",
       "<table border=\"1\" class=\"dataframe\">\n",
       "  <thead>\n",
       "    <tr style=\"text-align: right;\">\n",
       "      <th></th>\n",
       "      <th>credit_score</th>\n",
       "      <th>geography</th>\n",
       "      <th>gender</th>\n",
       "      <th>age</th>\n",
       "      <th>tenure</th>\n",
       "      <th>balance</th>\n",
       "      <th>num_of_products</th>\n",
       "      <th>has_cr_card</th>\n",
       "      <th>is_active_member</th>\n",
       "      <th>estimated_salary</th>\n",
       "    </tr>\n",
       "  </thead>\n",
       "  <tbody>\n",
       "    <tr>\n",
       "      <th>657</th>\n",
       "      <td>601</td>\n",
       "      <td>Germany</td>\n",
       "      <td>Female</td>\n",
       "      <td>54</td>\n",
       "      <td>1.0</td>\n",
       "      <td>131039.97</td>\n",
       "      <td>2</td>\n",
       "      <td>1</td>\n",
       "      <td>1</td>\n",
       "      <td>199661.50</td>\n",
       "    </tr>\n",
       "    <tr>\n",
       "      <th>2083</th>\n",
       "      <td>534</td>\n",
       "      <td>France</td>\n",
       "      <td>Male</td>\n",
       "      <td>24</td>\n",
       "      <td>1.0</td>\n",
       "      <td>0.00</td>\n",
       "      <td>1</td>\n",
       "      <td>1</td>\n",
       "      <td>1</td>\n",
       "      <td>169653.32</td>\n",
       "    </tr>\n",
       "    <tr>\n",
       "      <th>3234</th>\n",
       "      <td>527</td>\n",
       "      <td>France</td>\n",
       "      <td>Male</td>\n",
       "      <td>47</td>\n",
       "      <td>1.0</td>\n",
       "      <td>0.00</td>\n",
       "      <td>1</td>\n",
       "      <td>1</td>\n",
       "      <td>0</td>\n",
       "      <td>21312.16</td>\n",
       "    </tr>\n",
       "    <tr>\n",
       "      <th>1551</th>\n",
       "      <td>730</td>\n",
       "      <td>Spain</td>\n",
       "      <td>Female</td>\n",
       "      <td>52</td>\n",
       "      <td>7.0</td>\n",
       "      <td>0.00</td>\n",
       "      <td>2</td>\n",
       "      <td>0</td>\n",
       "      <td>1</td>\n",
       "      <td>122398.84</td>\n",
       "    </tr>\n",
       "    <tr>\n",
       "      <th>2344</th>\n",
       "      <td>714</td>\n",
       "      <td>Germany</td>\n",
       "      <td>Female</td>\n",
       "      <td>49</td>\n",
       "      <td>4.0</td>\n",
       "      <td>93059.34</td>\n",
       "      <td>1</td>\n",
       "      <td>1</td>\n",
       "      <td>0</td>\n",
       "      <td>7571.51</td>\n",
       "    </tr>\n",
       "  </tbody>\n",
       "</table>\n",
       "</div>"
      ],
      "text/plain": [
       "      credit_score geography  gender  age tenure    balance  num_of_products  \\\n",
       "657            601   Germany  Female   54    1.0  131039.97                2   \n",
       "2083           534    France    Male   24    1.0       0.00                1   \n",
       "3234           527    France    Male   47    1.0       0.00                1   \n",
       "1551           730     Spain  Female   52    7.0       0.00                2   \n",
       "2344           714   Germany  Female   49    4.0   93059.34                1   \n",
       "\n",
       "      has_cr_card  is_active_member  estimated_salary  \n",
       "657             1                 1         199661.50  \n",
       "2083            1                 1         169653.32  \n",
       "3234            1                 0          21312.16  \n",
       "1551            0                 1         122398.84  \n",
       "2344            1                 0           7571.51  "
      ]
     },
     "metadata": {},
     "output_type": "display_data"
    }
   ],
   "source": [
    "display(features_valid.head())\n",
    "display(features_test.head())"
   ]
  },
  {
   "cell_type": "code",
   "execution_count": 18,
   "metadata": {},
   "outputs": [],
   "source": [
    "features_train = features_train.reset_index(drop=True)\n",
    "target_train = target_train.reset_index(drop=True)\n",
    "features_valid = features_valid.reset_index(drop=True)\n",
    "target_valid = target_valid.reset_index(drop=True)\n",
    "features_test = features_test.reset_index(drop=True)\n",
    "target_test = target_test.reset_index(drop=True)"
   ]
  },
  {
   "cell_type": "markdown",
   "metadata": {},
   "source": [
    "Перекодируем в цифровые значения столбцы geography и gender, с помощью OneHotEncoder"
   ]
  },
  {
   "cell_type": "code",
   "execution_count": 19,
   "metadata": {},
   "outputs": [
    {
     "data": {
      "text/html": [
       "<div>\n",
       "<style scoped>\n",
       "    .dataframe tbody tr th:only-of-type {\n",
       "        vertical-align: middle;\n",
       "    }\n",
       "\n",
       "    .dataframe tbody tr th {\n",
       "        vertical-align: top;\n",
       "    }\n",
       "\n",
       "    .dataframe thead th {\n",
       "        text-align: right;\n",
       "    }\n",
       "</style>\n",
       "<table border=\"1\" class=\"dataframe\">\n",
       "  <thead>\n",
       "    <tr style=\"text-align: right;\">\n",
       "      <th></th>\n",
       "      <th>credit_score</th>\n",
       "      <th>geography</th>\n",
       "      <th>gender</th>\n",
       "      <th>age</th>\n",
       "      <th>tenure</th>\n",
       "      <th>balance</th>\n",
       "      <th>num_of_products</th>\n",
       "      <th>has_cr_card</th>\n",
       "      <th>is_active_member</th>\n",
       "      <th>estimated_salary</th>\n",
       "      <th>geography_1</th>\n",
       "      <th>geography_2</th>\n",
       "    </tr>\n",
       "  </thead>\n",
       "  <tbody>\n",
       "    <tr>\n",
       "      <th>0</th>\n",
       "      <td>549</td>\n",
       "      <td>Germany</td>\n",
       "      <td>Female</td>\n",
       "      <td>49</td>\n",
       "      <td>6.0</td>\n",
       "      <td>124829.16</td>\n",
       "      <td>1</td>\n",
       "      <td>0</td>\n",
       "      <td>1</td>\n",
       "      <td>93551.36</td>\n",
       "      <td>1.0</td>\n",
       "      <td>0.0</td>\n",
       "    </tr>\n",
       "    <tr>\n",
       "      <th>1</th>\n",
       "      <td>694</td>\n",
       "      <td>France</td>\n",
       "      <td>Female</td>\n",
       "      <td>38</td>\n",
       "      <td>-1.0</td>\n",
       "      <td>195926.39</td>\n",
       "      <td>1</td>\n",
       "      <td>1</td>\n",
       "      <td>1</td>\n",
       "      <td>85522.84</td>\n",
       "      <td>0.0</td>\n",
       "      <td>0.0</td>\n",
       "    </tr>\n",
       "    <tr>\n",
       "      <th>2</th>\n",
       "      <td>660</td>\n",
       "      <td>France</td>\n",
       "      <td>Male</td>\n",
       "      <td>34</td>\n",
       "      <td>8.0</td>\n",
       "      <td>106486.66</td>\n",
       "      <td>2</td>\n",
       "      <td>0</td>\n",
       "      <td>1</td>\n",
       "      <td>182262.66</td>\n",
       "      <td>0.0</td>\n",
       "      <td>0.0</td>\n",
       "    </tr>\n",
       "    <tr>\n",
       "      <th>3</th>\n",
       "      <td>632</td>\n",
       "      <td>Germany</td>\n",
       "      <td>Female</td>\n",
       "      <td>41</td>\n",
       "      <td>-1.0</td>\n",
       "      <td>81877.38</td>\n",
       "      <td>1</td>\n",
       "      <td>1</td>\n",
       "      <td>1</td>\n",
       "      <td>33642.21</td>\n",
       "      <td>1.0</td>\n",
       "      <td>0.0</td>\n",
       "    </tr>\n",
       "    <tr>\n",
       "      <th>4</th>\n",
       "      <td>580</td>\n",
       "      <td>France</td>\n",
       "      <td>Female</td>\n",
       "      <td>56</td>\n",
       "      <td>1.0</td>\n",
       "      <td>131368.30</td>\n",
       "      <td>1</td>\n",
       "      <td>1</td>\n",
       "      <td>0</td>\n",
       "      <td>106918.67</td>\n",
       "      <td>0.0</td>\n",
       "      <td>0.0</td>\n",
       "    </tr>\n",
       "  </tbody>\n",
       "</table>\n",
       "</div>"
      ],
      "text/plain": [
       "   credit_score geography  gender  age tenure    balance  num_of_products  \\\n",
       "0           549   Germany  Female   49    6.0  124829.16                1   \n",
       "1           694    France  Female   38   -1.0  195926.39                1   \n",
       "2           660    France    Male   34    8.0  106486.66                2   \n",
       "3           632   Germany  Female   41   -1.0   81877.38                1   \n",
       "4           580    France  Female   56    1.0  131368.30                1   \n",
       "\n",
       "   has_cr_card  is_active_member  estimated_salary  geography_1  geography_2  \n",
       "0            0                 1          93551.36          1.0          0.0  \n",
       "1            1                 1          85522.84          0.0          0.0  \n",
       "2            0                 1         182262.66          0.0          0.0  \n",
       "3            1                 1          33642.21          1.0          0.0  \n",
       "4            1                 0         106918.67          0.0          0.0  "
      ]
     },
     "metadata": {},
     "output_type": "display_data"
    },
    {
     "data": {
      "text/html": [
       "<div>\n",
       "<style scoped>\n",
       "    .dataframe tbody tr th:only-of-type {\n",
       "        vertical-align: middle;\n",
       "    }\n",
       "\n",
       "    .dataframe tbody tr th {\n",
       "        vertical-align: top;\n",
       "    }\n",
       "\n",
       "    .dataframe thead th {\n",
       "        text-align: right;\n",
       "    }\n",
       "</style>\n",
       "<table border=\"1\" class=\"dataframe\">\n",
       "  <thead>\n",
       "    <tr style=\"text-align: right;\">\n",
       "      <th></th>\n",
       "      <th>credit_score</th>\n",
       "      <th>geography</th>\n",
       "      <th>gender</th>\n",
       "      <th>age</th>\n",
       "      <th>tenure</th>\n",
       "      <th>balance</th>\n",
       "      <th>num_of_products</th>\n",
       "      <th>has_cr_card</th>\n",
       "      <th>is_active_member</th>\n",
       "      <th>estimated_salary</th>\n",
       "      <th>geography_1</th>\n",
       "      <th>geography_2</th>\n",
       "    </tr>\n",
       "  </thead>\n",
       "  <tbody>\n",
       "    <tr>\n",
       "      <th>0</th>\n",
       "      <td>549</td>\n",
       "      <td>Germany</td>\n",
       "      <td>Female</td>\n",
       "      <td>49</td>\n",
       "      <td>6.0</td>\n",
       "      <td>124829.16</td>\n",
       "      <td>1</td>\n",
       "      <td>0</td>\n",
       "      <td>1</td>\n",
       "      <td>93551.36</td>\n",
       "      <td>1.0</td>\n",
       "      <td>0.0</td>\n",
       "    </tr>\n",
       "    <tr>\n",
       "      <th>1</th>\n",
       "      <td>694</td>\n",
       "      <td>France</td>\n",
       "      <td>Female</td>\n",
       "      <td>38</td>\n",
       "      <td>-1.0</td>\n",
       "      <td>195926.39</td>\n",
       "      <td>1</td>\n",
       "      <td>1</td>\n",
       "      <td>1</td>\n",
       "      <td>85522.84</td>\n",
       "      <td>0.0</td>\n",
       "      <td>0.0</td>\n",
       "    </tr>\n",
       "    <tr>\n",
       "      <th>2</th>\n",
       "      <td>660</td>\n",
       "      <td>France</td>\n",
       "      <td>Male</td>\n",
       "      <td>34</td>\n",
       "      <td>8.0</td>\n",
       "      <td>106486.66</td>\n",
       "      <td>2</td>\n",
       "      <td>0</td>\n",
       "      <td>1</td>\n",
       "      <td>182262.66</td>\n",
       "      <td>0.0</td>\n",
       "      <td>0.0</td>\n",
       "    </tr>\n",
       "    <tr>\n",
       "      <th>3</th>\n",
       "      <td>632</td>\n",
       "      <td>Germany</td>\n",
       "      <td>Female</td>\n",
       "      <td>41</td>\n",
       "      <td>-1.0</td>\n",
       "      <td>81877.38</td>\n",
       "      <td>1</td>\n",
       "      <td>1</td>\n",
       "      <td>1</td>\n",
       "      <td>33642.21</td>\n",
       "      <td>1.0</td>\n",
       "      <td>0.0</td>\n",
       "    </tr>\n",
       "    <tr>\n",
       "      <th>4</th>\n",
       "      <td>580</td>\n",
       "      <td>France</td>\n",
       "      <td>Female</td>\n",
       "      <td>56</td>\n",
       "      <td>1.0</td>\n",
       "      <td>131368.30</td>\n",
       "      <td>1</td>\n",
       "      <td>1</td>\n",
       "      <td>0</td>\n",
       "      <td>106918.67</td>\n",
       "      <td>0.0</td>\n",
       "      <td>0.0</td>\n",
       "    </tr>\n",
       "  </tbody>\n",
       "</table>\n",
       "</div>"
      ],
      "text/plain": [
       "   credit_score geography  gender  age tenure    balance  num_of_products  \\\n",
       "0           549   Germany  Female   49    6.0  124829.16                1   \n",
       "1           694    France  Female   38   -1.0  195926.39                1   \n",
       "2           660    France    Male   34    8.0  106486.66                2   \n",
       "3           632   Germany  Female   41   -1.0   81877.38                1   \n",
       "4           580    France  Female   56    1.0  131368.30                1   \n",
       "\n",
       "   has_cr_card  is_active_member  estimated_salary  geography_1  geography_2  \n",
       "0            0                 1          93551.36          1.0          0.0  \n",
       "1            1                 1          85522.84          0.0          0.0  \n",
       "2            0                 1         182262.66          0.0          0.0  \n",
       "3            1                 1          33642.21          1.0          0.0  \n",
       "4            1                 0         106918.67          0.0          0.0  "
      ]
     },
     "metadata": {},
     "output_type": "display_data"
    },
    {
     "data": {
      "text/html": [
       "<div>\n",
       "<style scoped>\n",
       "    .dataframe tbody tr th:only-of-type {\n",
       "        vertical-align: middle;\n",
       "    }\n",
       "\n",
       "    .dataframe tbody tr th {\n",
       "        vertical-align: top;\n",
       "    }\n",
       "\n",
       "    .dataframe thead th {\n",
       "        text-align: right;\n",
       "    }\n",
       "</style>\n",
       "<table border=\"1\" class=\"dataframe\">\n",
       "  <thead>\n",
       "    <tr style=\"text-align: right;\">\n",
       "      <th></th>\n",
       "      <th>credit_score</th>\n",
       "      <th>geography</th>\n",
       "      <th>gender</th>\n",
       "      <th>age</th>\n",
       "      <th>tenure</th>\n",
       "      <th>balance</th>\n",
       "      <th>num_of_products</th>\n",
       "      <th>has_cr_card</th>\n",
       "      <th>is_active_member</th>\n",
       "      <th>estimated_salary</th>\n",
       "      <th>geography_1</th>\n",
       "      <th>geography_2</th>\n",
       "    </tr>\n",
       "  </thead>\n",
       "  <tbody>\n",
       "    <tr>\n",
       "      <th>0</th>\n",
       "      <td>549</td>\n",
       "      <td>Germany</td>\n",
       "      <td>Female</td>\n",
       "      <td>49</td>\n",
       "      <td>6.0</td>\n",
       "      <td>124829.16</td>\n",
       "      <td>1</td>\n",
       "      <td>0</td>\n",
       "      <td>1</td>\n",
       "      <td>93551.36</td>\n",
       "      <td>1.0</td>\n",
       "      <td>0.0</td>\n",
       "    </tr>\n",
       "    <tr>\n",
       "      <th>1</th>\n",
       "      <td>694</td>\n",
       "      <td>France</td>\n",
       "      <td>Female</td>\n",
       "      <td>38</td>\n",
       "      <td>-1.0</td>\n",
       "      <td>195926.39</td>\n",
       "      <td>1</td>\n",
       "      <td>1</td>\n",
       "      <td>1</td>\n",
       "      <td>85522.84</td>\n",
       "      <td>0.0</td>\n",
       "      <td>0.0</td>\n",
       "    </tr>\n",
       "    <tr>\n",
       "      <th>2</th>\n",
       "      <td>660</td>\n",
       "      <td>France</td>\n",
       "      <td>Male</td>\n",
       "      <td>34</td>\n",
       "      <td>8.0</td>\n",
       "      <td>106486.66</td>\n",
       "      <td>2</td>\n",
       "      <td>0</td>\n",
       "      <td>1</td>\n",
       "      <td>182262.66</td>\n",
       "      <td>0.0</td>\n",
       "      <td>0.0</td>\n",
       "    </tr>\n",
       "    <tr>\n",
       "      <th>3</th>\n",
       "      <td>632</td>\n",
       "      <td>Germany</td>\n",
       "      <td>Female</td>\n",
       "      <td>41</td>\n",
       "      <td>-1.0</td>\n",
       "      <td>81877.38</td>\n",
       "      <td>1</td>\n",
       "      <td>1</td>\n",
       "      <td>1</td>\n",
       "      <td>33642.21</td>\n",
       "      <td>1.0</td>\n",
       "      <td>0.0</td>\n",
       "    </tr>\n",
       "    <tr>\n",
       "      <th>4</th>\n",
       "      <td>580</td>\n",
       "      <td>France</td>\n",
       "      <td>Female</td>\n",
       "      <td>56</td>\n",
       "      <td>1.0</td>\n",
       "      <td>131368.30</td>\n",
       "      <td>1</td>\n",
       "      <td>1</td>\n",
       "      <td>0</td>\n",
       "      <td>106918.67</td>\n",
       "      <td>0.0</td>\n",
       "      <td>0.0</td>\n",
       "    </tr>\n",
       "  </tbody>\n",
       "</table>\n",
       "</div>"
      ],
      "text/plain": [
       "   credit_score geography  gender  age tenure    balance  num_of_products  \\\n",
       "0           549   Germany  Female   49    6.0  124829.16                1   \n",
       "1           694    France  Female   38   -1.0  195926.39                1   \n",
       "2           660    France    Male   34    8.0  106486.66                2   \n",
       "3           632   Germany  Female   41   -1.0   81877.38                1   \n",
       "4           580    France  Female   56    1.0  131368.30                1   \n",
       "\n",
       "   has_cr_card  is_active_member  estimated_salary  geography_1  geography_2  \n",
       "0            0                 1          93551.36          1.0          0.0  \n",
       "1            1                 1          85522.84          0.0          0.0  \n",
       "2            0                 1         182262.66          0.0          0.0  \n",
       "3            1                 1          33642.21          1.0          0.0  \n",
       "4            1                 0         106918.67          0.0          0.0  "
      ]
     },
     "metadata": {},
     "output_type": "display_data"
    }
   ],
   "source": [
    "ohe = OneHotEncoder(categories = 'auto',sparse = False, drop = 'first')\n",
    "temp = ohe.fit_transform(features_train[['geography']])\n",
    "ohe_column = pd.DataFrame(temp, columns = [\"geography_1\",\"geography_2\"])\n",
    "features_train = pd.concat([features_train, ohe_column],axis = 1)\n",
    "display(features_train.head())\n",
    "ohe = OneHotEncoder(categories = 'auto',sparse = False, drop = 'first')\n",
    "temp = ohe.fit_transform(features_valid[['geography']])\n",
    "ohe_column = pd.DataFrame(temp, columns = [\"geography_1\",\"geography_2\"])\n",
    "features_valid = pd.concat([features_valid, ohe_column],axis = 1)\n",
    "display(features_train.head())\n",
    "ohe = OneHotEncoder(categories = 'auto',sparse = False, drop = 'first')\n",
    "temp = ohe.fit_transform(features_test[['geography']])\n",
    "ohe_column = pd.DataFrame(temp, columns = [\"geography_1\",\"geography_2\"])\n",
    "features_test = pd.concat([features_test, ohe_column],axis = 1)\n",
    "display(features_train.head())"
   ]
  },
  {
   "cell_type": "code",
   "execution_count": 20,
   "metadata": {},
   "outputs": [
    {
     "data": {
      "text/html": [
       "<div>\n",
       "<style scoped>\n",
       "    .dataframe tbody tr th:only-of-type {\n",
       "        vertical-align: middle;\n",
       "    }\n",
       "\n",
       "    .dataframe tbody tr th {\n",
       "        vertical-align: top;\n",
       "    }\n",
       "\n",
       "    .dataframe thead th {\n",
       "        text-align: right;\n",
       "    }\n",
       "</style>\n",
       "<table border=\"1\" class=\"dataframe\">\n",
       "  <thead>\n",
       "    <tr style=\"text-align: right;\">\n",
       "      <th></th>\n",
       "      <th>credit_score</th>\n",
       "      <th>geography</th>\n",
       "      <th>gender</th>\n",
       "      <th>age</th>\n",
       "      <th>tenure</th>\n",
       "      <th>balance</th>\n",
       "      <th>num_of_products</th>\n",
       "      <th>has_cr_card</th>\n",
       "      <th>is_active_member</th>\n",
       "      <th>estimated_salary</th>\n",
       "      <th>geography_1</th>\n",
       "      <th>geography_2</th>\n",
       "      <th>gender_male</th>\n",
       "    </tr>\n",
       "  </thead>\n",
       "  <tbody>\n",
       "    <tr>\n",
       "      <th>0</th>\n",
       "      <td>549</td>\n",
       "      <td>Germany</td>\n",
       "      <td>Female</td>\n",
       "      <td>49</td>\n",
       "      <td>6.0</td>\n",
       "      <td>124829.16</td>\n",
       "      <td>1</td>\n",
       "      <td>0</td>\n",
       "      <td>1</td>\n",
       "      <td>93551.36</td>\n",
       "      <td>1.0</td>\n",
       "      <td>0.0</td>\n",
       "      <td>0.0</td>\n",
       "    </tr>\n",
       "    <tr>\n",
       "      <th>1</th>\n",
       "      <td>694</td>\n",
       "      <td>France</td>\n",
       "      <td>Female</td>\n",
       "      <td>38</td>\n",
       "      <td>-1.0</td>\n",
       "      <td>195926.39</td>\n",
       "      <td>1</td>\n",
       "      <td>1</td>\n",
       "      <td>1</td>\n",
       "      <td>85522.84</td>\n",
       "      <td>0.0</td>\n",
       "      <td>0.0</td>\n",
       "      <td>0.0</td>\n",
       "    </tr>\n",
       "    <tr>\n",
       "      <th>2</th>\n",
       "      <td>660</td>\n",
       "      <td>France</td>\n",
       "      <td>Male</td>\n",
       "      <td>34</td>\n",
       "      <td>8.0</td>\n",
       "      <td>106486.66</td>\n",
       "      <td>2</td>\n",
       "      <td>0</td>\n",
       "      <td>1</td>\n",
       "      <td>182262.66</td>\n",
       "      <td>0.0</td>\n",
       "      <td>0.0</td>\n",
       "      <td>1.0</td>\n",
       "    </tr>\n",
       "    <tr>\n",
       "      <th>3</th>\n",
       "      <td>632</td>\n",
       "      <td>Germany</td>\n",
       "      <td>Female</td>\n",
       "      <td>41</td>\n",
       "      <td>-1.0</td>\n",
       "      <td>81877.38</td>\n",
       "      <td>1</td>\n",
       "      <td>1</td>\n",
       "      <td>1</td>\n",
       "      <td>33642.21</td>\n",
       "      <td>1.0</td>\n",
       "      <td>0.0</td>\n",
       "      <td>0.0</td>\n",
       "    </tr>\n",
       "    <tr>\n",
       "      <th>4</th>\n",
       "      <td>580</td>\n",
       "      <td>France</td>\n",
       "      <td>Female</td>\n",
       "      <td>56</td>\n",
       "      <td>1.0</td>\n",
       "      <td>131368.30</td>\n",
       "      <td>1</td>\n",
       "      <td>1</td>\n",
       "      <td>0</td>\n",
       "      <td>106918.67</td>\n",
       "      <td>0.0</td>\n",
       "      <td>0.0</td>\n",
       "      <td>0.0</td>\n",
       "    </tr>\n",
       "  </tbody>\n",
       "</table>\n",
       "</div>"
      ],
      "text/plain": [
       "   credit_score geography  gender  age tenure    balance  num_of_products  \\\n",
       "0           549   Germany  Female   49    6.0  124829.16                1   \n",
       "1           694    France  Female   38   -1.0  195926.39                1   \n",
       "2           660    France    Male   34    8.0  106486.66                2   \n",
       "3           632   Germany  Female   41   -1.0   81877.38                1   \n",
       "4           580    France  Female   56    1.0  131368.30                1   \n",
       "\n",
       "   has_cr_card  is_active_member  estimated_salary  geography_1  geography_2  \\\n",
       "0            0                 1          93551.36          1.0          0.0   \n",
       "1            1                 1          85522.84          0.0          0.0   \n",
       "2            0                 1         182262.66          0.0          0.0   \n",
       "3            1                 1          33642.21          1.0          0.0   \n",
       "4            1                 0         106918.67          0.0          0.0   \n",
       "\n",
       "   gender_male  \n",
       "0          0.0  \n",
       "1          0.0  \n",
       "2          1.0  \n",
       "3          0.0  \n",
       "4          0.0  "
      ]
     },
     "metadata": {},
     "output_type": "display_data"
    },
    {
     "data": {
      "text/html": [
       "<div>\n",
       "<style scoped>\n",
       "    .dataframe tbody tr th:only-of-type {\n",
       "        vertical-align: middle;\n",
       "    }\n",
       "\n",
       "    .dataframe tbody tr th {\n",
       "        vertical-align: top;\n",
       "    }\n",
       "\n",
       "    .dataframe thead th {\n",
       "        text-align: right;\n",
       "    }\n",
       "</style>\n",
       "<table border=\"1\" class=\"dataframe\">\n",
       "  <thead>\n",
       "    <tr style=\"text-align: right;\">\n",
       "      <th></th>\n",
       "      <th>credit_score</th>\n",
       "      <th>geography</th>\n",
       "      <th>gender</th>\n",
       "      <th>age</th>\n",
       "      <th>tenure</th>\n",
       "      <th>balance</th>\n",
       "      <th>num_of_products</th>\n",
       "      <th>has_cr_card</th>\n",
       "      <th>is_active_member</th>\n",
       "      <th>estimated_salary</th>\n",
       "      <th>geography_1</th>\n",
       "      <th>geography_2</th>\n",
       "      <th>gender_male</th>\n",
       "    </tr>\n",
       "  </thead>\n",
       "  <tbody>\n",
       "    <tr>\n",
       "      <th>0</th>\n",
       "      <td>502</td>\n",
       "      <td>France</td>\n",
       "      <td>Female</td>\n",
       "      <td>64</td>\n",
       "      <td>3.0</td>\n",
       "      <td>139663.37</td>\n",
       "      <td>1</td>\n",
       "      <td>0</td>\n",
       "      <td>1</td>\n",
       "      <td>100995.11</td>\n",
       "      <td>0.0</td>\n",
       "      <td>0.0</td>\n",
       "      <td>0.0</td>\n",
       "    </tr>\n",
       "    <tr>\n",
       "      <th>1</th>\n",
       "      <td>707</td>\n",
       "      <td>France</td>\n",
       "      <td>Male</td>\n",
       "      <td>58</td>\n",
       "      <td>6.0</td>\n",
       "      <td>89685.92</td>\n",
       "      <td>1</td>\n",
       "      <td>0</td>\n",
       "      <td>1</td>\n",
       "      <td>126471.13</td>\n",
       "      <td>0.0</td>\n",
       "      <td>0.0</td>\n",
       "      <td>1.0</td>\n",
       "    </tr>\n",
       "    <tr>\n",
       "      <th>2</th>\n",
       "      <td>619</td>\n",
       "      <td>France</td>\n",
       "      <td>Female</td>\n",
       "      <td>35</td>\n",
       "      <td>8.0</td>\n",
       "      <td>132292.63</td>\n",
       "      <td>1</td>\n",
       "      <td>1</td>\n",
       "      <td>0</td>\n",
       "      <td>65682.93</td>\n",
       "      <td>0.0</td>\n",
       "      <td>0.0</td>\n",
       "      <td>0.0</td>\n",
       "    </tr>\n",
       "    <tr>\n",
       "      <th>3</th>\n",
       "      <td>769</td>\n",
       "      <td>France</td>\n",
       "      <td>Male</td>\n",
       "      <td>31</td>\n",
       "      <td>4.0</td>\n",
       "      <td>61297.05</td>\n",
       "      <td>2</td>\n",
       "      <td>1</td>\n",
       "      <td>1</td>\n",
       "      <td>7118.02</td>\n",
       "      <td>0.0</td>\n",
       "      <td>0.0</td>\n",
       "      <td>1.0</td>\n",
       "    </tr>\n",
       "    <tr>\n",
       "      <th>4</th>\n",
       "      <td>637</td>\n",
       "      <td>France</td>\n",
       "      <td>Female</td>\n",
       "      <td>38</td>\n",
       "      <td>3.0</td>\n",
       "      <td>104339.56</td>\n",
       "      <td>1</td>\n",
       "      <td>0</td>\n",
       "      <td>0</td>\n",
       "      <td>119882.86</td>\n",
       "      <td>0.0</td>\n",
       "      <td>0.0</td>\n",
       "      <td>0.0</td>\n",
       "    </tr>\n",
       "  </tbody>\n",
       "</table>\n",
       "</div>"
      ],
      "text/plain": [
       "   credit_score geography  gender  age tenure    balance  num_of_products  \\\n",
       "0           502    France  Female   64    3.0  139663.37                1   \n",
       "1           707    France    Male   58    6.0   89685.92                1   \n",
       "2           619    France  Female   35    8.0  132292.63                1   \n",
       "3           769    France    Male   31    4.0   61297.05                2   \n",
       "4           637    France  Female   38    3.0  104339.56                1   \n",
       "\n",
       "   has_cr_card  is_active_member  estimated_salary  geography_1  geography_2  \\\n",
       "0            0                 1         100995.11          0.0          0.0   \n",
       "1            0                 1         126471.13          0.0          0.0   \n",
       "2            1                 0          65682.93          0.0          0.0   \n",
       "3            1                 1           7118.02          0.0          0.0   \n",
       "4            0                 0         119882.86          0.0          0.0   \n",
       "\n",
       "   gender_male  \n",
       "0          0.0  \n",
       "1          1.0  \n",
       "2          0.0  \n",
       "3          1.0  \n",
       "4          0.0  "
      ]
     },
     "metadata": {},
     "output_type": "display_data"
    },
    {
     "data": {
      "text/html": [
       "<div>\n",
       "<style scoped>\n",
       "    .dataframe tbody tr th:only-of-type {\n",
       "        vertical-align: middle;\n",
       "    }\n",
       "\n",
       "    .dataframe tbody tr th {\n",
       "        vertical-align: top;\n",
       "    }\n",
       "\n",
       "    .dataframe thead th {\n",
       "        text-align: right;\n",
       "    }\n",
       "</style>\n",
       "<table border=\"1\" class=\"dataframe\">\n",
       "  <thead>\n",
       "    <tr style=\"text-align: right;\">\n",
       "      <th></th>\n",
       "      <th>credit_score</th>\n",
       "      <th>geography</th>\n",
       "      <th>gender</th>\n",
       "      <th>age</th>\n",
       "      <th>tenure</th>\n",
       "      <th>balance</th>\n",
       "      <th>num_of_products</th>\n",
       "      <th>has_cr_card</th>\n",
       "      <th>is_active_member</th>\n",
       "      <th>estimated_salary</th>\n",
       "      <th>geography_1</th>\n",
       "      <th>geography_2</th>\n",
       "      <th>gender_male</th>\n",
       "    </tr>\n",
       "  </thead>\n",
       "  <tbody>\n",
       "    <tr>\n",
       "      <th>0</th>\n",
       "      <td>601</td>\n",
       "      <td>Germany</td>\n",
       "      <td>Female</td>\n",
       "      <td>54</td>\n",
       "      <td>1.0</td>\n",
       "      <td>131039.97</td>\n",
       "      <td>2</td>\n",
       "      <td>1</td>\n",
       "      <td>1</td>\n",
       "      <td>199661.50</td>\n",
       "      <td>1.0</td>\n",
       "      <td>0.0</td>\n",
       "      <td>0.0</td>\n",
       "    </tr>\n",
       "    <tr>\n",
       "      <th>1</th>\n",
       "      <td>534</td>\n",
       "      <td>France</td>\n",
       "      <td>Male</td>\n",
       "      <td>24</td>\n",
       "      <td>1.0</td>\n",
       "      <td>0.00</td>\n",
       "      <td>1</td>\n",
       "      <td>1</td>\n",
       "      <td>1</td>\n",
       "      <td>169653.32</td>\n",
       "      <td>0.0</td>\n",
       "      <td>0.0</td>\n",
       "      <td>1.0</td>\n",
       "    </tr>\n",
       "    <tr>\n",
       "      <th>2</th>\n",
       "      <td>527</td>\n",
       "      <td>France</td>\n",
       "      <td>Male</td>\n",
       "      <td>47</td>\n",
       "      <td>1.0</td>\n",
       "      <td>0.00</td>\n",
       "      <td>1</td>\n",
       "      <td>1</td>\n",
       "      <td>0</td>\n",
       "      <td>21312.16</td>\n",
       "      <td>0.0</td>\n",
       "      <td>0.0</td>\n",
       "      <td>1.0</td>\n",
       "    </tr>\n",
       "    <tr>\n",
       "      <th>3</th>\n",
       "      <td>730</td>\n",
       "      <td>Spain</td>\n",
       "      <td>Female</td>\n",
       "      <td>52</td>\n",
       "      <td>7.0</td>\n",
       "      <td>0.00</td>\n",
       "      <td>2</td>\n",
       "      <td>0</td>\n",
       "      <td>1</td>\n",
       "      <td>122398.84</td>\n",
       "      <td>0.0</td>\n",
       "      <td>1.0</td>\n",
       "      <td>0.0</td>\n",
       "    </tr>\n",
       "    <tr>\n",
       "      <th>4</th>\n",
       "      <td>714</td>\n",
       "      <td>Germany</td>\n",
       "      <td>Female</td>\n",
       "      <td>49</td>\n",
       "      <td>4.0</td>\n",
       "      <td>93059.34</td>\n",
       "      <td>1</td>\n",
       "      <td>1</td>\n",
       "      <td>0</td>\n",
       "      <td>7571.51</td>\n",
       "      <td>1.0</td>\n",
       "      <td>0.0</td>\n",
       "      <td>0.0</td>\n",
       "    </tr>\n",
       "  </tbody>\n",
       "</table>\n",
       "</div>"
      ],
      "text/plain": [
       "   credit_score geography  gender  age tenure    balance  num_of_products  \\\n",
       "0           601   Germany  Female   54    1.0  131039.97                2   \n",
       "1           534    France    Male   24    1.0       0.00                1   \n",
       "2           527    France    Male   47    1.0       0.00                1   \n",
       "3           730     Spain  Female   52    7.0       0.00                2   \n",
       "4           714   Germany  Female   49    4.0   93059.34                1   \n",
       "\n",
       "   has_cr_card  is_active_member  estimated_salary  geography_1  geography_2  \\\n",
       "0            1                 1         199661.50          1.0          0.0   \n",
       "1            1                 1         169653.32          0.0          0.0   \n",
       "2            1                 0          21312.16          0.0          0.0   \n",
       "3            0                 1         122398.84          0.0          1.0   \n",
       "4            1                 0           7571.51          1.0          0.0   \n",
       "\n",
       "   gender_male  \n",
       "0          0.0  \n",
       "1          1.0  \n",
       "2          1.0  \n",
       "3          0.0  \n",
       "4          0.0  "
      ]
     },
     "metadata": {},
     "output_type": "display_data"
    }
   ],
   "source": [
    "temp = ohe.fit_transform(features_train[['gender']])\n",
    "ohe_column = pd.DataFrame(temp, columns = [\"gender_male\"])\n",
    "features_train = pd.concat([features_train, ohe_column],axis = 1)\n",
    "display(features_train.head())\n",
    "temp = ohe.fit_transform(features_valid[['gender']])\n",
    "ohe_column = pd.DataFrame(temp, columns = [\"gender_male\"])\n",
    "features_valid = pd.concat([features_valid, ohe_column],axis = 1)\n",
    "display(features_valid.head())\n",
    "temp = ohe.fit_transform(features_test[['gender']])\n",
    "ohe_column = pd.DataFrame(temp, columns = [\"gender_male\"])\n",
    "features_test = pd.concat([features_test, ohe_column],axis = 1)\n",
    "display(features_test.head())"
   ]
  },
  {
   "cell_type": "code",
   "execution_count": 21,
   "metadata": {},
   "outputs": [
    {
     "data": {
      "text/html": [
       "<div>\n",
       "<style scoped>\n",
       "    .dataframe tbody tr th:only-of-type {\n",
       "        vertical-align: middle;\n",
       "    }\n",
       "\n",
       "    .dataframe tbody tr th {\n",
       "        vertical-align: top;\n",
       "    }\n",
       "\n",
       "    .dataframe thead th {\n",
       "        text-align: right;\n",
       "    }\n",
       "</style>\n",
       "<table border=\"1\" class=\"dataframe\">\n",
       "  <thead>\n",
       "    <tr style=\"text-align: right;\">\n",
       "      <th></th>\n",
       "      <th>credit_score</th>\n",
       "      <th>geography</th>\n",
       "      <th>gender</th>\n",
       "      <th>age</th>\n",
       "      <th>tenure</th>\n",
       "      <th>balance</th>\n",
       "      <th>num_of_products</th>\n",
       "      <th>has_cr_card</th>\n",
       "      <th>is_active_member</th>\n",
       "      <th>estimated_salary</th>\n",
       "      <th>...</th>\n",
       "      <th>tenure_2</th>\n",
       "      <th>tenure_3</th>\n",
       "      <th>tenure_4</th>\n",
       "      <th>tenure_5</th>\n",
       "      <th>tenure_6</th>\n",
       "      <th>tenure_7</th>\n",
       "      <th>tenure_8</th>\n",
       "      <th>tenure_9</th>\n",
       "      <th>tenure_10</th>\n",
       "      <th>tenure_11</th>\n",
       "    </tr>\n",
       "  </thead>\n",
       "  <tbody>\n",
       "    <tr>\n",
       "      <th>0</th>\n",
       "      <td>549</td>\n",
       "      <td>Germany</td>\n",
       "      <td>Female</td>\n",
       "      <td>49</td>\n",
       "      <td>6.0</td>\n",
       "      <td>124829.16</td>\n",
       "      <td>1</td>\n",
       "      <td>0</td>\n",
       "      <td>1</td>\n",
       "      <td>93551.36</td>\n",
       "      <td>...</td>\n",
       "      <td>0.0</td>\n",
       "      <td>0.0</td>\n",
       "      <td>0.0</td>\n",
       "      <td>0.0</td>\n",
       "      <td>0.0</td>\n",
       "      <td>1.0</td>\n",
       "      <td>0.0</td>\n",
       "      <td>0.0</td>\n",
       "      <td>0.0</td>\n",
       "      <td>0.0</td>\n",
       "    </tr>\n",
       "    <tr>\n",
       "      <th>1</th>\n",
       "      <td>694</td>\n",
       "      <td>France</td>\n",
       "      <td>Female</td>\n",
       "      <td>38</td>\n",
       "      <td>-1.0</td>\n",
       "      <td>195926.39</td>\n",
       "      <td>1</td>\n",
       "      <td>1</td>\n",
       "      <td>1</td>\n",
       "      <td>85522.84</td>\n",
       "      <td>...</td>\n",
       "      <td>0.0</td>\n",
       "      <td>0.0</td>\n",
       "      <td>0.0</td>\n",
       "      <td>0.0</td>\n",
       "      <td>0.0</td>\n",
       "      <td>0.0</td>\n",
       "      <td>0.0</td>\n",
       "      <td>0.0</td>\n",
       "      <td>0.0</td>\n",
       "      <td>0.0</td>\n",
       "    </tr>\n",
       "    <tr>\n",
       "      <th>2</th>\n",
       "      <td>660</td>\n",
       "      <td>France</td>\n",
       "      <td>Male</td>\n",
       "      <td>34</td>\n",
       "      <td>8.0</td>\n",
       "      <td>106486.66</td>\n",
       "      <td>2</td>\n",
       "      <td>0</td>\n",
       "      <td>1</td>\n",
       "      <td>182262.66</td>\n",
       "      <td>...</td>\n",
       "      <td>0.0</td>\n",
       "      <td>0.0</td>\n",
       "      <td>0.0</td>\n",
       "      <td>0.0</td>\n",
       "      <td>0.0</td>\n",
       "      <td>0.0</td>\n",
       "      <td>0.0</td>\n",
       "      <td>1.0</td>\n",
       "      <td>0.0</td>\n",
       "      <td>0.0</td>\n",
       "    </tr>\n",
       "    <tr>\n",
       "      <th>3</th>\n",
       "      <td>632</td>\n",
       "      <td>Germany</td>\n",
       "      <td>Female</td>\n",
       "      <td>41</td>\n",
       "      <td>-1.0</td>\n",
       "      <td>81877.38</td>\n",
       "      <td>1</td>\n",
       "      <td>1</td>\n",
       "      <td>1</td>\n",
       "      <td>33642.21</td>\n",
       "      <td>...</td>\n",
       "      <td>0.0</td>\n",
       "      <td>0.0</td>\n",
       "      <td>0.0</td>\n",
       "      <td>0.0</td>\n",
       "      <td>0.0</td>\n",
       "      <td>0.0</td>\n",
       "      <td>0.0</td>\n",
       "      <td>0.0</td>\n",
       "      <td>0.0</td>\n",
       "      <td>0.0</td>\n",
       "    </tr>\n",
       "    <tr>\n",
       "      <th>4</th>\n",
       "      <td>580</td>\n",
       "      <td>France</td>\n",
       "      <td>Female</td>\n",
       "      <td>56</td>\n",
       "      <td>1.0</td>\n",
       "      <td>131368.30</td>\n",
       "      <td>1</td>\n",
       "      <td>1</td>\n",
       "      <td>0</td>\n",
       "      <td>106918.67</td>\n",
       "      <td>...</td>\n",
       "      <td>1.0</td>\n",
       "      <td>0.0</td>\n",
       "      <td>0.0</td>\n",
       "      <td>0.0</td>\n",
       "      <td>0.0</td>\n",
       "      <td>0.0</td>\n",
       "      <td>0.0</td>\n",
       "      <td>0.0</td>\n",
       "      <td>0.0</td>\n",
       "      <td>0.0</td>\n",
       "    </tr>\n",
       "  </tbody>\n",
       "</table>\n",
       "<p>5 rows × 24 columns</p>\n",
       "</div>"
      ],
      "text/plain": [
       "   credit_score geography  gender  age tenure    balance  num_of_products  \\\n",
       "0           549   Germany  Female   49    6.0  124829.16                1   \n",
       "1           694    France  Female   38   -1.0  195926.39                1   \n",
       "2           660    France    Male   34    8.0  106486.66                2   \n",
       "3           632   Germany  Female   41   -1.0   81877.38                1   \n",
       "4           580    France  Female   56    1.0  131368.30                1   \n",
       "\n",
       "   has_cr_card  is_active_member  estimated_salary  ...  tenure_2  tenure_3  \\\n",
       "0            0                 1          93551.36  ...       0.0       0.0   \n",
       "1            1                 1          85522.84  ...       0.0       0.0   \n",
       "2            0                 1         182262.66  ...       0.0       0.0   \n",
       "3            1                 1          33642.21  ...       0.0       0.0   \n",
       "4            1                 0         106918.67  ...       1.0       0.0   \n",
       "\n",
       "   tenure_4  tenure_5  tenure_6  tenure_7  tenure_8  tenure_9  tenure_10  \\\n",
       "0       0.0       0.0       0.0       1.0       0.0       0.0        0.0   \n",
       "1       0.0       0.0       0.0       0.0       0.0       0.0        0.0   \n",
       "2       0.0       0.0       0.0       0.0       0.0       1.0        0.0   \n",
       "3       0.0       0.0       0.0       0.0       0.0       0.0        0.0   \n",
       "4       0.0       0.0       0.0       0.0       0.0       0.0        0.0   \n",
       "\n",
       "   tenure_11  \n",
       "0        0.0  \n",
       "1        0.0  \n",
       "2        0.0  \n",
       "3        0.0  \n",
       "4        0.0  \n",
       "\n",
       "[5 rows x 24 columns]"
      ]
     },
     "metadata": {},
     "output_type": "display_data"
    },
    {
     "data": {
      "text/html": [
       "<div>\n",
       "<style scoped>\n",
       "    .dataframe tbody tr th:only-of-type {\n",
       "        vertical-align: middle;\n",
       "    }\n",
       "\n",
       "    .dataframe tbody tr th {\n",
       "        vertical-align: top;\n",
       "    }\n",
       "\n",
       "    .dataframe thead th {\n",
       "        text-align: right;\n",
       "    }\n",
       "</style>\n",
       "<table border=\"1\" class=\"dataframe\">\n",
       "  <thead>\n",
       "    <tr style=\"text-align: right;\">\n",
       "      <th></th>\n",
       "      <th>credit_score</th>\n",
       "      <th>geography</th>\n",
       "      <th>gender</th>\n",
       "      <th>age</th>\n",
       "      <th>tenure</th>\n",
       "      <th>balance</th>\n",
       "      <th>num_of_products</th>\n",
       "      <th>has_cr_card</th>\n",
       "      <th>is_active_member</th>\n",
       "      <th>estimated_salary</th>\n",
       "      <th>...</th>\n",
       "      <th>tenure_2</th>\n",
       "      <th>tenure_3</th>\n",
       "      <th>tenure_4</th>\n",
       "      <th>tenure_5</th>\n",
       "      <th>tenure_6</th>\n",
       "      <th>tenure_7</th>\n",
       "      <th>tenure_8</th>\n",
       "      <th>tenure_9</th>\n",
       "      <th>tenure_10</th>\n",
       "      <th>tenure_11</th>\n",
       "    </tr>\n",
       "  </thead>\n",
       "  <tbody>\n",
       "    <tr>\n",
       "      <th>0</th>\n",
       "      <td>502</td>\n",
       "      <td>France</td>\n",
       "      <td>Female</td>\n",
       "      <td>64</td>\n",
       "      <td>3.0</td>\n",
       "      <td>139663.37</td>\n",
       "      <td>1</td>\n",
       "      <td>0</td>\n",
       "      <td>1</td>\n",
       "      <td>100995.11</td>\n",
       "      <td>...</td>\n",
       "      <td>0.0</td>\n",
       "      <td>0.0</td>\n",
       "      <td>1.0</td>\n",
       "      <td>0.0</td>\n",
       "      <td>0.0</td>\n",
       "      <td>0.0</td>\n",
       "      <td>0.0</td>\n",
       "      <td>0.0</td>\n",
       "      <td>0.0</td>\n",
       "      <td>0.0</td>\n",
       "    </tr>\n",
       "    <tr>\n",
       "      <th>1</th>\n",
       "      <td>707</td>\n",
       "      <td>France</td>\n",
       "      <td>Male</td>\n",
       "      <td>58</td>\n",
       "      <td>6.0</td>\n",
       "      <td>89685.92</td>\n",
       "      <td>1</td>\n",
       "      <td>0</td>\n",
       "      <td>1</td>\n",
       "      <td>126471.13</td>\n",
       "      <td>...</td>\n",
       "      <td>0.0</td>\n",
       "      <td>0.0</td>\n",
       "      <td>0.0</td>\n",
       "      <td>0.0</td>\n",
       "      <td>0.0</td>\n",
       "      <td>1.0</td>\n",
       "      <td>0.0</td>\n",
       "      <td>0.0</td>\n",
       "      <td>0.0</td>\n",
       "      <td>0.0</td>\n",
       "    </tr>\n",
       "    <tr>\n",
       "      <th>2</th>\n",
       "      <td>619</td>\n",
       "      <td>France</td>\n",
       "      <td>Female</td>\n",
       "      <td>35</td>\n",
       "      <td>8.0</td>\n",
       "      <td>132292.63</td>\n",
       "      <td>1</td>\n",
       "      <td>1</td>\n",
       "      <td>0</td>\n",
       "      <td>65682.93</td>\n",
       "      <td>...</td>\n",
       "      <td>0.0</td>\n",
       "      <td>0.0</td>\n",
       "      <td>0.0</td>\n",
       "      <td>0.0</td>\n",
       "      <td>0.0</td>\n",
       "      <td>0.0</td>\n",
       "      <td>0.0</td>\n",
       "      <td>1.0</td>\n",
       "      <td>0.0</td>\n",
       "      <td>0.0</td>\n",
       "    </tr>\n",
       "    <tr>\n",
       "      <th>3</th>\n",
       "      <td>769</td>\n",
       "      <td>France</td>\n",
       "      <td>Male</td>\n",
       "      <td>31</td>\n",
       "      <td>4.0</td>\n",
       "      <td>61297.05</td>\n",
       "      <td>2</td>\n",
       "      <td>1</td>\n",
       "      <td>1</td>\n",
       "      <td>7118.02</td>\n",
       "      <td>...</td>\n",
       "      <td>0.0</td>\n",
       "      <td>0.0</td>\n",
       "      <td>0.0</td>\n",
       "      <td>1.0</td>\n",
       "      <td>0.0</td>\n",
       "      <td>0.0</td>\n",
       "      <td>0.0</td>\n",
       "      <td>0.0</td>\n",
       "      <td>0.0</td>\n",
       "      <td>0.0</td>\n",
       "    </tr>\n",
       "    <tr>\n",
       "      <th>4</th>\n",
       "      <td>637</td>\n",
       "      <td>France</td>\n",
       "      <td>Female</td>\n",
       "      <td>38</td>\n",
       "      <td>3.0</td>\n",
       "      <td>104339.56</td>\n",
       "      <td>1</td>\n",
       "      <td>0</td>\n",
       "      <td>0</td>\n",
       "      <td>119882.86</td>\n",
       "      <td>...</td>\n",
       "      <td>0.0</td>\n",
       "      <td>0.0</td>\n",
       "      <td>1.0</td>\n",
       "      <td>0.0</td>\n",
       "      <td>0.0</td>\n",
       "      <td>0.0</td>\n",
       "      <td>0.0</td>\n",
       "      <td>0.0</td>\n",
       "      <td>0.0</td>\n",
       "      <td>0.0</td>\n",
       "    </tr>\n",
       "  </tbody>\n",
       "</table>\n",
       "<p>5 rows × 24 columns</p>\n",
       "</div>"
      ],
      "text/plain": [
       "   credit_score geography  gender  age tenure    balance  num_of_products  \\\n",
       "0           502    France  Female   64    3.0  139663.37                1   \n",
       "1           707    France    Male   58    6.0   89685.92                1   \n",
       "2           619    France  Female   35    8.0  132292.63                1   \n",
       "3           769    France    Male   31    4.0   61297.05                2   \n",
       "4           637    France  Female   38    3.0  104339.56                1   \n",
       "\n",
       "   has_cr_card  is_active_member  estimated_salary  ...  tenure_2  tenure_3  \\\n",
       "0            0                 1         100995.11  ...       0.0       0.0   \n",
       "1            0                 1         126471.13  ...       0.0       0.0   \n",
       "2            1                 0          65682.93  ...       0.0       0.0   \n",
       "3            1                 1           7118.02  ...       0.0       0.0   \n",
       "4            0                 0         119882.86  ...       0.0       0.0   \n",
       "\n",
       "   tenure_4  tenure_5  tenure_6  tenure_7  tenure_8  tenure_9  tenure_10  \\\n",
       "0       1.0       0.0       0.0       0.0       0.0       0.0        0.0   \n",
       "1       0.0       0.0       0.0       1.0       0.0       0.0        0.0   \n",
       "2       0.0       0.0       0.0       0.0       0.0       1.0        0.0   \n",
       "3       0.0       1.0       0.0       0.0       0.0       0.0        0.0   \n",
       "4       1.0       0.0       0.0       0.0       0.0       0.0        0.0   \n",
       "\n",
       "   tenure_11  \n",
       "0        0.0  \n",
       "1        0.0  \n",
       "2        0.0  \n",
       "3        0.0  \n",
       "4        0.0  \n",
       "\n",
       "[5 rows x 24 columns]"
      ]
     },
     "metadata": {},
     "output_type": "display_data"
    },
    {
     "data": {
      "text/html": [
       "<div>\n",
       "<style scoped>\n",
       "    .dataframe tbody tr th:only-of-type {\n",
       "        vertical-align: middle;\n",
       "    }\n",
       "\n",
       "    .dataframe tbody tr th {\n",
       "        vertical-align: top;\n",
       "    }\n",
       "\n",
       "    .dataframe thead th {\n",
       "        text-align: right;\n",
       "    }\n",
       "</style>\n",
       "<table border=\"1\" class=\"dataframe\">\n",
       "  <thead>\n",
       "    <tr style=\"text-align: right;\">\n",
       "      <th></th>\n",
       "      <th>credit_score</th>\n",
       "      <th>geography</th>\n",
       "      <th>gender</th>\n",
       "      <th>age</th>\n",
       "      <th>tenure</th>\n",
       "      <th>balance</th>\n",
       "      <th>num_of_products</th>\n",
       "      <th>has_cr_card</th>\n",
       "      <th>is_active_member</th>\n",
       "      <th>estimated_salary</th>\n",
       "      <th>...</th>\n",
       "      <th>tenure_2</th>\n",
       "      <th>tenure_3</th>\n",
       "      <th>tenure_4</th>\n",
       "      <th>tenure_5</th>\n",
       "      <th>tenure_6</th>\n",
       "      <th>tenure_7</th>\n",
       "      <th>tenure_8</th>\n",
       "      <th>tenure_9</th>\n",
       "      <th>tenure_10</th>\n",
       "      <th>tenure_11</th>\n",
       "    </tr>\n",
       "  </thead>\n",
       "  <tbody>\n",
       "    <tr>\n",
       "      <th>0</th>\n",
       "      <td>601</td>\n",
       "      <td>Germany</td>\n",
       "      <td>Female</td>\n",
       "      <td>54</td>\n",
       "      <td>1.0</td>\n",
       "      <td>131039.97</td>\n",
       "      <td>2</td>\n",
       "      <td>1</td>\n",
       "      <td>1</td>\n",
       "      <td>199661.50</td>\n",
       "      <td>...</td>\n",
       "      <td>1.0</td>\n",
       "      <td>0.0</td>\n",
       "      <td>0.0</td>\n",
       "      <td>0.0</td>\n",
       "      <td>0.0</td>\n",
       "      <td>0.0</td>\n",
       "      <td>0.0</td>\n",
       "      <td>0.0</td>\n",
       "      <td>0.0</td>\n",
       "      <td>0.0</td>\n",
       "    </tr>\n",
       "    <tr>\n",
       "      <th>1</th>\n",
       "      <td>534</td>\n",
       "      <td>France</td>\n",
       "      <td>Male</td>\n",
       "      <td>24</td>\n",
       "      <td>1.0</td>\n",
       "      <td>0.00</td>\n",
       "      <td>1</td>\n",
       "      <td>1</td>\n",
       "      <td>1</td>\n",
       "      <td>169653.32</td>\n",
       "      <td>...</td>\n",
       "      <td>1.0</td>\n",
       "      <td>0.0</td>\n",
       "      <td>0.0</td>\n",
       "      <td>0.0</td>\n",
       "      <td>0.0</td>\n",
       "      <td>0.0</td>\n",
       "      <td>0.0</td>\n",
       "      <td>0.0</td>\n",
       "      <td>0.0</td>\n",
       "      <td>0.0</td>\n",
       "    </tr>\n",
       "    <tr>\n",
       "      <th>2</th>\n",
       "      <td>527</td>\n",
       "      <td>France</td>\n",
       "      <td>Male</td>\n",
       "      <td>47</td>\n",
       "      <td>1.0</td>\n",
       "      <td>0.00</td>\n",
       "      <td>1</td>\n",
       "      <td>1</td>\n",
       "      <td>0</td>\n",
       "      <td>21312.16</td>\n",
       "      <td>...</td>\n",
       "      <td>1.0</td>\n",
       "      <td>0.0</td>\n",
       "      <td>0.0</td>\n",
       "      <td>0.0</td>\n",
       "      <td>0.0</td>\n",
       "      <td>0.0</td>\n",
       "      <td>0.0</td>\n",
       "      <td>0.0</td>\n",
       "      <td>0.0</td>\n",
       "      <td>0.0</td>\n",
       "    </tr>\n",
       "    <tr>\n",
       "      <th>3</th>\n",
       "      <td>730</td>\n",
       "      <td>Spain</td>\n",
       "      <td>Female</td>\n",
       "      <td>52</td>\n",
       "      <td>7.0</td>\n",
       "      <td>0.00</td>\n",
       "      <td>2</td>\n",
       "      <td>0</td>\n",
       "      <td>1</td>\n",
       "      <td>122398.84</td>\n",
       "      <td>...</td>\n",
       "      <td>0.0</td>\n",
       "      <td>0.0</td>\n",
       "      <td>0.0</td>\n",
       "      <td>0.0</td>\n",
       "      <td>0.0</td>\n",
       "      <td>0.0</td>\n",
       "      <td>1.0</td>\n",
       "      <td>0.0</td>\n",
       "      <td>0.0</td>\n",
       "      <td>0.0</td>\n",
       "    </tr>\n",
       "    <tr>\n",
       "      <th>4</th>\n",
       "      <td>714</td>\n",
       "      <td>Germany</td>\n",
       "      <td>Female</td>\n",
       "      <td>49</td>\n",
       "      <td>4.0</td>\n",
       "      <td>93059.34</td>\n",
       "      <td>1</td>\n",
       "      <td>1</td>\n",
       "      <td>0</td>\n",
       "      <td>7571.51</td>\n",
       "      <td>...</td>\n",
       "      <td>0.0</td>\n",
       "      <td>0.0</td>\n",
       "      <td>0.0</td>\n",
       "      <td>1.0</td>\n",
       "      <td>0.0</td>\n",
       "      <td>0.0</td>\n",
       "      <td>0.0</td>\n",
       "      <td>0.0</td>\n",
       "      <td>0.0</td>\n",
       "      <td>0.0</td>\n",
       "    </tr>\n",
       "  </tbody>\n",
       "</table>\n",
       "<p>5 rows × 24 columns</p>\n",
       "</div>"
      ],
      "text/plain": [
       "   credit_score geography  gender  age tenure    balance  num_of_products  \\\n",
       "0           601   Germany  Female   54    1.0  131039.97                2   \n",
       "1           534    France    Male   24    1.0       0.00                1   \n",
       "2           527    France    Male   47    1.0       0.00                1   \n",
       "3           730     Spain  Female   52    7.0       0.00                2   \n",
       "4           714   Germany  Female   49    4.0   93059.34                1   \n",
       "\n",
       "   has_cr_card  is_active_member  estimated_salary  ...  tenure_2  tenure_3  \\\n",
       "0            1                 1         199661.50  ...       1.0       0.0   \n",
       "1            1                 1         169653.32  ...       1.0       0.0   \n",
       "2            1                 0          21312.16  ...       1.0       0.0   \n",
       "3            0                 1         122398.84  ...       0.0       0.0   \n",
       "4            1                 0           7571.51  ...       0.0       0.0   \n",
       "\n",
       "   tenure_4  tenure_5  tenure_6  tenure_7  tenure_8  tenure_9  tenure_10  \\\n",
       "0       0.0       0.0       0.0       0.0       0.0       0.0        0.0   \n",
       "1       0.0       0.0       0.0       0.0       0.0       0.0        0.0   \n",
       "2       0.0       0.0       0.0       0.0       0.0       0.0        0.0   \n",
       "3       0.0       0.0       0.0       0.0       1.0       0.0        0.0   \n",
       "4       0.0       1.0       0.0       0.0       0.0       0.0        0.0   \n",
       "\n",
       "   tenure_11  \n",
       "0        0.0  \n",
       "1        0.0  \n",
       "2        0.0  \n",
       "3        0.0  \n",
       "4        0.0  \n",
       "\n",
       "[5 rows x 24 columns]"
      ]
     },
     "metadata": {},
     "output_type": "display_data"
    }
   ],
   "source": [
    "temp = ohe.fit_transform(features_train[['tenure']])\n",
    "ohe_column = pd.DataFrame(temp, columns = [\"tenure_1\", \"tenure_2\", \"tenure_3\", \"tenure_4\", \"tenure_5\", \"tenure_6\", \"tenure_7\", \"tenure_8\", \"tenure_9\", \"tenure_10\", \"tenure_11\"])\n",
    "features_train = pd.concat([features_train, ohe_column],axis = 1)\n",
    "display(features_train.head())\n",
    "temp = ohe.fit_transform(features_valid[['tenure']])\n",
    "ohe_column = pd.DataFrame(temp, columns = [\"tenure_1\", \"tenure_2\", \"tenure_3\", \"tenure_4\", \"tenure_5\", \"tenure_6\", \"tenure_7\", \"tenure_8\", \"tenure_9\", \"tenure_10\", \"tenure_11\"])\n",
    "features_valid = pd.concat([features_valid, ohe_column],axis = 1)\n",
    "display(features_valid.head())\n",
    "temp = ohe.fit_transform(features_test[['tenure']])\n",
    "ohe_column = pd.DataFrame(temp, columns = [\"tenure_1\", \"tenure_2\", \"tenure_3\", \"tenure_4\", \"tenure_5\", \"tenure_6\", \"tenure_7\", \"tenure_8\", \"tenure_9\", \"tenure_10\", \"tenure_11\"])\n",
    "features_test = pd.concat([features_test, ohe_column],axis = 1)\n",
    "display(features_test.head())"
   ]
  },
  {
   "cell_type": "markdown",
   "metadata": {},
   "source": [
    "Удалим из признаков перекодированные столбцы."
   ]
  },
  {
   "cell_type": "code",
   "execution_count": 22,
   "metadata": {},
   "outputs": [],
   "source": [
    "features_train = features_train.drop(['geography', 'gender', 'tenure'], axis=1)\n",
    "features_train = features_train.astype('int')\n",
    "features_valid = features_valid.drop(['geography', 'gender', 'tenure'], axis=1)\n",
    "features_valid = features_valid.astype('int')\n",
    "features_test = features_test.drop(['geography', 'gender', 'tenure'], axis=1)\n",
    "features_test = features_test.astype('int')"
   ]
  },
  {
   "cell_type": "markdown",
   "metadata": {},
   "source": [
    "Проведем маштабирование численных значений в столбцах, кроме булевых значений."
   ]
  },
  {
   "cell_type": "code",
   "execution_count": 23,
   "metadata": {},
   "outputs": [],
   "source": [
    "numeric = ['credit_score', 'age', 'balance', 'num_of_products', 'estimated_salary']\n",
    "\n",
    "scaler = StandardScaler()\n",
    "scaler.fit(features_train[numeric])\n",
    "features_train[numeric] = scaler.transform(features_train[numeric])\n",
    "\n",
    "scaler.fit(features_valid[numeric])\n",
    "features_valid[numeric] = scaler.transform(features_valid[numeric])\n",
    "\n",
    "scaler.fit(features_test[numeric])\n",
    "features_test[numeric] = scaler.transform(features_test[numeric])"
   ]
  },
  {
   "cell_type": "code",
   "execution_count": 24,
   "metadata": {},
   "outputs": [
    {
     "data": {
      "text/html": [
       "<div>\n",
       "<style scoped>\n",
       "    .dataframe tbody tr th:only-of-type {\n",
       "        vertical-align: middle;\n",
       "    }\n",
       "\n",
       "    .dataframe tbody tr th {\n",
       "        vertical-align: top;\n",
       "    }\n",
       "\n",
       "    .dataframe thead th {\n",
       "        text-align: right;\n",
       "    }\n",
       "</style>\n",
       "<table border=\"1\" class=\"dataframe\">\n",
       "  <thead>\n",
       "    <tr style=\"text-align: right;\">\n",
       "      <th></th>\n",
       "      <th>credit_score</th>\n",
       "      <th>age</th>\n",
       "      <th>balance</th>\n",
       "      <th>num_of_products</th>\n",
       "      <th>has_cr_card</th>\n",
       "      <th>is_active_member</th>\n",
       "      <th>estimated_salary</th>\n",
       "      <th>geography_1</th>\n",
       "      <th>geography_2</th>\n",
       "      <th>gender_male</th>\n",
       "      <th>...</th>\n",
       "      <th>tenure_2</th>\n",
       "      <th>tenure_3</th>\n",
       "      <th>tenure_4</th>\n",
       "      <th>tenure_5</th>\n",
       "      <th>tenure_6</th>\n",
       "      <th>tenure_7</th>\n",
       "      <th>tenure_8</th>\n",
       "      <th>tenure_9</th>\n",
       "      <th>tenure_10</th>\n",
       "      <th>tenure_11</th>\n",
       "    </tr>\n",
       "  </thead>\n",
       "  <tbody>\n",
       "    <tr>\n",
       "      <th>0</th>\n",
       "      <td>-1.040434</td>\n",
       "      <td>0.953312</td>\n",
       "      <td>0.774662</td>\n",
       "      <td>-0.914708</td>\n",
       "      <td>0</td>\n",
       "      <td>1</td>\n",
       "      <td>-0.119108</td>\n",
       "      <td>1</td>\n",
       "      <td>0</td>\n",
       "      <td>0</td>\n",
       "      <td>...</td>\n",
       "      <td>0</td>\n",
       "      <td>0</td>\n",
       "      <td>0</td>\n",
       "      <td>0</td>\n",
       "      <td>0</td>\n",
       "      <td>1</td>\n",
       "      <td>0</td>\n",
       "      <td>0</td>\n",
       "      <td>0</td>\n",
       "      <td>0</td>\n",
       "    </tr>\n",
       "    <tr>\n",
       "      <th>1</th>\n",
       "      <td>0.454006</td>\n",
       "      <td>-0.095244</td>\n",
       "      <td>1.910545</td>\n",
       "      <td>-0.914708</td>\n",
       "      <td>1</td>\n",
       "      <td>1</td>\n",
       "      <td>-0.258665</td>\n",
       "      <td>0</td>\n",
       "      <td>0</td>\n",
       "      <td>0</td>\n",
       "      <td>...</td>\n",
       "      <td>0</td>\n",
       "      <td>0</td>\n",
       "      <td>0</td>\n",
       "      <td>0</td>\n",
       "      <td>0</td>\n",
       "      <td>0</td>\n",
       "      <td>0</td>\n",
       "      <td>0</td>\n",
       "      <td>0</td>\n",
       "      <td>0</td>\n",
       "    </tr>\n",
       "    <tr>\n",
       "      <th>2</th>\n",
       "      <td>0.103585</td>\n",
       "      <td>-0.476537</td>\n",
       "      <td>0.481604</td>\n",
       "      <td>0.820981</td>\n",
       "      <td>0</td>\n",
       "      <td>1</td>\n",
       "      <td>1.422833</td>\n",
       "      <td>0</td>\n",
       "      <td>0</td>\n",
       "      <td>1</td>\n",
       "      <td>...</td>\n",
       "      <td>0</td>\n",
       "      <td>0</td>\n",
       "      <td>0</td>\n",
       "      <td>0</td>\n",
       "      <td>0</td>\n",
       "      <td>0</td>\n",
       "      <td>0</td>\n",
       "      <td>1</td>\n",
       "      <td>0</td>\n",
       "      <td>0</td>\n",
       "    </tr>\n",
       "    <tr>\n",
       "      <th>3</th>\n",
       "      <td>-0.184996</td>\n",
       "      <td>0.190726</td>\n",
       "      <td>0.088438</td>\n",
       "      <td>-0.914708</td>\n",
       "      <td>1</td>\n",
       "      <td>1</td>\n",
       "      <td>-1.160422</td>\n",
       "      <td>1</td>\n",
       "      <td>0</td>\n",
       "      <td>0</td>\n",
       "      <td>...</td>\n",
       "      <td>0</td>\n",
       "      <td>0</td>\n",
       "      <td>0</td>\n",
       "      <td>0</td>\n",
       "      <td>0</td>\n",
       "      <td>0</td>\n",
       "      <td>0</td>\n",
       "      <td>0</td>\n",
       "      <td>0</td>\n",
       "      <td>0</td>\n",
       "    </tr>\n",
       "    <tr>\n",
       "      <th>4</th>\n",
       "      <td>-0.720933</td>\n",
       "      <td>1.620574</td>\n",
       "      <td>0.879132</td>\n",
       "      <td>-0.914708</td>\n",
       "      <td>1</td>\n",
       "      <td>0</td>\n",
       "      <td>0.113232</td>\n",
       "      <td>0</td>\n",
       "      <td>0</td>\n",
       "      <td>0</td>\n",
       "      <td>...</td>\n",
       "      <td>1</td>\n",
       "      <td>0</td>\n",
       "      <td>0</td>\n",
       "      <td>0</td>\n",
       "      <td>0</td>\n",
       "      <td>0</td>\n",
       "      <td>0</td>\n",
       "      <td>0</td>\n",
       "      <td>0</td>\n",
       "      <td>0</td>\n",
       "    </tr>\n",
       "  </tbody>\n",
       "</table>\n",
       "<p>5 rows × 21 columns</p>\n",
       "</div>"
      ],
      "text/plain": [
       "   credit_score       age   balance  num_of_products  has_cr_card  \\\n",
       "0     -1.040434  0.953312  0.774662        -0.914708            0   \n",
       "1      0.454006 -0.095244  1.910545        -0.914708            1   \n",
       "2      0.103585 -0.476537  0.481604         0.820981            0   \n",
       "3     -0.184996  0.190726  0.088438        -0.914708            1   \n",
       "4     -0.720933  1.620574  0.879132        -0.914708            1   \n",
       "\n",
       "   is_active_member  estimated_salary  geography_1  geography_2  gender_male  \\\n",
       "0                 1         -0.119108            1            0            0   \n",
       "1                 1         -0.258665            0            0            0   \n",
       "2                 1          1.422833            0            0            1   \n",
       "3                 1         -1.160422            1            0            0   \n",
       "4                 0          0.113232            0            0            0   \n",
       "\n",
       "   ...  tenure_2  tenure_3  tenure_4  tenure_5  tenure_6  tenure_7  tenure_8  \\\n",
       "0  ...         0         0         0         0         0         1         0   \n",
       "1  ...         0         0         0         0         0         0         0   \n",
       "2  ...         0         0         0         0         0         0         0   \n",
       "3  ...         0         0         0         0         0         0         0   \n",
       "4  ...         1         0         0         0         0         0         0   \n",
       "\n",
       "   tenure_9  tenure_10  tenure_11  \n",
       "0         0          0          0  \n",
       "1         0          0          0  \n",
       "2         1          0          0  \n",
       "3         0          0          0  \n",
       "4         0          0          0  \n",
       "\n",
       "[5 rows x 21 columns]"
      ]
     },
     "metadata": {},
     "output_type": "display_data"
    },
    {
     "data": {
      "text/html": [
       "<div>\n",
       "<style scoped>\n",
       "    .dataframe tbody tr th:only-of-type {\n",
       "        vertical-align: middle;\n",
       "    }\n",
       "\n",
       "    .dataframe tbody tr th {\n",
       "        vertical-align: top;\n",
       "    }\n",
       "\n",
       "    .dataframe thead th {\n",
       "        text-align: right;\n",
       "    }\n",
       "</style>\n",
       "<table border=\"1\" class=\"dataframe\">\n",
       "  <thead>\n",
       "    <tr style=\"text-align: right;\">\n",
       "      <th></th>\n",
       "      <th>credit_score</th>\n",
       "      <th>age</th>\n",
       "      <th>balance</th>\n",
       "      <th>num_of_products</th>\n",
       "      <th>has_cr_card</th>\n",
       "      <th>is_active_member</th>\n",
       "      <th>estimated_salary</th>\n",
       "      <th>geography_1</th>\n",
       "      <th>geography_2</th>\n",
       "      <th>gender_male</th>\n",
       "      <th>...</th>\n",
       "      <th>tenure_2</th>\n",
       "      <th>tenure_3</th>\n",
       "      <th>tenure_4</th>\n",
       "      <th>tenure_5</th>\n",
       "      <th>tenure_6</th>\n",
       "      <th>tenure_7</th>\n",
       "      <th>tenure_8</th>\n",
       "      <th>tenure_9</th>\n",
       "      <th>tenure_10</th>\n",
       "      <th>tenure_11</th>\n",
       "    </tr>\n",
       "  </thead>\n",
       "  <tbody>\n",
       "    <tr>\n",
       "      <th>0</th>\n",
       "      <td>-1.589494</td>\n",
       "      <td>2.384517</td>\n",
       "      <td>1.027029</td>\n",
       "      <td>-0.919729</td>\n",
       "      <td>0</td>\n",
       "      <td>1</td>\n",
       "      <td>0.049765</td>\n",
       "      <td>0</td>\n",
       "      <td>0</td>\n",
       "      <td>0</td>\n",
       "      <td>...</td>\n",
       "      <td>0</td>\n",
       "      <td>0</td>\n",
       "      <td>1</td>\n",
       "      <td>0</td>\n",
       "      <td>0</td>\n",
       "      <td>0</td>\n",
       "      <td>0</td>\n",
       "      <td>0</td>\n",
       "      <td>0</td>\n",
       "      <td>0</td>\n",
       "    </tr>\n",
       "    <tr>\n",
       "      <th>1</th>\n",
       "      <td>0.554704</td>\n",
       "      <td>1.812679</td>\n",
       "      <td>0.216512</td>\n",
       "      <td>-0.919729</td>\n",
       "      <td>0</td>\n",
       "      <td>1</td>\n",
       "      <td>0.494637</td>\n",
       "      <td>0</td>\n",
       "      <td>0</td>\n",
       "      <td>1</td>\n",
       "      <td>...</td>\n",
       "      <td>0</td>\n",
       "      <td>0</td>\n",
       "      <td>0</td>\n",
       "      <td>0</td>\n",
       "      <td>0</td>\n",
       "      <td>1</td>\n",
       "      <td>0</td>\n",
       "      <td>0</td>\n",
       "      <td>0</td>\n",
       "      <td>0</td>\n",
       "    </tr>\n",
       "    <tr>\n",
       "      <th>2</th>\n",
       "      <td>-0.365732</td>\n",
       "      <td>-0.379367</td>\n",
       "      <td>0.907490</td>\n",
       "      <td>-0.919729</td>\n",
       "      <td>1</td>\n",
       "      <td>0</td>\n",
       "      <td>-0.566885</td>\n",
       "      <td>0</td>\n",
       "      <td>0</td>\n",
       "      <td>0</td>\n",
       "      <td>...</td>\n",
       "      <td>0</td>\n",
       "      <td>0</td>\n",
       "      <td>0</td>\n",
       "      <td>0</td>\n",
       "      <td>0</td>\n",
       "      <td>0</td>\n",
       "      <td>0</td>\n",
       "      <td>1</td>\n",
       "      <td>0</td>\n",
       "      <td>0</td>\n",
       "    </tr>\n",
       "    <tr>\n",
       "      <th>3</th>\n",
       "      <td>1.203193</td>\n",
       "      <td>-0.760592</td>\n",
       "      <td>-0.243869</td>\n",
       "      <td>0.781897</td>\n",
       "      <td>1</td>\n",
       "      <td>1</td>\n",
       "      <td>-1.589553</td>\n",
       "      <td>0</td>\n",
       "      <td>0</td>\n",
       "      <td>1</td>\n",
       "      <td>...</td>\n",
       "      <td>0</td>\n",
       "      <td>0</td>\n",
       "      <td>0</td>\n",
       "      <td>1</td>\n",
       "      <td>0</td>\n",
       "      <td>0</td>\n",
       "      <td>0</td>\n",
       "      <td>0</td>\n",
       "      <td>0</td>\n",
       "      <td>0</td>\n",
       "    </tr>\n",
       "    <tr>\n",
       "      <th>4</th>\n",
       "      <td>-0.177461</td>\n",
       "      <td>-0.093448</td>\n",
       "      <td>0.454163</td>\n",
       "      <td>-0.919729</td>\n",
       "      <td>0</td>\n",
       "      <td>0</td>\n",
       "      <td>0.379578</td>\n",
       "      <td>0</td>\n",
       "      <td>0</td>\n",
       "      <td>0</td>\n",
       "      <td>...</td>\n",
       "      <td>0</td>\n",
       "      <td>0</td>\n",
       "      <td>1</td>\n",
       "      <td>0</td>\n",
       "      <td>0</td>\n",
       "      <td>0</td>\n",
       "      <td>0</td>\n",
       "      <td>0</td>\n",
       "      <td>0</td>\n",
       "      <td>0</td>\n",
       "    </tr>\n",
       "  </tbody>\n",
       "</table>\n",
       "<p>5 rows × 21 columns</p>\n",
       "</div>"
      ],
      "text/plain": [
       "   credit_score       age   balance  num_of_products  has_cr_card  \\\n",
       "0     -1.589494  2.384517  1.027029        -0.919729            0   \n",
       "1      0.554704  1.812679  0.216512        -0.919729            0   \n",
       "2     -0.365732 -0.379367  0.907490        -0.919729            1   \n",
       "3      1.203193 -0.760592 -0.243869         0.781897            1   \n",
       "4     -0.177461 -0.093448  0.454163        -0.919729            0   \n",
       "\n",
       "   is_active_member  estimated_salary  geography_1  geography_2  gender_male  \\\n",
       "0                 1          0.049765            0            0            0   \n",
       "1                 1          0.494637            0            0            1   \n",
       "2                 0         -0.566885            0            0            0   \n",
       "3                 1         -1.589553            0            0            1   \n",
       "4                 0          0.379578            0            0            0   \n",
       "\n",
       "   ...  tenure_2  tenure_3  tenure_4  tenure_5  tenure_6  tenure_7  tenure_8  \\\n",
       "0  ...         0         0         1         0         0         0         0   \n",
       "1  ...         0         0         0         0         0         1         0   \n",
       "2  ...         0         0         0         0         0         0         0   \n",
       "3  ...         0         0         0         1         0         0         0   \n",
       "4  ...         0         0         1         0         0         0         0   \n",
       "\n",
       "   tenure_9  tenure_10  tenure_11  \n",
       "0         0          0          0  \n",
       "1         0          0          0  \n",
       "2         1          0          0  \n",
       "3         0          0          0  \n",
       "4         0          0          0  \n",
       "\n",
       "[5 rows x 21 columns]"
      ]
     },
     "metadata": {},
     "output_type": "display_data"
    },
    {
     "data": {
      "text/html": [
       "<div>\n",
       "<style scoped>\n",
       "    .dataframe tbody tr th:only-of-type {\n",
       "        vertical-align: middle;\n",
       "    }\n",
       "\n",
       "    .dataframe tbody tr th {\n",
       "        vertical-align: top;\n",
       "    }\n",
       "\n",
       "    .dataframe thead th {\n",
       "        text-align: right;\n",
       "    }\n",
       "</style>\n",
       "<table border=\"1\" class=\"dataframe\">\n",
       "  <thead>\n",
       "    <tr style=\"text-align: right;\">\n",
       "      <th></th>\n",
       "      <th>credit_score</th>\n",
       "      <th>age</th>\n",
       "      <th>balance</th>\n",
       "      <th>num_of_products</th>\n",
       "      <th>has_cr_card</th>\n",
       "      <th>is_active_member</th>\n",
       "      <th>estimated_salary</th>\n",
       "      <th>geography_1</th>\n",
       "      <th>geography_2</th>\n",
       "      <th>gender_male</th>\n",
       "      <th>...</th>\n",
       "      <th>tenure_2</th>\n",
       "      <th>tenure_3</th>\n",
       "      <th>tenure_4</th>\n",
       "      <th>tenure_5</th>\n",
       "      <th>tenure_6</th>\n",
       "      <th>tenure_7</th>\n",
       "      <th>tenure_8</th>\n",
       "      <th>tenure_9</th>\n",
       "      <th>tenure_10</th>\n",
       "      <th>tenure_11</th>\n",
       "    </tr>\n",
       "  </thead>\n",
       "  <tbody>\n",
       "    <tr>\n",
       "      <th>0</th>\n",
       "      <td>-0.495806</td>\n",
       "      <td>1.468331</td>\n",
       "      <td>0.863188</td>\n",
       "      <td>0.795143</td>\n",
       "      <td>1</td>\n",
       "      <td>1</td>\n",
       "      <td>1.710324</td>\n",
       "      <td>1</td>\n",
       "      <td>0</td>\n",
       "      <td>0</td>\n",
       "      <td>...</td>\n",
       "      <td>1</td>\n",
       "      <td>0</td>\n",
       "      <td>0</td>\n",
       "      <td>0</td>\n",
       "      <td>0</td>\n",
       "      <td>0</td>\n",
       "      <td>0</td>\n",
       "      <td>0</td>\n",
       "      <td>0</td>\n",
       "      <td>0</td>\n",
       "    </tr>\n",
       "    <tr>\n",
       "      <th>1</th>\n",
       "      <td>-1.190343</td>\n",
       "      <td>-1.397823</td>\n",
       "      <td>-1.232626</td>\n",
       "      <td>-0.894853</td>\n",
       "      <td>1</td>\n",
       "      <td>1</td>\n",
       "      <td>1.189633</td>\n",
       "      <td>0</td>\n",
       "      <td>0</td>\n",
       "      <td>1</td>\n",
       "      <td>...</td>\n",
       "      <td>1</td>\n",
       "      <td>0</td>\n",
       "      <td>0</td>\n",
       "      <td>0</td>\n",
       "      <td>0</td>\n",
       "      <td>0</td>\n",
       "      <td>0</td>\n",
       "      <td>0</td>\n",
       "      <td>0</td>\n",
       "      <td>0</td>\n",
       "    </tr>\n",
       "    <tr>\n",
       "      <th>2</th>\n",
       "      <td>-1.262907</td>\n",
       "      <td>0.799561</td>\n",
       "      <td>-1.232626</td>\n",
       "      <td>-0.894853</td>\n",
       "      <td>1</td>\n",
       "      <td>0</td>\n",
       "      <td>-1.384340</td>\n",
       "      <td>0</td>\n",
       "      <td>0</td>\n",
       "      <td>1</td>\n",
       "      <td>...</td>\n",
       "      <td>1</td>\n",
       "      <td>0</td>\n",
       "      <td>0</td>\n",
       "      <td>0</td>\n",
       "      <td>0</td>\n",
       "      <td>0</td>\n",
       "      <td>0</td>\n",
       "      <td>0</td>\n",
       "      <td>0</td>\n",
       "      <td>0</td>\n",
       "    </tr>\n",
       "    <tr>\n",
       "      <th>3</th>\n",
       "      <td>0.841437</td>\n",
       "      <td>1.277254</td>\n",
       "      <td>-1.232626</td>\n",
       "      <td>0.795143</td>\n",
       "      <td>0</td>\n",
       "      <td>1</td>\n",
       "      <td>0.369677</td>\n",
       "      <td>0</td>\n",
       "      <td>1</td>\n",
       "      <td>0</td>\n",
       "      <td>...</td>\n",
       "      <td>0</td>\n",
       "      <td>0</td>\n",
       "      <td>0</td>\n",
       "      <td>0</td>\n",
       "      <td>0</td>\n",
       "      <td>0</td>\n",
       "      <td>1</td>\n",
       "      <td>0</td>\n",
       "      <td>0</td>\n",
       "      <td>0</td>\n",
       "    </tr>\n",
       "    <tr>\n",
       "      <th>4</th>\n",
       "      <td>0.675577</td>\n",
       "      <td>0.990638</td>\n",
       "      <td>0.255743</td>\n",
       "      <td>-0.894853</td>\n",
       "      <td>1</td>\n",
       "      <td>0</td>\n",
       "      <td>-1.622770</td>\n",
       "      <td>1</td>\n",
       "      <td>0</td>\n",
       "      <td>0</td>\n",
       "      <td>...</td>\n",
       "      <td>0</td>\n",
       "      <td>0</td>\n",
       "      <td>0</td>\n",
       "      <td>1</td>\n",
       "      <td>0</td>\n",
       "      <td>0</td>\n",
       "      <td>0</td>\n",
       "      <td>0</td>\n",
       "      <td>0</td>\n",
       "      <td>0</td>\n",
       "    </tr>\n",
       "  </tbody>\n",
       "</table>\n",
       "<p>5 rows × 21 columns</p>\n",
       "</div>"
      ],
      "text/plain": [
       "   credit_score       age   balance  num_of_products  has_cr_card  \\\n",
       "0     -0.495806  1.468331  0.863188         0.795143            1   \n",
       "1     -1.190343 -1.397823 -1.232626        -0.894853            1   \n",
       "2     -1.262907  0.799561 -1.232626        -0.894853            1   \n",
       "3      0.841437  1.277254 -1.232626         0.795143            0   \n",
       "4      0.675577  0.990638  0.255743        -0.894853            1   \n",
       "\n",
       "   is_active_member  estimated_salary  geography_1  geography_2  gender_male  \\\n",
       "0                 1          1.710324            1            0            0   \n",
       "1                 1          1.189633            0            0            1   \n",
       "2                 0         -1.384340            0            0            1   \n",
       "3                 1          0.369677            0            1            0   \n",
       "4                 0         -1.622770            1            0            0   \n",
       "\n",
       "   ...  tenure_2  tenure_3  tenure_4  tenure_5  tenure_6  tenure_7  tenure_8  \\\n",
       "0  ...         1         0         0         0         0         0         0   \n",
       "1  ...         1         0         0         0         0         0         0   \n",
       "2  ...         1         0         0         0         0         0         0   \n",
       "3  ...         0         0         0         0         0         0         1   \n",
       "4  ...         0         0         0         1         0         0         0   \n",
       "\n",
       "   tenure_9  tenure_10  tenure_11  \n",
       "0         0          0          0  \n",
       "1         0          0          0  \n",
       "2         0          0          0  \n",
       "3         0          0          0  \n",
       "4         0          0          0  \n",
       "\n",
       "[5 rows x 21 columns]"
      ]
     },
     "metadata": {},
     "output_type": "display_data"
    }
   ],
   "source": [
    "display(features_train.head())\n",
    "display(features_valid.head())\n",
    "display(features_test.head())"
   ]
  },
  {
   "cell_type": "markdown",
   "metadata": {},
   "source": [
    "## Исследование задачи"
   ]
  },
  {
   "cell_type": "markdown",
   "metadata": {},
   "source": [
    "Проверим соотношение классов в целевом признаке."
   ]
  },
  {
   "cell_type": "code",
   "execution_count": 25,
   "metadata": {},
   "outputs": [
    {
     "name": "stdout",
     "output_type": "stream",
     "text": [
      "Процент записей лояльных клиентов класса 0 в обучающей выборке: 79.63\n",
      "Записей лояльных клиентов класса 0 в 3.9 больше класса 1\n"
     ]
    }
   ],
   "source": [
    "print('Процент записей лояльных клиентов класса 0 в обучающей выборке:', round(target_train.value_counts()[0]/target_train.shape[0]*100, 2))\n",
    "print('Записей лояльных клиентов класса 0 в', round(target_train.value_counts()[0]/target_train.value_counts()[1], 1), 'больше класса 1')"
   ]
  },
  {
   "cell_type": "markdown",
   "metadata": {},
   "source": [
    "Проведем обучение на 3 моделях: DecisionTreeClassifier, RandomForest, LogisticRegression"
   ]
  },
  {
   "cell_type": "markdown",
   "metadata": {},
   "source": [
    "### DecisionTreeClassifier"
   ]
  },
  {
   "cell_type": "markdown",
   "metadata": {},
   "source": [
    "Обучим модель DecisionTreeClassifier с гиперпараметрами по умолчанию. Начальное состояние генератора случайных чисел зададим 12345. Для оценки обученной модели будет использовать оценку точности f1."
   ]
  },
  {
   "cell_type": "code",
   "execution_count": 26,
   "metadata": {},
   "outputs": [
    {
     "name": "stdout",
     "output_type": "stream",
     "text": [
      "Точность обучения: 0.5078597339782346\n"
     ]
    }
   ],
   "source": [
    "model = DecisionTreeClassifier(random_state=12345)\n",
    "model.fit(features_train, target_train)\n",
    "predictions = model.predict(features_valid)\n",
    "current_score = f1_score(target_valid, predictions)\n",
    "print('Точность обучения:', current_score)"
   ]
  },
  {
   "cell_type": "markdown",
   "metadata": {},
   "source": [
    "Попробуем увеличить точность обучения изменяя гиперпараметры модели. Подберем максимальное количество фичей max_features, которые рассматриваются при выборе лучшего разбиения. \n",
    "\n",
    "Лучший гиперпараметр сохраняем в соответствующей переменной, что бы была возможность использовать его в дальнейшем. \n",
    "\n",
    "Модель обучения с лучшими показателями сохраняем в переменную tree_model."
   ]
  },
  {
   "cell_type": "code",
   "execution_count": 27,
   "metadata": {},
   "outputs": [
    {
     "name": "stdout",
     "output_type": "stream",
     "text": [
      "Максимальное количество фичей: auto\n",
      "Точность обучения: 0.4839506172839506\n"
     ]
    }
   ],
   "source": [
    "max_score = 0\n",
    "for max_features in ['auto', 'sqrt', 'log2']:\n",
    "    model = DecisionTreeClassifier(random_state=12345, max_features=max_features)\n",
    "    model.fit(features_train, target_train)\n",
    "    predictions = model.predict(features_valid)\n",
    "    current_score = f1_score(target_valid, predictions)\n",
    "    if max_score < current_score:\n",
    "        best_max_features = max_features\n",
    "        max_score = current_score\n",
    "        tree_model = model\n",
    "print('Максимальное количество фичей:', best_max_features)\n",
    "print('Точность обучения:', max_score)"
   ]
  },
  {
   "cell_type": "markdown",
   "metadata": {},
   "source": [
    "Подберем гиперпараметр глубины дерева."
   ]
  },
  {
   "cell_type": "code",
   "execution_count": 28,
   "metadata": {},
   "outputs": [
    {
     "name": "stdout",
     "output_type": "stream",
     "text": [
      "Максимальная глубина: 9\n",
      "Точность обучения: 0.5222381635581061\n"
     ]
    }
   ],
   "source": [
    "for depth in range(1, 20):\n",
    "    model = DecisionTreeClassifier(random_state=12345, max_depth=depth, max_features=best_max_features)\n",
    "    model.fit(features_train, target_train)\n",
    "    predictions = model.predict(features_valid)\n",
    "    current_score = f1_score(target_valid, predictions)\n",
    "    if max_score < current_score:\n",
    "        max_depth = depth\n",
    "        max_score = current_score\n",
    "        tree_model = model\n",
    "print('Максимальная глубина:', max_depth)\n",
    "print('Точность обучения:', max_score)"
   ]
  },
  {
   "cell_type": "markdown",
   "metadata": {},
   "source": [
    "Подберем гиперпараметр миниального количества экземпляров, которое может содержаться в узле для его дальнейшего разбиения."
   ]
  },
  {
   "cell_type": "code",
   "execution_count": 29,
   "metadata": {},
   "outputs": [
    {
     "name": "stdout",
     "output_type": "stream",
     "text": [
      "Миниального количества экземпляров в узле : 21\n",
      "Точность обучения: 0.5562130177514792\n"
     ]
    }
   ],
   "source": [
    "for min_samples_split in range(2, 100):\n",
    "    model = DecisionTreeClassifier(random_state=12345, max_depth=max_depth, max_features=best_max_features, min_samples_split=min_samples_split)\n",
    "    model.fit(features_train, target_train)\n",
    "    predictions = model.predict(features_valid)\n",
    "    current_score = f1_score(target_valid, predictions)\n",
    "    if max_score <= current_score:\n",
    "        best_min_samples_split = min_samples_split\n",
    "        max_score = current_score\n",
    "        tree_model = model\n",
    "print('Миниального количества экземпляров в узле :', best_min_samples_split)\n",
    "print('Точность обучения:', max_score)"
   ]
  },
  {
   "cell_type": "markdown",
   "metadata": {},
   "source": [
    "Подберем миниальное количество экземпляров, которое может содержаться в листе."
   ]
  },
  {
   "cell_type": "code",
   "execution_count": 30,
   "metadata": {},
   "outputs": [
    {
     "name": "stdout",
     "output_type": "stream",
     "text": [
      "миниальное количество экземпляров в листе: 2\n",
      "Точность обучения: 0.5596465390279824\n"
     ]
    }
   ],
   "source": [
    "for min_samples_leaf in range(1, 100):\n",
    "    model = DecisionTreeClassifier(random_state=12345, max_depth=max_depth, max_features=best_max_features, \n",
    "                                   min_samples_split=best_min_samples_split, min_samples_leaf=min_samples_leaf)\n",
    "    model.fit(features_train, target_train)\n",
    "    predictions = model.predict(features_valid)\n",
    "    current_score = f1_score(target_valid, predictions)\n",
    "    if max_score <= current_score:\n",
    "        best_min_samples_leaf = min_samples_leaf\n",
    "        max_score = current_score\n",
    "        tree_model = model\n",
    "print('миниальное количество экземпляров в листе:', best_min_samples_leaf)\n",
    "print('Точность обучения:', max_score)"
   ]
  },
  {
   "cell_type": "code",
   "execution_count": 31,
   "metadata": {},
   "outputs": [
    {
     "name": "stdout",
     "output_type": "stream",
     "text": [
      "F1 на валидационной выборке: 0.5596465390279824\n",
      "AUC ROC обучения на валидационной выборке: 0.7074034387624397\n"
     ]
    }
   ],
   "source": [
    "tree_model.fit(features_train, target_train)\n",
    "predictions = tree_model.predict(features_valid)\n",
    "print('F1 на валидационной выборке:', f1_score(target_valid, predictions))\n",
    "print('AUC ROC обучения на валидационной выборке:', roc_auc_score(target_valid, predictions))"
   ]
  },
  {
   "cell_type": "markdown",
   "metadata": {},
   "source": [
    "Оценку F1 для модели DecisionTreeClassifier удалось поднять до 0.56, AUC ROC обучения на валидационной выборке состовляет 0.70"
   ]
  },
  {
   "cell_type": "markdown",
   "metadata": {},
   "source": [
    "### RandomForestClassifier"
   ]
  },
  {
   "cell_type": "markdown",
   "metadata": {},
   "source": [
    "Обучим модель RandomForestClassifier с гиперпараметрами по умолчанию. Начальное состояние генератора случайных чисел зададим 12345."
   ]
  },
  {
   "cell_type": "code",
   "execution_count": 32,
   "metadata": {},
   "outputs": [
    {
     "name": "stdout",
     "output_type": "stream",
     "text": [
      "Точность обучения: 0.6024096385542168\n"
     ]
    }
   ],
   "source": [
    "model = RandomForestClassifier(random_state=12345) \n",
    "model.fit(features_train, target_train) \n",
    "predictions = model.predict(features_valid)\n",
    "current_score = f1_score(target_valid, predictions)\n",
    "print('Точность обучения:', current_score)"
   ]
  },
  {
   "cell_type": "markdown",
   "metadata": {},
   "source": [
    "Попробуем увеличить точность обучения изменяя гиперпараметры модели. Подберем колличество деревеьев в модели\n",
    "\n",
    "Лучший гиперпараметр сохраняем в соответствующей переменной, что бы была возможность использовать его в дальнейшем.\n",
    "\n",
    "Модель обучения с лучшими показателями сохраняем в переменную forest_model."
   ]
  },
  {
   "cell_type": "code",
   "execution_count": 33,
   "metadata": {
    "scrolled": true
   },
   "outputs": [
    {
     "name": "stdout",
     "output_type": "stream",
     "text": [
      "Колличество деревьев: 120\n",
      "Точность обучения: 0.6056971514242879\n"
     ]
    }
   ],
   "source": [
    "max_score = 0\n",
    "for n_estimators in range(10, 200, 10):\n",
    "    model = RandomForestClassifier(random_state=12345, n_estimators=n_estimators) \n",
    "    model.fit(features_train, target_train) \n",
    "    predictions = model.predict(features_valid)\n",
    "    current_score = f1_score(target_valid, predictions)\n",
    "    if max_score < current_score:\n",
    "        best_n_estimators = n_estimators \n",
    "        max_score = current_score\n",
    "        forest_model = model\n",
    "print('Колличество деревьев:', best_n_estimators)\n",
    "print('Точность обучения:', max_score)"
   ]
  },
  {
   "cell_type": "markdown",
   "metadata": {},
   "source": [
    "Подберем максимальную глубину дерева."
   ]
  },
  {
   "cell_type": "code",
   "execution_count": 34,
   "metadata": {},
   "outputs": [
    {
     "name": "stdout",
     "output_type": "stream",
     "text": [
      "Максимальная глубина: 19\n",
      "Точность обучения: 0.6186186186186186\n"
     ]
    }
   ],
   "source": [
    "for max_depth in range(2, 50):\n",
    "    model = RandomForestClassifier(random_state=12345, n_estimators=best_n_estimators, max_depth=max_depth) \n",
    "    model.fit(features_train, target_train) \n",
    "    predictions = model.predict(features_valid)\n",
    "    current_score = f1_score(target_valid, predictions)\n",
    "    if max_score <= current_score:\n",
    "        best_max_depth = max_depth \n",
    "        max_score = current_score\n",
    "        forest_model = model\n",
    "print('Максимальная глубина:', best_max_depth)\n",
    "print('Точность обучения:', max_score)"
   ]
  },
  {
   "cell_type": "markdown",
   "metadata": {},
   "source": [
    "Подберем гиперпараметр миниального количества экземпляров, которое может содержаться в узле для его дальнейшего разбиения."
   ]
  },
  {
   "cell_type": "code",
   "execution_count": 35,
   "metadata": {},
   "outputs": [
    {
     "name": "stdout",
     "output_type": "stream",
     "text": [
      "миниальное количество экземпляров в узле: 3\n",
      "Точность обучения: 0.6216216216216215\n"
     ]
    }
   ],
   "source": [
    "for min_samples_split in range(2, 50):\n",
    "    model = RandomForestClassifier(random_state=12345, n_estimators=best_n_estimators, max_depth=best_max_depth, min_samples_split=min_samples_split) \n",
    "    model.fit(features_train, target_train) \n",
    "    predictions = model.predict(features_valid)\n",
    "    current_score = f1_score(target_valid, predictions) \n",
    "    if max_score < current_score:\n",
    "        best_min_samples_split = min_samples_split \n",
    "        max_score = current_score\n",
    "        forest_model = model\n",
    "print('миниальное количество экземпляров в узле:', best_min_samples_split)\n",
    "print('Точность обучения:', max_score)"
   ]
  },
  {
   "cell_type": "markdown",
   "metadata": {},
   "source": [
    "Подберем миниальное количество экземпляров, которое может содержаться в листе."
   ]
  },
  {
   "cell_type": "code",
   "execution_count": 36,
   "metadata": {},
   "outputs": [
    {
     "name": "stdout",
     "output_type": "stream",
     "text": [
      "Миниальное количество экземпляров в листе: 2\n",
      "Точность обучения: 0.6216216216216215\n"
     ]
    }
   ],
   "source": [
    "for min_samples_leaf in range(1, 50):\n",
    "    model = RandomForestClassifier(\n",
    "        random_state=12345, n_estimators=50, max_depth=8, min_samples_split=best_min_samples_split, min_samples_leaf=min_samples_leaf\n",
    "    ) \n",
    "    model.fit(features_train, target_train) \n",
    "    predictions = model.predict(features_valid)\n",
    "    current_score = f1_score(target_valid, predictions) \n",
    "    if max_score < current_score:\n",
    "        best_min_samples_leaf = min_samples_leaf \n",
    "        max_score = current_score\n",
    "        forest_model = model\n",
    "print('Миниальное количество экземпляров в листе:', best_min_samples_leaf)\n",
    "print('Точность обучения:', max_score)"
   ]
  },
  {
   "cell_type": "code",
   "execution_count": 37,
   "metadata": {},
   "outputs": [
    {
     "name": "stdout",
     "output_type": "stream",
     "text": [
      "F1 на валидационной выборке: 0.6216216216216215\n",
      "AUC ROC обучения на валидационной выборке: 0.7376588826485367\n"
     ]
    }
   ],
   "source": [
    "forest_model.fit(features_train, target_train)\n",
    "predictions = forest_model.predict(features_valid)\n",
    "print('F1 на валидационной выборке:', f1_score(target_valid, predictions))\n",
    "print('AUC ROC обучения на валидационной выборке:', roc_auc_score(target_valid, predictions))"
   ]
  },
  {
   "cell_type": "markdown",
   "metadata": {},
   "source": [
    "Оценку F1 для модели RandomForestClassifier удалось поднять до 0.62, AUC ROC обучения на валидационной выборке состовляет 0.73"
   ]
  },
  {
   "cell_type": "markdown",
   "metadata": {},
   "source": [
    "### LogisticRegression"
   ]
  },
  {
   "cell_type": "markdown",
   "metadata": {},
   "source": [
    "Обучим модель LogisticRegression с гиперпараметрами по умолчанию. Начальное состояние генератора случайных чисел зададим 12345."
   ]
  },
  {
   "cell_type": "code",
   "execution_count": 38,
   "metadata": {},
   "outputs": [
    {
     "name": "stdout",
     "output_type": "stream",
     "text": [
      "Точность обучения: 0.3157894736842105\n"
     ]
    }
   ],
   "source": [
    "model = LogisticRegression(random_state=12345)\n",
    "model.fit(features_train, target_train) \n",
    "predictions = model.predict(features_valid)\n",
    "current_score = f1_score(target_valid, predictions)\n",
    "print('Точность обучения:', current_score)"
   ]
  },
  {
   "cell_type": "markdown",
   "metadata": {},
   "source": [
    "Попробуем увеличить точность обучения изменяя гиперпараметры модели. Подберем алгоритм для использования в обучении.\n",
    "\n",
    "Лучший гиперпараметр сохраняем в соответствующей переменной, что бы была возможность использовать его в дальнейшем.\n",
    "\n",
    "Модель обучения с лучшими показателями сохраняем в переменную logistic_model."
   ]
  },
  {
   "cell_type": "code",
   "execution_count": 39,
   "metadata": {},
   "outputs": [
    {
     "name": "stdout",
     "output_type": "stream",
     "text": [
      "Алгоритм для использования в обучении: lbfgs\n",
      "Точность обучения: 0.3157894736842105\n"
     ]
    }
   ],
   "source": [
    "max_score = 0\n",
    "for solver in ['lbfgs', 'liblinear', 'sag', 'saga']:\n",
    "    model = LogisticRegression(random_state=12345, solver=solver, max_iter=10000)\n",
    "    model.fit(features_train, target_train) \n",
    "    predictions = model.predict(features_valid)\n",
    "    current_score = f1_score(target_valid, predictions)\n",
    "    if max_score < current_score:\n",
    "        best_solver = solver\n",
    "        max_score = current_score\n",
    "        logistic_model = model\n",
    "print('Алгоритм для использования в обучении:', best_solver)\n",
    "print('Точность обучения:', max_score)"
   ]
  },
  {
   "cell_type": "markdown",
   "metadata": {},
   "source": [
    "Подберем максимальное коллчисество итераций."
   ]
  },
  {
   "cell_type": "code",
   "execution_count": 40,
   "metadata": {},
   "outputs": [
    {
     "name": "stdout",
     "output_type": "stream",
     "text": [
      "Размер максимального коллчисество итераций: 9900\n",
      "Точность обучения: 0.3157894736842105\n"
     ]
    }
   ],
   "source": [
    "for max_iter in range(100, 10000, 100):\n",
    "    model = LogisticRegression(random_state=12345, solver=best_solver, max_iter=max_iter)\n",
    "    model.fit(features_train, target_train)\n",
    "    predictions = model.predict(features_valid)\n",
    "    current_score = f1_score(target_valid, predictions)\n",
    "    if max_score <= current_score:\n",
    "        best_max_iter = max_iter\n",
    "        max_score = current_score\n",
    "        logistic_model = model\n",
    "print('Размер максимального коллчисество итераций:', best_max_iter)\n",
    "print('Точность обучения:', max_score)"
   ]
  },
  {
   "cell_type": "markdown",
   "metadata": {},
   "source": [
    "Подберем штраф за неверную итерацию"
   ]
  },
  {
   "cell_type": "code",
   "execution_count": 41,
   "metadata": {},
   "outputs": [
    {
     "name": "stdout",
     "output_type": "stream",
     "text": [
      "Размер штрафа неверной итерации: 0.3593813663804626\n",
      "Точность обучения: 0.31636363636363635\n"
     ]
    }
   ],
   "source": [
    "for C in np.logspace(-4, 4, 10):\n",
    "    model = LogisticRegression(random_state=12345, solver=best_solver, max_iter=best_max_iter, C=C)\n",
    "    model.fit(features_train, target_train)\n",
    "    predictions = model.predict(features_valid)\n",
    "    current_score = f1_score(target_valid, predictions)\n",
    "    if max_score <= current_score:\n",
    "        regularization_strength = C\n",
    "        max_score = current_score\n",
    "        logistic_model = model\n",
    "print('Размер штрафа неверной итерации:', regularization_strength)\n",
    "print('Точность обучения:', max_score)"
   ]
  },
  {
   "cell_type": "markdown",
   "metadata": {},
   "source": [
    "Подберем толерантность к критериям остановки."
   ]
  },
  {
   "cell_type": "code",
   "execution_count": 42,
   "metadata": {},
   "outputs": [
    {
     "name": "stdout",
     "output_type": "stream",
     "text": [
      "Толерантность к критериям остановки: 12.328467394420684\n",
      "Точность обучения: 0.3194192377495463\n"
     ]
    }
   ],
   "source": [
    "for tol in np.logspace(-4, 4, 100):\n",
    "    model = LogisticRegression(random_state=12345, solver=best_solver, C=regularization_strength, tol=tol)\n",
    "    model.fit(features_train, target_train) \n",
    "    predictions = model.predict(features_valid)\n",
    "    current_score = f1_score(target_valid, predictions)\n",
    "    if max_score <= current_score:\n",
    "        best_tol = tol\n",
    "        max_score = current_score\n",
    "        logistic_model = model\n",
    "print('Толерантность к критериям остановки:', best_tol)\n",
    "print('Точность обучения:', max_score)"
   ]
  },
  {
   "cell_type": "code",
   "execution_count": 43,
   "metadata": {},
   "outputs": [
    {
     "name": "stdout",
     "output_type": "stream",
     "text": [
      "F1 на валидационной выборке: 0.3194192377495463\n",
      "AUC ROC обучения на валидационной выборке: 0.5905692679081683\n"
     ]
    }
   ],
   "source": [
    "logistic_model.fit(features_train, target_train)\n",
    "predictions = logistic_model.predict(features_valid)\n",
    "print('F1 на валидационной выборке:', f1_score(target_valid, predictions))\n",
    "print('AUC ROC обучения на валидационной выборке:', roc_auc_score(target_valid, predictions))"
   ]
  },
  {
   "cell_type": "markdown",
   "metadata": {},
   "source": [
    "Оценку F1 для модели LogisticRegression составляет 0.32, AUC ROC обучения на валидационной выборке состовляет 0.59"
   ]
  },
  {
   "cell_type": "markdown",
   "metadata": {},
   "source": [
    "Попробуем применить гиперпараметр веса класса в значении сбалансированный."
   ]
  },
  {
   "cell_type": "code",
   "execution_count": 44,
   "metadata": {
    "scrolled": true
   },
   "outputs": [
    {
     "name": "stdout",
     "output_type": "stream",
     "text": [
      "Точность обучения: 0.5253054101221641\n",
      "AUC ROC обучения: 0.7316238053010149\n"
     ]
    }
   ],
   "source": [
    "model = LogisticRegression(random_state=12345, solver=best_solver, C=regularization_strength, tol=best_tol, \n",
    "                           class_weight='balanced')\n",
    "model.fit(features_train, target_train) \n",
    "predictions = model.predict(features_valid)\n",
    "current_score = f1_score(target_valid, predictions)\n",
    "print('Точность обучения:', current_score)\n",
    "print('AUC ROC обучения:', roc_auc_score(target_valid, predictions))"
   ]
  },
  {
   "cell_type": "markdown",
   "metadata": {},
   "source": [
    "Оценка F1 сразу же поднялась до 0.52, а AUC ROC до 0.73"
   ]
  },
  {
   "cell_type": "markdown",
   "metadata": {},
   "source": [
    "Из выбранных моделей обучения хорошо показал себя RandomForestClassifier, у данной модели самые высокие показатели F1 и AUC ROC.\n",
    "\n",
    "DecisionTreeClassifier показал себя чуть хуже, но оценку F1 не удалось поднять до 0.59.\n",
    "\n",
    "LogisticRegression без балансоровки классов показывает ужасные результаты, а с балансом F1 так же не достигает 0.59."
   ]
  },
  {
   "cell_type": "markdown",
   "metadata": {},
   "source": [
    "## Борьба с дисбалансом"
   ]
  },
  {
   "cell_type": "markdown",
   "metadata": {},
   "source": [
    "Дисбаланс классов можно исправить двумя методами upsample и downsample. Либо дублируя меньший класс в выбокре, либо сокращая больший класс в выборке."
   ]
  },
  {
   "cell_type": "markdown",
   "metadata": {},
   "source": [
    "### upsample"
   ]
  },
  {
   "cell_type": "markdown",
   "metadata": {},
   "source": [
    "Проведем балансировку классов в целевом признаке методом upsample. Записей лояльных клиентов класса 0 в 3.9 больше класса 1. Соответственно нужно увеличить колличество записей класса 1 в 4 раза."
   ]
  },
  {
   "cell_type": "code",
   "execution_count": 45,
   "metadata": {},
   "outputs": [],
   "source": [
    "def upsample(features, target, repeat):\n",
    "    features_zeros = features[target == 0]\n",
    "    features_ones = features[target == 1]\n",
    "    target_zeros = target[target == 0]\n",
    "    target_ones = target[target == 1]\n",
    "\n",
    "    features_upsampled = pd.concat([features_zeros] + [features_ones] * repeat)\n",
    "    target_upsampled = pd.concat([target_zeros] + [target_ones] * repeat)\n",
    "    \n",
    "    features_upsampled, target_upsampled = shuffle(\n",
    "        features_upsampled, target_upsampled, random_state=12345)\n",
    "    \n",
    "    return features_upsampled, target_upsampled\n",
    "\n",
    "features_upsampled, target_upsampled = upsample(features_train, target_train, 4)"
   ]
  },
  {
   "cell_type": "markdown",
   "metadata": {},
   "source": [
    "Проверим баланс классов."
   ]
  },
  {
   "cell_type": "code",
   "execution_count": 46,
   "metadata": {},
   "outputs": [
    {
     "name": "stdout",
     "output_type": "stream",
     "text": [
      "Изначальная обучающая выборка 6000 Выборка после upsample 9666\n",
      "Записей класса 0: 4778 Записей класса 1: 4888\n"
     ]
    }
   ],
   "source": [
    "print('Изначальная обучающая выборка', features_train.shape[0], 'Выборка после upsample', features_upsampled.shape[0])\n",
    "print('Записей класса 0:', target_upsampled.value_counts()[0], 'Записей класса 1:', target_upsampled.value_counts()[1])"
   ]
  },
  {
   "cell_type": "markdown",
   "metadata": {},
   "source": [
    "Обучим те же модели с теми же гиперпараметрами и каждую модель запишем в новую переменную."
   ]
  },
  {
   "cell_type": "markdown",
   "metadata": {},
   "source": [
    "#### DecisionTreeClassifier"
   ]
  },
  {
   "cell_type": "code",
   "execution_count": 47,
   "metadata": {},
   "outputs": [
    {
     "name": "stdout",
     "output_type": "stream",
     "text": [
      "Точность обучения: 0.5091352009744214\n"
     ]
    }
   ],
   "source": [
    "model = DecisionTreeClassifier(random_state=12345)\n",
    "model.fit(features_upsampled, target_upsampled)\n",
    "predictions = model.predict(features_valid)\n",
    "current_score = f1_score(target_valid, predictions)\n",
    "print('Точность обучения:', current_score)"
   ]
  },
  {
   "cell_type": "code",
   "execution_count": 48,
   "metadata": {},
   "outputs": [
    {
     "name": "stdout",
     "output_type": "stream",
     "text": [
      "Максимальное количество фичей: auto\n",
      "Точность обучения: 0.4820143884892086\n"
     ]
    }
   ],
   "source": [
    "max_score = 0\n",
    "for max_features in ['auto', 'sqrt', 'log2']:\n",
    "    model = DecisionTreeClassifier(random_state=12345, max_features=max_features)\n",
    "    model.fit(features_upsampled, target_upsampled)\n",
    "    predictions = model.predict(features_valid)\n",
    "    current_score = f1_score(target_valid, predictions)\n",
    "    if max_score < current_score:\n",
    "        best_max_features = max_features\n",
    "        max_score = current_score\n",
    "        tree_model_upsampled = model\n",
    "print('Максимальное количество фичей:', best_max_features)\n",
    "print('Точность обучения:', max_score)"
   ]
  },
  {
   "cell_type": "code",
   "execution_count": 49,
   "metadata": {},
   "outputs": [
    {
     "name": "stdout",
     "output_type": "stream",
     "text": [
      "Максимальная глубина: 4\n",
      "Точность обучения: 0.5539906103286384\n"
     ]
    }
   ],
   "source": [
    "for depth in range(1, 20):\n",
    "    model = DecisionTreeClassifier(random_state=12345, max_depth=depth, max_features=best_max_features)\n",
    "    model.fit(features_upsampled, target_upsampled)\n",
    "    predictions = model.predict(features_valid)\n",
    "    current_score = f1_score(target_valid, predictions)\n",
    "    if max_score < current_score:\n",
    "        max_depth = depth\n",
    "        max_score = current_score\n",
    "        tree_model_upsampled = model\n",
    "print('Максимальная глубина:', max_depth)\n",
    "print('Точность обучения:', max_score)"
   ]
  },
  {
   "cell_type": "code",
   "execution_count": 50,
   "metadata": {},
   "outputs": [
    {
     "name": "stdout",
     "output_type": "stream",
     "text": [
      "Миниального количества экземпляров в узле : 99\n",
      "Точность обучения: 0.5539906103286384\n"
     ]
    }
   ],
   "source": [
    "for min_samples_split in range(2, 100):\n",
    "    model = DecisionTreeClassifier(random_state=12345, max_depth=max_depth, max_features=best_max_features, min_samples_split=min_samples_split)\n",
    "    model.fit(features_upsampled, target_upsampled)\n",
    "    predictions = model.predict(features_valid)\n",
    "    current_score = f1_score(target_valid, predictions)\n",
    "    if max_score <= current_score:\n",
    "        best_min_samples_split = min_samples_split\n",
    "        max_score = current_score\n",
    "        tree_model_upsampled = model\n",
    "print('Миниального количества экземпляров в узле :', best_min_samples_split)\n",
    "print('Точность обучения:', max_score)"
   ]
  },
  {
   "cell_type": "code",
   "execution_count": 51,
   "metadata": {},
   "outputs": [
    {
     "name": "stdout",
     "output_type": "stream",
     "text": [
      "миниальное количество экземпляров в листе: 41\n",
      "Точность обучения: 0.5539906103286384\n"
     ]
    }
   ],
   "source": [
    "for min_samples_leaf in range(1, 100):\n",
    "    model = DecisionTreeClassifier(random_state=12345, max_depth=max_depth, max_features=best_max_features, \n",
    "                                   min_samples_split=best_min_samples_split, min_samples_leaf=min_samples_leaf)\n",
    "    model.fit(features_upsampled, target_upsampled)\n",
    "    predictions = model.predict(features_valid)\n",
    "    current_score = f1_score(target_valid, predictions)\n",
    "    if max_score <= current_score:\n",
    "        best_min_samples_leaf = min_samples_leaf\n",
    "        max_score = current_score\n",
    "        tree_model_upsampled = model\n",
    "print('миниальное количество экземпляров в листе:', best_min_samples_leaf)\n",
    "print('Точность обучения:', max_score)"
   ]
  },
  {
   "cell_type": "code",
   "execution_count": 52,
   "metadata": {},
   "outputs": [
    {
     "name": "stdout",
     "output_type": "stream",
     "text": [
      "F1 на валидационной выборке: 0.5539906103286384\n",
      "AUC ROC обучения на валидационной выборке: 0.7478261405064539\n"
     ]
    }
   ],
   "source": [
    "tree_model_upsampled.fit(features_upsampled, target_upsampled)\n",
    "predictions = tree_model_upsampled.predict(features_valid)\n",
    "print('F1 на валидационной выборке:', f1_score(target_valid, predictions))\n",
    "print('AUC ROC обучения на валидационной выборке:', roc_auc_score(target_valid, predictions))"
   ]
  },
  {
   "cell_type": "markdown",
   "metadata": {},
   "source": [
    "Оценку F1 для модели DecisionTreeClassifier удалось поднять до 0.55, AUC ROC обучения на валидационной выборке состовляет 0.74"
   ]
  },
  {
   "cell_type": "markdown",
   "metadata": {},
   "source": [
    "#### RandomForestClassifier"
   ]
  },
  {
   "cell_type": "code",
   "execution_count": 53,
   "metadata": {},
   "outputs": [
    {
     "name": "stdout",
     "output_type": "stream",
     "text": [
      "Точность обучения: 0.6122994652406417\n"
     ]
    }
   ],
   "source": [
    "model = RandomForestClassifier(random_state=12345) \n",
    "model.fit(features_upsampled, target_upsampled) \n",
    "predictions = model.predict(features_valid)\n",
    "current_score = f1_score(target_valid, predictions)\n",
    "print('Точность обучения:', current_score)"
   ]
  },
  {
   "cell_type": "code",
   "execution_count": 54,
   "metadata": {},
   "outputs": [
    {
     "name": "stdout",
     "output_type": "stream",
     "text": [
      "Колличество деревьев: 150\n",
      "Точность обучения: 0.6248331108144192\n"
     ]
    }
   ],
   "source": [
    "max_score = 0\n",
    "for n_estimators in range(10, 200, 10):\n",
    "    model = RandomForestClassifier(random_state=12345, n_estimators=n_estimators) \n",
    "    model.fit(features_upsampled, target_upsampled) \n",
    "    predictions = model.predict(features_valid)\n",
    "    current_score = f1_score(target_valid, predictions)\n",
    "    if max_score < current_score:\n",
    "        best_n_estimators = n_estimators \n",
    "        max_score = current_score\n",
    "        forest_model_upsamled = model\n",
    "print('Колличество деревьев:', best_n_estimators)\n",
    "print('Точность обучения:', max_score)"
   ]
  },
  {
   "cell_type": "code",
   "execution_count": 55,
   "metadata": {},
   "outputs": [
    {
     "name": "stdout",
     "output_type": "stream",
     "text": [
      "Максимальная глубина: 11\n",
      "Точность обучения: 0.6557017543859649\n"
     ]
    }
   ],
   "source": [
    "for max_depth in range(2, 50):\n",
    "    model = RandomForestClassifier(random_state=12345, n_estimators=best_n_estimators, max_depth=max_depth) \n",
    "    model.fit(features_upsampled, target_upsampled) \n",
    "    predictions = model.predict(features_valid)\n",
    "    current_score = f1_score(target_valid, predictions)\n",
    "    if max_score <= current_score:\n",
    "        best_max_depth = max_depth \n",
    "        max_score = current_score\n",
    "        forest_model_upsamled = model\n",
    "print('Максимальная глубина:', best_max_depth)\n",
    "print('Точность обучения:', max_score)"
   ]
  },
  {
   "cell_type": "code",
   "execution_count": 56,
   "metadata": {},
   "outputs": [
    {
     "name": "stdout",
     "output_type": "stream",
     "text": [
      "миниальное количество экземпляров в узле: 13\n",
      "Точность обучения: 0.6587728740581271\n"
     ]
    }
   ],
   "source": [
    "for min_samples_split in range(2, 50):\n",
    "    model = RandomForestClassifier(random_state=12345, n_estimators=best_n_estimators, max_depth=best_max_depth, min_samples_split=min_samples_split) \n",
    "    model.fit(features_upsampled, target_upsampled) \n",
    "    predictions = model.predict(features_valid)\n",
    "    current_score = f1_score(target_valid, predictions) \n",
    "    if max_score < current_score:\n",
    "        best_min_samples_split = min_samples_split \n",
    "        max_score = current_score\n",
    "        forest_model_upsamled = model\n",
    "print('миниальное количество экземпляров в узле:', best_min_samples_split)\n",
    "print('Точность обучения:', max_score)"
   ]
  },
  {
   "cell_type": "code",
   "execution_count": 57,
   "metadata": {},
   "outputs": [
    {
     "name": "stdout",
     "output_type": "stream",
     "text": [
      "Миниальное количество экземпляров в листе: 41\n",
      "Точность обучения: 0.6587728740581271\n"
     ]
    }
   ],
   "source": [
    "for min_samples_leaf in range(1, 50):\n",
    "    model = RandomForestClassifier(\n",
    "        random_state=12345, n_estimators=50, max_depth=8, min_samples_split=best_min_samples_split, min_samples_leaf=min_samples_leaf\n",
    "    ) \n",
    "    model.fit(features_upsampled, target_upsampled) \n",
    "    predictions = model.predict(features_valid)\n",
    "    current_score = f1_score(target_valid, predictions) \n",
    "    if max_score < current_score:\n",
    "        best_min_samples_leaf = min_samples_leaf \n",
    "        max_score = current_score\n",
    "        forest_model_upsamled = model\n",
    "print('Миниальное количество экземпляров в листе:', best_min_samples_leaf)\n",
    "print('Точность обучения:', max_score)"
   ]
  },
  {
   "cell_type": "code",
   "execution_count": 58,
   "metadata": {},
   "outputs": [
    {
     "name": "stdout",
     "output_type": "stream",
     "text": [
      "F1 на валидационной выборке: 0.6587728740581271\n",
      "AUC ROC обучения на валидационной выборке: 0.8074748743718593\n"
     ]
    }
   ],
   "source": [
    "forest_model_upsamled.fit(features_upsampled, target_upsampled)\n",
    "predictions = forest_model_upsamled.predict(features_valid)\n",
    "print('F1 на валидационной выборке:', f1_score(target_valid, predictions))\n",
    "print('AUC ROC обучения на валидационной выборке:', roc_auc_score(target_valid, predictions))"
   ]
  },
  {
   "cell_type": "markdown",
   "metadata": {},
   "source": [
    "Оценку F1 для модели RandomForestClassifier удалось поднять до 0.65, AUC ROC обучения на валидационной выборке состовляет 0.80"
   ]
  },
  {
   "cell_type": "markdown",
   "metadata": {},
   "source": [
    "#### LogisticRegression"
   ]
  },
  {
   "cell_type": "code",
   "execution_count": 59,
   "metadata": {},
   "outputs": [
    {
     "name": "stdout",
     "output_type": "stream",
     "text": [
      "Точность обучения: 0.5244215938303343\n"
     ]
    }
   ],
   "source": [
    "model = LogisticRegression(random_state=12345)\n",
    "model.fit(features_upsampled, target_upsampled) \n",
    "predictions = model.predict(features_valid)\n",
    "current_score = f1_score(target_valid, predictions)\n",
    "print('Точность обучения:', current_score)"
   ]
  },
  {
   "cell_type": "code",
   "execution_count": 60,
   "metadata": {},
   "outputs": [
    {
     "name": "stdout",
     "output_type": "stream",
     "text": [
      "Алгоритм для использования в обучении: liblinear\n",
      "Точность обучения: 0.5248713550600342\n"
     ]
    }
   ],
   "source": [
    "max_score = 0\n",
    "for solver in ['lbfgs', 'liblinear', 'sag', 'saga']:\n",
    "    model = LogisticRegression(random_state=12345, solver=solver, max_iter=10000)\n",
    "    model.fit(features_upsampled, target_upsampled) \n",
    "    predictions = model.predict(features_valid)\n",
    "    current_score = f1_score(target_valid, predictions)\n",
    "    if max_score < current_score:\n",
    "        best_solver = solver\n",
    "        max_score = current_score\n",
    "        logistic_model_upsampled = model\n",
    "print('Алгоритм для использования в обучении:', best_solver)\n",
    "print('Точность обучения:', max_score)"
   ]
  },
  {
   "cell_type": "code",
   "execution_count": 61,
   "metadata": {},
   "outputs": [
    {
     "name": "stdout",
     "output_type": "stream",
     "text": [
      "Размер максимального коллчисество итераций: 9900\n",
      "Точность обучения: 0.5248713550600342\n"
     ]
    }
   ],
   "source": [
    "for max_iter in range(100, 10000, 100):\n",
    "    model = LogisticRegression(random_state=12345, solver=best_solver, max_iter=max_iter)\n",
    "    model.fit(features_upsampled, target_upsampled)\n",
    "    predictions = model.predict(features_valid)\n",
    "    current_score = f1_score(target_valid, predictions)\n",
    "    if max_score <= current_score:\n",
    "        best_max_iter = max_iter\n",
    "        max_score = current_score\n",
    "        logistic_model_upsampled = model\n",
    "print('Размер максимального коллчисество итераций:', best_max_iter)\n",
    "print('Точность обучения:', max_score)"
   ]
  },
  {
   "cell_type": "code",
   "execution_count": 62,
   "metadata": {},
   "outputs": [
    {
     "name": "stdout",
     "output_type": "stream",
     "text": [
      "Размер штрафа неверной итерации: 0.005994842503189409\n",
      "Точность обучения: 0.5282685512367491\n"
     ]
    }
   ],
   "source": [
    "for C in np.logspace(-4, 4, 10):\n",
    "    model = LogisticRegression(random_state=12345, solver=best_solver, max_iter=best_max_iter, C=C)\n",
    "    model.fit(features_upsampled, target_upsampled)\n",
    "    predictions = model.predict(features_valid)\n",
    "    current_score = f1_score(target_valid, predictions)\n",
    "    if max_score <= current_score:\n",
    "        regularization_strength = C\n",
    "        max_score = current_score\n",
    "        logistic_model_upsampled = model\n",
    "print('Размер штрафа неверной итерации:', regularization_strength)\n",
    "print('Точность обучения:', max_score)"
   ]
  },
  {
   "cell_type": "code",
   "execution_count": 63,
   "metadata": {},
   "outputs": [
    {
     "name": "stdout",
     "output_type": "stream",
     "text": [
      "Толерантность к критериям остановки: 1.9179102616724888\n",
      "Точность обучения: 0.5286343612334803\n"
     ]
    }
   ],
   "source": [
    "for tol in np.logspace(-4, 4, 100):\n",
    "    model = LogisticRegression(random_state=12345, solver=best_solver, C=regularization_strength, tol=tol)\n",
    "    model.fit(features_upsampled, target_upsampled) \n",
    "    predictions = model.predict(features_valid)\n",
    "    current_score = f1_score(target_valid, predictions)\n",
    "    if max_score <= current_score:\n",
    "        best_tol = tol\n",
    "        max_score = current_score\n",
    "        logistic_model_upsampled = model\n",
    "print('Толерантность к критериям остановки:', best_tol)\n",
    "print('Точность обучения:', max_score)"
   ]
  },
  {
   "cell_type": "code",
   "execution_count": 64,
   "metadata": {},
   "outputs": [
    {
     "name": "stdout",
     "output_type": "stream",
     "text": [
      "F1 на валидационной выборке: 0.5286343612334803\n",
      "AUC ROC обучения на валидационной выборке: 0.7335390186225244\n"
     ]
    }
   ],
   "source": [
    "logistic_model_upsampled.fit(features_upsampled, target_upsampled)\n",
    "predictions = logistic_model_upsampled.predict(features_valid)\n",
    "print('F1 на валидационной выборке:', f1_score(target_valid, predictions))\n",
    "print('AUC ROC обучения на валидационной выборке:', roc_auc_score(target_valid, predictions))"
   ]
  },
  {
   "cell_type": "markdown",
   "metadata": {},
   "source": [
    "Оценку F1 для модели LogisticRegression удалось поднять до 0.52, AUC ROC обучения на валидационной выборке состовляет 0.73"
   ]
  },
  {
   "cell_type": "markdown",
   "metadata": {},
   "source": [
    "Из выбранных моделей обучения хорошо показал себя RandomForestClassifier, у данной модели самые высокие показатели F1 и AUC ROC.\n",
    "\n",
    "DecisionTreeClassifier показал себя чуть хуже, но оценку F1 все же неудалось поднять до 0.59.\n",
    "\n",
    "LogisticRegression оценка F1 так же не достигает 0.59 и сотавляет 0.52."
   ]
  },
  {
   "cell_type": "markdown",
   "metadata": {},
   "source": [
    "### downsample"
   ]
  },
  {
   "cell_type": "markdown",
   "metadata": {},
   "source": [
    "Проведем балансировку классов в целевом признаке методом upsample. Записей лояльных клиентов класса 0 в 3.9 больше класса 1. Соответственно нужно уменьшить колличество записей класса 0 в 4 раза."
   ]
  },
  {
   "cell_type": "code",
   "execution_count": 65,
   "metadata": {},
   "outputs": [],
   "source": [
    "def downsample(features, target, fraction):\n",
    "    features_zeros = features[target == 0]\n",
    "    features_ones = features[target == 1]\n",
    "    target_zeros = target[target == 0]\n",
    "    target_ones = target[target == 1]\n",
    "\n",
    "    features_downsampled = pd.concat(\n",
    "        [features_zeros.sample(frac=fraction, random_state=12345)] + [features_ones])\n",
    "    target_downsampled = pd.concat(\n",
    "        [target_zeros.sample(frac=fraction, random_state=12345)] + [target_ones])\n",
    "    \n",
    "    features_downsampled, target_downsampled = shuffle(\n",
    "        features_downsampled, target_downsampled, random_state=12345)\n",
    "    \n",
    "    return features_downsampled, target_downsampled\n",
    "\n",
    "features_downsampled, target_downsampled = downsample(features_train, target_train, 0.25)"
   ]
  },
  {
   "cell_type": "markdown",
   "metadata": {},
   "source": [
    "Проверим баланс классов."
   ]
  },
  {
   "cell_type": "code",
   "execution_count": 66,
   "metadata": {},
   "outputs": [
    {
     "name": "stdout",
     "output_type": "stream",
     "text": [
      "Изначальная обучающая выборка 6000 Выборка после downsample 2416\n",
      "Записей класса 0: 1194 Записей класса 1: 1222\n"
     ]
    }
   ],
   "source": [
    "print('Изначальная обучающая выборка', features_train.shape[0], 'Выборка после downsample', features_downsampled.shape[0])\n",
    "print('Записей класса 0:', target_downsampled.value_counts()[0], 'Записей класса 1:', target_downsampled.value_counts()[1])"
   ]
  },
  {
   "cell_type": "markdown",
   "metadata": {},
   "source": [
    "Обучим те же модели с теми же гиперпараметрами и каждую модель запишем в новую переменную."
   ]
  },
  {
   "cell_type": "markdown",
   "metadata": {},
   "source": [
    "#### DecisionTreeClassifier"
   ]
  },
  {
   "cell_type": "code",
   "execution_count": 67,
   "metadata": {},
   "outputs": [
    {
     "name": "stdout",
     "output_type": "stream",
     "text": [
      "Точность обучения: 0.5041876046901173\n"
     ]
    }
   ],
   "source": [
    "model = DecisionTreeClassifier(random_state=12345)\n",
    "model.fit(features_downsampled, target_downsampled)\n",
    "predictions = model.predict(features_valid)\n",
    "current_score = f1_score(target_valid, predictions)\n",
    "print('Точность обучения:', current_score)"
   ]
  },
  {
   "cell_type": "code",
   "execution_count": 68,
   "metadata": {},
   "outputs": [
    {
     "name": "stdout",
     "output_type": "stream",
     "text": [
      "Максимальное количество фичей: auto\n",
      "Точность обучения: 0.4895572263993317\n"
     ]
    }
   ],
   "source": [
    "max_score = 0\n",
    "for max_features in ['auto', 'sqrt', 'log2']:\n",
    "    model = DecisionTreeClassifier(random_state=12345, max_features=max_features)\n",
    "    model.fit(features_downsampled, target_downsampled)\n",
    "    predictions = model.predict(features_valid)\n",
    "    current_score = f1_score(target_valid, predictions)\n",
    "    if max_score < current_score:\n",
    "        best_max_features = max_features\n",
    "        max_score = current_score\n",
    "        tree_model_downsampled = model\n",
    "print('Максимальное количество фичей:', best_max_features)\n",
    "print('Точность обучения:', max_score)"
   ]
  },
  {
   "cell_type": "code",
   "execution_count": 69,
   "metadata": {},
   "outputs": [
    {
     "name": "stdout",
     "output_type": "stream",
     "text": [
      "Максимальная глубина: 4\n",
      "Точность обучения: 0.552\n"
     ]
    }
   ],
   "source": [
    "for depth in range(1, 20):\n",
    "    model = DecisionTreeClassifier(random_state=12345, max_depth=depth, max_features=best_max_features)\n",
    "    model.fit(features_downsampled, target_downsampled)\n",
    "    predictions = model.predict(features_valid)\n",
    "    current_score = f1_score(target_valid, predictions)\n",
    "    if max_score < current_score:\n",
    "        max_depth = depth\n",
    "        max_score = current_score\n",
    "        tree_model_downsampled = model\n",
    "print('Максимальная глубина:', max_depth)\n",
    "print('Точность обучения:', max_score)"
   ]
  },
  {
   "cell_type": "code",
   "execution_count": 70,
   "metadata": {},
   "outputs": [
    {
     "name": "stdout",
     "output_type": "stream",
     "text": [
      "Миниального количества экземпляров в узле : 54\n",
      "Точность обучения: 0.552\n"
     ]
    }
   ],
   "source": [
    "for min_samples_split in range(2, 100):\n",
    "    model = DecisionTreeClassifier(random_state=12345, max_depth=max_depth, max_features=best_max_features, min_samples_split=min_samples_split)\n",
    "    model.fit(features_downsampled, target_downsampled)\n",
    "    predictions = model.predict(features_valid)\n",
    "    current_score = f1_score(target_valid, predictions)\n",
    "    if max_score <= current_score:\n",
    "        best_min_samples_split = min_samples_split\n",
    "        max_score = current_score\n",
    "        tree_model_downsampled = model\n",
    "print('Миниального количества экземпляров в узле :', best_min_samples_split)\n",
    "print('Точность обучения:', max_score)"
   ]
  },
  {
   "cell_type": "code",
   "execution_count": 71,
   "metadata": {},
   "outputs": [
    {
     "name": "stdout",
     "output_type": "stream",
     "text": [
      "миниальное количество экземпляров в листе: 27\n",
      "Точность обучения: 0.555223880597015\n"
     ]
    }
   ],
   "source": [
    "for min_samples_leaf in range(1, 100):\n",
    "    model = DecisionTreeClassifier(random_state=12345, max_depth=max_depth, max_features=best_max_features, \n",
    "                                   min_samples_split=best_min_samples_split, min_samples_leaf=min_samples_leaf)\n",
    "    model.fit(features_downsampled, target_downsampled)\n",
    "    predictions = model.predict(features_valid)\n",
    "    current_score = f1_score(target_valid, predictions)\n",
    "    if max_score <= current_score:\n",
    "        best_min_samples_leaf = min_samples_leaf\n",
    "        max_score = current_score\n",
    "        tree_model_downsampled = model\n",
    "print('миниальное количество экземпляров в листе:', best_min_samples_leaf)\n",
    "print('Точность обучения:', max_score)"
   ]
  },
  {
   "cell_type": "code",
   "execution_count": 72,
   "metadata": {},
   "outputs": [
    {
     "name": "stdout",
     "output_type": "stream",
     "text": [
      "F1 на валидационной выборке: 0.555223880597015\n",
      "AUC ROC обучения на валидационной выборке: 0.7420373928465859\n"
     ]
    }
   ],
   "source": [
    "tree_model_downsampled.fit(features_downsampled, target_downsampled)\n",
    "predictions = tree_model_downsampled.predict(features_valid)\n",
    "print('F1 на валидационной выборке:', f1_score(target_valid, predictions))\n",
    "print('AUC ROC обучения на валидационной выборке:', roc_auc_score(target_valid, predictions))"
   ]
  },
  {
   "cell_type": "markdown",
   "metadata": {},
   "source": [
    "Оценку F1 для модели DecisionTreeClassifier удалось поднять до 0.55, AUC ROC обучения на валидационной выборке состовляет 0.74"
   ]
  },
  {
   "cell_type": "markdown",
   "metadata": {},
   "source": [
    "#### RandomForestClassifier"
   ]
  },
  {
   "cell_type": "code",
   "execution_count": 73,
   "metadata": {},
   "outputs": [
    {
     "name": "stdout",
     "output_type": "stream",
     "text": [
      "Точность обучения: 0.5908667287977633\n"
     ]
    }
   ],
   "source": [
    "model = RandomForestClassifier(random_state=12345) \n",
    "model.fit(features_downsampled, target_downsampled) \n",
    "predictions = model.predict(features_valid)\n",
    "current_score = f1_score(target_valid, predictions)\n",
    "print('Точность обучения:', current_score)"
   ]
  },
  {
   "cell_type": "code",
   "execution_count": 74,
   "metadata": {},
   "outputs": [
    {
     "name": "stdout",
     "output_type": "stream",
     "text": [
      "Колличество деревьев: 50\n",
      "Точность обучения: 0.6074766355140186\n"
     ]
    }
   ],
   "source": [
    "max_score = 0\n",
    "for n_estimators in range(10, 200, 10):\n",
    "    model = RandomForestClassifier(random_state=12345, n_estimators=n_estimators) \n",
    "    model.fit(features_downsampled, target_downsampled) \n",
    "    predictions = model.predict(features_valid)\n",
    "    current_score = f1_score(target_valid, predictions)\n",
    "    if max_score < current_score:\n",
    "        best_n_estimators = n_estimators \n",
    "        max_score = current_score\n",
    "        forest_model_downsamled = model\n",
    "print('Колличество деревьев:', best_n_estimators)\n",
    "print('Точность обучения:', max_score)"
   ]
  },
  {
   "cell_type": "code",
   "execution_count": 75,
   "metadata": {},
   "outputs": [
    {
     "name": "stdout",
     "output_type": "stream",
     "text": [
      "Максимальная глубина: 9\n",
      "Точность обучения: 0.6258246936852025\n"
     ]
    }
   ],
   "source": [
    "for max_depth in range(2, 50):\n",
    "    model = RandomForestClassifier(random_state=12345, n_estimators=best_n_estimators, max_depth=max_depth) \n",
    "    model.fit(features_downsampled, target_downsampled) \n",
    "    predictions = model.predict(features_valid)\n",
    "    current_score = f1_score(target_valid, predictions)\n",
    "    if max_score <= current_score:\n",
    "        best_max_depth = max_depth \n",
    "        max_score = current_score\n",
    "        forest_model_downsamled = model\n",
    "print('Максимальная глубина:', best_max_depth)\n",
    "print('Точность обучения:', max_score)"
   ]
  },
  {
   "cell_type": "code",
   "execution_count": 76,
   "metadata": {},
   "outputs": [
    {
     "name": "stdout",
     "output_type": "stream",
     "text": [
      "миниальное количество экземпляров в узле: 54\n",
      "Точность обучения: 0.6258246936852025\n"
     ]
    }
   ],
   "source": [
    "for min_samples_split in range(2, 50):\n",
    "    model = RandomForestClassifier(random_state=12345, n_estimators=best_n_estimators, max_depth=best_max_depth, min_samples_split=min_samples_split) \n",
    "    model.fit(features_downsampled, target_downsampled) \n",
    "    predictions = model.predict(features_valid)\n",
    "    current_score = f1_score(target_valid, predictions) \n",
    "    if max_score < current_score:\n",
    "        best_min_samples_split = min_samples_split \n",
    "        max_score = current_score\n",
    "        forest_model_downsamled = model\n",
    "print('миниальное количество экземпляров в узле:', best_min_samples_split)\n",
    "print('Точность обучения:', max_score)"
   ]
  },
  {
   "cell_type": "code",
   "execution_count": 77,
   "metadata": {},
   "outputs": [
    {
     "name": "stdout",
     "output_type": "stream",
     "text": [
      "Миниальное количество экземпляров в листе: 27\n",
      "Точность обучения: 0.6258246936852025\n"
     ]
    }
   ],
   "source": [
    "for min_samples_leaf in range(1, 50):\n",
    "    model = RandomForestClassifier(\n",
    "        random_state=12345, n_estimators=50, max_depth=8, min_samples_split=best_min_samples_split, min_samples_leaf=min_samples_leaf\n",
    "    ) \n",
    "    model.fit(features_downsampled, target_downsampled) \n",
    "    predictions = model.predict(features_valid)\n",
    "    current_score = f1_score(target_valid, predictions) \n",
    "    if max_score < current_score:\n",
    "        best_min_samples_leaf = min_samples_leaf \n",
    "        max_score = current_score\n",
    "        forest_model_downsamled = model\n",
    "print('Миниальное количество экземпляров в листе:', best_min_samples_leaf)\n",
    "print('Точность обучения:', max_score)"
   ]
  },
  {
   "cell_type": "code",
   "execution_count": 78,
   "metadata": {},
   "outputs": [
    {
     "name": "stdout",
     "output_type": "stream",
     "text": [
      "F1 на валидационной выборке: 0.6258246936852025\n",
      "AUC ROC обучения на валидационной выборке: 0.8060461621834664\n"
     ]
    }
   ],
   "source": [
    "forest_model_downsamled.fit(features_downsampled, target_downsampled)\n",
    "predictions = forest_model_downsamled.predict(features_valid)\n",
    "print('F1 на валидационной выборке:', f1_score(target_valid, predictions))\n",
    "print('AUC ROC обучения на валидационной выборке:', roc_auc_score(target_valid, predictions))"
   ]
  },
  {
   "cell_type": "markdown",
   "metadata": {},
   "source": [
    "Оценку F1 для модели RandomForestClassifier удалось поднять до 0.62, AUC ROC обучения на валидационной выборке состовляет 0.80"
   ]
  },
  {
   "cell_type": "markdown",
   "metadata": {},
   "source": [
    "#### LogisticRegression"
   ]
  },
  {
   "cell_type": "code",
   "execution_count": 79,
   "metadata": {},
   "outputs": [
    {
     "name": "stdout",
     "output_type": "stream",
     "text": [
      "Точность обучения: 0.5212224108658743\n"
     ]
    }
   ],
   "source": [
    "model = LogisticRegression(random_state=12345)\n",
    "model.fit(features_downsampled, target_downsampled)\n",
    "predictions = model.predict(features_valid)\n",
    "current_score = f1_score(target_valid, predictions)\n",
    "print('Точность обучения:', current_score)"
   ]
  },
  {
   "cell_type": "code",
   "execution_count": 80,
   "metadata": {},
   "outputs": [
    {
     "name": "stdout",
     "output_type": "stream",
     "text": [
      "Алгоритм для использования в обучении: liblinear\n",
      "Точность обучения: 0.5216652506372133\n"
     ]
    }
   ],
   "source": [
    "max_score = 0\n",
    "for solver in ['lbfgs', 'liblinear', 'sag', 'saga']:\n",
    "    model = LogisticRegression(random_state=12345, solver=solver, max_iter=10000)\n",
    "    model.fit(features_downsampled, target_downsampled) \n",
    "    predictions = model.predict(features_valid)\n",
    "    current_score = f1_score(target_valid, predictions)\n",
    "    if max_score < current_score:\n",
    "        best_solver = solver\n",
    "        max_score = current_score\n",
    "        logistic_model_downsampled = model\n",
    "print('Алгоритм для использования в обучении:', best_solver)\n",
    "print('Точность обучения:', max_score)"
   ]
  },
  {
   "cell_type": "code",
   "execution_count": 81,
   "metadata": {},
   "outputs": [
    {
     "name": "stdout",
     "output_type": "stream",
     "text": [
      "Размер максимального коллчисество итераций: 9900\n",
      "Точность обучения: 0.5216652506372133\n"
     ]
    }
   ],
   "source": [
    "for max_iter in range(100, 10000, 100):\n",
    "    model = LogisticRegression(random_state=12345, solver=best_solver, max_iter=max_iter)\n",
    "    model.fit(features_downsampled, target_downsampled)\n",
    "    predictions = model.predict(features_valid)\n",
    "    current_score = f1_score(target_valid, predictions)\n",
    "    if max_score <= current_score:\n",
    "        best_max_iter = max_iter\n",
    "        max_score = current_score\n",
    "        logistic_model_downsampled = model\n",
    "print('Размер максимального коллчисество итераций:', best_max_iter)\n",
    "print('Точность обучения:', max_score)"
   ]
  },
  {
   "cell_type": "code",
   "execution_count": 82,
   "metadata": {},
   "outputs": [
    {
     "name": "stdout",
     "output_type": "stream",
     "text": [
      "Размер штрафа неверной итерации: 0.046415888336127774\n",
      "Точность обучения: 0.5284974093264249\n"
     ]
    }
   ],
   "source": [
    "for C in np.logspace(-4, 4, 10):\n",
    "    model = LogisticRegression(random_state=12345, solver=best_solver, max_iter=best_max_iter, C=C)\n",
    "    model.fit(features_downsampled, target_downsampled)\n",
    "    predictions = model.predict(features_valid)\n",
    "    current_score = f1_score(target_valid, predictions)\n",
    "    if max_score <= current_score:\n",
    "        regularization_strength = C\n",
    "        max_score = current_score\n",
    "        logistic_model_downsampled = model\n",
    "print('Размер штрафа неверной итерации:', regularization_strength)\n",
    "print('Точность обучения:', max_score)"
   ]
  },
  {
   "cell_type": "code",
   "execution_count": 83,
   "metadata": {},
   "outputs": [
    {
     "name": "stdout",
     "output_type": "stream",
     "text": [
      "Толерантность к критериям остановки: 0.0011233240329780276\n",
      "Точность обучения: 0.5284974093264249\n"
     ]
    }
   ],
   "source": [
    "for tol in np.logspace(-4, 4, 100):\n",
    "    model = LogisticRegression(random_state=12345, solver=best_solver, C=regularization_strength, tol=tol)\n",
    "    model.fit(features_downsampled, target_downsampled) \n",
    "    predictions = model.predict(features_valid)\n",
    "    current_score = f1_score(target_valid, predictions)\n",
    "    if max_score <= current_score:\n",
    "        best_tol = tol\n",
    "        max_score = current_score\n",
    "        logistic_model_downsampled = model\n",
    "print('Толерантность к критериям остановки:', best_tol)\n",
    "print('Точность обучения:', max_score)"
   ]
  },
  {
   "cell_type": "code",
   "execution_count": 84,
   "metadata": {},
   "outputs": [
    {
     "name": "stdout",
     "output_type": "stream",
     "text": [
      "F1 на валидационной выборке: 0.5284974093264249\n",
      "AUC ROC обучения на валидационной выборке: 0.7355527638190956\n"
     ]
    }
   ],
   "source": [
    "logistic_model_downsampled.fit(features_downsampled, target_downsampled)\n",
    "predictions = logistic_model_downsampled.predict(features_valid)\n",
    "print('F1 на валидационной выборке:', f1_score(target_valid, predictions))\n",
    "print('AUC ROC обучения на валидационной выборке:', roc_auc_score(target_valid, predictions))"
   ]
  },
  {
   "cell_type": "markdown",
   "metadata": {},
   "source": [
    "Оценку F1 для модели LogisticRegression удалось поднять до 0.52, AUC ROC обучения на валидационной выборке состовляет 0.73"
   ]
  },
  {
   "cell_type": "markdown",
   "metadata": {},
   "source": [
    "Из выбранных моделей обучения хорошо показал себя RandomForestClassifier, у данной модели самые высокие показатели F1 и AUC ROC.\n",
    "\n",
    "DecisionTreeClassifier показал себя чуть хуже, но оценку F1 не удалось поднять до 0.59.\n",
    "\n",
    "LogisticRegression оценка F1 так же не достигает 0.59 и сотавляет 0.52."
   ]
  },
  {
   "cell_type": "markdown",
   "metadata": {},
   "source": [
    "## Тестирование модели"
   ]
  },
  {
   "cell_type": "markdown",
   "metadata": {},
   "source": [
    "### upsampled"
   ]
  },
  {
   "cell_type": "markdown",
   "metadata": {},
   "source": [
    "Проведем тестирование моделей после балансировки методом upsampled"
   ]
  },
  {
   "cell_type": "code",
   "execution_count": 85,
   "metadata": {},
   "outputs": [
    {
     "name": "stdout",
     "output_type": "stream",
     "text": [
      "F1 на тестовой выборке: 0.5205479452054795 на валидационной выборке: 0.5539906103286384\n",
      "AUC ROC на тестовой выборке: 0.7172395816463611 на валидационной выборке: 0.7355527638190956\n"
     ]
    }
   ],
   "source": [
    "tree_model_upsampled.fit(features_upsampled, target_upsampled)\n",
    "predictions = tree_model_upsampled.predict(features_test)\n",
    "print('F1 на тестовой выборке:', f1_score(target_test, predictions), \n",
    "      'на валидационной выборке:', f1_score(target_valid, tree_model_upsampled.predict(features_valid)))\n",
    "print('AUC ROC на тестовой выборке:', roc_auc_score(target_test, predictions), \n",
    "      'на валидационной выборке:', roc_auc_score(target_valid, logistic_model_downsampled.predict(features_valid)))"
   ]
  },
  {
   "cell_type": "code",
   "execution_count": 86,
   "metadata": {},
   "outputs": [
    {
     "name": "stdout",
     "output_type": "stream",
     "text": [
      "F1 на тестовой выборке: 0.6105032822757112 на валидационной выборке: 0.6587728740581271\n",
      "AUC ROC на тестовой выборке: 0.7711887542396018 на валидационной выборке: 0.7355527638190956\n"
     ]
    }
   ],
   "source": [
    "forest_model_upsamled.fit(features_upsampled, target_upsampled)\n",
    "predictions = forest_model_upsamled.predict(features_test)\n",
    "print('F1 на тестовой выборке:', f1_score(target_test, predictions), \n",
    "      'на валидационной выборке:', f1_score(target_valid, forest_model_upsamled.predict(features_valid)))\n",
    "print('AUC ROC на тестовой выборке:', roc_auc_score(target_test, predictions), \n",
    "      'на валидационной выборке:', roc_auc_score(target_valid, logistic_model_downsampled.predict(features_valid)))"
   ]
  },
  {
   "cell_type": "code",
   "execution_count": 87,
   "metadata": {},
   "outputs": [
    {
     "name": "stdout",
     "output_type": "stream",
     "text": [
      "F1 на тестовой выборке: 0.4738197424892704 на валидационной выборке: 0.5286343612334803\n",
      "AUC ROC на тестовой выборке: 0.6877794589658996 на валидационной выборке: 0.7355527638190956\n"
     ]
    }
   ],
   "source": [
    "logistic_model_upsampled.fit(features_upsampled, target_upsampled)\n",
    "predictions = logistic_model_upsampled.predict(features_test)\n",
    "print('F1 на тестовой выборке:', f1_score(target_test, predictions), \n",
    "      'на валидационной выборке:', f1_score(target_valid, logistic_model_upsampled.predict(features_valid)))\n",
    "print('AUC ROC на тестовой выборке:', roc_auc_score(target_test, predictions), \n",
    "      'на валидационной выборке:', roc_auc_score(target_valid, logistic_model_downsampled.predict(features_valid)))"
   ]
  },
  {
   "cell_type": "markdown",
   "metadata": {},
   "source": [
    "### downsampled"
   ]
  },
  {
   "cell_type": "code",
   "execution_count": 88,
   "metadata": {},
   "outputs": [
    {
     "name": "stdout",
     "output_type": "stream",
     "text": [
      "F1 на тестовой выборке: 0.5239085239085239 на валидационной выборке: 0.555223880597015\n",
      "AUC ROC на тестовой выборке: 0.714478731427884 на валидационной выборке: 0.7355527638190956\n"
     ]
    }
   ],
   "source": [
    "tree_model_downsampled.fit(features_downsampled, target_downsampled)\n",
    "predictions = tree_model_downsampled.predict(features_test)\n",
    "print('F1 на тестовой выборке:', f1_score(target_test, predictions), \n",
    "      'на валидационной выборке:', f1_score(target_valid, tree_model_downsampled.predict(features_valid)))\n",
    "print('AUC ROC на тестовой выборке:', roc_auc_score(target_test, predictions), \n",
    "      'на валидационной выборке:', roc_auc_score(target_valid, logistic_model_downsampled.predict(features_valid)))"
   ]
  },
  {
   "cell_type": "code",
   "execution_count": 89,
   "metadata": {},
   "outputs": [
    {
     "name": "stdout",
     "output_type": "stream",
     "text": [
      "F1 на тестовой выборке: 0.5833333333333334 на валидационной выборке: 0.6258246936852025\n",
      "AUC ROC на тестовой выборке: 0.7713476188052459 на валидационной выборке: 0.7355527638190956\n"
     ]
    }
   ],
   "source": [
    "forest_model_downsamled.fit(features_downsampled, target_downsampled)\n",
    "predictions = forest_model_downsamled.predict(features_test)\n",
    "print('F1 на тестовой выборке:', f1_score(target_test, predictions), \n",
    "      'на валидационной выборке:', f1_score(target_valid, forest_model_downsamled.predict(features_valid)))\n",
    "print('AUC ROC на тестовой выборке:', roc_auc_score(target_test, predictions), \n",
    "      'на валидационной выборке:', roc_auc_score(target_valid, logistic_model_downsampled.predict(features_valid)))"
   ]
  },
  {
   "cell_type": "code",
   "execution_count": 90,
   "metadata": {},
   "outputs": [
    {
     "name": "stdout",
     "output_type": "stream",
     "text": [
      "F1 на тестовой выборке: 0.4761904761904762 на валидационной выборке: 0.5284974093264249\n",
      "AUC ROC на тестовой выборке: 0.6904963515133006 на валидационной выборке: 0.7355527638190956\n"
     ]
    }
   ],
   "source": [
    "logistic_model_downsampled.fit(features_downsampled, target_downsampled)\n",
    "predictions = logistic_model_downsampled.predict(features_test)\n",
    "print('F1 на тестовой выборке:', f1_score(target_test, predictions), \n",
    "      'на валидационной выборке:', f1_score(target_valid, logistic_model_downsampled.predict(features_valid)))\n",
    "print('AUC ROC на тестовой выборке:', roc_auc_score(target_test, predictions), \n",
    "      'на валидационной выборке:', roc_auc_score(target_valid, logistic_model_downsampled.predict(features_valid)))"
   ]
  },
  {
   "cell_type": "markdown",
   "metadata": {},
   "source": [
    "## Вывод"
   ]
  },
  {
   "cell_type": "markdown",
   "metadata": {},
   "source": [
    "В данном исследовании было проведено обучение 3 моделей DecisionTreeClassifier, RandomForestClassifier и LogisticRegression.\n",
    "\n",
    "Баланс классов в целевом признаке смещен в отношении 1 к 4 относительно клиентов которые ушли из банка и лояльных клиентов.\n",
    "\n",
    "Обозначенные модели прошли обучение без балансировки классов и с двумя методами балансировки(upsample и downsaple)\n",
    "\n",
    "Хорошо себя показала модель обучения RandomForestClassifier. Оценка F1 на обучении без баланса классови с обеими балансировками превысила порог 0.59 при этом оценка AUC ROC так же превышала 0.75 и показывала лучшие показатели чем на остальных моделях обучения.\n",
    "\n",
    "Метод downsaple в данном исследовании оказался менее эфективен, чем upsample. \n",
    "\n",
    "Модели обучения DecisionTreeClassifier и LogisticRegression при обоих методах балансировки и без балансировки классов не достигли порога оценки F1 в 0.59\n",
    "\n",
    "В дальнейшем стоит использовать модель RandomForestClassifier с методом балансировки upsample. На тестовой выборке эта модель показывает F1 в 0.61"
   ]
  }
 ],
 "metadata": {
  "ExecuteTimeLog": [
   {
    "duration": 1119,
    "start_time": "2023-01-22T05:00:38.681Z"
   },
   {
    "duration": 178,
    "start_time": "2023-01-22T05:00:39.802Z"
   },
   {
    "duration": 21,
    "start_time": "2023-01-22T05:00:39.982Z"
   },
   {
    "duration": 19,
    "start_time": "2023-01-22T05:00:40.004Z"
   },
   {
    "duration": 4,
    "start_time": "2023-01-22T05:00:40.026Z"
   },
   {
    "duration": 22,
    "start_time": "2023-01-22T05:00:40.032Z"
   },
   {
    "duration": 18,
    "start_time": "2023-01-22T05:00:40.056Z"
   },
   {
    "duration": 1499,
    "start_time": "2023-01-22T05:00:40.076Z"
   },
   {
    "duration": 310,
    "start_time": "2023-01-22T05:00:41.577Z"
   },
   {
    "duration": 111,
    "start_time": "2023-01-22T05:00:41.889Z"
   },
   {
    "duration": 12,
    "start_time": "2023-01-22T05:03:26.523Z"
   },
   {
    "duration": 15,
    "start_time": "2023-01-22T05:04:03.929Z"
   },
   {
    "duration": 1099,
    "start_time": "2023-01-22T05:04:27.592Z"
   },
   {
    "duration": 40,
    "start_time": "2023-01-22T05:04:28.693Z"
   },
   {
    "duration": 24,
    "start_time": "2023-01-22T05:04:28.735Z"
   },
   {
    "duration": 20,
    "start_time": "2023-01-22T05:04:28.761Z"
   },
   {
    "duration": 13,
    "start_time": "2023-01-22T05:04:28.783Z"
   },
   {
    "duration": 20,
    "start_time": "2023-01-22T05:04:28.798Z"
   },
   {
    "duration": 14,
    "start_time": "2023-01-22T05:04:28.820Z"
   },
   {
    "duration": 1520,
    "start_time": "2023-01-22T05:04:28.837Z"
   },
   {
    "duration": 328,
    "start_time": "2023-01-22T05:04:30.359Z"
   },
   {
    "duration": 6,
    "start_time": "2023-01-22T05:04:30.689Z"
   },
   {
    "duration": 20,
    "start_time": "2023-01-22T05:08:13.657Z"
   },
   {
    "duration": 15,
    "start_time": "2023-01-22T05:08:20.638Z"
   },
   {
    "duration": 13,
    "start_time": "2023-01-22T05:08:25.415Z"
   },
   {
    "duration": 6,
    "start_time": "2023-01-22T05:08:27.909Z"
   },
   {
    "duration": 32,
    "start_time": "2023-01-22T05:08:34.535Z"
   },
   {
    "duration": 15,
    "start_time": "2023-01-22T05:09:49.793Z"
   },
   {
    "duration": 1129,
    "start_time": "2023-01-22T05:10:01.909Z"
   },
   {
    "duration": 44,
    "start_time": "2023-01-22T05:10:03.041Z"
   },
   {
    "duration": 20,
    "start_time": "2023-01-22T05:10:03.086Z"
   },
   {
    "duration": 13,
    "start_time": "2023-01-22T05:10:03.108Z"
   },
   {
    "duration": 4,
    "start_time": "2023-01-22T05:10:03.122Z"
   },
   {
    "duration": 13,
    "start_time": "2023-01-22T05:10:03.127Z"
   },
   {
    "duration": 23,
    "start_time": "2023-01-22T05:10:03.142Z"
   },
   {
    "duration": 1331,
    "start_time": "2023-01-22T05:10:03.166Z"
   },
   {
    "duration": 306,
    "start_time": "2023-01-22T05:10:04.499Z"
   },
   {
    "duration": 4,
    "start_time": "2023-01-22T05:10:04.807Z"
   },
   {
    "duration": 47,
    "start_time": "2023-01-22T05:10:04.812Z"
   },
   {
    "duration": 21,
    "start_time": "2023-01-22T05:10:04.863Z"
   },
   {
    "duration": 23,
    "start_time": "2023-01-22T05:10:04.886Z"
   },
   {
    "duration": 17,
    "start_time": "2023-01-22T05:10:04.911Z"
   },
   {
    "duration": 20,
    "start_time": "2023-01-22T05:10:04.930Z"
   },
   {
    "duration": 36,
    "start_time": "2023-01-22T05:10:29.850Z"
   },
   {
    "duration": 1111,
    "start_time": "2023-01-22T05:12:46.919Z"
   },
   {
    "duration": 47,
    "start_time": "2023-01-22T05:12:48.032Z"
   },
   {
    "duration": 19,
    "start_time": "2023-01-22T05:12:48.082Z"
   },
   {
    "duration": 12,
    "start_time": "2023-01-22T05:12:48.104Z"
   },
   {
    "duration": 3,
    "start_time": "2023-01-22T05:12:48.117Z"
   },
   {
    "duration": 16,
    "start_time": "2023-01-22T05:12:48.121Z"
   },
   {
    "duration": 27,
    "start_time": "2023-01-22T05:12:48.138Z"
   },
   {
    "duration": 1379,
    "start_time": "2023-01-22T05:12:48.167Z"
   },
   {
    "duration": 274,
    "start_time": "2023-01-22T05:12:49.548Z"
   },
   {
    "duration": 5,
    "start_time": "2023-01-22T05:12:49.824Z"
   },
   {
    "duration": 31,
    "start_time": "2023-01-22T05:12:49.830Z"
   },
   {
    "duration": 16,
    "start_time": "2023-01-22T05:12:49.863Z"
   },
   {
    "duration": 12,
    "start_time": "2023-01-22T05:12:49.880Z"
   },
   {
    "duration": 5,
    "start_time": "2023-01-22T05:12:49.894Z"
   },
   {
    "duration": 8,
    "start_time": "2023-01-22T05:12:49.901Z"
   },
   {
    "duration": 43,
    "start_time": "2023-01-22T05:12:49.910Z"
   },
   {
    "duration": 39,
    "start_time": "2023-01-22T05:12:49.955Z"
   },
   {
    "duration": 7,
    "start_time": "2023-01-22T05:14:08.702Z"
   },
   {
    "duration": 37,
    "start_time": "2023-01-22T05:14:33.741Z"
   },
   {
    "duration": 1113,
    "start_time": "2023-01-22T05:18:19.917Z"
   },
   {
    "duration": 41,
    "start_time": "2023-01-22T05:18:21.033Z"
   },
   {
    "duration": 28,
    "start_time": "2023-01-22T05:18:21.076Z"
   },
   {
    "duration": 20,
    "start_time": "2023-01-22T05:18:21.106Z"
   },
   {
    "duration": 3,
    "start_time": "2023-01-22T05:18:21.129Z"
   },
   {
    "duration": 21,
    "start_time": "2023-01-22T05:18:21.134Z"
   },
   {
    "duration": 18,
    "start_time": "2023-01-22T05:18:21.157Z"
   },
   {
    "duration": 1406,
    "start_time": "2023-01-22T05:18:21.177Z"
   },
   {
    "duration": 289,
    "start_time": "2023-01-22T05:18:22.585Z"
   },
   {
    "duration": 6,
    "start_time": "2023-01-22T05:18:22.876Z"
   },
   {
    "duration": 26,
    "start_time": "2023-01-22T05:18:22.883Z"
   },
   {
    "duration": 13,
    "start_time": "2023-01-22T05:18:22.910Z"
   },
   {
    "duration": 27,
    "start_time": "2023-01-22T05:18:22.924Z"
   },
   {
    "duration": 7,
    "start_time": "2023-01-22T05:18:22.955Z"
   },
   {
    "duration": 21,
    "start_time": "2023-01-22T05:18:22.964Z"
   },
   {
    "duration": 6,
    "start_time": "2023-01-22T05:18:22.987Z"
   },
   {
    "duration": 20,
    "start_time": "2023-01-22T05:18:22.994Z"
   },
   {
    "duration": 6,
    "start_time": "2023-01-22T05:18:23.015Z"
   },
   {
    "duration": 27,
    "start_time": "2023-01-22T05:18:48.046Z"
   },
   {
    "duration": 1186,
    "start_time": "2023-01-22T05:21:05.945Z"
   },
   {
    "duration": 41,
    "start_time": "2023-01-22T05:21:07.133Z"
   },
   {
    "duration": 20,
    "start_time": "2023-01-22T05:21:07.175Z"
   },
   {
    "duration": 12,
    "start_time": "2023-01-22T05:21:07.196Z"
   },
   {
    "duration": 3,
    "start_time": "2023-01-22T05:21:07.209Z"
   },
   {
    "duration": 14,
    "start_time": "2023-01-22T05:21:07.214Z"
   },
   {
    "duration": 29,
    "start_time": "2023-01-22T05:21:07.230Z"
   },
   {
    "duration": 1429,
    "start_time": "2023-01-22T05:21:07.260Z"
   },
   {
    "duration": 312,
    "start_time": "2023-01-22T05:21:08.691Z"
   },
   {
    "duration": 5,
    "start_time": "2023-01-22T05:21:09.006Z"
   },
   {
    "duration": 27,
    "start_time": "2023-01-22T05:21:09.013Z"
   },
   {
    "duration": 19,
    "start_time": "2023-01-22T05:21:09.049Z"
   },
   {
    "duration": 18,
    "start_time": "2023-01-22T05:21:09.069Z"
   },
   {
    "duration": 6,
    "start_time": "2023-01-22T05:21:09.089Z"
   },
   {
    "duration": 14,
    "start_time": "2023-01-22T05:21:09.096Z"
   },
   {
    "duration": 8,
    "start_time": "2023-01-22T05:21:09.112Z"
   },
   {
    "duration": 55,
    "start_time": "2023-01-22T05:21:09.121Z"
   },
   {
    "duration": 6,
    "start_time": "2023-01-22T05:21:09.178Z"
   },
   {
    "duration": 66,
    "start_time": "2023-01-22T05:21:09.186Z"
   },
   {
    "duration": 60,
    "start_time": "2023-01-22T05:23:08.429Z"
   },
   {
    "duration": 81,
    "start_time": "2023-01-22T05:27:49.064Z"
   },
   {
    "duration": 5,
    "start_time": "2023-01-22T05:29:24.761Z"
   },
   {
    "duration": 45,
    "start_time": "2023-01-22T05:30:23.922Z"
   },
   {
    "duration": 1006,
    "start_time": "2023-01-22T05:30:36.310Z"
   },
   {
    "duration": 42,
    "start_time": "2023-01-22T05:30:37.318Z"
   },
   {
    "duration": 22,
    "start_time": "2023-01-22T05:30:37.362Z"
   },
   {
    "duration": 12,
    "start_time": "2023-01-22T05:30:37.386Z"
   },
   {
    "duration": 4,
    "start_time": "2023-01-22T05:30:37.401Z"
   },
   {
    "duration": 22,
    "start_time": "2023-01-22T05:30:37.406Z"
   },
   {
    "duration": 19,
    "start_time": "2023-01-22T05:30:37.449Z"
   },
   {
    "duration": 1319,
    "start_time": "2023-01-22T05:30:37.470Z"
   },
   {
    "duration": 275,
    "start_time": "2023-01-22T05:30:38.791Z"
   },
   {
    "duration": 6,
    "start_time": "2023-01-22T05:30:39.068Z"
   },
   {
    "duration": 20,
    "start_time": "2023-01-22T05:30:39.075Z"
   },
   {
    "duration": 13,
    "start_time": "2023-01-22T05:30:39.097Z"
   },
   {
    "duration": 10,
    "start_time": "2023-01-22T05:30:39.111Z"
   },
   {
    "duration": 28,
    "start_time": "2023-01-22T05:30:39.124Z"
   },
   {
    "duration": 18,
    "start_time": "2023-01-22T05:30:39.155Z"
   },
   {
    "duration": 12,
    "start_time": "2023-01-22T05:30:39.176Z"
   },
   {
    "duration": 27,
    "start_time": "2023-01-22T05:30:39.190Z"
   },
   {
    "duration": 5,
    "start_time": "2023-01-22T05:30:39.219Z"
   },
   {
    "duration": 71,
    "start_time": "2023-01-22T05:30:39.225Z"
   },
   {
    "duration": 64,
    "start_time": "2023-01-22T05:30:39.298Z"
   },
   {
    "duration": 124,
    "start_time": "2023-01-22T05:30:39.364Z"
   },
   {
    "duration": 10,
    "start_time": "2023-01-22T05:30:39.490Z"
   },
   {
    "duration": 103,
    "start_time": "2023-01-22T05:32:10.017Z"
   },
   {
    "duration": 17,
    "start_time": "2023-01-22T05:32:29.161Z"
   },
   {
    "duration": 38,
    "start_time": "2023-01-22T05:32:44.651Z"
   },
   {
    "duration": 33,
    "start_time": "2023-01-22T05:33:21.213Z"
   },
   {
    "duration": 9,
    "start_time": "2023-01-22T05:33:57.072Z"
   },
   {
    "duration": 50,
    "start_time": "2023-01-22T05:34:07.516Z"
   },
   {
    "duration": 1147,
    "start_time": "2023-01-22T05:34:52.415Z"
   },
   {
    "duration": 53,
    "start_time": "2023-01-22T05:34:53.564Z"
   },
   {
    "duration": 21,
    "start_time": "2023-01-22T05:34:53.619Z"
   },
   {
    "duration": 17,
    "start_time": "2023-01-22T05:34:53.642Z"
   },
   {
    "duration": 12,
    "start_time": "2023-01-22T05:34:53.661Z"
   },
   {
    "duration": 13,
    "start_time": "2023-01-22T05:34:53.675Z"
   },
   {
    "duration": 13,
    "start_time": "2023-01-22T05:34:53.689Z"
   },
   {
    "duration": 1422,
    "start_time": "2023-01-22T05:34:53.704Z"
   },
   {
    "duration": 295,
    "start_time": "2023-01-22T05:34:55.127Z"
   },
   {
    "duration": 5,
    "start_time": "2023-01-22T05:34:55.425Z"
   },
   {
    "duration": 38,
    "start_time": "2023-01-22T05:34:55.431Z"
   },
   {
    "duration": 16,
    "start_time": "2023-01-22T05:34:55.471Z"
   },
   {
    "duration": 29,
    "start_time": "2023-01-22T05:34:55.489Z"
   },
   {
    "duration": 7,
    "start_time": "2023-01-22T05:34:55.520Z"
   },
   {
    "duration": 32,
    "start_time": "2023-01-22T05:34:55.529Z"
   },
   {
    "duration": 8,
    "start_time": "2023-01-22T05:34:55.562Z"
   },
   {
    "duration": 25,
    "start_time": "2023-01-22T05:34:55.571Z"
   },
   {
    "duration": 5,
    "start_time": "2023-01-22T05:34:55.598Z"
   },
   {
    "duration": 76,
    "start_time": "2023-01-22T05:34:55.606Z"
   },
   {
    "duration": 47,
    "start_time": "2023-01-22T05:34:55.684Z"
   },
   {
    "duration": 106,
    "start_time": "2023-01-22T05:34:55.732Z"
   },
   {
    "duration": 13,
    "start_time": "2023-01-22T05:34:55.858Z"
   },
   {
    "duration": 30,
    "start_time": "2023-01-22T05:34:55.872Z"
   },
   {
    "duration": 65,
    "start_time": "2023-01-22T05:34:55.904Z"
   },
   {
    "duration": 8,
    "start_time": "2023-01-22T05:34:55.971Z"
   },
   {
    "duration": 53,
    "start_time": "2023-01-22T05:34:55.982Z"
   },
   {
    "duration": 46,
    "start_time": "2023-01-22T05:34:56.051Z"
   },
   {
    "duration": 213,
    "start_time": "2023-01-22T05:34:56.101Z"
   },
   {
    "duration": 893,
    "start_time": "2023-01-22T05:34:56.316Z"
   },
   {
    "duration": 797,
    "start_time": "2023-01-22T05:34:57.210Z"
   },
   {
    "duration": 16,
    "start_time": "2023-01-22T05:34:58.009Z"
   },
   {
    "duration": 706,
    "start_time": "2023-01-22T05:34:58.027Z"
   },
   {
    "duration": 12524,
    "start_time": "2023-01-22T05:34:58.735Z"
   },
   {
    "duration": 35840,
    "start_time": "2023-01-22T05:35:11.263Z"
   },
   {
    "duration": 35927,
    "start_time": "2023-01-22T05:35:47.106Z"
   },
   {
    "duration": 11269,
    "start_time": "2023-01-22T05:36:23.035Z"
   },
   {
    "duration": 829,
    "start_time": "2023-01-22T05:36:34.307Z"
   },
   {
    "duration": 1316,
    "start_time": "2023-01-22T05:36:35.137Z"
   },
   {
    "duration": 1830,
    "start_time": "2023-01-22T05:36:36.461Z"
   },
   {
    "duration": 86070,
    "start_time": "2023-01-22T05:36:38.297Z"
   },
   {
    "duration": 6181,
    "start_time": "2023-01-22T05:38:04.376Z"
   },
   {
    "duration": 50000,
    "start_time": "2023-01-22T05:38:10.559Z"
   },
   {
    "duration": 212,
    "start_time": "2023-01-22T05:39:00.561Z"
   },
   {
    "duration": 195,
    "start_time": "2023-01-22T05:39:00.860Z"
   },
   {
    "duration": 108,
    "start_time": "2023-01-22T05:39:01.057Z"
   },
   {
    "duration": 18,
    "start_time": "2023-01-22T05:39:01.167Z"
   },
   {
    "duration": 80,
    "start_time": "2023-01-22T05:39:01.187Z"
   },
   {
    "duration": 46,
    "start_time": "2023-01-22T05:39:01.269Z"
   },
   {
    "duration": 231,
    "start_time": "2023-01-22T05:39:01.317Z"
   },
   {
    "duration": 771,
    "start_time": "2023-01-22T05:39:01.553Z"
   },
   {
    "duration": 798,
    "start_time": "2023-01-22T05:39:02.326Z"
   },
   {
    "duration": 15,
    "start_time": "2023-01-22T05:39:03.126Z"
   },
   {
    "duration": 946,
    "start_time": "2023-01-22T05:39:03.151Z"
   },
   {
    "duration": 17841,
    "start_time": "2023-01-22T05:39:04.098Z"
   },
   {
    "duration": 61999,
    "start_time": "2023-01-22T05:39:21.941Z"
   },
   {
    "duration": 51147,
    "start_time": "2023-01-22T05:40:23.941Z"
   },
   {
    "duration": 14345,
    "start_time": "2023-01-22T05:41:15.090Z"
   },
   {
    "duration": 1102,
    "start_time": "2023-01-22T05:41:29.437Z"
   },
   {
    "duration": 1011,
    "start_time": "2023-01-22T05:41:30.540Z"
   },
   {
    "duration": 1495,
    "start_time": "2023-01-22T05:41:31.557Z"
   },
   {
    "duration": 17826,
    "start_time": "2023-01-22T05:41:33.053Z"
   },
   {
    "duration": 1730,
    "start_time": "2023-01-22T05:41:50.950Z"
   },
   {
    "duration": 10518,
    "start_time": "2023-01-22T05:41:52.749Z"
   },
   {
    "duration": 179,
    "start_time": "2023-01-22T05:42:03.274Z"
   },
   {
    "duration": 133,
    "start_time": "2023-01-22T05:42:03.459Z"
   },
   {
    "duration": 14,
    "start_time": "2023-01-22T05:42:03.594Z"
   },
   {
    "duration": 29,
    "start_time": "2023-01-22T05:42:03.610Z"
   },
   {
    "duration": 40,
    "start_time": "2023-01-22T05:42:03.641Z"
   },
   {
    "duration": 150,
    "start_time": "2023-01-22T05:42:03.683Z"
   },
   {
    "duration": 568,
    "start_time": "2023-01-22T05:42:03.835Z"
   },
   {
    "duration": 575,
    "start_time": "2023-01-22T05:42:04.405Z"
   },
   {
    "duration": 13,
    "start_time": "2023-01-22T05:42:04.982Z"
   },
   {
    "duration": 411,
    "start_time": "2023-01-22T05:42:04.997Z"
   },
   {
    "duration": 7150,
    "start_time": "2023-01-22T05:42:05.409Z"
   },
   {
    "duration": 8559,
    "start_time": "2023-01-22T05:42:12.561Z"
   },
   {
    "duration": 6965,
    "start_time": "2023-01-22T05:42:21.121Z"
   },
   {
    "duration": 6353,
    "start_time": "2023-01-22T05:42:28.088Z"
   },
   {
    "duration": 160,
    "start_time": "2023-01-22T05:42:34.443Z"
   },
   {
    "duration": 561,
    "start_time": "2023-01-22T05:42:34.605Z"
   },
   {
    "duration": 894,
    "start_time": "2023-01-22T05:42:35.175Z"
   },
   {
    "duration": 7603,
    "start_time": "2023-01-22T05:42:36.071Z"
   },
   {
    "duration": 897,
    "start_time": "2023-01-22T05:42:43.682Z"
   },
   {
    "duration": 5814,
    "start_time": "2023-01-22T05:42:44.662Z"
   },
   {
    "duration": 174,
    "start_time": "2023-01-22T05:42:50.478Z"
   },
   {
    "duration": 119,
    "start_time": "2023-01-22T05:42:50.659Z"
   },
   {
    "duration": 1372,
    "start_time": "2023-01-22T05:42:50.782Z"
   },
   {
    "duration": 200,
    "start_time": "2023-01-22T05:42:52.159Z"
   },
   {
    "duration": 216,
    "start_time": "2023-01-22T05:42:52.361Z"
   },
   {
    "duration": 370,
    "start_time": "2023-01-22T05:42:52.579Z"
   },
   {
    "duration": 321,
    "start_time": "2023-01-22T05:42:52.952Z"
   }
  ],
  "kernelspec": {
   "display_name": "Python 3 (ipykernel)",
   "language": "python",
   "name": "python3"
  },
  "language_info": {
   "codemirror_mode": {
    "name": "ipython",
    "version": 3
   },
   "file_extension": ".py",
   "mimetype": "text/x-python",
   "name": "python",
   "nbconvert_exporter": "python",
   "pygments_lexer": "ipython3",
   "version": "3.9.13"
  },
  "toc": {
   "base_numbering": 1,
   "nav_menu": {},
   "number_sections": true,
   "sideBar": true,
   "skip_h1_title": true,
   "title_cell": "Содержание",
   "title_sidebar": "Contents",
   "toc_cell": true,
   "toc_position": {
    "height": "609px",
    "left": "45px",
    "top": "111.141px",
    "width": "165px"
   },
   "toc_section_display": true,
   "toc_window_display": true
  }
 },
 "nbformat": 4,
 "nbformat_minor": 2
}
